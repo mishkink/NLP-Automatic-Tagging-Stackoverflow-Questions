{
 "cells": [
  {
   "cell_type": "code",
   "execution_count": 0,
   "metadata": {
    "colab": {},
    "colab_type": "code",
    "id": "_gKRpeVgLQ5z"
   },
   "outputs": [],
   "source": [
    "from google.colab import drive\n",
    "drive.mount('/content/gdrive')"
   ]
  },
  {
   "cell_type": "code",
   "execution_count": 0,
   "metadata": {
    "colab": {
     "base_uri": "https://localhost:8080/",
     "height": 92,
     "resources": {
      "http://localhost:8080/nbextensions/google.colab/files.js": {
       "data": "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",
       "headers": [
        [
         "content-type",
         "application/javascript"
        ]
       ],
       "ok": true,
       "status": 200,
       "status_text": ""
      }
     }
    },
    "colab_type": "code",
    "id": "ZuRs-pvUOByK",
    "outputId": "ea406886-c7ae-4e03-b3b3-9d18b725179c"
   },
   "outputs": [
    {
     "data": {
      "text/html": [
       "\n",
       "     <input type=\"file\" id=\"files-978bdf40-a22a-4b79-a4ac-d07cc6d685ac\" name=\"files[]\" multiple disabled />\n",
       "     <output id=\"result-978bdf40-a22a-4b79-a4ac-d07cc6d685ac\">\n",
       "      Upload widget is only available when the cell has been executed in the\n",
       "      current browser session. Please rerun this cell to enable.\n",
       "      </output>\n",
       "      <script src=\"/nbextensions/google.colab/files.js\"></script> "
      ],
      "text/plain": [
       "<IPython.core.display.HTML object>"
      ]
     },
     "metadata": {
      "tags": []
     },
     "output_type": "display_data"
    },
    {
     "name": "stdout",
     "output_type": "stream",
     "text": [
      "Saving kaggle.json to kaggle.json\n"
     ]
    },
    {
     "data": {
      "text/plain": [
       "{'kaggle.json': b'{\"username\":\"pathakvishal\",\"key\":\"faad35cd17bc32a4e2f46eb3f7b00abf\"}'}"
      ]
     },
     "execution_count": 3,
     "metadata": {
      "tags": []
     },
     "output_type": "execute_result"
    }
   ],
   "source": [
    "\n",
    "from google.colab import files\n",
    "\n",
    "files.upload()"
   ]
  },
  {
   "cell_type": "code",
   "execution_count": 0,
   "metadata": {
    "colab": {},
    "colab_type": "code",
    "id": "8k0t3GSNOrWB"
   },
   "outputs": [],
   "source": [
    "import os\n",
    "os.chdir('/content/gdrive/My Drive/kaggle/StackOverflow')"
   ]
  },
  {
   "cell_type": "code",
   "execution_count": 0,
   "metadata": {
    "colab": {
     "base_uri": "https://localhost:8080/",
     "height": 33
    },
    "colab_type": "code",
    "id": "HyS18L69PGHL",
    "outputId": "2cbe18be-ace0-40ef-9a33-a7499915f84e"
   },
   "outputs": [
    {
     "name": "stdout",
     "output_type": "stream",
     "text": [
      "/content/gdrive/My Drive/kaggle/StackOverflow\n"
     ]
    }
   ],
   "source": [
    "!pwd"
   ]
  },
  {
   "cell_type": "code",
   "execution_count": 0,
   "metadata": {
    "colab": {
     "base_uri": "https://localhost:8080/",
     "height": 33
    },
    "colab_type": "code",
    "id": "6tDWq3dSSCuR",
    "outputId": "1ded3667-6f00-4353-d395-cb458e4fb453"
   },
   "outputs": [
    {
     "name": "stdout",
     "output_type": "stream",
     "text": [
      "kaggle.json\n"
     ]
    }
   ],
   "source": [
    "!pip install -q kaggle\n",
    "!mkdir -p ~/.kaggle\n",
    "!cp kaggle.json ~/.kaggle/\n",
    "!ls ~/.kaggle\n",
    "# we need to set permissions \n",
    "!chmod 600 /root/.kaggle/kaggle.json"
   ]
  },
  {
   "cell_type": "code",
   "execution_count": 0,
   "metadata": {
    "colab": {
     "base_uri": "https://localhost:8080/",
     "height": 67
    },
    "colab_type": "code",
    "id": "LshNdQ0JR1C_",
    "outputId": "698fcbf0-fe64-47fd-ec0f-bd2b2f1074b4"
   },
   "outputs": [
    {
     "name": "stdout",
     "output_type": "stream",
     "text": [
      "Downloading stacksample.zip to /content/gdrive/My Drive/kaggle/StackOverflow\n",
      " 99% 1.10G/1.11G [00:22<00:00, 52.4MB/s]\n",
      "100% 1.11G/1.11G [00:22<00:00, 53.4MB/s]\n"
     ]
    }
   ],
   "source": [
    "!kaggle datasets download -d stackoverflow/stacksample"
   ]
  },
  {
   "cell_type": "code",
   "execution_count": 1,
   "metadata": {
    "colab": {},
    "colab_type": "code",
    "id": "5C_U3C5TR9dY"
   },
   "outputs": [
    {
     "name": "stderr",
     "output_type": "stream",
     "text": [
      "unable to import 'smart_open.gcs', disabling that module\n"
     ]
    }
   ],
   "source": [
    "# Run in terminal or command prompt\n",
    "# python3 -m spacy download en\n",
    "import numpy as np\n",
    "import pandas as pd\n",
    "import re, nltk, spacy, gensim\n",
    "# Sklearn\n",
    "from sklearn.decomposition import LatentDirichletAllocation, TruncatedSVD\n",
    "from sklearn.feature_extraction.text import CountVectorizer, TfidfVectorizer\n",
    "from sklearn.model_selection import GridSearchCV\n",
    "from pprint import pprint\n",
    "import pyLDAvis\n",
    "import pyLDAvis.gensim\n",
    "# Plotting tools\n"
   ]
  },
  {
   "cell_type": "code",
   "execution_count": 0,
   "metadata": {
    "colab": {
     "base_uri": "https://localhost:8080/",
     "height": 34
    },
    "colab_type": "code",
    "id": "EY7NwxDjW4SV",
    "outputId": "e6be85c5-9293-4b01-e232-91c501aa0351"
   },
   "outputs": [
    {
     "name": "stdout",
     "output_type": "stream",
     "text": [
      "unzip:  cannot find or open /content/gdrive/My, /content/gdrive/My.zip or /content/gdrive/My.ZIP.\n"
     ]
    }
   ],
   "source": [
    "! unzip /content/gdrive/My Drive/kaggle/StackOverflow\n"
   ]
  },
  {
   "cell_type": "code",
   "execution_count": 0,
   "metadata": {
    "colab": {
     "base_uri": "https://localhost:8080/",
     "height": 84
    },
    "colab_type": "code",
    "id": "B3OPKsZNXJRD",
    "outputId": "622ff640-6bfa-4db0-fca5-bd98f640bf91"
   },
   "outputs": [
    {
     "name": "stdout",
     "output_type": "stream",
     "text": [
      "Archive:  stacksample.zip\n",
      "  inflating: Answers.csv             \n",
      "  inflating: Questions.csv           \n",
      "  inflating: Tags.csv                \n"
     ]
    }
   ],
   "source": [
    "!unzip stacksample.zip"
   ]
  },
  {
   "cell_type": "code",
   "execution_count": 2,
   "metadata": {
    "colab": {},
    "colab_type": "code",
    "id": "ET3cn7P7XaUn"
   },
   "outputs": [],
   "source": [
    "df_question = pd.read_csv(u'stacksample/Questions.csv',encoding='ISO-8859-1')"
   ]
  },
  {
   "cell_type": "code",
   "execution_count": 3,
   "metadata": {
    "colab": {
     "base_uri": "https://localhost:8080/",
     "height": 143
    },
    "colab_type": "code",
    "id": "M316AwhZYEfT",
    "outputId": "d2b9c506-53e6-403e-9182-58add97606f0"
   },
   "outputs": [
    {
     "data": {
      "text/html": [
       "<div>\n",
       "<style scoped>\n",
       "    .dataframe tbody tr th:only-of-type {\n",
       "        vertical-align: middle;\n",
       "    }\n",
       "\n",
       "    .dataframe tbody tr th {\n",
       "        vertical-align: top;\n",
       "    }\n",
       "\n",
       "    .dataframe thead th {\n",
       "        text-align: right;\n",
       "    }\n",
       "</style>\n",
       "<table border=\"1\" class=\"dataframe\">\n",
       "  <thead>\n",
       "    <tr style=\"text-align: right;\">\n",
       "      <th></th>\n",
       "      <th>Id</th>\n",
       "      <th>OwnerUserId</th>\n",
       "      <th>CreationDate</th>\n",
       "      <th>ClosedDate</th>\n",
       "      <th>Score</th>\n",
       "      <th>Title</th>\n",
       "      <th>Body</th>\n",
       "    </tr>\n",
       "  </thead>\n",
       "  <tbody>\n",
       "    <tr>\n",
       "      <th>0</th>\n",
       "      <td>80</td>\n",
       "      <td>26.0</td>\n",
       "      <td>2008-08-01T13:57:07Z</td>\n",
       "      <td>NaN</td>\n",
       "      <td>26</td>\n",
       "      <td>SQLStatement.execute() - multiple queries in o...</td>\n",
       "      <td>&lt;p&gt;I've written a database generation script i...</td>\n",
       "    </tr>\n",
       "    <tr>\n",
       "      <th>1</th>\n",
       "      <td>90</td>\n",
       "      <td>58.0</td>\n",
       "      <td>2008-08-01T14:41:24Z</td>\n",
       "      <td>2012-12-26T03:45:49Z</td>\n",
       "      <td>144</td>\n",
       "      <td>Good branching and merging tutorials for Torto...</td>\n",
       "      <td>&lt;p&gt;Are there any really good tutorials explain...</td>\n",
       "    </tr>\n",
       "  </tbody>\n",
       "</table>\n",
       "</div>"
      ],
      "text/plain": [
       "   Id  OwnerUserId          CreationDate            ClosedDate  Score  \\\n",
       "0  80         26.0  2008-08-01T13:57:07Z                   NaN     26   \n",
       "1  90         58.0  2008-08-01T14:41:24Z  2012-12-26T03:45:49Z    144   \n",
       "\n",
       "                                               Title  \\\n",
       "0  SQLStatement.execute() - multiple queries in o...   \n",
       "1  Good branching and merging tutorials for Torto...   \n",
       "\n",
       "                                                Body  \n",
       "0  <p>I've written a database generation script i...  \n",
       "1  <p>Are there any really good tutorials explain...  "
      ]
     },
     "execution_count": 3,
     "metadata": {},
     "output_type": "execute_result"
    }
   ],
   "source": [
    "df_question.head(2)"
   ]
  },
  {
   "cell_type": "code",
   "execution_count": 4,
   "metadata": {
    "colab": {},
    "colab_type": "code",
    "id": "jDYafbA0ZLAR"
   },
   "outputs": [],
   "source": [
    "df_train =  df_question[df_question['Score'] > 5]"
   ]
  },
  {
   "cell_type": "code",
   "execution_count": 5,
   "metadata": {
    "colab": {
     "base_uri": "https://localhost:8080/",
     "height": 285
    },
    "colab_type": "code",
    "id": "o37ODZivb9th",
    "outputId": "b54a7690-ed22-4367-ec6d-c5d87fecb5b3"
   },
   "outputs": [
    {
     "data": {
      "text/html": [
       "<div>\n",
       "<style scoped>\n",
       "    .dataframe tbody tr th:only-of-type {\n",
       "        vertical-align: middle;\n",
       "    }\n",
       "\n",
       "    .dataframe tbody tr th {\n",
       "        vertical-align: top;\n",
       "    }\n",
       "\n",
       "    .dataframe thead th {\n",
       "        text-align: right;\n",
       "    }\n",
       "</style>\n",
       "<table border=\"1\" class=\"dataframe\">\n",
       "  <thead>\n",
       "    <tr style=\"text-align: right;\">\n",
       "      <th></th>\n",
       "      <th>Id</th>\n",
       "      <th>OwnerUserId</th>\n",
       "      <th>CreationDate</th>\n",
       "      <th>ClosedDate</th>\n",
       "      <th>Score</th>\n",
       "      <th>Title</th>\n",
       "      <th>Body</th>\n",
       "    </tr>\n",
       "  </thead>\n",
       "  <tbody>\n",
       "    <tr>\n",
       "      <th>0</th>\n",
       "      <td>80</td>\n",
       "      <td>26.0</td>\n",
       "      <td>2008-08-01T13:57:07Z</td>\n",
       "      <td>NaN</td>\n",
       "      <td>26</td>\n",
       "      <td>SQLStatement.execute() - multiple queries in o...</td>\n",
       "      <td>&lt;p&gt;I've written a database generation script i...</td>\n",
       "    </tr>\n",
       "    <tr>\n",
       "      <th>1</th>\n",
       "      <td>90</td>\n",
       "      <td>58.0</td>\n",
       "      <td>2008-08-01T14:41:24Z</td>\n",
       "      <td>2012-12-26T03:45:49Z</td>\n",
       "      <td>144</td>\n",
       "      <td>Good branching and merging tutorials for Torto...</td>\n",
       "      <td>&lt;p&gt;Are there any really good tutorials explain...</td>\n",
       "    </tr>\n",
       "    <tr>\n",
       "      <th>2</th>\n",
       "      <td>120</td>\n",
       "      <td>83.0</td>\n",
       "      <td>2008-08-01T15:50:08Z</td>\n",
       "      <td>NaN</td>\n",
       "      <td>21</td>\n",
       "      <td>ASP.NET Site Maps</td>\n",
       "      <td>&lt;p&gt;Has anyone got experience creating &lt;strong&gt;...</td>\n",
       "    </tr>\n",
       "    <tr>\n",
       "      <th>3</th>\n",
       "      <td>180</td>\n",
       "      <td>2089740.0</td>\n",
       "      <td>2008-08-01T18:42:19Z</td>\n",
       "      <td>NaN</td>\n",
       "      <td>53</td>\n",
       "      <td>Function for creating color wheels</td>\n",
       "      <td>&lt;p&gt;This is something I've pseudo-solved many t...</td>\n",
       "    </tr>\n",
       "    <tr>\n",
       "      <th>4</th>\n",
       "      <td>260</td>\n",
       "      <td>91.0</td>\n",
       "      <td>2008-08-01T23:22:08Z</td>\n",
       "      <td>NaN</td>\n",
       "      <td>49</td>\n",
       "      <td>Adding scripting functionality to .NET applica...</td>\n",
       "      <td>&lt;p&gt;I have a little game written in C#. It uses...</td>\n",
       "    </tr>\n",
       "  </tbody>\n",
       "</table>\n",
       "</div>"
      ],
      "text/plain": [
       "    Id  OwnerUserId          CreationDate            ClosedDate  Score  \\\n",
       "0   80         26.0  2008-08-01T13:57:07Z                   NaN     26   \n",
       "1   90         58.0  2008-08-01T14:41:24Z  2012-12-26T03:45:49Z    144   \n",
       "2  120         83.0  2008-08-01T15:50:08Z                   NaN     21   \n",
       "3  180    2089740.0  2008-08-01T18:42:19Z                   NaN     53   \n",
       "4  260         91.0  2008-08-01T23:22:08Z                   NaN     49   \n",
       "\n",
       "                                               Title  \\\n",
       "0  SQLStatement.execute() - multiple queries in o...   \n",
       "1  Good branching and merging tutorials for Torto...   \n",
       "2                                  ASP.NET Site Maps   \n",
       "3                 Function for creating color wheels   \n",
       "4  Adding scripting functionality to .NET applica...   \n",
       "\n",
       "                                                Body  \n",
       "0  <p>I've written a database generation script i...  \n",
       "1  <p>Are there any really good tutorials explain...  \n",
       "2  <p>Has anyone got experience creating <strong>...  \n",
       "3  <p>This is something I've pseudo-solved many t...  \n",
       "4  <p>I have a little game written in C#. It uses...  "
      ]
     },
     "execution_count": 5,
     "metadata": {},
     "output_type": "execute_result"
    }
   ],
   "source": [
    "df_train.head()"
   ]
  },
  {
   "cell_type": "code",
   "execution_count": 6,
   "metadata": {
    "colab": {
     "base_uri": "https://localhost:8080/",
     "height": 34
    },
    "colab_type": "code",
    "id": "1qG7nx9Zc-rA",
    "outputId": "3e1f7b67-fa5c-4ca4-c686-a1f02bb1ab5e"
   },
   "outputs": [
    {
     "data": {
      "text/plain": [
       "(72950, 7)"
      ]
     },
     "execution_count": 6,
     "metadata": {},
     "output_type": "execute_result"
    }
   ],
   "source": [
    "df_train.shape"
   ]
  },
  {
   "cell_type": "code",
   "execution_count": 7,
   "metadata": {
    "colab": {
     "base_uri": "https://localhost:8080/",
     "height": 52
    },
    "colab_type": "code",
    "id": "ZpslgC9UesVR",
    "outputId": "6c9b8aa8-9e14-4cb9-b03e-9280f621a84f"
   },
   "outputs": [
    {
     "name": "stderr",
     "output_type": "stream",
     "text": [
      "[nltk_data] Downloading package stopwords to\n",
      "[nltk_data]     C:\\Users\\patha\\AppData\\Roaming\\nltk_data...\n",
      "[nltk_data]   Package stopwords is already up-to-date!\n"
     ]
    }
   ],
   "source": [
    "nltk.download('stopwords')\n",
    "from nltk.corpus import stopwords\n",
    "stop_words = stopwords.words('english')"
   ]
  },
  {
   "cell_type": "code",
   "execution_count": 8,
   "metadata": {
    "colab": {},
    "colab_type": "code",
    "id": "WiQ1cjLHkCC9"
   },
   "outputs": [],
   "source": [
    "stop_words.extend(['may','order','lot','go','like','great','service','came','got','use' , 'work' ,'would' , 'code' ,'want' , 'try' , 'way' , 'make' ,'find' , 'know' , 'make' , 'look' ,'get' ,'change' , 'see' , 'set', 'need' , 'example' ,'also' , 'however', 'run' , 'use' , 'try', 'use' ])"
   ]
  },
  {
   "cell_type": "code",
   "execution_count": 9,
   "metadata": {
    "colab": {},
    "colab_type": "code",
    "id": "B1n0f-YYkjOR"
   },
   "outputs": [],
   "source": [
    "def normalize_text(text):\n",
    "    tm1 = re.sub('<pre>.*?</pre>', '', text, flags=re.DOTALL)\n",
    "    tm2 = re.sub('<code>.*?</code>', '', tm1, flags=re.DOTALL)\n",
    "    tm3 = re.sub('<[^>]+>', '', tm1, flags=re.DOTALL)\n",
    "    return tm3.replace(\"\\n\", \"\")"
   ]
  },
  {
   "cell_type": "code",
   "execution_count": 10,
   "metadata": {
    "colab": {
     "base_uri": "https://localhost:8080/",
     "height": 121
    },
    "colab_type": "code",
    "id": "87U5OgxsDuUl",
    "outputId": "940ea990-716c-4baa-f6ef-7740062a526f"
   },
   "outputs": [
    {
     "name": "stderr",
     "output_type": "stream",
     "text": [
      "C:\\Users\\patha\\AppData\\Roaming\\Python\\Python37\\site-packages\\ipykernel_launcher.py:1: SettingWithCopyWarning: \n",
      "A value is trying to be set on a copy of a slice from a DataFrame.\n",
      "Try using .loc[row_indexer,col_indexer] = value instead\n",
      "\n",
      "See the caveats in the documentation: http://pandas.pydata.org/pandas-docs/stable/user_guide/indexing.html#returning-a-view-versus-a-copy\n",
      "  \"\"\"Entry point for launching an IPython kernel.\n"
     ]
    }
   ],
   "source": [
    "df_train['body_cleaned'] = df_train['Body'].apply(normalize_text)"
   ]
  },
  {
   "cell_type": "code",
   "execution_count": 11,
   "metadata": {
    "colab": {
     "base_uri": "https://localhost:8080/",
     "height": 54
    },
    "colab_type": "code",
    "id": "At5X3is6D3Up",
    "outputId": "135b794e-8be3-4e8d-c49a-41801acdaea6"
   },
   "outputs": [
    {
     "name": "stdout",
     "output_type": "stream",
     "text": [
      "Are there any really good tutorials explaining branching and merging with Apache Subversion? All the better if it's specific to TortoiseSVN client.\n"
     ]
    }
   ],
   "source": [
    "print(df_train.iloc[1]['body_cleaned'])"
   ]
  },
  {
   "cell_type": "code",
   "execution_count": 12,
   "metadata": {
    "colab": {},
    "colab_type": "code",
    "id": "NBsd3st3EFQ2"
   },
   "outputs": [],
   "source": [
    "nlp = spacy.load(\"en_core_web_sm\")"
   ]
  },
  {
   "cell_type": "code",
   "execution_count": 13,
   "metadata": {
    "colab": {
     "base_uri": "https://localhost:8080/",
     "height": 121
    },
    "colab_type": "code",
    "id": "Rus5ykZ7Er40",
    "outputId": "d8940bbb-b85b-4006-fb41-e646b6f4bb3d"
   },
   "outputs": [
    {
     "name": "stderr",
     "output_type": "stream",
     "text": [
      "C:\\Users\\patha\\AppData\\Roaming\\Python\\Python37\\site-packages\\ipykernel_launcher.py:13: SettingWithCopyWarning: \n",
      "A value is trying to be set on a copy of a slice from a DataFrame.\n",
      "Try using .loc[row_indexer,col_indexer] = value instead\n",
      "\n",
      "See the caveats in the documentation: http://pandas.pydata.org/pandas-docs/stable/user_guide/indexing.html#returning-a-view-versus-a-copy\n",
      "  del sys.path[0]\n"
     ]
    }
   ],
   "source": [
    "punctuations = '!\"#$%&\\'()*+,-/:;<=>?@[\\\\]^_`{|}~'\n",
    "# Define function to cleanup text by removing personal pronouns, stopwords, and puncuation\n",
    "def cleanup_text(docs, logging=False):\n",
    "    texts = []\n",
    "    doc = nlp(docs, disable=['parser', 'ner'])\n",
    "    tokens = [tok.lemma_.lower().strip() for tok in doc if tok.lemma_ != '-PRON-']\n",
    "    tokens = [tok for tok in tokens if tok not in stopwords.words('english') and tok not in punctuations]\n",
    "    tokens = ' '.join(tokens)\n",
    "    texts.append(tokens)\n",
    "    return pd.Series(texts)\n",
    "\n",
    "\n",
    "df_train['body_cleaned'] = df_train['body_cleaned'].apply(lambda x: cleanup_text(x, False))"
   ]
  },
  {
   "cell_type": "code",
   "execution_count": 14,
   "metadata": {
    "colab": {
     "base_uri": "https://localhost:8080/",
     "height": 54
    },
    "colab_type": "code",
    "id": "GONW6IxSK6BP",
    "outputId": "9ebf2981-79bd-4d23-b8f0-779892e51db2"
   },
   "outputs": [
    {
     "name": "stdout",
     "output_type": "stream",
     "text": [
      "write database generation script sql want execute adobe air application execute adobe air use follow method error generate however trole exist . seem look first query semicolon- remove query fail . way call multiple query one statement\n"
     ]
    }
   ],
   "source": [
    "print(df_train.iloc[0]['body_cleaned'])"
   ]
  },
  {
   "cell_type": "code",
   "execution_count": 15,
   "metadata": {
    "colab": {},
    "colab_type": "code",
    "id": "4w6VWjx_Lngu"
   },
   "outputs": [],
   "source": [
    "df_train2 = df_train"
   ]
  },
  {
   "cell_type": "code",
   "execution_count": 16,
   "metadata": {
    "colab": {
     "base_uri": "https://localhost:8080/",
     "height": 104
    },
    "colab_type": "code",
    "id": "21U0gVtlEzn7",
    "outputId": "2f42cf23-fe23-44ef-c8f6-f29431c93c8d"
   },
   "outputs": [
    {
     "name": "stderr",
     "output_type": "stream",
     "text": [
      "c:\\py3\\lib\\site-packages\\pandas\\core\\frame.py:4117: SettingWithCopyWarning: \n",
      "A value is trying to be set on a copy of a slice from a DataFrame\n",
      "\n",
      "See the caveats in the documentation: http://pandas.pydata.org/pandas-docs/stable/user_guide/indexing.html#returning-a-view-versus-a-copy\n",
      "  errors=errors,\n"
     ]
    }
   ],
   "source": [
    "df_train.drop(['Id','OwnerUserId' ,'ClosedDate' ,'CreationDate' , 'Title' ,'Body' ,] , axis=1 , inplace=True)"
   ]
  },
  {
   "cell_type": "code",
   "execution_count": 17,
   "metadata": {
    "colab": {
     "base_uri": "https://localhost:8080/",
     "height": 100
    },
    "colab_type": "code",
    "id": "x0pBxNUMGkCu",
    "outputId": "67122aa7-104f-4e6f-b41a-18492b0d1589"
   },
   "outputs": [],
   "source": [
    "# df_train.drop(['ClosedDate' ,] , axis=1 , inplace=True)"
   ]
  },
  {
   "cell_type": "code",
   "execution_count": 18,
   "metadata": {
    "colab": {
     "base_uri": "https://localhost:8080/",
     "height": 198
    },
    "colab_type": "code",
    "id": "tCUHsym8Gm93",
    "outputId": "4624fded-dbef-4ca1-8c6b-04a6b1c50d3c"
   },
   "outputs": [
    {
     "data": {
      "text/html": [
       "<div>\n",
       "<style scoped>\n",
       "    .dataframe tbody tr th:only-of-type {\n",
       "        vertical-align: middle;\n",
       "    }\n",
       "\n",
       "    .dataframe tbody tr th {\n",
       "        vertical-align: top;\n",
       "    }\n",
       "\n",
       "    .dataframe thead th {\n",
       "        text-align: right;\n",
       "    }\n",
       "</style>\n",
       "<table border=\"1\" class=\"dataframe\">\n",
       "  <thead>\n",
       "    <tr style=\"text-align: right;\">\n",
       "      <th></th>\n",
       "      <th>Score</th>\n",
       "      <th>body_cleaned</th>\n",
       "    </tr>\n",
       "  </thead>\n",
       "  <tbody>\n",
       "    <tr>\n",
       "      <th>0</th>\n",
       "      <td>26</td>\n",
       "      <td>write database generation script sql want exec...</td>\n",
       "    </tr>\n",
       "    <tr>\n",
       "      <th>1</th>\n",
       "      <td>144</td>\n",
       "      <td>really good tutorial explain branching merge a...</td>\n",
       "    </tr>\n",
       "    <tr>\n",
       "      <th>2</th>\n",
       "      <td>21</td>\n",
       "      <td>anyone get experience create sql base asp.net ...</td>\n",
       "    </tr>\n",
       "    <tr>\n",
       "      <th>3</th>\n",
       "      <td>53</td>\n",
       "      <td>something pseudo solve many time never quite f...</td>\n",
       "    </tr>\n",
       "    <tr>\n",
       "      <th>4</th>\n",
       "      <td>49</td>\n",
       "      <td>little game write c . use database back end . ...</td>\n",
       "    </tr>\n",
       "  </tbody>\n",
       "</table>\n",
       "</div>"
      ],
      "text/plain": [
       "   Score                                       body_cleaned\n",
       "0     26  write database generation script sql want exec...\n",
       "1    144  really good tutorial explain branching merge a...\n",
       "2     21  anyone get experience create sql base asp.net ...\n",
       "3     53  something pseudo solve many time never quite f...\n",
       "4     49  little game write c . use database back end . ..."
      ]
     },
     "execution_count": 18,
     "metadata": {},
     "output_type": "execute_result"
    }
   ],
   "source": [
    "df_train.head()"
   ]
  },
  {
   "cell_type": "code",
   "execution_count": 19,
   "metadata": {
    "colab": {},
    "colab_type": "code",
    "id": "SS3qsHFlGqd5"
   },
   "outputs": [],
   "source": [
    "# Gensim\n",
    "import gensim\n",
    "import gensim.corpora as corpora\n",
    "from gensim.utils import simple_preprocess\n",
    "from gensim.models import CoherenceModel\n"
   ]
  },
  {
   "cell_type": "code",
   "execution_count": 20,
   "metadata": {
    "colab": {
     "base_uri": "https://localhost:8080/",
     "height": 54
    },
    "colab_type": "code",
    "id": "xmtJr69EMMWl",
    "outputId": "72326b90-04d7-4d85-b724-3214ff0b49a4"
   },
   "outputs": [
    {
     "name": "stdout",
     "output_type": "stream",
     "text": [
      "[['write', 'database', 'generation', 'script', 'sql', 'want', 'execute', 'adobe', 'air', 'application', 'execute', 'adobe', 'air', 'use', 'follow', 'method', 'error', 'generate', 'however', 'trole', 'exist', 'seem', 'look', 'first', 'query', 'semicolon', 'remove', 'query', 'fail', 'way', 'call', 'multiple', 'query', 'one', 'statement'], ['really', 'good', 'tutorial', 'explain', 'branching', 'merge', 'apache', 'subversion', 'well', 'specific', 'tortoisesvn', 'client'], ['anyone', 'get', 'experience', 'create', 'sql', 'base', 'asp', 'net', 'site', 'map', 'providers', 've', 'get', 'default', 'xml', 'file', 'web', 'sitemap', 'work', 'properly', 'menu', 'sitemappath', 'control', 'need', 'way', 'user', 'site', 'create', 'modify', 'page', 'dynamically', 'need', 'tie', 'page', 'view', 'permission', 'standard', 'asp', 'net', 'membership', 'system', 'well'], ['something', 'pseudo', 'solve', 'many', 'time', 'never', 'quite', 'find', 'solution', 'stuck', 'problem', 'come', 'way', 'generate', 'color', 'distinguishable', 'possible', 'parameter'], ['little', 'game', 'write', 'use', 'database', 'back', 'end', 'trading', 'card', 'game', 'want', 'implement', 'function', 'card', 'script', 'mean', 'essentially', 'interface', 'icard', 'card', 'class', 'implement', 'public', 'class', 'card', 'icard', 'contain', 'function', 'call', 'game', 'make', 'thing', 'maintainable', 'moddable', 'would', 'like', 'class', 'card', 'source', 'code', 'database', 'essentially', 'compile', 'first', 'use', 'add', 'change', 'card', 'add', 'database', 'tell', 'application', 'refresh', 'without', 'need', 'assembly', 'deployment', 'especially', 'since', 'would', 'talk', 'assembly', 'per', 'card', 'mean', 'hundred', 'assemblies', 'is', 'possible', 'register', 'class', 'source', 'file', 'instantiate', 'etc', 'language', 'extra', 'bonus', 'possible', 'write', 'script', 'net', 'language']]\n"
     ]
    }
   ],
   "source": [
    "def sent_to_words(sentences):\n",
    "    for sentence in sentences:\n",
    "        yield(gensim.utils.simple_preprocess(str(sentence), deacc=True))  # deacc=True removes punctuations\n",
    "\n",
    "data_words = list(sent_to_words(df_train['body_cleaned']))\n",
    "\n",
    "print(data_words[:5])"
   ]
  },
  {
   "cell_type": "code",
   "execution_count": 21,
   "metadata": {
    "colab": {
     "base_uri": "https://localhost:8080/",
     "height": 54
    },
    "colab_type": "code",
    "id": "vnM-4zz1Mfst",
    "outputId": "4c0d33f3-8de2-44e1-8e10-7d6662c75700"
   },
   "outputs": [
    {
     "name": "stdout",
     "output_type": "stream",
     "text": [
      "[['write', 'database', 'generation', 'script', 'sql', 'want', 'execute', 'adobe', 'air', 'application', 'execute', 'adobe', 'air', 'use', 'follow', 'method', 'error', 'generate', 'however', 'trole', 'exist', 'seem', 'look', 'first', 'query', 'semicolon', 'remove', 'query', 'fail', 'way', 'call', 'multiple', 'query', 'one', 'statement'], ['really', 'good', 'tutorial', 'explain', 'branching', 'merge', 'apache', 'subversion', 'well', 'specific', 'tortoisesvn', 'client'], ['anyone', 'get', 'experience', 'create', 'sql', 'base', 'asp', 'net', 'site', 'map', 'providers', 've', 'get', 'default', 'xml', 'file', 'web', 'sitemap', 'work', 'properly', 'menu', 'sitemappath', 'control', 'need', 'way', 'user', 'site', 'create', 'modify', 'page', 'dynamically', 'need', 'tie', 'page', 'view', 'permission', 'standard', 'asp', 'net', 'membership', 'system', 'well'], ['something', 'pseudo', 'solve', 'many', 'time', 'never', 'quite', 'find', 'solution', 'stuck', 'problem', 'come', 'way', 'generate', 'color', 'distinguishable', 'possible', 'parameter'], ['little', 'game', 'write', 'use', 'database', 'back', 'end', 'trading', 'card', 'game', 'want', 'implement', 'function', 'card', 'script', 'mean', 'essentially', 'interface', 'icard', 'card', 'class', 'implement', 'public', 'class', 'card', 'icard', 'contain', 'function', 'call', 'game', 'make', 'thing', 'maintainable', 'moddable', 'would', 'like', 'class', 'card', 'source', 'code', 'database', 'essentially', 'compile', 'first', 'use', 'add', 'change', 'card', 'add', 'database', 'tell', 'application', 'refresh', 'without', 'need', 'assembly', 'deployment', 'especially', 'since', 'would', 'talk', 'assembly', 'per', 'card', 'mean', 'hundred', 'assemblies', 'is', 'possible', 'register', 'class', 'source', 'file', 'instantiate', 'etc', 'language', 'extra', 'bonus', 'possible', 'write', 'script', 'net', 'language'], ['work', 'collection', 'class', 'use', 'video', 'playback', 'recording', 'one', 'main', 'class', 'act', 'like', 'public', 'interface', 'method', 'like', 'play', 'stop', 'pause', 'record', 'etc', 'workhorse', 'class', 'video', 'decoding', 'video', 'encoding', 'learn', 'existence', 'nested', 'class', 'curious', 'know', 'programmer', 'think', 'use', 'little', 'wary', 'really', 'sure', 'benefit', 'drawback', 'seem', 'accord', 'book', 'read', 'use', 'case', 'mine', 'book', 'suggest', 'scenario', 'like', 'good', 'solution', 'would', 'nest', 'workhorse', 'class', 'inside', 'interface', 'class', 'separate', 'file', 'class', 'client', 'mean', 'use', 'avoid', 'possible', 'naming', 'conflict', 'know', 'justification', 'nested', 'class', 'new', 'concept', 'want', 'see', 'programmer', 'think', 'issue'], ['write', 'web', 'service', 'net', 'app', 'ready', 'consume', 'see', 'numerous', 'example', 'homegrown', 'code', 'consume', 'service', 'oppose', 'use', 'auto', 'generate', 'method', 'visual', 'studio', 'create', 'add', 'web', 'reference', 'advantage'], ['wonder', 'guy', 'manage', 'deployment', 'database', 'sql', 'servers', 'specifically', 'sql', 'server', 'now', 'development', 'live', 'one', 'part', 'buildscript', 'standard', 'window', 'batch', 'even', 'current', 'complexity', 'script', 'may', 'switch', 'powershell', 'later', 'enterprise', 'manager', 'management', 'studio', 'express', 'count', 'would', 'copy', 'mdf', 'file', 'attach', 'always', 'bit', 'careful', 'work', 'binary', 'datum', 'seem', 'compatiblity', 'issue', 'even', 'though', 'development', 'live', 'run', 'version', 'server', 'time', 'or', 'give', 'lack', 'explain', 'create', 'table', 'sql', 'something', 'export', 'exist', 'database', 'sql', 'script', 'run', 'target', 'server', 'yes', 'tool', 'automatically', 'dump', 'give', 'database', 'sql', 'queries', 'run', 'command', 'line', 'enterprise', 'manager', 'management', 'studio', 'express', 'count', 'and', 'lastly', 'give', 'fact', 'live', 'database', 'already', 'contain', 'datum', 'deployment', 'may', 'involve', 'create', 'table', 'rather', 'check', 'difference', 'structure', 'alter', 'table', 'live', 'one', 'instead', 'may', 'also', 'need', 'data', 'verification', 'conversion', 'exist', 'field', 'change', 'hear', 'lot', 'great', 'stuff', 'red', 'gate', 'product', 'hobby', 'project', 'price', 'bit', 'steep', 'use', 'automatically', 'deploy', 'sql', 'server', 'database', 'test', 'live'], ['would', 'like', 'version', 'property', 'application', 'incremente', 'build', 'sure', 'enable', 'functionality', 'visual', 'studio', 'try', 'specify', 'assemblyversion', 'get', 'exactly', 'want', 'also', 'use', 'setting', 'file', 'early', 'attempt', 'assembly', 'version', 'change', 'setting', 'get', 'reset', 'default', 'since', 'application', 'look', 'setting', 'file', 'another', 'directory', 'would', 'like', 'able', 'display', 'version', 'number', 'form', 'user', 'find', 'problem', 'log', 'version', 'use', 'well', 'tell', 'upgrade', 'old', 'release', 'short', 'explanation', 'versioning', 'work', 'would', 'also', 'appreciate', 'build', 'revision', 'number', 'get', 'incremente'], ['try', 'maintain', 'setup', 'project', 'visual', 'studio', 'yes', 'legacy', 'application', 'problem', 'moment', 'need', 'write', 'registry', 'entry', 'hkcu', 'every', 'user', 'computer', 'need', 'hkcu', 'rather', 'hklm', 'default', 'user', 'setting', 'change', 'per', 'user', 'feeling', 'thatthis', 'possiblethis', 'something', 'installer', 'something', 'application', 'happen', 'user', 'profile', 'create', 'install', 'with', 'mind', 'still', 'want', 'change', 'little', 'possible', 'application', 'question', 'possible', 'add', 'registry', 'entry', 'every', 'user', 'visual', 'studio', 'setup', 'project', 'moment', 'project', 'list', 'five', 'registry', 'root', 'key', 'hkey_users', 'user', 'machine', 'hive', 'really', 'know', 'anything', 'user', 'root', 'key', 'see', 'user', 'machine', 'hive', 'anyone', 'enlighten', 'perhaps', 'could', 'solve', 'problem'], ['simple', 'way', 'connect', 'query', 'database', 'set', 'record'], ['need', 'grab', 'base', 'encoded', 'representation', 'viewstate', 'obviously', 'would', 'available', 'fairly', 'late', 'request', 'lifecycle', 'ok', 'for', 'example', 'output', 'page', 'include', 'need', 'way', 'server', 'side', 'get', 'value', 'wepdwujodu', 'njc', 'md', 'to', 'clarify', 'need', 'value', 'page', 'render', 'postback', 'need', 'know', 'viewstate', 'value', 'send', 'client', 'viewstate', 'get', 'back'], ['look', 'way', 'delete', 'file', 'lock', 'another', 'process', 'use', 'suspect', 'method', 'must', 'able', 'find', 'process', 'lock', 'file', 'perhaps', 'track', 'handle', 'although', 'sure', 'close', 'process', 'able', 'complete', 'file', 'delete', 'use', 'file', 'delete'], ['correct', 'way', 'get', 'process', 'size', 'solaris', 'hp', 'ux', 'aix', 'use', 'top', 'ps', 'vsz', 'something', 'else'], ['use', 'ccnet', 'sample', 'project', 'svn', 'source', 'control', 'ccnet', 'configure', 'create', 'build', 'every', 'check', 'ccnet', 'use', 'msbuild', 'build', 'source', 'code', 'would', 'like', 'use', 'late', 'revision', 'number', 'generate', 'assemblyinfo', 'cs', 'compile', 'retrieve', 'late', 'revision', 'subversion', 'use', 'value', 'ccnet', 'edit', 'use', 'nant', 'msbuild'], ['look', 'allow', 'user', 'control', 'subdomain', 'app', 'toy', 'much', 'like', 'basecamp', 'customusername', 'seework', 'com', 'require', 'dns', 'end', 'allow', 'create', 'dynamically', 'available', 'instantly', 'recommend', 'deal', 'logic', 'site', 'htaccess', 'rule', 'lookup', 'subdomain', 'db'], ['use', 'msbuild', 'build', 'stuff', 'want', 'use', 'cruisecontrol', 'net', 'build', 'server', 'ccnet', 'refer', 'nant', 'lot', 'look', 'ccnet', 'stuff', 'nant', 'could', 'project', 'configuration', 'msbuild', 'also', 'nant', 'seem', 'bit', 'unsupported', 'beta', 'release', 'almost', 'year', 'old', 'short', 'actually', 'quite', 'happy', 'msbuild', 'especially', 'since', 'official', 'compiler', 'front', 'end', 'bit', 'uncomfortable', 'nant', 'want', 'judge', 'prematurely', 'would', 'reason', 'use', 'nant', 'msbuild', 'especially', 'ccnet', 'seem', 'overlap', 'bit', 'nant', 'term', 'feature', 'add', 'automate', 'build', 'related', 'stuff'], ['set', 'dedicated', 'sql', 'server', 'box', 'windows', 'server', 'week', 'would', 'like', 'pare', 'barebone', 'possible', 'still', 'fully', 'functional', 'end', 'server', 'core', 'option', 'sound', 'appealing', 'clear', 'whether', 'run', 'sql', 'server', 'sku', 'several', 'service', 'address', 'microsoft', 'website', 'see', 'indication', 'sql', 'server', 'anyone', 'know', 'definitively'], ['always', 'create', 'new', 'empty', 'database', 'backup', 'restore', 'exist', 'database', 'really', 'good', 'way', 'seem', 'error', 'prone', 'complicated'], ['add', 'column', 'table', 'microsoft', 'sql', 'server', 'control', 'column', 'display', 'logically', 'queries', 'want', 'mess', 'physical', 'layout', 'column', 'disk', 'would', 'like', 'logically', 'group', 'column', 'together', 'possible', 'tool', 'like', 'sql', 'server', 'management', 'studio', 'list', 'content', 'table', 'convenient', 'way', 'know', 'sql', 'management', 'studio', 'go', 'design', 'mode', 'table', 'drag', 'order', 'column', 'around', 'would', 'like', 'able', 'raw', 'sql', 'perform', 'ordering', 'script', 'command', 'line'], ['get', 'back', 'bit', 'net', 'year', 'use', 'full', 'time', 'wonder', 'good', 'unit', 'testing', 'package', 'day', 'familiar', 'nunit', 'year', 'ago', 'play', 'briefly', 'around', 'ironruby', 'goal', 'get', 'something', 'like', 'rspec', 'go', 'know', 'much', 'beyond', 'realize', 'could', 'google', 'call', 'day', 'believe', 'likely', 'get', 'well', 'informed', 'response', 'ask', 'question', 'suggestions'], ['possible', 'create', 'federate', 'subversion', 'server', 'one', 'server', 'location', 'another', 'location', 'sync', 'local', 'version', 'repository', 'automatically', 'way', 'someone', 'either', 'location', 'interact', 'repository', 'access', 'respective', 'local', 'server', 'therefore', 'fast', 'response', 'time'], ['postgresql', 'interesting', 'support', 'several', 'language', 'write', 'stored', 'procedure', 'one', 'use'], ['want', 'get', 'md', 'hash', 'string', 'value', 'sql', 'server', 'follow', 'command', 'however', 'return', 'varbinary', 'instead', 'varchar', 'value', 'attempt', 'convert', 'ca', 'cc', 'varchar', 'get', 'ha', 'instead', 'ca', 'cc', 'is', 'sql', 'base', 'solution', 'yes'], ['currently', 'use', 'datatable', 'get', 'result', 'database', 'use', 'code', 'however', 'many', 'example', 'web', 'show', 'use', 'dataset', 'instead', 'access', 'table', 'collection', 'method', 'advantage', 'performance', 'wise', 'otherwise', 'use', 'datasets', 'datatables', 'storage', 'method', 'sql', 'result'], ['want', 'able', 'thing', 'thing', 'end', 'classic', 'asp', 'net'], ['disable', 'autocomplete', 'major', 'browser', 'specific', 'input', 'form', 'field'], ['good', 'library', 'datastructure', 'like', 'vector', 'deque', 'stack', 'hashmaps', 'treemaps', 'set', 'etc', 'plain', 'please', 'platform', 'independent'], ['quick', 'glance', 'present', 'day', 'internet', 'would', 'seem', 'indicate', 'adobe', 'flash', 'obvious', 'choice', 'embed', 'video', 'web', 'page', 'accurate', 'effective', 'choice', 'choice', 'asp', 'net', 'platform', 'influence', 'decision'], ['find', 'software', 'free', 'powershell', 'netcmdlets', 'play', 'love', 'functionality', 'bring', 'command', 'line', 'raise', 'question', 'favorite', 'cmdlet', 'use'], ['wonder', 'good', 'idea', 'make', 'verification', 'getter', 'setter', 'elsewhere', 'code', 'may', 'surprise', 'come', 'optimization', 'speed', 'code', 'think', 'make', 'verification', 'getter', 'setter', 'code', 'update', 'file', 'database', 'wrong'], ['work', 'asp', 'net', 'project', 'always', 'use', 'global', 'asax', 'catch', 'error', 'look', 'similar', 'way', 'catch', 'exception', 'windows', 'forms', 'user', 'control', 'end', 'host', 'ie', 'control', 'proper', 'way', 'go', 'something', 'like'], ['let', 'say', 'argb', 'color', 'paint', 'top', 'exist', 'color', 'color', 'blend', 'blend', 'white', 'result', 'color', 'color', 'fromargb', 'the', 'solution', 'work', 'like', 'torgb', 'implementation'], ['page', 'result', 'sql', 'server', 'try', 'sql', 'server', 'reliable', 'way', 'wonder', 'sql', 'server', 'build', 'method', 'what', 'mean', 'page', 'example', 'list', 'user', 'username', 'want', 'able', 'return', 'first', 'record', 'next', 'record', 'help', 'would', 'much', 'appreciate'], ['get', 'follow', 'error', 'access', 'deny', 'user', 'apache', 'localhost', 'use', 'password', 'no', 'when', 'use', 'follow', 'code', 'connect', 'php', 'file', 'contain', 'mysql', 'connect', 'call', 'work', 'fine', 'insert', 'query', 'another', 'portion', 'software', 'comment', 'result', 'mysql_query', 'line', 'go', 'else', 'statement', 'line', 'content', 'search', 'net', 'solution', 'seem', 'relate', 'many', 'mysql', 'connection', 'user', 'log', 'mysql', 'permission', 'check', 'still', 'perform', 'query', 'elsewhere', 'software', 'verify', 'account', 'correct', 'permission']]\n"
     ]
    }
   ],
   "source": [
    "print(data_words[:35])"
   ]
  },
  {
   "cell_type": "code",
   "execution_count": 22,
   "metadata": {
    "colab": {
     "base_uri": "https://localhost:8080/",
     "height": 89
    },
    "colab_type": "code",
    "id": "O-KiwwSaMi_D",
    "outputId": "6c66e55e-226e-4aba-b434-47c91bda9963"
   },
   "outputs": [
    {
     "name": "stdout",
     "output_type": "stream",
     "text": [
      "['write', 'database', 'generation', 'script', 'sql', 'want', 'execute', 'adobe_air', 'application', 'execute', 'adobe_air', 'use', 'follow', 'method', 'error', 'generate', 'however', 'trole', 'exist', 'seem', 'look', 'first', 'query', 'semicolon', 'remove', 'query', 'fail', 'way', 'call', 'multiple', 'query', 'one', 'statement']\n"
     ]
    }
   ],
   "source": [
    "# Build the bigram and trigram models\n",
    "bigram = gensim.models.Phrases(data_words, min_count=5, threshold=100) # higher threshold fewer phrases.\n",
    "trigram = gensim.models.Phrases(bigram[data_words], threshold=100)  \n",
    "\n",
    "# Faster way to get a sentence clubbed as a trigram/bigram\n",
    "bigram_mod = gensim.models.phrases.Phraser(bigram)\n",
    "trigram_mod = gensim.models.phrases.Phraser(trigram)\n",
    "\n",
    "# See trigram example\n",
    "print(trigram_mod[bigram_mod[data_words[0]]])"
   ]
  },
  {
   "cell_type": "code",
   "execution_count": 23,
   "metadata": {
    "colab": {},
    "colab_type": "code",
    "id": "gppfpkheOfY_"
   },
   "outputs": [],
   "source": [
    "# Define functions for stopwords, bigrams, trigrams and lemmatization\n",
    "def remove_stopwords(texts):\n",
    "    return [[word for word in simple_preprocess(str(doc)) if word not in stop_words] for doc in texts]\n",
    "\n",
    "def make_bigrams(texts):\n",
    "    return [bigram_mod[doc] for doc in texts]\n",
    "\n",
    "def make_trigrams(texts):\n",
    "    return [trigram_mod[bigram_mod[doc]] for doc in texts]\n",
    "\n",
    "def lemmatization(texts, allowed_postags=['NOUN', 'ADJ', 'VERB', 'ADV']):\n",
    "    \"\"\"https://spacy.io/api/annotation\"\"\"\n",
    "    texts_out = []\n",
    "    for sent in texts:\n",
    "        doc = nlp(\" \".join(sent)) \n",
    "        texts_out.append([token.lemma_ for token in doc if token.pos_ in allowed_postags])\n",
    "    return texts_out"
   ]
  },
  {
   "cell_type": "code",
   "execution_count": 24,
   "metadata": {
    "colab": {
     "base_uri": "https://localhost:8080/",
     "height": 54
    },
    "colab_type": "code",
    "id": "RpxvILXoPF73",
    "outputId": "e507ae6e-dd58-4542-ff7d-58432756d579"
   },
   "outputs": [
    {
     "name": "stdout",
     "output_type": "stream",
     "text": [
      "[['write', 'database', 'application', 'error', 'generate', 'exist', 'seem', 'first', 'semicolon', 'remove', 'query', 'fail', 'call', 'multiple', 'query', 'statement']]\n"
     ]
    }
   ],
   "source": [
    "data_words_nostops = remove_stopwords(data_words)\n",
    "\n",
    "# Form Bigrams\n",
    "data_words_bigrams = make_bigrams(data_words_nostops)\n",
    "\n",
    "# Initialize spacy 'en' model, keeping only tagger component (for efficiency)\n",
    "# python3 -m spacy download en\n",
    "nlp = spacy.load('en', disable=['parser', 'ner'])\n",
    "\n",
    "# Do lemmatization keeping only noun, adj, vb, adv\n",
    "data_lemmatized = lemmatization(data_words_bigrams, allowed_postags=['NOUN', 'ADJ', 'VERB', 'ADV'])\n",
    "\n",
    "print(data_lemmatized[:1])"
   ]
  },
  {
   "cell_type": "code",
   "execution_count": 25,
   "metadata": {
    "colab": {
     "base_uri": "https://localhost:8080/",
     "height": 34
    },
    "colab_type": "code",
    "id": "tD4NtNoyPP6H",
    "outputId": "85e1744f-c68a-4d77-cedd-01b8277b4a0d"
   },
   "outputs": [
    {
     "name": "stdout",
     "output_type": "stream",
     "text": [
      "[[(0, 1), (1, 1), (2, 1), (3, 1), (4, 1), (5, 1), (6, 1), (7, 1), (8, 1), (9, 2), (10, 1), (11, 1), (12, 1), (13, 1), (14, 1)]]\n"
     ]
    }
   ],
   "source": [
    "# Create Dictionary\n",
    "id2word = corpora.Dictionary(data_lemmatized)\n",
    "\n",
    "# Create Corpus\n",
    "texts = data_lemmatized\n",
    "\n",
    "# Term Document Frequency\n",
    "corpus = [id2word.doc2bow(text) for text in texts]\n",
    "\n",
    "# View\n",
    "print(corpus[:1])"
   ]
  },
  {
   "cell_type": "code",
   "execution_count": 26,
   "metadata": {
    "colab": {
     "base_uri": "https://localhost:8080/",
     "height": 34
    },
    "colab_type": "code",
    "id": "ffG_tjpBRm1d",
    "outputId": "ec112613-50c1-4a66-fbb1-ed89ea0a6ac9"
   },
   "outputs": [
    {
     "data": {
      "text/plain": [
       "'application'"
      ]
     },
     "execution_count": 26,
     "metadata": {},
     "output_type": "execute_result"
    }
   ],
   "source": [
    "id2word[0]"
   ]
  },
  {
   "cell_type": "code",
   "execution_count": 27,
   "metadata": {
    "colab": {
     "base_uri": "https://localhost:8080/",
     "height": 276
    },
    "colab_type": "code",
    "id": "5NQSueN-RsKJ",
    "outputId": "d57f626f-2905-4275-d1b6-25291b130611"
   },
   "outputs": [
    {
     "data": {
      "text/plain": [
       "[[('application', 1),\n",
       "  ('call', 1),\n",
       "  ('database', 1),\n",
       "  ('error', 1),\n",
       "  ('exist', 1),\n",
       "  ('fail', 1),\n",
       "  ('first', 1),\n",
       "  ('generate', 1),\n",
       "  ('multiple', 1),\n",
       "  ('query', 2),\n",
       "  ('remove', 1),\n",
       "  ('seem', 1),\n",
       "  ('semicolon', 1),\n",
       "  ('statement', 1),\n",
       "  ('write', 1)]]"
      ]
     },
     "execution_count": 27,
     "metadata": {},
     "output_type": "execute_result"
    }
   ],
   "source": [
    "[[(id2word[id], freq) for id, freq in cp] for cp in corpus[:1]]"
   ]
  },
  {
   "cell_type": "code",
   "execution_count": 28,
   "metadata": {
    "colab": {
     "base_uri": "https://localhost:8080/",
     "height": 52
    },
    "colab_type": "code",
    "id": "wggs9_XpRxSk",
    "outputId": "3627ac9f-bd6a-44fa-f1a1-6566f934ae4e"
   },
   "outputs": [],
   "source": [
    "lda_model = gensim.models.ldamodel.LdaModel(corpus=corpus,\n",
    "                                           id2word=id2word,\n",
    "                                           num_topics=200, \n",
    "                                           random_state=100,\n",
    "                                           update_every=1,\n",
    "                                           chunksize=100,\n",
    "                                           passes=10,\n",
    "                                           alpha='auto',\n",
    "                                           per_word_topics=True)"
   ]
  },
  {
   "cell_type": "code",
   "execution_count": 29,
   "metadata": {
    "colab": {
     "base_uri": "https://localhost:8080/",
     "height": 655
    },
    "colab_type": "code",
    "id": "FY7JjVFDR8KS",
    "outputId": "0a5cd860-1695-45fc-d42e-29d8a0f2e931"
   },
   "outputs": [
    {
     "name": "stdout",
     "output_type": "stream",
     "text": [
      "[(91,\n",
      "  '0.000*\"stdsoap\" + 0.000*\"gsoap\" + 0.000*\"gfb\" + 0.000*\"listaddress\" + '\n",
      "  '0.000*\"minorityuse\" + 0.000*\"culprint\" + 0.000*\"inamesource\" + '\n",
      "  '0.000*\"mysort\" + 0.000*\"pulldown\" + 0.000*\"speakerthis\"'),\n",
      " (27,\n",
      "  '0.000*\"stdsoap\" + 0.000*\"gsoap\" + 0.000*\"gfb\" + 0.000*\"listaddress\" + '\n",
      "  '0.000*\"minorityuse\" + 0.000*\"culprint\" + 0.000*\"inamesource\" + '\n",
      "  '0.000*\"mysort\" + 0.000*\"pulldown\" + 0.000*\"speakerthis\"'),\n",
      " (24,\n",
      "  '0.000*\"stdsoap\" + 0.000*\"gsoap\" + 0.000*\"gfb\" + 0.000*\"listaddress\" + '\n",
      "  '0.000*\"minorityuse\" + 0.000*\"culprint\" + 0.000*\"inamesource\" + '\n",
      "  '0.000*\"mysort\" + 0.000*\"pulldown\" + 0.000*\"speakerthis\"'),\n",
      " (54,\n",
      "  '0.000*\"stdsoap\" + 0.000*\"gsoap\" + 0.000*\"gfb\" + 0.000*\"listaddress\" + '\n",
      "  '0.000*\"minorityuse\" + 0.000*\"culprint\" + 0.000*\"inamesource\" + '\n",
      "  '0.000*\"mysort\" + 0.000*\"pulldown\" + 0.000*\"speakerthis\"'),\n",
      " (35,\n",
      "  '0.000*\"stdsoap\" + 0.000*\"gsoap\" + 0.000*\"gfb\" + 0.000*\"listaddress\" + '\n",
      "  '0.000*\"minorityuse\" + 0.000*\"culprint\" + 0.000*\"inamesource\" + '\n",
      "  '0.000*\"mysort\" + 0.000*\"pulldown\" + 0.000*\"speakerthis\"'),\n",
      " (86,\n",
      "  '0.000*\"stdsoap\" + 0.000*\"gsoap\" + 0.000*\"gfb\" + 0.000*\"listaddress\" + '\n",
      "  '0.000*\"minorityuse\" + 0.000*\"culprint\" + 0.000*\"inamesource\" + '\n",
      "  '0.000*\"mysort\" + 0.000*\"pulldown\" + 0.000*\"speakerthis\"'),\n",
      " (192,\n",
      "  '0.000*\"stdsoap\" + 0.000*\"gsoap\" + 0.000*\"gfb\" + 0.000*\"listaddress\" + '\n",
      "  '0.000*\"minorityuse\" + 0.000*\"culprint\" + 0.000*\"inamesource\" + '\n",
      "  '0.000*\"mysort\" + 0.000*\"pulldown\" + 0.000*\"speakerthis\"'),\n",
      " (188,\n",
      "  '0.000*\"stdsoap\" + 0.000*\"gsoap\" + 0.000*\"gfb\" + 0.000*\"listaddress\" + '\n",
      "  '0.000*\"minorityuse\" + 0.000*\"culprint\" + 0.000*\"inamesource\" + '\n",
      "  '0.000*\"mysort\" + 0.000*\"pulldown\" + 0.000*\"speakerthis\"'),\n",
      " (199,\n",
      "  '0.000*\"stdsoap\" + 0.000*\"gsoap\" + 0.000*\"gfb\" + 0.000*\"listaddress\" + '\n",
      "  '0.000*\"minorityuse\" + 0.000*\"culprint\" + 0.000*\"inamesource\" + '\n",
      "  '0.000*\"mysort\" + 0.000*\"pulldown\" + 0.000*\"speakerthis\"'),\n",
      " (95,\n",
      "  '0.000*\"stdsoap\" + 0.000*\"gsoap\" + 0.000*\"gfb\" + 0.000*\"listaddress\" + '\n",
      "  '0.000*\"minorityuse\" + 0.000*\"culprint\" + 0.000*\"inamesource\" + '\n",
      "  '0.000*\"mysort\" + 0.000*\"pulldown\" + 0.000*\"speakerthis\"'),\n",
      " (191,\n",
      "  '0.301*\"name\" + 0.295*\"give\" + 0.110*\"custom\" + 0.069*\"simply\" + '\n",
      "  '0.053*\"complete\" + 0.040*\"situation\" + 0.032*\"refer\" + 0.032*\"trouble\" + '\n",
      "  '0.032*\"easily\" + 0.019*\"normally\"'),\n",
      " (51,\n",
      "  '0.241*\"still\" + 0.221*\"able\" + 0.149*\"require\" + 0.112*\"click\" + '\n",
      "  '0.067*\"easy\" + 0.064*\"mention\" + 0.041*\"unable\" + 0.037*\"java\" + '\n",
      "  '0.022*\"regular\" + 0.019*\"quick\"'),\n",
      " (165,\n",
      "  '0.312*\"object\" + 0.227*\"result\" + 0.144*\"compile\" + 0.131*\"link\" + '\n",
      "  '0.071*\"apply\" + 0.055*\"share\" + 0.039*\"attempt\" + 0.013*\"loader\" + '\n",
      "  '0.001*\"statically\" + 0.000*\"speakerthis\"'),\n",
      " (162,\n",
      "  '0.448*\"create\" + 0.225*\"page\" + 0.140*\"system\" + 0.081*\"menu\" + '\n",
      "  '0.045*\"properly\" + 0.026*\"provider\" + 0.021*\"dynamically\" + 0.007*\"tie\" + '\n",
      "  '0.000*\"listaddress\" + 0.000*\"gsoap\"'),\n",
      " (76,\n",
      "  '0.400*\"add\" + 0.317*\"return\" + 0.119*\"end\" + 0.060*\"several\" + '\n",
      "  '0.052*\"actual\" + 0.036*\"info\" + 0.009*\"complicate\" + 0.000*\"listaddress\" + '\n",
      "  '0.000*\"techfoobar\" + 0.000*\"gfb\"'),\n",
      " (148,\n",
      "  '0.234*\"app\" + 0.164*\"answer\" + 0.099*\"reason\" + 0.096*\"difference\" + '\n",
      "  '0.094*\"standard\" + 0.093*\"specific\" + 0.056*\"non\" + 0.044*\"develop\" + '\n",
      "  '0.033*\"warn\" + 0.029*\"status\"'),\n",
      " (184,\n",
      "  '0.596*\"follow\" + 0.290*\"line\" + 0.088*\"command\" + 0.009*\"hear\" + '\n",
      "  '0.005*\"scheme\" + 0.003*\"interpreter\" + 0.001*\"decouple\" + 0.001*\"lisp\" + '\n",
      "  '0.000*\"emacs\" + 0.000*\"speakerthis\"'),\n",
      " (31,\n",
      "  '0.368*\"method\" + 0.279*\"first\" + 0.205*\"say\" + 0.055*\"hide\" + 0.027*\"yet\" + '\n",
      "  '0.022*\"invalid\" + 0.019*\"prevent\" + 0.017*\"safe\" + 0.000*\"asnotracke\" + '\n",
      "  '0.000*\"inamesource\"'),\n",
      " (19,\n",
      "  '0.410*\"call\" + 0.397*\"time\" + 0.064*\"response\" + 0.062*\"ask\" + 0.053*\"play\" '\n",
      "  '+ 0.007*\"likely\" + 0.000*\"listaddress\" + 0.000*\"culprint\" + 0.000*\"gfb\" + '\n",
      "  '0.000*\"mope\"'),\n",
      " (99,\n",
      "  '0.437*\"error\" + 0.149*\"fine\" + 0.101*\"correct\" + 0.065*\"log\" + '\n",
      "  '0.051*\"relate\" + 0.049*\"connection\" + 0.043*\"configuration\" + '\n",
      "  '0.037*\"connect\" + 0.032*\"permission\" + 0.021*\"mysql\"')]\n"
     ]
    }
   ],
   "source": [
    "pprint(lda_model.print_topics())\n",
    "doc_lda = lda_model[corpus]"
   ]
  },
  {
   "cell_type": "code",
   "execution_count": 30,
   "metadata": {
    "colab": {
     "base_uri": "https://localhost:8080/",
     "height": 84
    },
    "colab_type": "code",
    "id": "IKMTmBX2SEKC",
    "outputId": "6fb86497-45d5-4b3e-aa1b-e3bf70a9123b"
   },
   "outputs": [
    {
     "name": "stdout",
     "output_type": "stream",
     "text": [
      "\n",
      "Perplexity:  -76.91732335022665\n",
      "\n",
      "Coherence Score:  0.33303357733789357\n"
     ]
    }
   ],
   "source": [
    "# Compute Perplexity\n",
    "print('\\nPerplexity: ', lda_model.log_perplexity(corpus))  # a measure of how good the model is. lower the better.\n",
    "\n",
    "# Compute Coherence Score\n",
    "coherence_model_lda = CoherenceModel(model=lda_model, texts=data_lemmatized, dictionary=id2word, coherence='c_v')\n",
    "coherence_lda = coherence_model_lda.get_coherence()\n",
    "print('\\nCoherence Score: ', coherence_lda)"
   ]
  },
  {
   "cell_type": "code",
   "execution_count": 31,
   "metadata": {},
   "outputs": [
    {
     "name": "stderr",
     "output_type": "stream",
     "text": [
      "C:\\Users\\patha\\AppData\\Roaming\\Python\\Python37\\site-packages\\pyLDAvis\\_prepare.py:257: FutureWarning: Sorting because non-concatenation axis is not aligned. A future version\n",
      "of pandas will change to not sort by default.\n",
      "\n",
      "To accept the future behavior, pass 'sort=False'.\n",
      "\n",
      "To retain the current behavior and silence the warning, pass 'sort=True'.\n",
      "\n",
      "  return pd.concat([default_term_info] + list(topic_dfs))\n"
     ]
    },
    {
     "ename": "TypeError",
     "evalue": "Object of type complex is not JSON serializable",
     "output_type": "error",
     "traceback": [
      "\u001b[1;31m---------------------------------------------------------------------------\u001b[0m",
      "\u001b[1;31mTypeError\u001b[0m                                 Traceback (most recent call last)",
      "\u001b[1;32m~\\AppData\\Roaming\\Python\\Python37\\site-packages\\IPython\\core\\formatters.py\u001b[0m in \u001b[0;36m__call__\u001b[1;34m(self, obj)\u001b[0m\n\u001b[0;32m    339\u001b[0m                 \u001b[1;32mpass\u001b[0m\u001b[1;33m\u001b[0m\u001b[1;33m\u001b[0m\u001b[0m\n\u001b[0;32m    340\u001b[0m             \u001b[1;32melse\u001b[0m\u001b[1;33m:\u001b[0m\u001b[1;33m\u001b[0m\u001b[1;33m\u001b[0m\u001b[0m\n\u001b[1;32m--> 341\u001b[1;33m                 \u001b[1;32mreturn\u001b[0m \u001b[0mprinter\u001b[0m\u001b[1;33m(\u001b[0m\u001b[0mobj\u001b[0m\u001b[1;33m)\u001b[0m\u001b[1;33m\u001b[0m\u001b[1;33m\u001b[0m\u001b[0m\n\u001b[0m\u001b[0;32m    342\u001b[0m             \u001b[1;31m# Finally look for special method names\u001b[0m\u001b[1;33m\u001b[0m\u001b[1;33m\u001b[0m\u001b[1;33m\u001b[0m\u001b[0m\n\u001b[0;32m    343\u001b[0m             \u001b[0mmethod\u001b[0m \u001b[1;33m=\u001b[0m \u001b[0mget_real_method\u001b[0m\u001b[1;33m(\u001b[0m\u001b[0mobj\u001b[0m\u001b[1;33m,\u001b[0m \u001b[0mself\u001b[0m\u001b[1;33m.\u001b[0m\u001b[0mprint_method\u001b[0m\u001b[1;33m)\u001b[0m\u001b[1;33m\u001b[0m\u001b[1;33m\u001b[0m\u001b[0m\n",
      "\u001b[1;32m~\\AppData\\Roaming\\Python\\Python37\\site-packages\\pyLDAvis\\_display.py\u001b[0m in \u001b[0;36m<lambda>\u001b[1;34m(data, kwds)\u001b[0m\n\u001b[0;32m    311\u001b[0m     \u001b[0mformatter\u001b[0m \u001b[1;33m=\u001b[0m \u001b[0mip\u001b[0m\u001b[1;33m.\u001b[0m\u001b[0mdisplay_formatter\u001b[0m\u001b[1;33m.\u001b[0m\u001b[0mformatters\u001b[0m\u001b[1;33m[\u001b[0m\u001b[1;34m'text/html'\u001b[0m\u001b[1;33m]\u001b[0m\u001b[1;33m\u001b[0m\u001b[1;33m\u001b[0m\u001b[0m\n\u001b[0;32m    312\u001b[0m     formatter.for_type(PreparedData,\n\u001b[1;32m--> 313\u001b[1;33m                        lambda data, kwds=kwargs: prepared_data_to_html(data, **kwds))\n\u001b[0m\u001b[0;32m    314\u001b[0m \u001b[1;33m\u001b[0m\u001b[0m\n\u001b[0;32m    315\u001b[0m \u001b[1;33m\u001b[0m\u001b[0m\n",
      "\u001b[1;32m~\\AppData\\Roaming\\Python\\Python37\\site-packages\\pyLDAvis\\_display.py\u001b[0m in \u001b[0;36mprepared_data_to_html\u001b[1;34m(data, d3_url, ldavis_url, ldavis_css_url, template_type, visid, use_http)\u001b[0m\n\u001b[0;32m    176\u001b[0m                            \u001b[0md3_url\u001b[0m\u001b[1;33m=\u001b[0m\u001b[0md3_url\u001b[0m\u001b[1;33m,\u001b[0m\u001b[1;33m\u001b[0m\u001b[1;33m\u001b[0m\u001b[0m\n\u001b[0;32m    177\u001b[0m                            \u001b[0mldavis_url\u001b[0m\u001b[1;33m=\u001b[0m\u001b[0mldavis_url\u001b[0m\u001b[1;33m,\u001b[0m\u001b[1;33m\u001b[0m\u001b[1;33m\u001b[0m\u001b[0m\n\u001b[1;32m--> 178\u001b[1;33m                            \u001b[0mvis_json\u001b[0m\u001b[1;33m=\u001b[0m\u001b[0mdata\u001b[0m\u001b[1;33m.\u001b[0m\u001b[0mto_json\u001b[0m\u001b[1;33m(\u001b[0m\u001b[1;33m)\u001b[0m\u001b[1;33m,\u001b[0m\u001b[1;33m\u001b[0m\u001b[1;33m\u001b[0m\u001b[0m\n\u001b[0m\u001b[0;32m    179\u001b[0m                            ldavis_css_url=ldavis_css_url)\n\u001b[0;32m    180\u001b[0m \u001b[1;33m\u001b[0m\u001b[0m\n",
      "\u001b[1;32m~\\AppData\\Roaming\\Python\\Python37\\site-packages\\pyLDAvis\\_prepare.py\u001b[0m in \u001b[0;36mto_json\u001b[1;34m(self)\u001b[0m\n\u001b[0;32m    415\u001b[0m \u001b[1;33m\u001b[0m\u001b[0m\n\u001b[0;32m    416\u001b[0m     \u001b[1;32mdef\u001b[0m \u001b[0mto_json\u001b[0m\u001b[1;33m(\u001b[0m\u001b[0mself\u001b[0m\u001b[1;33m)\u001b[0m\u001b[1;33m:\u001b[0m\u001b[1;33m\u001b[0m\u001b[1;33m\u001b[0m\u001b[0m\n\u001b[1;32m--> 417\u001b[1;33m        \u001b[1;32mreturn\u001b[0m \u001b[0mjson\u001b[0m\u001b[1;33m.\u001b[0m\u001b[0mdumps\u001b[0m\u001b[1;33m(\u001b[0m\u001b[0mself\u001b[0m\u001b[1;33m.\u001b[0m\u001b[0mto_dict\u001b[0m\u001b[1;33m(\u001b[0m\u001b[1;33m)\u001b[0m\u001b[1;33m,\u001b[0m \u001b[0mcls\u001b[0m\u001b[1;33m=\u001b[0m\u001b[0mNumPyEncoder\u001b[0m\u001b[1;33m)\u001b[0m\u001b[1;33m\u001b[0m\u001b[1;33m\u001b[0m\u001b[0m\n\u001b[0m",
      "\u001b[1;32mc:\\py3\\lib\\json\\__init__.py\u001b[0m in \u001b[0;36mdumps\u001b[1;34m(obj, skipkeys, ensure_ascii, check_circular, allow_nan, cls, indent, separators, default, sort_keys, **kw)\u001b[0m\n\u001b[0;32m    236\u001b[0m         \u001b[0mcheck_circular\u001b[0m\u001b[1;33m=\u001b[0m\u001b[0mcheck_circular\u001b[0m\u001b[1;33m,\u001b[0m \u001b[0mallow_nan\u001b[0m\u001b[1;33m=\u001b[0m\u001b[0mallow_nan\u001b[0m\u001b[1;33m,\u001b[0m \u001b[0mindent\u001b[0m\u001b[1;33m=\u001b[0m\u001b[0mindent\u001b[0m\u001b[1;33m,\u001b[0m\u001b[1;33m\u001b[0m\u001b[1;33m\u001b[0m\u001b[0m\n\u001b[0;32m    237\u001b[0m         \u001b[0mseparators\u001b[0m\u001b[1;33m=\u001b[0m\u001b[0mseparators\u001b[0m\u001b[1;33m,\u001b[0m \u001b[0mdefault\u001b[0m\u001b[1;33m=\u001b[0m\u001b[0mdefault\u001b[0m\u001b[1;33m,\u001b[0m \u001b[0msort_keys\u001b[0m\u001b[1;33m=\u001b[0m\u001b[0msort_keys\u001b[0m\u001b[1;33m,\u001b[0m\u001b[1;33m\u001b[0m\u001b[1;33m\u001b[0m\u001b[0m\n\u001b[1;32m--> 238\u001b[1;33m         **kw).encode(obj)\n\u001b[0m\u001b[0;32m    239\u001b[0m \u001b[1;33m\u001b[0m\u001b[0m\n\u001b[0;32m    240\u001b[0m \u001b[1;33m\u001b[0m\u001b[0m\n",
      "\u001b[1;32mc:\\py3\\lib\\json\\encoder.py\u001b[0m in \u001b[0;36mencode\u001b[1;34m(self, o)\u001b[0m\n\u001b[0;32m    197\u001b[0m         \u001b[1;31m# exceptions aren't as detailed.  The list call should be roughly\u001b[0m\u001b[1;33m\u001b[0m\u001b[1;33m\u001b[0m\u001b[1;33m\u001b[0m\u001b[0m\n\u001b[0;32m    198\u001b[0m         \u001b[1;31m# equivalent to the PySequence_Fast that ''.join() would do.\u001b[0m\u001b[1;33m\u001b[0m\u001b[1;33m\u001b[0m\u001b[1;33m\u001b[0m\u001b[0m\n\u001b[1;32m--> 199\u001b[1;33m         \u001b[0mchunks\u001b[0m \u001b[1;33m=\u001b[0m \u001b[0mself\u001b[0m\u001b[1;33m.\u001b[0m\u001b[0miterencode\u001b[0m\u001b[1;33m(\u001b[0m\u001b[0mo\u001b[0m\u001b[1;33m,\u001b[0m \u001b[0m_one_shot\u001b[0m\u001b[1;33m=\u001b[0m\u001b[1;32mTrue\u001b[0m\u001b[1;33m)\u001b[0m\u001b[1;33m\u001b[0m\u001b[1;33m\u001b[0m\u001b[0m\n\u001b[0m\u001b[0;32m    200\u001b[0m         \u001b[1;32mif\u001b[0m \u001b[1;32mnot\u001b[0m \u001b[0misinstance\u001b[0m\u001b[1;33m(\u001b[0m\u001b[0mchunks\u001b[0m\u001b[1;33m,\u001b[0m \u001b[1;33m(\u001b[0m\u001b[0mlist\u001b[0m\u001b[1;33m,\u001b[0m \u001b[0mtuple\u001b[0m\u001b[1;33m)\u001b[0m\u001b[1;33m)\u001b[0m\u001b[1;33m:\u001b[0m\u001b[1;33m\u001b[0m\u001b[1;33m\u001b[0m\u001b[0m\n\u001b[0;32m    201\u001b[0m             \u001b[0mchunks\u001b[0m \u001b[1;33m=\u001b[0m \u001b[0mlist\u001b[0m\u001b[1;33m(\u001b[0m\u001b[0mchunks\u001b[0m\u001b[1;33m)\u001b[0m\u001b[1;33m\u001b[0m\u001b[1;33m\u001b[0m\u001b[0m\n",
      "\u001b[1;32mc:\\py3\\lib\\json\\encoder.py\u001b[0m in \u001b[0;36miterencode\u001b[1;34m(self, o, _one_shot)\u001b[0m\n\u001b[0;32m    255\u001b[0m                 \u001b[0mself\u001b[0m\u001b[1;33m.\u001b[0m\u001b[0mkey_separator\u001b[0m\u001b[1;33m,\u001b[0m \u001b[0mself\u001b[0m\u001b[1;33m.\u001b[0m\u001b[0mitem_separator\u001b[0m\u001b[1;33m,\u001b[0m \u001b[0mself\u001b[0m\u001b[1;33m.\u001b[0m\u001b[0msort_keys\u001b[0m\u001b[1;33m,\u001b[0m\u001b[1;33m\u001b[0m\u001b[1;33m\u001b[0m\u001b[0m\n\u001b[0;32m    256\u001b[0m                 self.skipkeys, _one_shot)\n\u001b[1;32m--> 257\u001b[1;33m         \u001b[1;32mreturn\u001b[0m \u001b[0m_iterencode\u001b[0m\u001b[1;33m(\u001b[0m\u001b[0mo\u001b[0m\u001b[1;33m,\u001b[0m \u001b[1;36m0\u001b[0m\u001b[1;33m)\u001b[0m\u001b[1;33m\u001b[0m\u001b[1;33m\u001b[0m\u001b[0m\n\u001b[0m\u001b[0;32m    258\u001b[0m \u001b[1;33m\u001b[0m\u001b[0m\n\u001b[0;32m    259\u001b[0m def _make_iterencode(markers, _default, _encoder, _indent, _floatstr,\n",
      "\u001b[1;32m~\\AppData\\Roaming\\Python\\Python37\\site-packages\\pyLDAvis\\utils.py\u001b[0m in \u001b[0;36mdefault\u001b[1;34m(self, obj)\u001b[0m\n\u001b[0;32m    144\u001b[0m         \u001b[1;32mif\u001b[0m \u001b[0misinstance\u001b[0m\u001b[1;33m(\u001b[0m\u001b[0mobj\u001b[0m\u001b[1;33m,\u001b[0m \u001b[0mnp\u001b[0m\u001b[1;33m.\u001b[0m\u001b[0mfloat64\u001b[0m\u001b[1;33m)\u001b[0m \u001b[1;32mor\u001b[0m \u001b[0misinstance\u001b[0m\u001b[1;33m(\u001b[0m\u001b[0mobj\u001b[0m\u001b[1;33m,\u001b[0m \u001b[0mnp\u001b[0m\u001b[1;33m.\u001b[0m\u001b[0mfloat32\u001b[0m\u001b[1;33m)\u001b[0m\u001b[1;33m:\u001b[0m\u001b[1;33m\u001b[0m\u001b[1;33m\u001b[0m\u001b[0m\n\u001b[0;32m    145\u001b[0m             \u001b[1;32mreturn\u001b[0m \u001b[0mfloat\u001b[0m\u001b[1;33m(\u001b[0m\u001b[0mobj\u001b[0m\u001b[1;33m)\u001b[0m\u001b[1;33m\u001b[0m\u001b[1;33m\u001b[0m\u001b[0m\n\u001b[1;32m--> 146\u001b[1;33m         \u001b[1;32mreturn\u001b[0m \u001b[0mjson\u001b[0m\u001b[1;33m.\u001b[0m\u001b[0mJSONEncoder\u001b[0m\u001b[1;33m.\u001b[0m\u001b[0mdefault\u001b[0m\u001b[1;33m(\u001b[0m\u001b[0mself\u001b[0m\u001b[1;33m,\u001b[0m \u001b[0mobj\u001b[0m\u001b[1;33m)\u001b[0m\u001b[1;33m\u001b[0m\u001b[1;33m\u001b[0m\u001b[0m\n\u001b[0m",
      "\u001b[1;32mc:\\py3\\lib\\json\\encoder.py\u001b[0m in \u001b[0;36mdefault\u001b[1;34m(self, o)\u001b[0m\n\u001b[0;32m    177\u001b[0m \u001b[1;33m\u001b[0m\u001b[0m\n\u001b[0;32m    178\u001b[0m         \"\"\"\n\u001b[1;32m--> 179\u001b[1;33m         raise TypeError(f'Object of type {o.__class__.__name__} '\n\u001b[0m\u001b[0;32m    180\u001b[0m                         f'is not JSON serializable')\n\u001b[0;32m    181\u001b[0m \u001b[1;33m\u001b[0m\u001b[0m\n",
      "\u001b[1;31mTypeError\u001b[0m: Object of type complex is not JSON serializable"
     ]
    },
    {
     "data": {
      "text/plain": [
       "PreparedData(topic_coordinates=                        x                   y  topics  cluster      Freq\n",
       "topic                                                                   \n",
       "99     0.278259+0.000000j -0.156147+0.000000j       1        1  2.331537\n",
       "19     0.275186+0.000000j -0.108040+0.000000j       2        1  2.144704\n",
       "162    0.273856+0.000000j -0.098242+0.000000j       3        1  2.088289\n",
       "31     0.273210+0.000000j -0.092086+0.000000j       4        1  2.036988\n",
       "165    0.275161+0.000000j -0.113118+0.000000j       5        1  2.002315\n",
       "...                   ...                 ...     ...      ...       ...\n",
       "118   -0.190566+0.000000j -0.001480+0.000000j     196        1  0.003633\n",
       "120   -0.190566+0.000000j -0.001480+0.000000j     197        1  0.003633\n",
       "121   -0.190566+0.000000j -0.001480+0.000000j     198        1  0.003633\n",
       "122   -0.190566+0.000000j -0.001480+0.000000j     199        1  0.003633\n",
       "0     -0.190566+0.000000j -0.001480+0.000000j     200        1  0.003633\n",
       "\n",
       "[200 rows x 5 columns], topic_info=       Category          Freq          Term         Total  loglift  logprob\n",
       "29      Default  34082.000000          file  34082.000000  30.0000  30.0000\n",
       "449     Default  27126.000000        follow  27126.000000  29.0000  29.0000\n",
       "50      Default  25025.000000       problem  25025.000000  28.0000  28.0000\n",
       "3       Default  24629.000000         error  24629.000000  27.0000  27.0000\n",
       "62      Default  20262.000000         class  20262.000000  26.0000  26.0000\n",
       "...         ...           ...           ...           ...      ...      ...\n",
       "19747  Topic200      0.001482     journalid      0.714062   4.0455 -10.9902\n",
       "19746  Topic200      0.001482  fetchallnote      0.714062   4.0455 -10.9902\n",
       "19771  Topic200      0.001482     filemerge      0.714062   4.0455 -10.9902\n",
       "19773  Topic200      0.001482           rvm      0.714062   4.0455 -10.9902\n",
       "19744  Topic200      0.001482  thingscreate      0.714062   4.0455 -10.9902\n",
       "\n",
       "[11074 rows x 6 columns], token_table=      Topic      Freq        Term\n",
       "term                             \n",
       "188       9  0.999889        able\n",
       "458      50  0.998875    absolute\n",
       "362      73  0.999894      access\n",
       "962      76  0.997896  accessible\n",
       "1040     72  0.999011      accord\n",
       "...     ...       ...         ...\n",
       "14       30  0.999906       write\n",
       "425      21  0.999960       wrong\n",
       "690      53  0.999317         xml\n",
       "311      17  0.999742        year\n",
       "925       4  0.999150         yet\n",
       "\n",
       "[813 rows x 3 columns], R=30, lambda_step=0.01, plot_opts={'xlab': 'PC1', 'ylab': 'PC2'}, topic_order=[100, 20, 163, 32, 166, 77, 149, 185, 52, 192, 84, 126, 180, 133, 120, 156, 139, 24, 80, 132, 65, 86, 159, 83, 155, 130, 76, 5, 9, 4, 168, 146, 150, 41, 117, 169, 128, 30, 48, 170, 45, 136, 81, 137, 129, 105, 142, 147, 110, 114, 60, 182, 148, 90, 138, 50, 158, 174, 102, 64, 188, 118, 66, 79, 17, 85, 135, 10, 56, 19, 167, 175, 31, 22, 101, 104, 27, 186, 3, 162, 18, 171, 164, 194, 116, 196, 29, 109, 59, 57, 58, 67, 15, 2, 8, 14, 62, 61, 13, 12, 55, 11, 63, 7, 6, 69, 54, 53, 33, 28, 34, 26, 35, 36, 37, 38, 39, 25, 40, 23, 21, 42, 43, 44, 46, 47, 49, 51, 16, 68, 200, 70, 152, 165, 161, 160, 157, 154, 153, 151, 127, 145, 144, 143, 141, 140, 134, 172, 173, 176, 177, 178, 179, 181, 183, 184, 187, 189, 190, 191, 193, 195, 197, 198, 131, 125, 71, 88, 95, 94, 93, 92, 91, 89, 87, 124, 82, 78, 75, 74, 73, 72, 96, 97, 98, 99, 199, 103, 106, 107, 108, 111, 112, 113, 115, 119, 121, 122, 123, 1])"
      ]
     },
     "execution_count": 31,
     "metadata": {},
     "output_type": "execute_result"
    }
   ],
   "source": [
    "pyLDAvis.enable_notebook()\n",
    "vis = pyLDAvis.gensim.prepare(lda_model, corpus, id2word)\n",
    "vis"
   ]
  },
  {
   "cell_type": "code",
   "execution_count": 32,
   "metadata": {
    "colab": {
     "base_uri": "https://localhost:8080/",
     "height": 54
    },
    "colab_type": "code",
    "id": "uhfhS4PabwBU",
    "outputId": "26dc6023-5b0f-4727-e79e-f846998963f1"
   },
   "outputs": [
    {
     "name": "stdout",
     "output_type": "stream",
     "text": [
      "[[(0, 1), (1, 1), (2, 1), (3, 1), (4, 1), (5, 1), (6, 1), (7, 1), (8, 1), (9, 2), (10, 1), (11, 1), (12, 1), (13, 1), (14, 1)]]\n"
     ]
    }
   ],
   "source": [
    "print(corpus[:1])"
   ]
  },
  {
   "cell_type": "code",
   "execution_count": 33,
   "metadata": {
    "colab": {},
    "colab_type": "code",
    "id": "qzBZLZYic36y"
   },
   "outputs": [],
   "source": [
    "lda_model = gensim.models.ldamodel.LdaModel(corpus=corpus,\n",
    "                                           id2word=id2word,\n",
    "                                           num_topics=150, \n",
    "                                           random_state=100,\n",
    "                                           update_every=1,\n",
    "                                           chunksize=100,\n",
    "                                           passes=10,\n",
    "                                           alpha='auto',\n",
    "                                           per_word_topics=True)"
   ]
  },
  {
   "cell_type": "code",
   "execution_count": 34,
   "metadata": {
    "colab": {
     "base_uri": "https://localhost:8080/",
     "height": 84
    },
    "colab_type": "code",
    "id": "X--C_gkWm2Z0",
    "outputId": "cf62ae72-e85b-462f-aabf-8655e9757dbb"
   },
   "outputs": [
    {
     "name": "stdout",
     "output_type": "stream",
     "text": [
      "\n",
      "Perplexity:  -57.43582709921061\n",
      "\n",
      "Coherence Score:  0.35120766770289163\n"
     ]
    }
   ],
   "source": [
    "# Compute Perplexity\n",
    "print('\\nPerplexity: ', lda_model.log_perplexity(corpus))  # a measure of how good the model is. lower the better.\n",
    "\n",
    "# Compute Coherence Score\n",
    "coherence_model_lda = CoherenceModel(model=lda_model, texts=data_lemmatized, dictionary=id2word, coherence='c_v')\n",
    "coherence_lda = coherence_model_lda.get_coherence()\n",
    "print('\\nCoherence Score: ', coherence_lda)"
   ]
  },
  {
   "cell_type": "code",
   "execution_count": 35,
   "metadata": {},
   "outputs": [
    {
     "name": "stderr",
     "output_type": "stream",
     "text": [
      "C:\\Users\\patha\\AppData\\Roaming\\Python\\Python37\\site-packages\\pyLDAvis\\_prepare.py:257: FutureWarning: Sorting because non-concatenation axis is not aligned. A future version\n",
      "of pandas will change to not sort by default.\n",
      "\n",
      "To accept the future behavior, pass 'sort=False'.\n",
      "\n",
      "To retain the current behavior and silence the warning, pass 'sort=True'.\n",
      "\n",
      "  return pd.concat([default_term_info] + list(topic_dfs))\n"
     ]
    },
    {
     "ename": "TypeError",
     "evalue": "Object of type complex is not JSON serializable",
     "output_type": "error",
     "traceback": [
      "\u001b[1;31m---------------------------------------------------------------------------\u001b[0m",
      "\u001b[1;31mTypeError\u001b[0m                                 Traceback (most recent call last)",
      "\u001b[1;32m~\\AppData\\Roaming\\Python\\Python37\\site-packages\\IPython\\core\\formatters.py\u001b[0m in \u001b[0;36m__call__\u001b[1;34m(self, obj)\u001b[0m\n\u001b[0;32m    339\u001b[0m                 \u001b[1;32mpass\u001b[0m\u001b[1;33m\u001b[0m\u001b[1;33m\u001b[0m\u001b[0m\n\u001b[0;32m    340\u001b[0m             \u001b[1;32melse\u001b[0m\u001b[1;33m:\u001b[0m\u001b[1;33m\u001b[0m\u001b[1;33m\u001b[0m\u001b[0m\n\u001b[1;32m--> 341\u001b[1;33m                 \u001b[1;32mreturn\u001b[0m \u001b[0mprinter\u001b[0m\u001b[1;33m(\u001b[0m\u001b[0mobj\u001b[0m\u001b[1;33m)\u001b[0m\u001b[1;33m\u001b[0m\u001b[1;33m\u001b[0m\u001b[0m\n\u001b[0m\u001b[0;32m    342\u001b[0m             \u001b[1;31m# Finally look for special method names\u001b[0m\u001b[1;33m\u001b[0m\u001b[1;33m\u001b[0m\u001b[1;33m\u001b[0m\u001b[0m\n\u001b[0;32m    343\u001b[0m             \u001b[0mmethod\u001b[0m \u001b[1;33m=\u001b[0m \u001b[0mget_real_method\u001b[0m\u001b[1;33m(\u001b[0m\u001b[0mobj\u001b[0m\u001b[1;33m,\u001b[0m \u001b[0mself\u001b[0m\u001b[1;33m.\u001b[0m\u001b[0mprint_method\u001b[0m\u001b[1;33m)\u001b[0m\u001b[1;33m\u001b[0m\u001b[1;33m\u001b[0m\u001b[0m\n",
      "\u001b[1;32m~\\AppData\\Roaming\\Python\\Python37\\site-packages\\pyLDAvis\\_display.py\u001b[0m in \u001b[0;36m<lambda>\u001b[1;34m(data, kwds)\u001b[0m\n\u001b[0;32m    311\u001b[0m     \u001b[0mformatter\u001b[0m \u001b[1;33m=\u001b[0m \u001b[0mip\u001b[0m\u001b[1;33m.\u001b[0m\u001b[0mdisplay_formatter\u001b[0m\u001b[1;33m.\u001b[0m\u001b[0mformatters\u001b[0m\u001b[1;33m[\u001b[0m\u001b[1;34m'text/html'\u001b[0m\u001b[1;33m]\u001b[0m\u001b[1;33m\u001b[0m\u001b[1;33m\u001b[0m\u001b[0m\n\u001b[0;32m    312\u001b[0m     formatter.for_type(PreparedData,\n\u001b[1;32m--> 313\u001b[1;33m                        lambda data, kwds=kwargs: prepared_data_to_html(data, **kwds))\n\u001b[0m\u001b[0;32m    314\u001b[0m \u001b[1;33m\u001b[0m\u001b[0m\n\u001b[0;32m    315\u001b[0m \u001b[1;33m\u001b[0m\u001b[0m\n",
      "\u001b[1;32m~\\AppData\\Roaming\\Python\\Python37\\site-packages\\pyLDAvis\\_display.py\u001b[0m in \u001b[0;36mprepared_data_to_html\u001b[1;34m(data, d3_url, ldavis_url, ldavis_css_url, template_type, visid, use_http)\u001b[0m\n\u001b[0;32m    176\u001b[0m                            \u001b[0md3_url\u001b[0m\u001b[1;33m=\u001b[0m\u001b[0md3_url\u001b[0m\u001b[1;33m,\u001b[0m\u001b[1;33m\u001b[0m\u001b[1;33m\u001b[0m\u001b[0m\n\u001b[0;32m    177\u001b[0m                            \u001b[0mldavis_url\u001b[0m\u001b[1;33m=\u001b[0m\u001b[0mldavis_url\u001b[0m\u001b[1;33m,\u001b[0m\u001b[1;33m\u001b[0m\u001b[1;33m\u001b[0m\u001b[0m\n\u001b[1;32m--> 178\u001b[1;33m                            \u001b[0mvis_json\u001b[0m\u001b[1;33m=\u001b[0m\u001b[0mdata\u001b[0m\u001b[1;33m.\u001b[0m\u001b[0mto_json\u001b[0m\u001b[1;33m(\u001b[0m\u001b[1;33m)\u001b[0m\u001b[1;33m,\u001b[0m\u001b[1;33m\u001b[0m\u001b[1;33m\u001b[0m\u001b[0m\n\u001b[0m\u001b[0;32m    179\u001b[0m                            ldavis_css_url=ldavis_css_url)\n\u001b[0;32m    180\u001b[0m \u001b[1;33m\u001b[0m\u001b[0m\n",
      "\u001b[1;32m~\\AppData\\Roaming\\Python\\Python37\\site-packages\\pyLDAvis\\_prepare.py\u001b[0m in \u001b[0;36mto_json\u001b[1;34m(self)\u001b[0m\n\u001b[0;32m    415\u001b[0m \u001b[1;33m\u001b[0m\u001b[0m\n\u001b[0;32m    416\u001b[0m     \u001b[1;32mdef\u001b[0m \u001b[0mto_json\u001b[0m\u001b[1;33m(\u001b[0m\u001b[0mself\u001b[0m\u001b[1;33m)\u001b[0m\u001b[1;33m:\u001b[0m\u001b[1;33m\u001b[0m\u001b[1;33m\u001b[0m\u001b[0m\n\u001b[1;32m--> 417\u001b[1;33m        \u001b[1;32mreturn\u001b[0m \u001b[0mjson\u001b[0m\u001b[1;33m.\u001b[0m\u001b[0mdumps\u001b[0m\u001b[1;33m(\u001b[0m\u001b[0mself\u001b[0m\u001b[1;33m.\u001b[0m\u001b[0mto_dict\u001b[0m\u001b[1;33m(\u001b[0m\u001b[1;33m)\u001b[0m\u001b[1;33m,\u001b[0m \u001b[0mcls\u001b[0m\u001b[1;33m=\u001b[0m\u001b[0mNumPyEncoder\u001b[0m\u001b[1;33m)\u001b[0m\u001b[1;33m\u001b[0m\u001b[1;33m\u001b[0m\u001b[0m\n\u001b[0m",
      "\u001b[1;32mc:\\py3\\lib\\json\\__init__.py\u001b[0m in \u001b[0;36mdumps\u001b[1;34m(obj, skipkeys, ensure_ascii, check_circular, allow_nan, cls, indent, separators, default, sort_keys, **kw)\u001b[0m\n\u001b[0;32m    236\u001b[0m         \u001b[0mcheck_circular\u001b[0m\u001b[1;33m=\u001b[0m\u001b[0mcheck_circular\u001b[0m\u001b[1;33m,\u001b[0m \u001b[0mallow_nan\u001b[0m\u001b[1;33m=\u001b[0m\u001b[0mallow_nan\u001b[0m\u001b[1;33m,\u001b[0m \u001b[0mindent\u001b[0m\u001b[1;33m=\u001b[0m\u001b[0mindent\u001b[0m\u001b[1;33m,\u001b[0m\u001b[1;33m\u001b[0m\u001b[1;33m\u001b[0m\u001b[0m\n\u001b[0;32m    237\u001b[0m         \u001b[0mseparators\u001b[0m\u001b[1;33m=\u001b[0m\u001b[0mseparators\u001b[0m\u001b[1;33m,\u001b[0m \u001b[0mdefault\u001b[0m\u001b[1;33m=\u001b[0m\u001b[0mdefault\u001b[0m\u001b[1;33m,\u001b[0m \u001b[0msort_keys\u001b[0m\u001b[1;33m=\u001b[0m\u001b[0msort_keys\u001b[0m\u001b[1;33m,\u001b[0m\u001b[1;33m\u001b[0m\u001b[1;33m\u001b[0m\u001b[0m\n\u001b[1;32m--> 238\u001b[1;33m         **kw).encode(obj)\n\u001b[0m\u001b[0;32m    239\u001b[0m \u001b[1;33m\u001b[0m\u001b[0m\n\u001b[0;32m    240\u001b[0m \u001b[1;33m\u001b[0m\u001b[0m\n",
      "\u001b[1;32mc:\\py3\\lib\\json\\encoder.py\u001b[0m in \u001b[0;36mencode\u001b[1;34m(self, o)\u001b[0m\n\u001b[0;32m    197\u001b[0m         \u001b[1;31m# exceptions aren't as detailed.  The list call should be roughly\u001b[0m\u001b[1;33m\u001b[0m\u001b[1;33m\u001b[0m\u001b[1;33m\u001b[0m\u001b[0m\n\u001b[0;32m    198\u001b[0m         \u001b[1;31m# equivalent to the PySequence_Fast that ''.join() would do.\u001b[0m\u001b[1;33m\u001b[0m\u001b[1;33m\u001b[0m\u001b[1;33m\u001b[0m\u001b[0m\n\u001b[1;32m--> 199\u001b[1;33m         \u001b[0mchunks\u001b[0m \u001b[1;33m=\u001b[0m \u001b[0mself\u001b[0m\u001b[1;33m.\u001b[0m\u001b[0miterencode\u001b[0m\u001b[1;33m(\u001b[0m\u001b[0mo\u001b[0m\u001b[1;33m,\u001b[0m \u001b[0m_one_shot\u001b[0m\u001b[1;33m=\u001b[0m\u001b[1;32mTrue\u001b[0m\u001b[1;33m)\u001b[0m\u001b[1;33m\u001b[0m\u001b[1;33m\u001b[0m\u001b[0m\n\u001b[0m\u001b[0;32m    200\u001b[0m         \u001b[1;32mif\u001b[0m \u001b[1;32mnot\u001b[0m \u001b[0misinstance\u001b[0m\u001b[1;33m(\u001b[0m\u001b[0mchunks\u001b[0m\u001b[1;33m,\u001b[0m \u001b[1;33m(\u001b[0m\u001b[0mlist\u001b[0m\u001b[1;33m,\u001b[0m \u001b[0mtuple\u001b[0m\u001b[1;33m)\u001b[0m\u001b[1;33m)\u001b[0m\u001b[1;33m:\u001b[0m\u001b[1;33m\u001b[0m\u001b[1;33m\u001b[0m\u001b[0m\n\u001b[0;32m    201\u001b[0m             \u001b[0mchunks\u001b[0m \u001b[1;33m=\u001b[0m \u001b[0mlist\u001b[0m\u001b[1;33m(\u001b[0m\u001b[0mchunks\u001b[0m\u001b[1;33m)\u001b[0m\u001b[1;33m\u001b[0m\u001b[1;33m\u001b[0m\u001b[0m\n",
      "\u001b[1;32mc:\\py3\\lib\\json\\encoder.py\u001b[0m in \u001b[0;36miterencode\u001b[1;34m(self, o, _one_shot)\u001b[0m\n\u001b[0;32m    255\u001b[0m                 \u001b[0mself\u001b[0m\u001b[1;33m.\u001b[0m\u001b[0mkey_separator\u001b[0m\u001b[1;33m,\u001b[0m \u001b[0mself\u001b[0m\u001b[1;33m.\u001b[0m\u001b[0mitem_separator\u001b[0m\u001b[1;33m,\u001b[0m \u001b[0mself\u001b[0m\u001b[1;33m.\u001b[0m\u001b[0msort_keys\u001b[0m\u001b[1;33m,\u001b[0m\u001b[1;33m\u001b[0m\u001b[1;33m\u001b[0m\u001b[0m\n\u001b[0;32m    256\u001b[0m                 self.skipkeys, _one_shot)\n\u001b[1;32m--> 257\u001b[1;33m         \u001b[1;32mreturn\u001b[0m \u001b[0m_iterencode\u001b[0m\u001b[1;33m(\u001b[0m\u001b[0mo\u001b[0m\u001b[1;33m,\u001b[0m \u001b[1;36m0\u001b[0m\u001b[1;33m)\u001b[0m\u001b[1;33m\u001b[0m\u001b[1;33m\u001b[0m\u001b[0m\n\u001b[0m\u001b[0;32m    258\u001b[0m \u001b[1;33m\u001b[0m\u001b[0m\n\u001b[0;32m    259\u001b[0m def _make_iterencode(markers, _default, _encoder, _indent, _floatstr,\n",
      "\u001b[1;32m~\\AppData\\Roaming\\Python\\Python37\\site-packages\\pyLDAvis\\utils.py\u001b[0m in \u001b[0;36mdefault\u001b[1;34m(self, obj)\u001b[0m\n\u001b[0;32m    144\u001b[0m         \u001b[1;32mif\u001b[0m \u001b[0misinstance\u001b[0m\u001b[1;33m(\u001b[0m\u001b[0mobj\u001b[0m\u001b[1;33m,\u001b[0m \u001b[0mnp\u001b[0m\u001b[1;33m.\u001b[0m\u001b[0mfloat64\u001b[0m\u001b[1;33m)\u001b[0m \u001b[1;32mor\u001b[0m \u001b[0misinstance\u001b[0m\u001b[1;33m(\u001b[0m\u001b[0mobj\u001b[0m\u001b[1;33m,\u001b[0m \u001b[0mnp\u001b[0m\u001b[1;33m.\u001b[0m\u001b[0mfloat32\u001b[0m\u001b[1;33m)\u001b[0m\u001b[1;33m:\u001b[0m\u001b[1;33m\u001b[0m\u001b[1;33m\u001b[0m\u001b[0m\n\u001b[0;32m    145\u001b[0m             \u001b[1;32mreturn\u001b[0m \u001b[0mfloat\u001b[0m\u001b[1;33m(\u001b[0m\u001b[0mobj\u001b[0m\u001b[1;33m)\u001b[0m\u001b[1;33m\u001b[0m\u001b[1;33m\u001b[0m\u001b[0m\n\u001b[1;32m--> 146\u001b[1;33m         \u001b[1;32mreturn\u001b[0m \u001b[0mjson\u001b[0m\u001b[1;33m.\u001b[0m\u001b[0mJSONEncoder\u001b[0m\u001b[1;33m.\u001b[0m\u001b[0mdefault\u001b[0m\u001b[1;33m(\u001b[0m\u001b[0mself\u001b[0m\u001b[1;33m,\u001b[0m \u001b[0mobj\u001b[0m\u001b[1;33m)\u001b[0m\u001b[1;33m\u001b[0m\u001b[1;33m\u001b[0m\u001b[0m\n\u001b[0m",
      "\u001b[1;32mc:\\py3\\lib\\json\\encoder.py\u001b[0m in \u001b[0;36mdefault\u001b[1;34m(self, o)\u001b[0m\n\u001b[0;32m    177\u001b[0m \u001b[1;33m\u001b[0m\u001b[0m\n\u001b[0;32m    178\u001b[0m         \"\"\"\n\u001b[1;32m--> 179\u001b[1;33m         raise TypeError(f'Object of type {o.__class__.__name__} '\n\u001b[0m\u001b[0;32m    180\u001b[0m                         f'is not JSON serializable')\n\u001b[0;32m    181\u001b[0m \u001b[1;33m\u001b[0m\u001b[0m\n",
      "\u001b[1;31mTypeError\u001b[0m: Object of type complex is not JSON serializable"
     ]
    },
    {
     "data": {
      "text/plain": [
       "PreparedData(topic_coordinates=                        x                   y  topics  cluster      Freq\n",
       "topic                                                                   \n",
       "108    0.223742+0.000000j -0.203099+0.000000j       1        1  2.918367\n",
       "117    0.217283+0.000000j -0.107459+0.000000j       2        1  2.050057\n",
       "68     0.212283+0.000000j -0.068888+0.000000j       3        1  2.044847\n",
       "37     0.220418+0.000000j -0.144457+0.000000j       4        1  2.007020\n",
       "63     0.214007+0.000000j -0.087158+0.000000j       5        1  1.968388\n",
       "...                   ...                 ...     ...      ...       ...\n",
       "81    -0.242090+0.000000j -0.002577+0.000000j     146        1  0.004185\n",
       "84    -0.242090+0.000000j -0.002577+0.000000j     147        1  0.004185\n",
       "86    -0.242090+0.000000j -0.002577+0.000000j     148        1  0.004185\n",
       "87    -0.242090+0.000000j -0.002577+0.000000j     149        1  0.004185\n",
       "0     -0.242090+0.000000j -0.002577+0.000000j     150        1  0.004185\n",
       "\n",
       "[150 rows x 5 columns], topic_info=       Category          Freq          Term         Total  loglift  logprob\n",
       "29      Default  31430.000000          file  31430.000000  30.0000  30.0000\n",
       "449     Default  26152.000000        follow  26152.000000  29.0000  29.0000\n",
       "3       Default  24118.000000         error  24118.000000  28.0000  28.0000\n",
       "26      Default  23750.000000        create  23750.000000  27.0000  27.0000\n",
       "70      Default  23364.000000      function  23364.000000  26.0000  26.0000\n",
       "...         ...           ...           ...           ...      ...      ...\n",
       "19747  Topic150      0.001708     journalid      0.803661   3.9273 -10.9902\n",
       "19746  Topic150      0.001708  fetchallnote      0.803661   3.9273 -10.9902\n",
       "19771  Topic150      0.001708     filemerge      0.803661   3.9273 -10.9902\n",
       "19773  Topic150      0.001708           rvm      0.803661   3.9273 -10.9902\n",
       "19744  Topic150      0.001708  thingscreate      0.803661   3.9273 -10.9902\n",
       "\n",
       "[8083 rows x 6 columns], token_table=      Topic      Freq        Term\n",
       "term                             \n",
       "188      38  0.999878        able\n",
       "458      84  0.997182    absolute\n",
       "362      24  0.999847      access\n",
       "962      53  0.998802  accessible\n",
       "1040     56  0.999634      accord\n",
       "...     ...       ...         ...\n",
       "14        8  0.999968       write\n",
       "425      10  0.999833       wrong\n",
       "690      57  0.998974         xml\n",
       "311      15  0.999344        year\n",
       "925      83  0.999433         yet\n",
       "\n",
       "[858 rows x 3 columns], R=30, lambda_step=0.01, plot_opts={'xlab': 'PC1', 'ylab': 'PC2'}, topic_order=[109, 118, 69, 38, 64, 30, 132, 44, 2, 134, 148, 84, 93, 86, 138, 77, 70, 72, 140, 91, 46, 28, 11, 103, 23, 9, 50, 3, 39, 101, 119, 63, 43, 71, 76, 97, 81, 126, 33, 99, 22, 8, 54, 31, 116, 66, 83, 51, 143, 36, 142, 106, 123, 78, 37, 107, 55, 41, 65, 58, 5, 120, 34, 89, 40, 90, 146, 108, 105, 75, 145, 149, 4, 18, 127, 47, 6, 57, 25, 102, 121, 10, 24, 124, 113, 111, 133, 141, 131, 7, 42, 29, 13, 12, 35, 27, 14, 15, 16, 17, 19, 32, 21, 26, 20, 150, 45, 48, 98, 100, 104, 110, 112, 114, 115, 117, 122, 125, 128, 129, 130, 135, 136, 137, 139, 144, 147, 96, 95, 94, 67, 49, 52, 53, 56, 59, 60, 61, 62, 68, 92, 73, 74, 79, 80, 82, 85, 87, 88, 1])"
      ]
     },
     "execution_count": 35,
     "metadata": {},
     "output_type": "execute_result"
    }
   ],
   "source": [
    "pyLDAvis.enable_notebook()\n",
    "vis = pyLDAvis.gensim.prepare(lda_model, corpus, id2word)\n",
    "vis"
   ]
  },
  {
   "cell_type": "code",
   "execution_count": 36,
   "metadata": {
    "colab": {},
    "colab_type": "code",
    "id": "4WWUh1w0m6LD"
   },
   "outputs": [],
   "source": [
    "lda_model = gensim.models.ldamodel.LdaModel(corpus=corpus,\n",
    "                                           id2word=id2word,\n",
    "                                           num_topics=120, \n",
    "                                           random_state=100,\n",
    "                                           update_every=1,\n",
    "                                           chunksize=100,\n",
    "                                           passes=10,\n",
    "                                           alpha='auto',\n",
    "                                           per_word_topics=True)"
   ]
  },
  {
   "cell_type": "code",
   "execution_count": 37,
   "metadata": {
    "colab": {
     "base_uri": "https://localhost:8080/",
     "height": 84
    },
    "colab_type": "code",
    "id": "uIDbuAJznII1",
    "outputId": "2bc92c16-9834-4f72-91bf-997fdd924954"
   },
   "outputs": [
    {
     "name": "stdout",
     "output_type": "stream",
     "text": [
      "\n",
      "Perplexity:  -47.0720517889115\n",
      "\n",
      "Coherence Score:  0.35374993255161974\n"
     ]
    }
   ],
   "source": [
    "# Compute Perplexity\n",
    "print('\\nPerplexity: ', lda_model.log_perplexity(corpus))  # a measure of how good the model is. lower the better.\n",
    "\n",
    "# Compute Coherence Score\n",
    "coherence_model_lda = CoherenceModel(model=lda_model, texts=data_lemmatized, dictionary=id2word, coherence='c_v')\n",
    "coherence_lda = coherence_model_lda.get_coherence()\n",
    "print('\\nCoherence Score: ', coherence_lda)"
   ]
  },
  {
   "cell_type": "code",
   "execution_count": 38,
   "metadata": {},
   "outputs": [
    {
     "name": "stderr",
     "output_type": "stream",
     "text": [
      "C:\\Users\\patha\\AppData\\Roaming\\Python\\Python37\\site-packages\\pyLDAvis\\_prepare.py:257: FutureWarning: Sorting because non-concatenation axis is not aligned. A future version\n",
      "of pandas will change to not sort by default.\n",
      "\n",
      "To accept the future behavior, pass 'sort=False'.\n",
      "\n",
      "To retain the current behavior and silence the warning, pass 'sort=True'.\n",
      "\n",
      "  return pd.concat([default_term_info] + list(topic_dfs))\n"
     ]
    },
    {
     "ename": "TypeError",
     "evalue": "Object of type complex is not JSON serializable",
     "output_type": "error",
     "traceback": [
      "\u001b[1;31m---------------------------------------------------------------------------\u001b[0m",
      "\u001b[1;31mTypeError\u001b[0m                                 Traceback (most recent call last)",
      "\u001b[1;32m~\\AppData\\Roaming\\Python\\Python37\\site-packages\\IPython\\core\\formatters.py\u001b[0m in \u001b[0;36m__call__\u001b[1;34m(self, obj)\u001b[0m\n\u001b[0;32m    339\u001b[0m                 \u001b[1;32mpass\u001b[0m\u001b[1;33m\u001b[0m\u001b[1;33m\u001b[0m\u001b[0m\n\u001b[0;32m    340\u001b[0m             \u001b[1;32melse\u001b[0m\u001b[1;33m:\u001b[0m\u001b[1;33m\u001b[0m\u001b[1;33m\u001b[0m\u001b[0m\n\u001b[1;32m--> 341\u001b[1;33m                 \u001b[1;32mreturn\u001b[0m \u001b[0mprinter\u001b[0m\u001b[1;33m(\u001b[0m\u001b[0mobj\u001b[0m\u001b[1;33m)\u001b[0m\u001b[1;33m\u001b[0m\u001b[1;33m\u001b[0m\u001b[0m\n\u001b[0m\u001b[0;32m    342\u001b[0m             \u001b[1;31m# Finally look for special method names\u001b[0m\u001b[1;33m\u001b[0m\u001b[1;33m\u001b[0m\u001b[1;33m\u001b[0m\u001b[0m\n\u001b[0;32m    343\u001b[0m             \u001b[0mmethod\u001b[0m \u001b[1;33m=\u001b[0m \u001b[0mget_real_method\u001b[0m\u001b[1;33m(\u001b[0m\u001b[0mobj\u001b[0m\u001b[1;33m,\u001b[0m \u001b[0mself\u001b[0m\u001b[1;33m.\u001b[0m\u001b[0mprint_method\u001b[0m\u001b[1;33m)\u001b[0m\u001b[1;33m\u001b[0m\u001b[1;33m\u001b[0m\u001b[0m\n",
      "\u001b[1;32m~\\AppData\\Roaming\\Python\\Python37\\site-packages\\pyLDAvis\\_display.py\u001b[0m in \u001b[0;36m<lambda>\u001b[1;34m(data, kwds)\u001b[0m\n\u001b[0;32m    311\u001b[0m     \u001b[0mformatter\u001b[0m \u001b[1;33m=\u001b[0m \u001b[0mip\u001b[0m\u001b[1;33m.\u001b[0m\u001b[0mdisplay_formatter\u001b[0m\u001b[1;33m.\u001b[0m\u001b[0mformatters\u001b[0m\u001b[1;33m[\u001b[0m\u001b[1;34m'text/html'\u001b[0m\u001b[1;33m]\u001b[0m\u001b[1;33m\u001b[0m\u001b[1;33m\u001b[0m\u001b[0m\n\u001b[0;32m    312\u001b[0m     formatter.for_type(PreparedData,\n\u001b[1;32m--> 313\u001b[1;33m                        lambda data, kwds=kwargs: prepared_data_to_html(data, **kwds))\n\u001b[0m\u001b[0;32m    314\u001b[0m \u001b[1;33m\u001b[0m\u001b[0m\n\u001b[0;32m    315\u001b[0m \u001b[1;33m\u001b[0m\u001b[0m\n",
      "\u001b[1;32m~\\AppData\\Roaming\\Python\\Python37\\site-packages\\pyLDAvis\\_display.py\u001b[0m in \u001b[0;36mprepared_data_to_html\u001b[1;34m(data, d3_url, ldavis_url, ldavis_css_url, template_type, visid, use_http)\u001b[0m\n\u001b[0;32m    176\u001b[0m                            \u001b[0md3_url\u001b[0m\u001b[1;33m=\u001b[0m\u001b[0md3_url\u001b[0m\u001b[1;33m,\u001b[0m\u001b[1;33m\u001b[0m\u001b[1;33m\u001b[0m\u001b[0m\n\u001b[0;32m    177\u001b[0m                            \u001b[0mldavis_url\u001b[0m\u001b[1;33m=\u001b[0m\u001b[0mldavis_url\u001b[0m\u001b[1;33m,\u001b[0m\u001b[1;33m\u001b[0m\u001b[1;33m\u001b[0m\u001b[0m\n\u001b[1;32m--> 178\u001b[1;33m                            \u001b[0mvis_json\u001b[0m\u001b[1;33m=\u001b[0m\u001b[0mdata\u001b[0m\u001b[1;33m.\u001b[0m\u001b[0mto_json\u001b[0m\u001b[1;33m(\u001b[0m\u001b[1;33m)\u001b[0m\u001b[1;33m,\u001b[0m\u001b[1;33m\u001b[0m\u001b[1;33m\u001b[0m\u001b[0m\n\u001b[0m\u001b[0;32m    179\u001b[0m                            ldavis_css_url=ldavis_css_url)\n\u001b[0;32m    180\u001b[0m \u001b[1;33m\u001b[0m\u001b[0m\n",
      "\u001b[1;32m~\\AppData\\Roaming\\Python\\Python37\\site-packages\\pyLDAvis\\_prepare.py\u001b[0m in \u001b[0;36mto_json\u001b[1;34m(self)\u001b[0m\n\u001b[0;32m    415\u001b[0m \u001b[1;33m\u001b[0m\u001b[0m\n\u001b[0;32m    416\u001b[0m     \u001b[1;32mdef\u001b[0m \u001b[0mto_json\u001b[0m\u001b[1;33m(\u001b[0m\u001b[0mself\u001b[0m\u001b[1;33m)\u001b[0m\u001b[1;33m:\u001b[0m\u001b[1;33m\u001b[0m\u001b[1;33m\u001b[0m\u001b[0m\n\u001b[1;32m--> 417\u001b[1;33m        \u001b[1;32mreturn\u001b[0m \u001b[0mjson\u001b[0m\u001b[1;33m.\u001b[0m\u001b[0mdumps\u001b[0m\u001b[1;33m(\u001b[0m\u001b[0mself\u001b[0m\u001b[1;33m.\u001b[0m\u001b[0mto_dict\u001b[0m\u001b[1;33m(\u001b[0m\u001b[1;33m)\u001b[0m\u001b[1;33m,\u001b[0m \u001b[0mcls\u001b[0m\u001b[1;33m=\u001b[0m\u001b[0mNumPyEncoder\u001b[0m\u001b[1;33m)\u001b[0m\u001b[1;33m\u001b[0m\u001b[1;33m\u001b[0m\u001b[0m\n\u001b[0m",
      "\u001b[1;32mc:\\py3\\lib\\json\\__init__.py\u001b[0m in \u001b[0;36mdumps\u001b[1;34m(obj, skipkeys, ensure_ascii, check_circular, allow_nan, cls, indent, separators, default, sort_keys, **kw)\u001b[0m\n\u001b[0;32m    236\u001b[0m         \u001b[0mcheck_circular\u001b[0m\u001b[1;33m=\u001b[0m\u001b[0mcheck_circular\u001b[0m\u001b[1;33m,\u001b[0m \u001b[0mallow_nan\u001b[0m\u001b[1;33m=\u001b[0m\u001b[0mallow_nan\u001b[0m\u001b[1;33m,\u001b[0m \u001b[0mindent\u001b[0m\u001b[1;33m=\u001b[0m\u001b[0mindent\u001b[0m\u001b[1;33m,\u001b[0m\u001b[1;33m\u001b[0m\u001b[1;33m\u001b[0m\u001b[0m\n\u001b[0;32m    237\u001b[0m         \u001b[0mseparators\u001b[0m\u001b[1;33m=\u001b[0m\u001b[0mseparators\u001b[0m\u001b[1;33m,\u001b[0m \u001b[0mdefault\u001b[0m\u001b[1;33m=\u001b[0m\u001b[0mdefault\u001b[0m\u001b[1;33m,\u001b[0m \u001b[0msort_keys\u001b[0m\u001b[1;33m=\u001b[0m\u001b[0msort_keys\u001b[0m\u001b[1;33m,\u001b[0m\u001b[1;33m\u001b[0m\u001b[1;33m\u001b[0m\u001b[0m\n\u001b[1;32m--> 238\u001b[1;33m         **kw).encode(obj)\n\u001b[0m\u001b[0;32m    239\u001b[0m \u001b[1;33m\u001b[0m\u001b[0m\n\u001b[0;32m    240\u001b[0m \u001b[1;33m\u001b[0m\u001b[0m\n",
      "\u001b[1;32mc:\\py3\\lib\\json\\encoder.py\u001b[0m in \u001b[0;36mencode\u001b[1;34m(self, o)\u001b[0m\n\u001b[0;32m    197\u001b[0m         \u001b[1;31m# exceptions aren't as detailed.  The list call should be roughly\u001b[0m\u001b[1;33m\u001b[0m\u001b[1;33m\u001b[0m\u001b[1;33m\u001b[0m\u001b[0m\n\u001b[0;32m    198\u001b[0m         \u001b[1;31m# equivalent to the PySequence_Fast that ''.join() would do.\u001b[0m\u001b[1;33m\u001b[0m\u001b[1;33m\u001b[0m\u001b[1;33m\u001b[0m\u001b[0m\n\u001b[1;32m--> 199\u001b[1;33m         \u001b[0mchunks\u001b[0m \u001b[1;33m=\u001b[0m \u001b[0mself\u001b[0m\u001b[1;33m.\u001b[0m\u001b[0miterencode\u001b[0m\u001b[1;33m(\u001b[0m\u001b[0mo\u001b[0m\u001b[1;33m,\u001b[0m \u001b[0m_one_shot\u001b[0m\u001b[1;33m=\u001b[0m\u001b[1;32mTrue\u001b[0m\u001b[1;33m)\u001b[0m\u001b[1;33m\u001b[0m\u001b[1;33m\u001b[0m\u001b[0m\n\u001b[0m\u001b[0;32m    200\u001b[0m         \u001b[1;32mif\u001b[0m \u001b[1;32mnot\u001b[0m \u001b[0misinstance\u001b[0m\u001b[1;33m(\u001b[0m\u001b[0mchunks\u001b[0m\u001b[1;33m,\u001b[0m \u001b[1;33m(\u001b[0m\u001b[0mlist\u001b[0m\u001b[1;33m,\u001b[0m \u001b[0mtuple\u001b[0m\u001b[1;33m)\u001b[0m\u001b[1;33m)\u001b[0m\u001b[1;33m:\u001b[0m\u001b[1;33m\u001b[0m\u001b[1;33m\u001b[0m\u001b[0m\n\u001b[0;32m    201\u001b[0m             \u001b[0mchunks\u001b[0m \u001b[1;33m=\u001b[0m \u001b[0mlist\u001b[0m\u001b[1;33m(\u001b[0m\u001b[0mchunks\u001b[0m\u001b[1;33m)\u001b[0m\u001b[1;33m\u001b[0m\u001b[1;33m\u001b[0m\u001b[0m\n",
      "\u001b[1;32mc:\\py3\\lib\\json\\encoder.py\u001b[0m in \u001b[0;36miterencode\u001b[1;34m(self, o, _one_shot)\u001b[0m\n\u001b[0;32m    255\u001b[0m                 \u001b[0mself\u001b[0m\u001b[1;33m.\u001b[0m\u001b[0mkey_separator\u001b[0m\u001b[1;33m,\u001b[0m \u001b[0mself\u001b[0m\u001b[1;33m.\u001b[0m\u001b[0mitem_separator\u001b[0m\u001b[1;33m,\u001b[0m \u001b[0mself\u001b[0m\u001b[1;33m.\u001b[0m\u001b[0msort_keys\u001b[0m\u001b[1;33m,\u001b[0m\u001b[1;33m\u001b[0m\u001b[1;33m\u001b[0m\u001b[0m\n\u001b[0;32m    256\u001b[0m                 self.skipkeys, _one_shot)\n\u001b[1;32m--> 257\u001b[1;33m         \u001b[1;32mreturn\u001b[0m \u001b[0m_iterencode\u001b[0m\u001b[1;33m(\u001b[0m\u001b[0mo\u001b[0m\u001b[1;33m,\u001b[0m \u001b[1;36m0\u001b[0m\u001b[1;33m)\u001b[0m\u001b[1;33m\u001b[0m\u001b[1;33m\u001b[0m\u001b[0m\n\u001b[0m\u001b[0;32m    258\u001b[0m \u001b[1;33m\u001b[0m\u001b[0m\n\u001b[0;32m    259\u001b[0m def _make_iterencode(markers, _default, _encoder, _indent, _floatstr,\n",
      "\u001b[1;32m~\\AppData\\Roaming\\Python\\Python37\\site-packages\\pyLDAvis\\utils.py\u001b[0m in \u001b[0;36mdefault\u001b[1;34m(self, obj)\u001b[0m\n\u001b[0;32m    144\u001b[0m         \u001b[1;32mif\u001b[0m \u001b[0misinstance\u001b[0m\u001b[1;33m(\u001b[0m\u001b[0mobj\u001b[0m\u001b[1;33m,\u001b[0m \u001b[0mnp\u001b[0m\u001b[1;33m.\u001b[0m\u001b[0mfloat64\u001b[0m\u001b[1;33m)\u001b[0m \u001b[1;32mor\u001b[0m \u001b[0misinstance\u001b[0m\u001b[1;33m(\u001b[0m\u001b[0mobj\u001b[0m\u001b[1;33m,\u001b[0m \u001b[0mnp\u001b[0m\u001b[1;33m.\u001b[0m\u001b[0mfloat32\u001b[0m\u001b[1;33m)\u001b[0m\u001b[1;33m:\u001b[0m\u001b[1;33m\u001b[0m\u001b[1;33m\u001b[0m\u001b[0m\n\u001b[0;32m    145\u001b[0m             \u001b[1;32mreturn\u001b[0m \u001b[0mfloat\u001b[0m\u001b[1;33m(\u001b[0m\u001b[0mobj\u001b[0m\u001b[1;33m)\u001b[0m\u001b[1;33m\u001b[0m\u001b[1;33m\u001b[0m\u001b[0m\n\u001b[1;32m--> 146\u001b[1;33m         \u001b[1;32mreturn\u001b[0m \u001b[0mjson\u001b[0m\u001b[1;33m.\u001b[0m\u001b[0mJSONEncoder\u001b[0m\u001b[1;33m.\u001b[0m\u001b[0mdefault\u001b[0m\u001b[1;33m(\u001b[0m\u001b[0mself\u001b[0m\u001b[1;33m,\u001b[0m \u001b[0mobj\u001b[0m\u001b[1;33m)\u001b[0m\u001b[1;33m\u001b[0m\u001b[1;33m\u001b[0m\u001b[0m\n\u001b[0m",
      "\u001b[1;32mc:\\py3\\lib\\json\\encoder.py\u001b[0m in \u001b[0;36mdefault\u001b[1;34m(self, o)\u001b[0m\n\u001b[0;32m    177\u001b[0m \u001b[1;33m\u001b[0m\u001b[0m\n\u001b[0;32m    178\u001b[0m         \"\"\"\n\u001b[1;32m--> 179\u001b[1;33m         raise TypeError(f'Object of type {o.__class__.__name__} '\n\u001b[0m\u001b[0;32m    180\u001b[0m                         f'is not JSON serializable')\n\u001b[0;32m    181\u001b[0m \u001b[1;33m\u001b[0m\u001b[0m\n",
      "\u001b[1;31mTypeError\u001b[0m: Object of type complex is not JSON serializable"
     ]
    },
    {
     "data": {
      "text/plain": [
       "PreparedData(topic_coordinates=                        x                   y  topics  cluster      Freq\n",
       "topic                                                                   \n",
       "101   -0.201559+0.000000j -0.286561+0.000000j       1        1  2.885457\n",
       "78    -0.194059+0.000000j -0.130463+0.000000j       2        1  2.516686\n",
       "58    -0.191703+0.000000j -0.139550+0.000000j       3        1  2.341335\n",
       "44    -0.190780+0.000000j -0.083920+0.000000j       4        1  2.225177\n",
       "12    -0.192523+0.000000j -0.113611+0.000000j       5        1  2.158663\n",
       "...                   ...                 ...     ...      ...       ...\n",
       "90     0.264000+0.000000j -0.003328+0.000000j     116        1  0.004672\n",
       "30     0.264000+0.000000j -0.003328+0.000000j     117        1  0.004672\n",
       "92     0.264000+0.000000j -0.003328+0.000000j     118        1  0.004672\n",
       "28     0.264000+0.000000j -0.003328+0.000000j     119        1  0.004672\n",
       "0      0.264000+0.000000j -0.003328+0.000000j     120        1  0.004672\n",
       "\n",
       "[120 rows x 5 columns], topic_info=       Category          Freq          Term         Total  loglift  logprob\n",
       "29      Default  31937.000000          file  31937.000000  30.0000  30.0000\n",
       "449     Default  25035.000000        follow  25035.000000  29.0000  29.0000\n",
       "3       Default  24096.000000         error  24096.000000  28.0000  28.0000\n",
       "57      Default  20202.000000           add  20202.000000  27.0000  27.0000\n",
       "50      Default  23802.000000       problem  23802.000000  26.0000  26.0000\n",
       "...         ...           ...           ...           ...      ...      ...\n",
       "19747  Topic120      0.001906     journalid      0.837103   3.8866 -10.9902\n",
       "19746  Topic120      0.001906  fetchallnote      0.837103   3.8866 -10.9902\n",
       "19771  Topic120      0.001906     filemerge      0.837103   3.8866 -10.9902\n",
       "19773  Topic120      0.001906           rvm      0.837103   3.8866 -10.9902\n",
       "19744  Topic120      0.001906  thingscreate      0.837103   3.8866 -10.9902\n",
       "\n",
       "[6289 rows x 6 columns], token_table=      Topic      Freq        Term\n",
       "term                             \n",
       "188      53  0.999955        able\n",
       "458      25  0.997162    absolute\n",
       "362       6  0.999820      access\n",
       "962       6  0.999058  accessible\n",
       "1040     28  0.999111      accord\n",
       "...     ...       ...         ...\n",
       "14       17  0.999918       write\n",
       "425      10  0.999821       wrong\n",
       "690      37  0.999000         xml\n",
       "311      59  0.999122        year\n",
       "925      67  0.999277         yet\n",
       "\n",
       "[869 rows x 3 columns], R=30, lambda_step=0.01, plot_opts={'xlab': 'PC1', 'ylab': 'PC2'}, topic_order=[102, 79, 59, 45, 13, 74, 111, 22, 44, 30, 28, 32, 85, 106, 73, 42, 71, 56, 99, 24, 97, 9, 68, 89, 43, 65, 47, 113, 112, 72, 63, 16, 81, 27, 77, 14, 86, 96, 109, 8, 110, 17, 90, 105, 37, 5, 103, 60, 92, 19, 115, 120, 87, 84, 26, 58, 15, 57, 40, 54, 76, 25, 33, 107, 10, 41, 18, 3, 78, 67, 39, 34, 62, 64, 70, 118, 23, 11, 48, 117, 98, 100, 21, 20, 2, 104, 101, 4, 6, 7, 116, 108, 114, 12, 69, 95, 80, 66, 75, 61, 119, 55, 53, 52, 51, 50, 49, 46, 94, 82, 83, 38, 88, 36, 35, 91, 31, 93, 29, 1])"
      ]
     },
     "execution_count": 38,
     "metadata": {},
     "output_type": "execute_result"
    }
   ],
   "source": [
    "pyLDAvis.enable_notebook()\n",
    "vis = pyLDAvis.gensim.prepare(lda_model, corpus, id2word)\n",
    "vis"
   ]
  },
  {
   "cell_type": "code",
   "execution_count": 40,
   "metadata": {
    "colab": {},
    "colab_type": "code",
    "id": "iYdNnOVEnKLX"
   },
   "outputs": [
    {
     "ename": "KeyboardInterrupt",
     "evalue": "",
     "output_type": "error",
     "traceback": [
      "\u001b[1;31m---------------------------------------------------------------------------\u001b[0m",
      "\u001b[1;31mKeyboardInterrupt\u001b[0m                         Traceback (most recent call last)",
      "\u001b[1;32m<ipython-input-40-0deb92328030>\u001b[0m in \u001b[0;36m<module>\u001b[1;34m\u001b[0m\n\u001b[0;32m      7\u001b[0m                                            \u001b[0mpasses\u001b[0m\u001b[1;33m=\u001b[0m\u001b[1;36m10\u001b[0m\u001b[1;33m,\u001b[0m\u001b[1;33m\u001b[0m\u001b[1;33m\u001b[0m\u001b[0m\n\u001b[0;32m      8\u001b[0m                                            \u001b[0malpha\u001b[0m\u001b[1;33m=\u001b[0m\u001b[1;34m'auto'\u001b[0m\u001b[1;33m,\u001b[0m\u001b[1;33m\u001b[0m\u001b[1;33m\u001b[0m\u001b[0m\n\u001b[1;32m----> 9\u001b[1;33m                                            per_word_topics=True)\n\u001b[0m",
      "\u001b[1;32m~\\AppData\\Roaming\\Python\\Python37\\site-packages\\gensim\\models\\ldamodel.py\u001b[0m in \u001b[0;36m__init__\u001b[1;34m(self, corpus, num_topics, id2word, distributed, chunksize, passes, update_every, alpha, eta, decay, offset, eval_every, iterations, gamma_threshold, minimum_probability, random_state, ns_conf, minimum_phi_value, per_word_topics, callbacks, dtype)\u001b[0m\n\u001b[0;32m    517\u001b[0m         \u001b[1;32mif\u001b[0m \u001b[0mcorpus\u001b[0m \u001b[1;32mis\u001b[0m \u001b[1;32mnot\u001b[0m \u001b[1;32mNone\u001b[0m\u001b[1;33m:\u001b[0m\u001b[1;33m\u001b[0m\u001b[1;33m\u001b[0m\u001b[0m\n\u001b[0;32m    518\u001b[0m             \u001b[0muse_numpy\u001b[0m \u001b[1;33m=\u001b[0m \u001b[0mself\u001b[0m\u001b[1;33m.\u001b[0m\u001b[0mdispatcher\u001b[0m \u001b[1;32mis\u001b[0m \u001b[1;32mnot\u001b[0m \u001b[1;32mNone\u001b[0m\u001b[1;33m\u001b[0m\u001b[1;33m\u001b[0m\u001b[0m\n\u001b[1;32m--> 519\u001b[1;33m             \u001b[0mself\u001b[0m\u001b[1;33m.\u001b[0m\u001b[0mupdate\u001b[0m\u001b[1;33m(\u001b[0m\u001b[0mcorpus\u001b[0m\u001b[1;33m,\u001b[0m \u001b[0mchunks_as_numpy\u001b[0m\u001b[1;33m=\u001b[0m\u001b[0muse_numpy\u001b[0m\u001b[1;33m)\u001b[0m\u001b[1;33m\u001b[0m\u001b[1;33m\u001b[0m\u001b[0m\n\u001b[0m\u001b[0;32m    520\u001b[0m \u001b[1;33m\u001b[0m\u001b[0m\n\u001b[0;32m    521\u001b[0m     \u001b[1;32mdef\u001b[0m \u001b[0minit_dir_prior\u001b[0m\u001b[1;33m(\u001b[0m\u001b[0mself\u001b[0m\u001b[1;33m,\u001b[0m \u001b[0mprior\u001b[0m\u001b[1;33m,\u001b[0m \u001b[0mname\u001b[0m\u001b[1;33m)\u001b[0m\u001b[1;33m:\u001b[0m\u001b[1;33m\u001b[0m\u001b[1;33m\u001b[0m\u001b[0m\n",
      "\u001b[1;32m~\\AppData\\Roaming\\Python\\Python37\\site-packages\\gensim\\models\\ldamodel.py\u001b[0m in \u001b[0;36mupdate\u001b[1;34m(self, corpus, chunksize, decay, offset, passes, update_every, eval_every, iterations, gamma_threshold, chunks_as_numpy)\u001b[0m\n\u001b[0;32m    992\u001b[0m                         \u001b[0mlogger\u001b[0m\u001b[1;33m.\u001b[0m\u001b[0minfo\u001b[0m\u001b[1;33m(\u001b[0m\u001b[1;34m\"reached the end of input; now waiting for all remaining jobs to finish\"\u001b[0m\u001b[1;33m)\u001b[0m\u001b[1;33m\u001b[0m\u001b[1;33m\u001b[0m\u001b[0m\n\u001b[0;32m    993\u001b[0m                         \u001b[0mother\u001b[0m \u001b[1;33m=\u001b[0m \u001b[0mself\u001b[0m\u001b[1;33m.\u001b[0m\u001b[0mdispatcher\u001b[0m\u001b[1;33m.\u001b[0m\u001b[0mgetstate\u001b[0m\u001b[1;33m(\u001b[0m\u001b[1;33m)\u001b[0m\u001b[1;33m\u001b[0m\u001b[1;33m\u001b[0m\u001b[0m\n\u001b[1;32m--> 994\u001b[1;33m                     \u001b[0mself\u001b[0m\u001b[1;33m.\u001b[0m\u001b[0mdo_mstep\u001b[0m\u001b[1;33m(\u001b[0m\u001b[0mrho\u001b[0m\u001b[1;33m(\u001b[0m\u001b[1;33m)\u001b[0m\u001b[1;33m,\u001b[0m \u001b[0mother\u001b[0m\u001b[1;33m,\u001b[0m \u001b[0mpass_\u001b[0m \u001b[1;33m>\u001b[0m \u001b[1;36m0\u001b[0m\u001b[1;33m)\u001b[0m\u001b[1;33m\u001b[0m\u001b[1;33m\u001b[0m\u001b[0m\n\u001b[0m\u001b[0;32m    995\u001b[0m                     \u001b[1;32mdel\u001b[0m \u001b[0mother\u001b[0m  \u001b[1;31m# frees up memory\u001b[0m\u001b[1;33m\u001b[0m\u001b[1;33m\u001b[0m\u001b[0m\n\u001b[0;32m    996\u001b[0m \u001b[1;33m\u001b[0m\u001b[0m\n",
      "\u001b[1;32m~\\AppData\\Roaming\\Python\\Python37\\site-packages\\gensim\\models\\ldamodel.py\u001b[0m in \u001b[0;36mdo_mstep\u001b[1;34m(self, rho, other, extra_pass)\u001b[0m\n\u001b[0;32m   1041\u001b[0m         \u001b[0mself\u001b[0m\u001b[1;33m.\u001b[0m\u001b[0mstate\u001b[0m\u001b[1;33m.\u001b[0m\u001b[0mblend\u001b[0m\u001b[1;33m(\u001b[0m\u001b[0mrho\u001b[0m\u001b[1;33m,\u001b[0m \u001b[0mother\u001b[0m\u001b[1;33m)\u001b[0m\u001b[1;33m\u001b[0m\u001b[1;33m\u001b[0m\u001b[0m\n\u001b[0;32m   1042\u001b[0m \u001b[1;33m\u001b[0m\u001b[0m\n\u001b[1;32m-> 1043\u001b[1;33m         \u001b[0mcurrent_Elogbeta\u001b[0m \u001b[1;33m=\u001b[0m \u001b[0mself\u001b[0m\u001b[1;33m.\u001b[0m\u001b[0mstate\u001b[0m\u001b[1;33m.\u001b[0m\u001b[0mget_Elogbeta\u001b[0m\u001b[1;33m(\u001b[0m\u001b[1;33m)\u001b[0m\u001b[1;33m\u001b[0m\u001b[1;33m\u001b[0m\u001b[0m\n\u001b[0m\u001b[0;32m   1044\u001b[0m         \u001b[0mself\u001b[0m\u001b[1;33m.\u001b[0m\u001b[0msync_state\u001b[0m\u001b[1;33m(\u001b[0m\u001b[0mcurrent_Elogbeta\u001b[0m\u001b[1;33m)\u001b[0m\u001b[1;33m\u001b[0m\u001b[1;33m\u001b[0m\u001b[0m\n\u001b[0;32m   1045\u001b[0m \u001b[1;33m\u001b[0m\u001b[0m\n",
      "\u001b[1;31mKeyboardInterrupt\u001b[0m: "
     ]
    }
   ],
   "source": [
    "lda_model = gensim.models.ldamodel.LdaModel(corpus=corpus,\n",
    "                                           id2word=id2word,\n",
    "                                           num_topics=100, \n",
    "                                           random_state=100,\n",
    "                                           update_every=1,\n",
    "                                           chunksize=100,\n",
    "                                           passes=10,\n",
    "                                           alpha='auto',\n",
    "                                           per_word_topics=True)"
   ]
  },
  {
   "cell_type": "code",
   "execution_count": null,
   "metadata": {
    "colab": {
     "base_uri": "https://localhost:8080/",
     "height": 84
    },
    "colab_type": "code",
    "id": "UvPehEBunNIK",
    "outputId": "b4f5fd79-8bd6-4231-f678-f102463053c2"
   },
   "outputs": [],
   "source": [
    "# Compute Perplexity\n",
    "print('\\nPerplexity: ', lda_model.log_perplexity(corpus))  # a measure of how good the model is. lower the better.\n",
    "\n",
    "# Compute Coherence Score\n",
    "coherence_model_lda = CoherenceModel(model=lda_model, texts=data_lemmatized, dictionary=id2word, coherence='c_v')\n",
    "coherence_lda = coherence_model_lda.get_coherence()\n",
    "print('\\nCoherence Score: ', coherence_lda)"
   ]
  },
  {
   "cell_type": "code",
   "execution_count": null,
   "metadata": {},
   "outputs": [],
   "source": [
    "pyLDAvis.enable_notebook()\n",
    "vis = pyLDAvis.gensim.prepare(lda_model, corpus, id2word)\n",
    "vis"
   ]
  },
  {
   "cell_type": "code",
   "execution_count": null,
   "metadata": {
    "colab": {},
    "colab_type": "code",
    "id": "DFOx7prMnOxK"
   },
   "outputs": [],
   "source": [
    "lda_model = gensim.models.ldamodel.LdaModel(corpus=corpus,\n",
    "                                           id2word=id2word,\n",
    "                                           num_topics=80, \n",
    "                                           random_state=100,\n",
    "                                           update_every=1,\n",
    "                                           chunksize=100,\n",
    "                                           passes=10,\n",
    "                                           alpha='auto',\n",
    "                                           per_word_topics=True)"
   ]
  },
  {
   "cell_type": "code",
   "execution_count": null,
   "metadata": {
    "colab": {
     "base_uri": "https://localhost:8080/",
     "height": 84
    },
    "colab_type": "code",
    "id": "KT8SZucQnRIf",
    "outputId": "7815d878-886b-47de-b0e4-0c0823e59212"
   },
   "outputs": [],
   "source": [
    "print('\\nPerplexity: ', lda_model.log_perplexity(corpus))  # a measure of how good the model is. lower the better.\n",
    "\n",
    "# Compute Coherence Score\n",
    "coherence_model_lda = CoherenceModel(model=lda_model, texts=data_lemmatized, dictionary=id2word, coherence='c_v')\n",
    "coherence_lda = coherence_model_lda.get_coherence()\n",
    "print('\\nCoherence Score: ', coherence_lda)"
   ]
  },
  {
   "cell_type": "code",
   "execution_count": null,
   "metadata": {},
   "outputs": [],
   "source": [
    "pyLDAvis.enable_notebook()\n",
    "vis = pyLDAvis.gensim.prepare(lda_model, corpus, id2word)\n",
    "vis"
   ]
  },
  {
   "cell_type": "code",
   "execution_count": null,
   "metadata": {
    "colab": {
     "base_uri": "https://localhost:8080/",
     "height": 229
    },
    "colab_type": "code",
    "id": "iXeCI11cnSe3",
    "outputId": "377c67f3-189c-45c2-a878-2fb4c46d5ebc"
   },
   "outputs": [],
   "source": [
    "lda_model = gensim.models.ldamodel.LdaModel(corpus=corpus,\n",
    "                                           id2word=id2word,\n",
    "                                           num_topics=60, \n",
    "                                           random_state=100,\n",
    "                                           update_every=1,\n",
    "                                           chunksize=100,\n",
    "                                           passes=10,\n",
    "                                           alpha='auto',\n",
    "                                           per_word_topics=True)"
   ]
  },
  {
   "cell_type": "code",
   "execution_count": null,
   "metadata": {},
   "outputs": [],
   "source": [
    "print('\\nPerplexity: ', lda_model.log_perplexity(corpus))  # a measure of how good the model is. lower the better.\n",
    "\n",
    "# Compute Coherence Score\n",
    "coherence_model_lda = CoherenceModel(model=lda_model, texts=data_lemmatized, dictionary=id2word, coherence='c_v')\n",
    "coherence_lda = coherence_model_lda.get_coherence()\n",
    "print('\\nCoherence Score: ', coherence_lda)"
   ]
  },
  {
   "cell_type": "code",
   "execution_count": null,
   "metadata": {},
   "outputs": [],
   "source": [
    "pyLDAvis.enable_notebook()\n",
    "vis = pyLDAvis.gensim.prepare(lda_model, corpus, id2word)\n",
    "vis"
   ]
  },
  {
   "cell_type": "code",
   "execution_count": null,
   "metadata": {},
   "outputs": [],
   "source": [
    "lda_model = gensim.models.ldamodel.LdaModel(corpus=corpus,\n",
    "                                           id2word=id2word,\n",
    "                                           num_topics=40, \n",
    "                                           random_state=100,\n",
    "                                           update_every=1,\n",
    "                                           chunksize=100,\n",
    "                                           passes=10,\n",
    "                                           alpha='auto',\n",
    "                                           per_word_topics=True)"
   ]
  },
  {
   "cell_type": "code",
   "execution_count": null,
   "metadata": {},
   "outputs": [],
   "source": [
    "print('\\nPerplexity: ', lda_model.log_perplexity(corpus))  # a measure of how good the model is. lower the better.\n",
    "\n",
    "# Compute Coherence Score\n",
    "coherence_model_lda = CoherenceModel(model=lda_model, texts=data_lemmatized, dictionary=id2word, coherence='c_v')\n",
    "coherence_lda = coherence_model_lda.get_coherence()\n",
    "print('\\nCoherence Score: ', coherence_lda)"
   ]
  },
  {
   "cell_type": "code",
   "execution_count": null,
   "metadata": {},
   "outputs": [],
   "source": [
    "pyLDAvis.enable_notebook()\n",
    "vis = pyLDAvis.gensim.prepare(lda_model, corpus, id2word)\n",
    "vis"
   ]
  },
  {
   "cell_type": "code",
   "execution_count": 41,
   "metadata": {},
   "outputs": [],
   "source": [
    "lda_model = gensim.models.ldamodel.LdaModel(corpus=corpus,\n",
    "                                           id2word=id2word,\n",
    "                                           num_topics=30, \n",
    "                                           random_state=100,\n",
    "                                           update_every=1,\n",
    "                                           chunksize=100,\n",
    "                                           passes=10,\n",
    "                                           alpha='auto',\n",
    "                                           per_word_topics=True)"
   ]
  },
  {
   "cell_type": "code",
   "execution_count": 42,
   "metadata": {},
   "outputs": [
    {
     "name": "stdout",
     "output_type": "stream",
     "text": [
      "\n",
      "Perplexity:  -17.66325325976094\n",
      "\n",
      "Coherence Score:  0.3656187184104081\n"
     ]
    }
   ],
   "source": [
    "print('\\nPerplexity: ', lda_model.log_perplexity(corpus))  # a measure of how good the model is. lower the better.\n",
    "\n",
    "# Compute Coherence Score\n",
    "coherence_model_lda = CoherenceModel(model=lda_model, texts=data_lemmatized, dictionary=id2word, coherence='c_v')\n",
    "coherence_lda = coherence_model_lda.get_coherence()\n",
    "print('\\nCoherence Score: ', coherence_lda)"
   ]
  },
  {
   "cell_type": "code",
   "execution_count": 43,
   "metadata": {},
   "outputs": [
    {
     "name": "stderr",
     "output_type": "stream",
     "text": [
      "C:\\Users\\patha\\AppData\\Roaming\\Python\\Python37\\site-packages\\pyLDAvis\\_prepare.py:257: FutureWarning: Sorting because non-concatenation axis is not aligned. A future version\n",
      "of pandas will change to not sort by default.\n",
      "\n",
      "To accept the future behavior, pass 'sort=False'.\n",
      "\n",
      "To retain the current behavior and silence the warning, pass 'sort=True'.\n",
      "\n",
      "  return pd.concat([default_term_info] + list(topic_dfs))\n"
     ]
    },
    {
     "data": {
      "text/html": [
       "\n",
       "<link rel=\"stylesheet\" type=\"text/css\" href=\"https://cdn.rawgit.com/bmabey/pyLDAvis/files/ldavis.v1.0.0.css\">\n",
       "\n",
       "\n",
       "<div id=\"ldavis_el1412021155716044241622447435\"></div>\n",
       "<script type=\"text/javascript\">\n",
       "\n",
       "var ldavis_el1412021155716044241622447435_data = {\"mdsDat\": {\"x\": [0.21856094608669582, 0.19834823942724403, 0.16404748466418131, 0.16194864129797437, 0.08528681136708625, 0.06262067512937636, 0.07831945816024467, 0.022892480037890364, 0.055558751687293996, 0.030779160691707472, 0.016023315203765837, -0.004192216161717209, 0.009933799102372083, -0.009167871288131686, 0.0033287629062001218, -0.014921786134154269, -0.014003351896025138, -0.03514940585703624, -0.005714659070809121, -0.013651965609099287, -0.055600379865060064, -0.03940168798777636, -0.07312892175581401, -0.0698602779635044, -0.08379088185280716, -0.08591322019797516, -0.13919254956519922, -0.11847371858221932, -0.11349876334020655, -0.23198686863449813], \"y\": [0.39203748602873256, -0.25700833851556376, -0.11161219517458584, -0.052041472438530544, -0.010764697465224104, -0.0061662372011740815, -0.009398102109131822, -0.0008882767040224095, -0.005257394840378769, -0.001894466344385722, -0.000228178632377715, 0.0018757227501350689, 0.0002928566760376661, 0.0020932865829054563, 0.001089893931348571, 0.0027816356143148388, 0.0026564028523165667, 0.003998451126781829, 0.0017280815551863297, 0.002506209660692023, 0.005344668408050373, 0.004320232951896255, 0.0063692644932089575, 0.006111551035531555, 0.0067887114530413165, -0.017057527789163442, 0.008837544433552091, 0.008155711341343496, 0.00797845611949067, 0.007350720199972808], \"topics\": [1, 2, 3, 4, 5, 6, 7, 8, 9, 10, 11, 12, 13, 14, 15, 16, 17, 18, 19, 20, 21, 22, 23, 24, 25, 26, 27, 28, 29, 30], \"cluster\": [1, 1, 1, 1, 1, 1, 1, 1, 1, 1, 1, 1, 1, 1, 1, 1, 1, 1, 1, 1, 1, 1, 1, 1, 1, 1, 1, 1, 1, 1], \"Freq\": [12.169149398803711, 10.613594055175781, 7.627971649169922, 7.521691799163818, 4.405171871185303, 3.9358842372894287, 3.732553482055664, 3.2948806285858154, 3.2548651695251465, 2.9785268306732178, 2.9659476280212402, 2.702155351638794, 2.667477607727051, 2.654914379119873, 2.6198694705963135, 2.5668835639953613, 2.3717777729034424, 2.3412249088287354, 2.3306243419647217, 2.3106086254119873, 2.0629634857177734, 2.048574924468994, 1.8658684492111206, 1.806958794593811, 1.6793334484100342, 1.5141127109527588, 1.3480093479156494, 1.3015421628952026, 1.2993484735488892, 0.007519785780459642]}, \"tinfo\": {\"Category\": [\"Default\", \"Default\", \"Default\", \"Default\", \"Default\", \"Default\", \"Default\", \"Default\", \"Default\", \"Default\", \"Default\", \"Default\", \"Default\", \"Default\", \"Default\", \"Default\", \"Default\", \"Default\", \"Default\", \"Default\", \"Default\", \"Default\", \"Default\", \"Default\", \"Default\", \"Default\", \"Default\", \"Default\", \"Default\", \"Default\", \"Topic1\", \"Topic1\", \"Topic1\", \"Topic1\", \"Topic1\", \"Topic1\", \"Topic1\", \"Topic1\", \"Topic1\", \"Topic1\", \"Topic1\", \"Topic1\", \"Topic1\", \"Topic1\", \"Topic1\", \"Topic1\", \"Topic1\", \"Topic1\", \"Topic1\", \"Topic1\", \"Topic1\", \"Topic1\", \"Topic1\", \"Topic1\", \"Topic1\", \"Topic1\", \"Topic1\", \"Topic1\", \"Topic1\", \"Topic1\", \"Topic2\", \"Topic2\", \"Topic2\", \"Topic2\", \"Topic2\", \"Topic2\", \"Topic2\", \"Topic2\", \"Topic2\", \"Topic2\", \"Topic2\", \"Topic2\", \"Topic2\", \"Topic2\", \"Topic2\", \"Topic2\", \"Topic2\", \"Topic2\", \"Topic2\", \"Topic2\", \"Topic2\", \"Topic2\", \"Topic2\", \"Topic2\", \"Topic2\", \"Topic2\", \"Topic2\", \"Topic2\", \"Topic2\", \"Topic2\", \"Topic3\", \"Topic3\", \"Topic3\", \"Topic3\", \"Topic3\", \"Topic3\", \"Topic3\", \"Topic3\", \"Topic3\", \"Topic3\", \"Topic3\", \"Topic3\", \"Topic3\", \"Topic3\", \"Topic3\", \"Topic3\", \"Topic3\", \"Topic3\", \"Topic3\", \"Topic3\", \"Topic3\", \"Topic3\", \"Topic3\", \"Topic3\", \"Topic3\", \"Topic3\", \"Topic3\", \"Topic3\", \"Topic3\", \"Topic3\", \"Topic3\", \"Topic4\", \"Topic4\", \"Topic4\", \"Topic4\", \"Topic4\", \"Topic4\", \"Topic4\", \"Topic4\", \"Topic4\", \"Topic4\", \"Topic4\", \"Topic4\", \"Topic4\", \"Topic4\", \"Topic4\", \"Topic4\", \"Topic4\", \"Topic4\", \"Topic4\", \"Topic4\", \"Topic4\", \"Topic4\", \"Topic4\", \"Topic4\", \"Topic4\", \"Topic4\", \"Topic4\", \"Topic4\", \"Topic4\", \"Topic4\", \"Topic5\", \"Topic5\", \"Topic5\", \"Topic5\", \"Topic5\", \"Topic5\", \"Topic5\", \"Topic5\", \"Topic5\", \"Topic5\", \"Topic5\", \"Topic5\", \"Topic5\", \"Topic5\", \"Topic5\", \"Topic5\", \"Topic5\", \"Topic5\", \"Topic5\", \"Topic5\", \"Topic5\", \"Topic5\", \"Topic5\", \"Topic5\", \"Topic5\", \"Topic5\", \"Topic5\", \"Topic5\", \"Topic5\", \"Topic5\", \"Topic6\", \"Topic6\", \"Topic6\", \"Topic6\", \"Topic6\", \"Topic6\", \"Topic6\", \"Topic6\", \"Topic6\", \"Topic6\", \"Topic6\", \"Topic6\", \"Topic6\", \"Topic6\", \"Topic6\", \"Topic6\", \"Topic6\", \"Topic6\", \"Topic6\", \"Topic6\", \"Topic6\", \"Topic6\", \"Topic6\", \"Topic6\", \"Topic6\", \"Topic6\", \"Topic6\", \"Topic6\", \"Topic6\", \"Topic6\", \"Topic7\", \"Topic7\", \"Topic7\", \"Topic7\", \"Topic7\", \"Topic7\", \"Topic7\", \"Topic7\", \"Topic7\", \"Topic7\", \"Topic7\", \"Topic7\", \"Topic7\", \"Topic7\", \"Topic7\", \"Topic7\", \"Topic7\", \"Topic7\", \"Topic7\", \"Topic7\", \"Topic7\", \"Topic7\", \"Topic7\", \"Topic7\", \"Topic7\", \"Topic7\", \"Topic7\", \"Topic7\", \"Topic7\", \"Topic7\", \"Topic8\", \"Topic8\", \"Topic8\", \"Topic8\", \"Topic8\", \"Topic8\", \"Topic8\", \"Topic8\", \"Topic8\", \"Topic8\", \"Topic8\", \"Topic8\", \"Topic8\", \"Topic8\", \"Topic8\", \"Topic8\", \"Topic8\", \"Topic8\", \"Topic8\", \"Topic8\", \"Topic8\", \"Topic8\", \"Topic8\", \"Topic8\", \"Topic8\", \"Topic8\", \"Topic8\", \"Topic8\", \"Topic8\", \"Topic8\", \"Topic9\", \"Topic9\", \"Topic9\", \"Topic9\", \"Topic9\", \"Topic9\", \"Topic9\", \"Topic9\", \"Topic9\", \"Topic9\", \"Topic9\", \"Topic9\", \"Topic9\", \"Topic9\", \"Topic9\", \"Topic9\", \"Topic9\", \"Topic9\", \"Topic9\", \"Topic9\", \"Topic9\", \"Topic9\", \"Topic9\", \"Topic9\", \"Topic9\", \"Topic9\", \"Topic9\", \"Topic9\", \"Topic9\", \"Topic9\", \"Topic10\", \"Topic10\", \"Topic10\", \"Topic10\", \"Topic10\", \"Topic10\", \"Topic10\", \"Topic10\", \"Topic10\", \"Topic10\", \"Topic10\", \"Topic10\", \"Topic10\", \"Topic10\", \"Topic10\", \"Topic10\", \"Topic10\", \"Topic10\", \"Topic10\", \"Topic10\", \"Topic10\", \"Topic10\", \"Topic10\", \"Topic10\", \"Topic10\", \"Topic10\", \"Topic10\", \"Topic10\", \"Topic10\", \"Topic10\", \"Topic11\", \"Topic11\", \"Topic11\", \"Topic11\", \"Topic11\", \"Topic11\", \"Topic11\", \"Topic11\", \"Topic11\", \"Topic11\", \"Topic11\", \"Topic11\", \"Topic11\", \"Topic11\", \"Topic11\", \"Topic11\", \"Topic11\", \"Topic11\", \"Topic11\", \"Topic11\", \"Topic11\", \"Topic11\", \"Topic11\", \"Topic11\", \"Topic11\", \"Topic11\", \"Topic11\", \"Topic11\", \"Topic11\", \"Topic11\", \"Topic11\", \"Topic11\", \"Topic11\", \"Topic11\", \"Topic11\", \"Topic11\", \"Topic11\", \"Topic12\", \"Topic12\", \"Topic12\", \"Topic12\", \"Topic12\", \"Topic12\", \"Topic12\", \"Topic12\", \"Topic12\", \"Topic12\", \"Topic12\", \"Topic12\", \"Topic12\", \"Topic12\", \"Topic12\", \"Topic12\", \"Topic12\", \"Topic12\", \"Topic12\", \"Topic12\", \"Topic12\", \"Topic12\", \"Topic12\", \"Topic12\", \"Topic12\", \"Topic12\", \"Topic12\", \"Topic12\", \"Topic12\", \"Topic12\", \"Topic13\", \"Topic13\", \"Topic13\", \"Topic13\", \"Topic13\", \"Topic13\", \"Topic13\", \"Topic13\", \"Topic13\", \"Topic13\", \"Topic13\", \"Topic13\", \"Topic13\", \"Topic13\", \"Topic13\", \"Topic13\", \"Topic13\", \"Topic13\", \"Topic13\", \"Topic13\", \"Topic13\", \"Topic13\", \"Topic13\", \"Topic13\", \"Topic13\", \"Topic13\", \"Topic13\", \"Topic13\", \"Topic13\", \"Topic13\", \"Topic13\", \"Topic13\", \"Topic13\", \"Topic13\", \"Topic13\", \"Topic13\", \"Topic13\", \"Topic13\", \"Topic13\", \"Topic13\", \"Topic13\", \"Topic13\", \"Topic13\", \"Topic13\", \"Topic13\", \"Topic13\", \"Topic14\", \"Topic14\", \"Topic14\", \"Topic14\", \"Topic14\", \"Topic14\", \"Topic14\", \"Topic14\", \"Topic14\", \"Topic14\", \"Topic14\", \"Topic14\", \"Topic14\", \"Topic14\", \"Topic14\", \"Topic14\", \"Topic14\", \"Topic14\", \"Topic14\", \"Topic14\", \"Topic14\", \"Topic14\", \"Topic14\", \"Topic14\", \"Topic14\", \"Topic14\", \"Topic14\", \"Topic14\", \"Topic14\", \"Topic14\", \"Topic14\", \"Topic14\", \"Topic14\", \"Topic14\", \"Topic14\", \"Topic14\", \"Topic14\", \"Topic14\", \"Topic14\", \"Topic14\", \"Topic14\", \"Topic15\", \"Topic15\", \"Topic15\", \"Topic15\", \"Topic15\", \"Topic15\", \"Topic15\", \"Topic15\", \"Topic15\", \"Topic15\", \"Topic15\", \"Topic15\", \"Topic15\", \"Topic15\", \"Topic15\", \"Topic15\", \"Topic15\", \"Topic15\", \"Topic15\", \"Topic15\", \"Topic15\", \"Topic15\", \"Topic15\", \"Topic15\", \"Topic15\", \"Topic15\", \"Topic15\", \"Topic15\", \"Topic15\", \"Topic15\", \"Topic16\", \"Topic16\", \"Topic16\", \"Topic16\", \"Topic16\", \"Topic16\", \"Topic16\", \"Topic16\", \"Topic16\", \"Topic16\", \"Topic16\", \"Topic16\", \"Topic16\", \"Topic16\", \"Topic16\", \"Topic16\", \"Topic16\", \"Topic16\", \"Topic16\", \"Topic16\", \"Topic16\", \"Topic16\", \"Topic16\", \"Topic16\", \"Topic16\", \"Topic16\", \"Topic16\", \"Topic16\", \"Topic16\", \"Topic16\", \"Topic17\", \"Topic17\", \"Topic17\", \"Topic17\", \"Topic17\", \"Topic17\", \"Topic17\", \"Topic17\", \"Topic17\", \"Topic17\", \"Topic17\", \"Topic17\", \"Topic17\", \"Topic17\", \"Topic17\", \"Topic17\", \"Topic17\", \"Topic17\", \"Topic17\", \"Topic17\", \"Topic17\", \"Topic17\", \"Topic17\", \"Topic17\", \"Topic17\", \"Topic17\", \"Topic17\", \"Topic17\", \"Topic17\", \"Topic17\", \"Topic18\", \"Topic18\", \"Topic18\", \"Topic18\", \"Topic18\", \"Topic18\", \"Topic18\", \"Topic18\", \"Topic18\", \"Topic18\", \"Topic18\", \"Topic18\", \"Topic18\", \"Topic18\", \"Topic18\", \"Topic18\", \"Topic18\", \"Topic18\", \"Topic18\", \"Topic18\", \"Topic18\", \"Topic18\", \"Topic18\", \"Topic18\", \"Topic18\", \"Topic18\", \"Topic18\", \"Topic18\", \"Topic18\", \"Topic18\", \"Topic18\", \"Topic18\", \"Topic18\", \"Topic18\", \"Topic18\", \"Topic18\", \"Topic18\", \"Topic18\", \"Topic18\", \"Topic18\", \"Topic18\", \"Topic18\", \"Topic18\", \"Topic18\", \"Topic18\", \"Topic18\", \"Topic18\", \"Topic18\", \"Topic18\", \"Topic19\", \"Topic19\", \"Topic19\", \"Topic19\", \"Topic19\", \"Topic19\", \"Topic19\", \"Topic19\", \"Topic19\", \"Topic19\", \"Topic19\", \"Topic19\", \"Topic19\", \"Topic19\", \"Topic19\", \"Topic19\", \"Topic19\", \"Topic19\", \"Topic19\", \"Topic19\", \"Topic19\", \"Topic19\", \"Topic19\", \"Topic19\", \"Topic19\", \"Topic19\", \"Topic19\", \"Topic19\", \"Topic19\", \"Topic19\", \"Topic19\", \"Topic19\", \"Topic19\", \"Topic19\", \"Topic19\", \"Topic19\", \"Topic19\", \"Topic19\", \"Topic19\", \"Topic19\", \"Topic19\", \"Topic19\", \"Topic19\", \"Topic19\", \"Topic19\", \"Topic19\", \"Topic19\", \"Topic19\", \"Topic20\", \"Topic20\", \"Topic20\", \"Topic20\", \"Topic20\", \"Topic20\", \"Topic20\", \"Topic20\", \"Topic20\", \"Topic20\", \"Topic20\", \"Topic20\", \"Topic20\", \"Topic20\", \"Topic20\", \"Topic20\", \"Topic20\", \"Topic20\", \"Topic20\", \"Topic20\", \"Topic20\", \"Topic20\", \"Topic20\", \"Topic20\", \"Topic20\", \"Topic20\", \"Topic20\", \"Topic20\", \"Topic20\", \"Topic20\", \"Topic20\", \"Topic20\", \"Topic20\", \"Topic20\", \"Topic20\", \"Topic20\", \"Topic20\", \"Topic20\", \"Topic21\", \"Topic21\", \"Topic21\", \"Topic21\", \"Topic21\", \"Topic21\", \"Topic21\", \"Topic21\", \"Topic21\", \"Topic21\", \"Topic21\", \"Topic21\", \"Topic21\", \"Topic21\", \"Topic21\", \"Topic21\", \"Topic21\", \"Topic21\", \"Topic21\", \"Topic21\", \"Topic21\", \"Topic21\", \"Topic21\", \"Topic21\", \"Topic21\", \"Topic21\", \"Topic21\", \"Topic21\", \"Topic21\", \"Topic21\", \"Topic21\", \"Topic21\", \"Topic21\", \"Topic21\", \"Topic21\", \"Topic21\", \"Topic21\", \"Topic21\", \"Topic21\", \"Topic21\", \"Topic21\", \"Topic22\", \"Topic22\", \"Topic22\", \"Topic22\", \"Topic22\", \"Topic22\", \"Topic22\", \"Topic22\", \"Topic22\", \"Topic22\", \"Topic22\", \"Topic22\", \"Topic22\", \"Topic22\", \"Topic22\", \"Topic22\", \"Topic22\", \"Topic22\", \"Topic22\", \"Topic22\", \"Topic22\", \"Topic22\", \"Topic22\", \"Topic22\", \"Topic22\", \"Topic22\", \"Topic22\", \"Topic22\", \"Topic22\", \"Topic22\", \"Topic22\", \"Topic22\", \"Topic22\", \"Topic22\", \"Topic22\", \"Topic22\", \"Topic22\", \"Topic22\", \"Topic22\", \"Topic22\", \"Topic22\", \"Topic22\", \"Topic22\", \"Topic22\", \"Topic22\", \"Topic22\", \"Topic22\", \"Topic22\", \"Topic22\", \"Topic22\", \"Topic22\", \"Topic22\", \"Topic22\", \"Topic22\", \"Topic23\", \"Topic23\", \"Topic23\", \"Topic23\", \"Topic23\", \"Topic23\", \"Topic23\", \"Topic23\", \"Topic23\", \"Topic23\", \"Topic23\", \"Topic23\", \"Topic23\", \"Topic23\", \"Topic23\", \"Topic23\", \"Topic23\", \"Topic23\", \"Topic23\", \"Topic23\", \"Topic23\", \"Topic23\", \"Topic23\", \"Topic23\", \"Topic23\", \"Topic23\", \"Topic23\", \"Topic23\", \"Topic23\", \"Topic23\", \"Topic24\", \"Topic24\", \"Topic24\", \"Topic24\", \"Topic24\", \"Topic24\", \"Topic24\", \"Topic24\", \"Topic24\", \"Topic24\", \"Topic24\", \"Topic24\", \"Topic24\", \"Topic24\", \"Topic24\", \"Topic24\", \"Topic24\", \"Topic24\", \"Topic24\", \"Topic24\", \"Topic24\", \"Topic24\", \"Topic24\", \"Topic24\", \"Topic24\", \"Topic24\", \"Topic24\", \"Topic24\", \"Topic24\", \"Topic24\", \"Topic24\", \"Topic24\", \"Topic24\", \"Topic24\", \"Topic24\", \"Topic24\", \"Topic24\", \"Topic24\", \"Topic24\", \"Topic24\", \"Topic24\", \"Topic24\", \"Topic24\", \"Topic24\", \"Topic24\", \"Topic24\", \"Topic24\", \"Topic24\", \"Topic25\", \"Topic25\", \"Topic25\", \"Topic25\", \"Topic25\", \"Topic25\", \"Topic25\", \"Topic25\", \"Topic25\", \"Topic25\", \"Topic25\", \"Topic25\", \"Topic25\", \"Topic25\", \"Topic25\", \"Topic25\", \"Topic25\", \"Topic25\", \"Topic25\", \"Topic25\", \"Topic25\", \"Topic25\", \"Topic25\", \"Topic25\", \"Topic25\", \"Topic25\", \"Topic25\", \"Topic25\", \"Topic25\", \"Topic25\", \"Topic25\", \"Topic25\", \"Topic25\", \"Topic25\", \"Topic25\", \"Topic25\", \"Topic25\", \"Topic25\", \"Topic25\", \"Topic25\", \"Topic25\", \"Topic25\", \"Topic25\", \"Topic25\", \"Topic26\", \"Topic26\", \"Topic26\", \"Topic26\", \"Topic26\", \"Topic26\", \"Topic26\", \"Topic26\", \"Topic26\", \"Topic26\", \"Topic26\", \"Topic26\", \"Topic26\", \"Topic26\", \"Topic26\", \"Topic26\", \"Topic26\", \"Topic26\", \"Topic26\", \"Topic26\", \"Topic26\", \"Topic26\", \"Topic26\", \"Topic26\", \"Topic26\", \"Topic26\", \"Topic26\", \"Topic26\", \"Topic26\", \"Topic26\", \"Topic26\", \"Topic26\", \"Topic26\", \"Topic26\", \"Topic26\", \"Topic26\", \"Topic26\", \"Topic26\", \"Topic27\", \"Topic27\", \"Topic27\", \"Topic27\", \"Topic27\", \"Topic27\", \"Topic27\", \"Topic27\", \"Topic27\", \"Topic27\", \"Topic27\", \"Topic27\", \"Topic27\", \"Topic27\", \"Topic27\", \"Topic27\", \"Topic27\", \"Topic27\", \"Topic27\", \"Topic27\", \"Topic27\", \"Topic27\", \"Topic27\", \"Topic27\", \"Topic27\", \"Topic27\", \"Topic27\", \"Topic27\", \"Topic27\", \"Topic27\", \"Topic27\", \"Topic27\", \"Topic27\", \"Topic27\", \"Topic27\", \"Topic27\", \"Topic27\", \"Topic27\", \"Topic27\", \"Topic27\", \"Topic27\", \"Topic27\", \"Topic27\", \"Topic27\", \"Topic27\", \"Topic27\", \"Topic27\", \"Topic28\", \"Topic28\", \"Topic28\", \"Topic28\", \"Topic28\", \"Topic28\", \"Topic28\", \"Topic28\", \"Topic28\", \"Topic28\", \"Topic28\", \"Topic28\", \"Topic28\", \"Topic28\", \"Topic28\", \"Topic28\", \"Topic28\", \"Topic28\", \"Topic28\", \"Topic28\", \"Topic28\", \"Topic28\", \"Topic28\", \"Topic28\", \"Topic28\", \"Topic28\", \"Topic28\", \"Topic28\", \"Topic28\", \"Topic28\", \"Topic28\", \"Topic28\", \"Topic28\", \"Topic28\", \"Topic28\", \"Topic28\", \"Topic28\", \"Topic28\", \"Topic28\", \"Topic28\", \"Topic28\", \"Topic28\", \"Topic28\", \"Topic28\", \"Topic28\", \"Topic28\", \"Topic28\", \"Topic28\", \"Topic28\", \"Topic28\", \"Topic28\", \"Topic28\", \"Topic29\", \"Topic29\", \"Topic29\", \"Topic29\", \"Topic29\", \"Topic29\", \"Topic29\", \"Topic29\", \"Topic29\", \"Topic29\", \"Topic29\", \"Topic29\", \"Topic29\", \"Topic29\", \"Topic29\", \"Topic29\", \"Topic29\", \"Topic29\", \"Topic29\", \"Topic29\", \"Topic29\", \"Topic29\", \"Topic29\", \"Topic29\", \"Topic29\", \"Topic29\", \"Topic29\", \"Topic29\", \"Topic29\", \"Topic29\", \"Topic29\", \"Topic29\", \"Topic29\", \"Topic29\", \"Topic29\", \"Topic29\", \"Topic29\", \"Topic29\", \"Topic29\", \"Topic29\", \"Topic29\", \"Topic29\", \"Topic29\", \"Topic29\", \"Topic29\", \"Topic29\", \"Topic29\", \"Topic29\", \"Topic29\", \"Topic29\", \"Topic29\", \"Topic29\", \"Topic29\", \"Topic29\", \"Topic29\", \"Topic30\", \"Topic30\", \"Topic30\", \"Topic30\", \"Topic30\", \"Topic30\", \"Topic30\", \"Topic30\", \"Topic30\", \"Topic30\", \"Topic30\", \"Topic30\", \"Topic30\", \"Topic30\", \"Topic30\", \"Topic30\", \"Topic30\", \"Topic30\", \"Topic30\", \"Topic30\", \"Topic30\", \"Topic30\", \"Topic30\", \"Topic30\", \"Topic30\", \"Topic30\", \"Topic30\", \"Topic30\", \"Topic30\", \"Topic30\", \"Topic30\", \"Topic30\", \"Topic30\", \"Topic30\", \"Topic30\", \"Topic30\", \"Topic30\", \"Topic30\", \"Topic30\", \"Topic30\", \"Topic30\", \"Topic30\", \"Topic30\", \"Topic30\", \"Topic30\", \"Topic30\", \"Topic30\", \"Topic30\", \"Topic30\", \"Topic30\", \"Topic30\", \"Topic30\", \"Topic30\", \"Topic30\", \"Topic30\", \"Topic30\", \"Topic30\", \"Topic30\", \"Topic30\"], \"Freq\": [31723.0, 25144.0, 25510.0, 23284.0, 21771.0, 23140.0, 20105.0, 16989.0, 20259.0, 14046.0, 15666.0, 21075.0, 12448.0, 13872.0, 14328.0, 18986.0, 22941.0, 20834.0, 18030.0, 11400.0, 12481.0, 12601.0, 13404.0, 9928.0, 16720.0, 10926.0, 11126.0, 11324.0, 11313.0, 17676.0, 22940.583984375, 13600.056640625, 11814.1201171875, 11520.41796875, 10874.603515625, 10566.67578125, 9963.947265625, 9583.2109375, 9019.650390625, 8980.265625, 8927.23046875, 8122.193359375, 7547.83447265625, 7551.298828125, 7197.859375, 6905.6181640625, 6702.4296875, 6610.0576171875, 6003.849609375, 5775.23388671875, 5721.1650390625, 5631.5361328125, 5354.017578125, 4546.3232421875, 4440.634765625, 4196.77490234375, 3903.01513671875, 3502.247802734375, 3285.950439453125, 3144.999267578125, 20833.666015625, 17675.37890625, 16909.091796875, 12304.630859375, 10945.4912109375, 9774.8984375, 9557.8115234375, 8005.7978515625, 7814.07763671875, 7175.83837890625, 7090.13720703125, 6968.92724609375, 6661.39208984375, 5502.98583984375, 5274.39599609375, 5174.01171875, 5132.34326171875, 5015.0947265625, 4978.8818359375, 3886.77587890625, 3667.965576171875, 3121.1318359375, 2845.91748046875, 2780.808837890625, 2764.322509765625, 2727.700927734375, 2709.161376953125, 2666.05029296875, 2644.8486328125, 2584.1884765625, 21074.36328125, 18985.29296875, 16719.232421875, 13413.65625, 8783.68359375, 6952.47705078125, 6370.20654296875, 5920.58203125, 5907.3349609375, 5541.82666015625, 5333.818359375, 5171.474609375, 5151.6044921875, 4740.4443359375, 4694.298828125, 4570.8837890625, 4550.9814453125, 4530.55712890625, 3518.637939453125, 3273.529296875, 3092.364013671875, 2563.03857421875, 1813.01953125, 1528.398681640625, 1500.87255859375, 1443.8333740234375, 1429.472412109375, 1194.9715576171875, 1156.537841796875, 846.3583374023438, 6824.0419921875, 18029.693359375, 13420.8447265625, 12742.1962890625, 12188.34765625, 11837.853515625, 9863.765625, 9690.5458984375, 9658.470703125, 5932.04248046875, 5670.78759765625, 5535.81201171875, 5295.72314453125, 4988.39599609375, 4603.42724609375, 4406.5498046875, 3708.226806640625, 3576.31396484375, 3500.8134765625, 3419.906982421875, 3081.537353515625, 2997.901123046875, 2629.343994140625, 2621.48388671875, 2395.5029296875, 1866.857666015625, 1761.7041015625, 1593.1142578125, 1549.4462890625, 1286.836181640625, 1088.16748046875, 20258.458984375, 6577.89501953125, 5905.99853515625, 5574.478515625, 5142.09765625, 4752.48974609375, 3944.172119140625, 3822.6376953125, 3651.943359375, 2709.366455078125, 2513.745361328125, 2101.248046875, 2065.5673828125, 2013.3760986328125, 1910.2967529296875, 1697.869873046875, 1693.728515625, 1509.29296875, 1492.6915283203125, 1465.9761962890625, 1413.7720947265625, 1395.274658203125, 1369.7899169921875, 1324.8472900390625, 1208.31396484375, 1168.17529296875, 1141.9251708984375, 1121.08447265625, 1098.6807861328125, 1038.079833984375, 11127.1396484375, 7801.3271484375, 6934.8837890625, 6819.81982421875, 5217.142578125, 4461.029296875, 4404.37255859375, 3572.6787109375, 3194.884521484375, 3037.02734375, 2910.12255859375, 2553.55029296875, 2257.17578125, 1840.00390625, 1735.082763671875, 1657.84814453125, 1619.11474609375, 1530.5120849609375, 1479.870361328125, 1385.7767333984375, 1370.6160888671875, 1248.0670166015625, 1077.6800537109375, 1074.30224609375, 1073.8123779296875, 866.2647705078125, 776.2916259765625, 719.5192260742188, 678.0496215820312, 572.995849609375, 20104.556640625, 13403.837890625, 7036.60791015625, 6580.3134765625, 5738.416015625, 4765.8525390625, 3600.4033203125, 2826.740234375, 2116.284423828125, 2029.569091796875, 1866.1441650390625, 1569.0732421875, 1533.1029052734375, 1404.128662109375, 1352.1463623046875, 1245.0419921875, 1160.0245361328125, 972.728759765625, 869.8402099609375, 793.3092041015625, 628.8360595703125, 621.8148803710938, 581.86181640625, 513.6533203125, 510.6094055175781, 489.75286865234375, 452.6521301269531, 427.7197265625, 400.66888427734375, 364.10260009765625, 14327.5068359375, 8350.0126953125, 5817.3623046875, 4273.7099609375, 4146.44384765625, 3259.882080078125, 3038.997314453125, 2932.109375, 2740.947509765625, 2657.01513671875, 2637.87841796875, 2386.654296875, 2347.297607421875, 2135.00927734375, 2133.610107421875, 1678.3924560546875, 1502.43798828125, 1286.474609375, 1261.7679443359375, 1207.5145263671875, 1161.8624267578125, 1134.0394287109375, 820.220947265625, 816.6231079101562, 661.5228271484375, 522.4400024414062, 382.6220703125, 380.72967529296875, 247.0802459716797, 245.71383666992188, 23139.390625, 10987.34765625, 5922.53515625, 5691.6279296875, 2615.96923828125, 2513.134521484375, 2329.67822265625, 2014.3016357421875, 2003.0235595703125, 1936.0111083984375, 1761.001220703125, 1735.1248779296875, 1514.7296142578125, 1493.365966796875, 1456.280517578125, 1256.3968505859375, 1108.8876953125, 1071.4202880859375, 1025.5811767578125, 929.753662109375, 754.408203125, 538.0894165039062, 522.8318481445312, 419.3964538574219, 280.7409973144531, 252.40966796875, 201.67257690429688, 199.20138549804688, 194.4059295654297, 177.73260498046875, 25509.5390625, 11312.505859375, 11323.53515625, 3206.358642578125, 2413.1142578125, 1868.6744384765625, 1867.81396484375, 1662.4320068359375, 1223.078369140625, 1188.0255126953125, 1083.4190673828125, 1059.3699951171875, 898.98291015625, 896.3042602539062, 862.8092041015625, 767.1268920898438, 392.4463806152344, 370.590087890625, 359.0284118652344, 338.0345458984375, 260.4148864746094, 233.0324249267578, 190.7925262451172, 170.96783447265625, 116.438720703125, 109.67537689208984, 84.9482421875, 49.40113830566406, 35.497982025146484, 5.37497091293335, 15665.404296875, 12600.642578125, 8475.125, 6595.75, 6366.7236328125, 5093.26953125, 2092.670654296875, 1830.2545166015625, 1680.9635009765625, 1495.98583984375, 1222.564208984375, 1139.5423583984375, 1025.7567138671875, 905.6195678710938, 731.3914184570312, 536.9232788085938, 512.303955078125, 335.30328369140625, 331.6318359375, 194.26051330566406, 145.25843811035156, 120.0905990600586, 117.61164855957031, 74.21564483642578, 63.27517318725586, 31.494644165039062, 0.03996085375547409, 0.03996085003018379, 0.03996085003018379, 0.03996085003018379, 0.03996085003018379, 0.03996085003018379, 0.03996085003018379, 0.03996085003018379, 0.03996085003018379, 0.03996085003018379, 0.03996085003018379, 7791.6181640625, 6123.46826171875, 5470.47314453125, 4214.509765625, 3309.69287109375, 3080.50537109375, 2918.819580078125, 2591.630126953125, 2557.31640625, 2172.802490234375, 2076.055419921875, 2047.6119384765625, 1605.573486328125, 1462.009033203125, 1223.9195556640625, 1074.908447265625, 999.55224609375, 984.5164184570312, 942.5838623046875, 910.9320068359375, 894.3447265625, 787.9107055664062, 720.5359497070312, 715.1946411132812, 639.9041137695312, 630.3610229492188, 589.8377685546875, 575.7511596679688, 542.005126953125, 537.0150146484375, 25143.818359375, 13871.8291015625, 5687.84619140625, 4258.0634765625, 2769.594970703125, 2411.440185546875, 2054.330078125, 1999.5302734375, 1427.292724609375, 1188.09423828125, 919.212890625, 273.6444396972656, 228.92555236816406, 81.19403076171875, 0.0373988151550293, 0.0373988151550293, 0.0373988151550293, 0.0373988151550293, 0.0373988151550293, 0.0373988151550293, 0.0373988151550293, 0.0373988151550293, 0.0373988151550293, 0.0373988151550293, 0.0373988151550293, 0.0373988151550293, 0.0373988151550293, 0.0373988151550293, 0.0373988151550293, 0.0373988151550293, 0.0373988151550293, 0.0373988151550293, 0.0373988151550293, 0.0373988151550293, 0.0373988151550293, 0.0373988151550293, 0.0373988151550293, 0.0373988151550293, 0.0373988151550293, 0.0373988151550293, 0.0373988151550293, 0.0373988151550293, 0.0373988151550293, 0.0373988151550293, 0.0373988151550293, 0.0373988151550293, 12480.78515625, 11125.41015625, 6162.1162109375, 4723.33056640625, 4309.55712890625, 3753.40673828125, 3481.988037109375, 3231.52734375, 2856.785400390625, 2683.26806640625, 2434.59130859375, 1628.03369140625, 1295.7105712890625, 936.58447265625, 332.5881042480469, 144.41696166992188, 133.1844940185547, 64.81824493408203, 25.403932571411133, 0.040900956839323044, 0.040900956839323044, 0.040900956839323044, 0.040900956839323044, 0.040900956839323044, 0.040900956839323044, 0.040900956839323044, 0.040900956839323044, 0.040900956839323044, 0.040900956839323044, 0.040900956839323044, 0.040900956839323044, 0.040900956839323044, 0.040900956839323044, 0.040900956839323044, 0.040900956839323044, 0.040900956839323044, 0.040900956839323044, 0.040900956839323044, 0.040900956839323044, 0.040900956839323044, 0.040900956839323044, 6818.83544921875, 6777.837890625, 5957.302734375, 5845.27587890625, 5816.4384765625, 3345.11474609375, 2588.33154296875, 2557.692626953125, 2307.568359375, 2246.860595703125, 2130.8427734375, 1820.632080078125, 1813.965576171875, 1760.002197265625, 1697.0894775390625, 1530.14599609375, 1053.5087890625, 931.919677734375, 785.9528198242188, 591.7767333984375, 588.10009765625, 577.2228393554688, 515.1412353515625, 264.01263427734375, 181.8585662841797, 179.53311157226562, 177.55471801757812, 152.48977661132812, 85.64983367919922, 56.83540344238281, 8887.8447265625, 6496.44921875, 4069.95458984375, 3908.732421875, 3312.109619140625, 2963.3759765625, 2438.32080078125, 2405.4658203125, 2190.06884765625, 1755.6888427734375, 1623.749755859375, 1534.780517578125, 1451.3875732421875, 1408.195556640625, 1106.146728515625, 1076.8673095703125, 1046.6605224609375, 993.3402709960938, 775.1765747070312, 761.0006713867188, 754.7293090820312, 717.9051513671875, 686.27587890625, 684.890380859375, 684.2343139648438, 622.8436889648438, 555.1160278320312, 529.3035278320312, 518.905029296875, 509.14385986328125, 7934.7119140625, 7720.408203125, 4344.64404296875, 4339.67041015625, 2710.69384765625, 2535.171630859375, 2255.4541015625, 1907.847900390625, 1832.87841796875, 1685.1942138671875, 1668.9505615234375, 1629.1522216796875, 1493.2054443359375, 1322.46337890625, 1197.4869384765625, 1125.066162109375, 1011.5376586914062, 1007.1605224609375, 822.0776977539062, 593.351806640625, 592.2874145507812, 583.4718627929688, 583.2579345703125, 567.3560180664062, 465.0216064453125, 460.3070983886719, 350.4102478027344, 325.4491271972656, 309.1410827636719, 296.44189453125, 31722.09375, 5623.9140625, 3982.201416015625, 3782.02978515625, 3314.255615234375, 1950.86767578125, 1875.9285888671875, 1177.5439453125, 473.05914306640625, 233.7698974609375, 47.767578125, 0.04142320901155472, 0.04142320901155472, 0.04142320901155472, 0.04142320901155472, 0.04142320901155472, 0.04142320901155472, 0.04142320901155472, 0.04142320901155472, 0.04142320901155472, 0.04142320901155472, 0.04142320901155472, 0.04142320901155472, 0.04142320901155472, 0.04142320901155472, 0.04142320901155472, 0.04142320901155472, 0.04142320901155472, 0.04142320901155472, 0.04142320901155472, 0.04142320901155472, 0.04142320901155472, 0.04142320901155472, 0.04142320901155472, 0.04142320901155472, 0.04142320901155472, 0.04142320901155472, 0.04142320901155472, 0.04142320901155472, 0.04142320901155472, 0.04142320901155472, 0.04142320901155472, 0.04142320901155472, 0.04142320901155472, 0.04142320901155472, 0.04142320901155472, 0.04142320901155472, 0.04142320901155472, 0.04142320901155472, 23283.66015625, 7016.96142578125, 5631.9814453125, 5492.90673828125, 3803.784912109375, 3227.209716796875, 2476.75830078125, 1291.8448486328125, 1025.5067138671875, 1020.0695190429688, 8.056400299072266, 0.4111986458301544, 0.03548301383852959, 0.03548301383852959, 0.03548301383852959, 0.03548301383852959, 0.03548301383852959, 0.03548301383852959, 0.03548301383852959, 0.03548301383852959, 0.03548301383852959, 0.03548301383852959, 0.03548301383852959, 0.03548301383852959, 0.03548301383852959, 0.03548301383852959, 0.03548301383852959, 0.03548301383852959, 0.03548301383852959, 0.03548301383852959, 0.03548301383852959, 0.03548301383852959, 0.03548301383852959, 0.03548301383852959, 0.03548301383852959, 0.03548301383852959, 0.03548301383852959, 0.03548301383852959, 0.03548301383852959, 0.03548301383852959, 0.03548301383852959, 0.03548301383852959, 0.03548301383852959, 0.03548301383852959, 0.03548301383852959, 0.03548301383852959, 0.03548301383852959, 0.03548301383852959, 21770.828125, 10925.2255859375, 4512.79833984375, 2795.80859375, 2305.239013671875, 1797.1832275390625, 1270.0316162109375, 1220.8326416015625, 903.5602416992188, 839.9454956054688, 724.0475463867188, 714.940673828125, 562.6441650390625, 561.2266235351562, 511.9050598144531, 450.2041320800781, 412.0581359863281, 374.04376220703125, 312.07586669921875, 295.132568359375, 192.51976013183594, 188.87820434570312, 93.58502197265625, 11.075150489807129, 0.036319371312856674, 0.036319367587566376, 0.03631936386227608, 0.03631936386227608, 0.03631936386227608, 0.03631936386227608, 0.03631936386227608, 0.03631936386227608, 0.03631936386227608, 0.03631936386227608, 0.03631936386227608, 0.03631936386227608, 0.03631936386227608, 0.03631936386227608, 16988.875, 8056.74365234375, 6816.6923828125, 3452.30517578125, 2849.120849609375, 2220.11376953125, 1925.8828125, 781.0132446289062, 780.545166015625, 759.1920776367188, 720.0859985351562, 693.855224609375, 587.4705810546875, 353.435791015625, 181.95489501953125, 162.14202880859375, 103.15546417236328, 83.41133117675781, 0.8915257453918457, 0.04032948985695839, 0.04032948985695839, 0.04032948985695839, 0.04032948985695839, 0.04032948985695839, 0.04032948985695839, 0.04032948985695839, 0.04032948985695839, 0.04032948985695839, 0.04032948985695839, 0.04032948985695839, 0.04032948985695839, 0.04032948985695839, 0.04032948985695839, 0.04032948985695839, 0.04032948985695839, 0.04032948985695839, 0.04032948985695839, 0.04032948985695839, 0.04032948985695839, 0.04032948985695839, 0.04032948985695839, 9980.5400390625, 7216.10498046875, 5053.90380859375, 4749.23388671875, 4678.939453125, 4517.49462890625, 3204.547607421875, 3029.68603515625, 1495.4405517578125, 1224.638916015625, 987.1119384765625, 826.5909423828125, 341.1168212890625, 64.26151275634766, 0.03693840280175209, 0.03693839907646179, 0.03693839907646179, 0.03693839907646179, 0.03693839907646179, 0.03693839907646179, 0.03693839907646179, 0.03693839907646179, 0.03693839907646179, 0.03693839907646179, 0.03693839907646179, 0.03693839907646179, 0.03693839907646179, 0.03693839907646179, 0.03693839907646179, 0.03693839907646179, 0.03693839907646179, 0.03693839907646179, 0.03693839907646179, 0.03693839907646179, 0.03693839907646179, 0.03693839907646179, 0.03693839907646179, 0.03693839907646179, 0.03693839907646179, 0.03693839907646179, 0.03693839907646179, 0.03693839907646179, 0.03693839907646179, 0.03693839907646179, 0.03693839907646179, 0.03693839907646179, 0.03693839907646179, 0.03693839907646179, 0.03693839907646179, 0.03693839907646179, 0.03693839907646179, 0.03693839907646179, 0.03693839907646179, 0.03693839907646179, 4951.435546875, 4257.59521484375, 3249.4072265625, 2739.02392578125, 2635.83740234375, 2543.16552734375, 2401.1474609375, 2327.189697265625, 2294.491943359375, 2145.880859375, 1837.081298828125, 1817.8846435546875, 1726.435302734375, 1557.1480712890625, 1363.776123046875, 1113.3612060546875, 985.35302734375, 582.4473266601562, 489.3044128417969, 329.6654968261719, 309.8857727050781, 205.74534606933594, 176.51966857910156, 161.21987915039062, 159.63783264160156, 102.08197784423828, 83.82289123535156, 68.83306884765625, 63.38972473144531, 60.92827224731445, 11399.046875, 5384.60986328125, 4810.3115234375, 3965.287353515625, 3167.15771484375, 3125.387939453125, 2230.833740234375, 2094.4873046875, 1572.998779296875, 1515.994384765625, 1072.6717529296875, 517.1051025390625, 266.6349182128906, 192.52230834960938, 141.70394897460938, 0.03808077424764633, 0.03808077052235603, 0.03808077052235603, 0.03808077052235603, 0.03808077052235603, 0.03808077052235603, 0.03808077052235603, 0.03808077052235603, 0.03808077052235603, 0.03808077052235603, 0.03808077052235603, 0.03808077052235603, 0.03808077052235603, 0.03808077052235603, 0.03808077052235603, 0.03808077052235603, 0.03808077052235603, 0.03808077052235603, 0.03808077052235603, 0.03808077052235603, 0.03808077052235603, 0.03808077052235603, 0.03808077052235603, 0.03808077052235603, 0.03808077052235603, 0.03808077052235603, 0.03808077052235603, 0.03808077052235603, 0.03808077052235603, 0.03808077052235603, 0.03808077052235603, 0.03808077052235603, 0.03808077052235603, 12447.693359375, 6113.1689453125, 4175.7666015625, 3777.997314453125, 3678.04248046875, 2510.656494140625, 1520.786865234375, 1365.5228271484375, 813.0450439453125, 543.540771484375, 450.51629638671875, 373.6312561035156, 252.4461212158203, 147.76824951171875, 130.4788818359375, 69.6467056274414, 0.038056544959545135, 0.038056544959545135, 0.038056544959545135, 0.038056544959545135, 0.038056544959545135, 0.038056544959545135, 0.038056544959545135, 0.038056544959545135, 0.038056544959545135, 0.038056544959545135, 0.038056544959545135, 0.038056544959545135, 0.038056544959545135, 0.038056544959545135, 0.038056544959545135, 0.038056544959545135, 0.038056544959545135, 0.038056544959545135, 0.038056544959545135, 0.038056544959545135, 0.038056544959545135, 0.038056544959545135, 0.038056544959545135, 0.038056544959545135, 0.038056544959545135, 0.038056544959545135, 0.038056544959545135, 0.038056544959545135, 14045.021484375, 2127.899658203125, 1915.8096923828125, 1642.4307861328125, 1439.4744873046875, 1421.992919921875, 1361.455810546875, 1250.16552734375, 1193.534423828125, 1162.2442626953125, 1060.245361328125, 862.8697509765625, 841.4322509765625, 839.7820434570312, 839.34375, 710.8486938476562, 655.7664794921875, 432.95477294921875, 361.1380615234375, 67.7314224243164, 45.094207763671875, 5.83808708190918, 0.7354699969291687, 0.03650414198637009, 0.03650414198637009, 0.03650414198637009, 0.03650414198637009, 0.03650414198637009, 0.03650414198637009, 0.03650414198637009, 182.1840362548828, 0.03650414198637009, 0.03650414198637009, 0.03650414198637009, 0.03650414198637009, 0.03650414198637009, 0.03650414198637009, 0.03650414198637009, 4812.3037109375, 4555.9521484375, 3900.22412109375, 2997.080810546875, 2891.36376953125, 2738.650390625, 2081.642822265625, 1986.0347900390625, 1652.5528564453125, 1183.4124755859375, 736.1957397460938, 612.3629150390625, 0.04155481606721878, 0.04155481606721878, 0.04155481606721878, 0.04155481606721878, 0.04155481606721878, 0.04155481606721878, 0.04155481606721878, 0.04155481606721878, 0.04155481606721878, 0.04155481606721878, 0.04155481606721878, 0.04155481606721878, 0.04155481606721878, 0.04155481606721878, 0.04155481606721878, 0.04155481606721878, 0.04155481606721878, 0.04155481606721878, 0.04155481606721878, 0.04155481606721878, 0.04155481606721878, 0.04155481606721878, 0.04155481606721878, 0.04155481606721878, 0.04155481606721878, 0.04155481606721878, 0.04155481606721878, 0.04155481606721878, 0.04155481606721878, 0.04155481606721878, 0.04155481606721878, 0.04155481606721878, 0.04155481606721878, 0.04155481606721878, 0.04155481606721878, 7695.31298828125, 5876.962890625, 5077.33349609375, 4650.322265625, 4271.32080078125, 1312.8056640625, 483.12078857421875, 0.03575664386153221, 0.03575664386153221, 0.03575664386153221, 0.03575664386153221, 0.03575664386153221, 0.03575664386153221, 0.03575664386153221, 0.03575664386153221, 0.03575664386153221, 0.03575664386153221, 0.03575664386153221, 0.03575664386153221, 0.03575664386153221, 0.03575664386153221, 0.03575664386153221, 0.03575664386153221, 0.03575664386153221, 0.03575664386153221, 0.03575664386153221, 0.03575664386153221, 0.03575664386153221, 0.03575664386153221, 0.03575664386153221, 0.03575664386153221, 0.03575664386153221, 0.03575664386153221, 0.03575664386153221, 0.03575664386153221, 0.03575664386153221, 0.03575664386153221, 0.03575664386153221, 0.03575664386153221, 0.03575664386153221, 0.03575664386153221, 0.03575664386153221, 0.03575664386153221, 0.03575664386153221, 0.03575664386153221, 0.03575664386153221, 0.03575664386153221, 0.03575664386153221, 0.03575664386153221, 0.03575664386153221, 0.03575664386153221, 0.03575664386153221, 9927.541015625, 5052.10546875, 4619.7958984375, 4613.79638671875, 4309.2763671875, 542.37939453125, 240.77049255371094, 44.25083923339844, 26.769929885864258, 0.03470224514603615, 0.03470224514603615, 0.03470224142074585, 0.03470224142074585, 0.03470224142074585, 0.03470224142074585, 0.03470224142074585, 0.03470224142074585, 0.03470224142074585, 0.03470224142074585, 0.03470224142074585, 0.03470224142074585, 0.03470224142074585, 0.03470224142074585, 0.03470224142074585, 0.03470224142074585, 0.03470224142074585, 0.03470224142074585, 0.03470224142074585, 0.03470224142074585, 0.03470224142074585, 0.03470224142074585, 0.03470224142074585, 0.03470224142074585, 0.03470224142074585, 0.03470224142074585, 0.03470224142074585, 0.03470224142074585, 0.03470224142074585, 0.03470224142074585, 0.03470224142074585, 0.03470224142074585, 0.03470224142074585, 0.03470224142074585, 0.03470224142074585, 0.03470224142074585, 0.03470224142074585, 0.03470224142074585, 0.03470224142074585, 0.03470224142074585, 0.03470224142074585, 0.03470224142074585, 0.03470224142074585, 0.03470224142074585, 0.03470224142074585, 0.03470224142074585, 0.0030682883225381374, 0.0030682883225381374, 0.0030682883225381374, 0.0030682883225381374, 0.0030682883225381374, 0.0030682883225381374, 0.0030682883225381374, 0.0030682883225381374, 0.0030682883225381374, 0.0030682883225381374, 0.0030682883225381374, 0.0030682883225381374, 0.0030682883225381374, 0.0030682883225381374, 0.0030682883225381374, 0.0030682883225381374, 0.0030682883225381374, 0.0030682883225381374, 0.0030682883225381374, 0.0030682883225381374, 0.0030682883225381374, 0.0030682883225381374, 0.0030682883225381374, 0.0030682883225381374, 0.0030682883225381374, 0.0030682883225381374, 0.0030682883225381374, 0.0030682883225381374, 0.0030682883225381374, 0.0030682883225381374, 0.0030682883225381374, 0.0030682883225381374, 0.0030682883225381374, 0.0030682883225381374, 0.0030682883225381374, 0.0030682883225381374, 0.0030682883225381374, 0.0030682883225381374, 0.0030682883225381374, 0.0030682883225381374, 0.0030682883225381374, 0.0030682883225381374, 0.0030682883225381374, 0.0030682883225381374, 0.0030682883225381374, 0.0030682883225381374, 0.0030682883225381374, 0.0030682883225381374, 0.0030682883225381374, 0.0030682883225381374, 0.0030682883225381374, 0.0030682883225381374, 0.0030682883225381374, 0.0030682883225381374, 0.0030682883225381374, 0.0030682883225381374, 0.0030682883225381374, 0.0030682883225381374, 0.0030682883225381374], \"Term\": [\"file\", \"follow\", \"function\", \"error\", \"class\", \"type\", \"value\", \"method\", \"call\", \"test\", \"object\", \"create\", \"line\", \"list\", \"application\", \"add\", \"problem\", \"time\", \"question\", \"show\", \"version\", \"datum\", \"return\", \"result\", \"user\", \"project\", \"server\", \"case\", \"give\", \"could\", \"problem\", \"image\", \"issue\", \"update\", \"solution\", \"page\", \"possible\", \"still\", \"output\", \"view\", \"fine\", \"message\", \"edit\", \"display\", \"memory\", \"load\", \"idea\", \"simple\", \"web\", \"main\", \"style\", \"end\", \"base\", \"far\", \"click\", \"client\", \"print\", \"suppose\", \"suggest\", \"available\", \"time\", \"could\", \"seem\", \"think\", \"build\", \"even\", \"take\", \"good\", \"thing\", \"point\", \"really\", \"link\", \"sure\", \"actually\", \"long\", \"well\", \"many\", \"compiler\", \"reason\", \"step\", \"task\", \"never\", \"next\", \"non\", \"avoid\", \"old\", \"configuration\", \"rather\", \"quite\", \"collection\", \"create\", \"add\", \"user\", \"new\", \"able\", \"contain\", \"reference\", \"default\", \"event\", \"note\", \"remove\", \"already\", \"component\", \"multiple\", \"handle\", \"currently\", \"exist\", \"custom\", \"key\", \"place\", \"full\", \"position\", \"trigger\", \"hold\", \"press\", \"entry\", \"override\", \"workaround\", \"moment\", \"soon\", \"fail\", \"question\", \"first\", \"help\", \"different\", \"write\", \"say\", \"read\", \"start\", \"program\", \"much\", \"bit\", \"come\", \"mean\", \"similar\", \"must\", \"pointer\", \"figure\", \"wonder\", \"explain\", \"appreciate\", \"resource\", \"action\", \"hide\", \"course\", \"basic\", \"thus\", \"recently\", \"hope\", \"yet\", \"anymore\", \"call\", \"system\", \"require\", \"pass\", \"instance\", \"thread\", \"information\", \"menu\", \"else\", \"group\", \"separate\", \"properly\", \"basically\", \"additional\", \"permission\", \"info\", \"sense\", \"root\", \"miss\", \"tree\", \"purpose\", \"scale\", \"drag\", \"article\", \"provider\", \"extra\", \"accord\", \"usage\", \"generic\", \"worker\", \"app\", \"answer\", \"option\", \"window\", \"provide\", \"standard\", \"specific\", \"tool\", \"tell\", \"video\", \"level\", \"mention\", \"slow\", \"present\", \"feel\", \"unable\", \"choose\", \"experience\", \"java\", \"instruction\", \"various\", \"platform\", \"obvious\", \"internet\", \"indicate\", \"regular\", \"quick\", \"possibly\", \"identity\", \"desktop\", \"value\", \"return\", \"request\", \"second\", \"send\", \"device\", \"single\", \"maybe\", \"vector\", \"previous\", \"original\", \"email\", \"increase\", \"account\", \"obviously\", \"high\", \"stage\", \"ok\", \"initial\", \"unique\", \"cycle\", \"customer\", \"fairly\", \"clarify\", \"period\", \"representation\", \"average\", \"rewrite\", \"mostly\", \"plain\", \"application\", \"size\", \"package\", \"model\", \"log\", \"instal\", \"specify\", \"side\", \"install\", \"target\", \"download\", \"machine\", \"controller\", \"set\", \"late\", \"enter\", \"begin\", \"otherwise\", \"minute\", \"binary\", \"confuse\", \"low\", \"intend\", \"storage\", \"ensure\", \"distribution\", \"advantage\", \"quickly\", \"strong\", \"consumer\", \"type\", \"name\", \"instead\", \"define\", \"bug\", \"simply\", \"product\", \"definition\", \"kind\", \"complete\", \"double\", \"attempt\", \"unfortunately\", \"later\", \"situation\", \"construct\", \"namespace\", \"hour\", \"necessary\", \"export\", \"online\", \"cost\", \"edge\", \"around\", \"ca\", \"modification\", \"license\", \"mine\", \"price\", \"messy\", \"function\", \"give\", \"case\", \"parameter\", \"perform\", \"environment\", \"switch\", \"certain\", \"useful\", \"development\", \"live\", \"prefer\", \"combination\", \"production\", \"manager\", \"complexity\", \"hear\", \"necessarily\", \"deployment\", \"familiar\", \"investigate\", \"lack\", \"scheme\", \"enterprise\", \"interpreter\", \"teach\", \"reliably\", \"convince\", \"lisp\", \"emacs\", \"object\", \"datum\", \"implement\", \"store\", \"access\", \"database\", \"valid\", \"entity\", \"represent\", \"frame\", \"data\", \"aware\", \"layer\", \"objective\", \"camera\", \"trivial\", \"instantiate\", \"business\", \"potential\", \"grab\", \"trust\", \"purely\", \"programatically\", \"appropriately\", \"filesystem\", \"business_logic\", \"item\", \"versionget\", \"knit\", \"strjoin\", \"reinterpret\", \"allright\", \"optimize_away\", \"trialist\", \"fab\", \"fabfile\", \"foovalue\", \"right\", \"open\", \"leave\", \"approach\", \"exactly\", \"ask\", \"structure\", \"manage\", \"suggestion\", \"import\", \"bottom\", \"enable\", \"enough\", \"believe\", \"deploy\", \"involve\", \"explanation\", \"almost\", \"merge\", \"letter\", \"speed\", \"optimization\", \"digit\", \"password\", \"essentially\", \"reset\", \"early\", \"upgrade\", \"person\", \"conversion\", \"follow\", \"list\", \"correct\", \"difference\", \"connection\", \"sort\", \"connect\", \"fast\", \"runtime\", \"mysql\", \"hand\", \"portion\", \"intellisense\", \"deny\", \"versionget\", \"tomanaully\", \"ifiyowhat\", \"strindex\", \"plastletter\", \"constructior\", \"sbrk\", \"ovid\", \"matchsomethe\", \"fdfsffdf\", \"swtrequire\", \"thatimplement\", \"knit\", \"vuuyx\", \"grant_permission\", \"terrorist\", \"pageant\", \"fab\", \"foovalue\", \"mining\", \"rvm\", \"beginrescueend\", \"filemerge\", \"trialist\", \"syntaxthank\", \"highscore\", \"initwithpath\", \"recorded_at\", \"neighter\", \"newpath\", \"adonet_archive\", \"brianupdatei\", \"version\", \"server\", \"generate\", \"source\", \"solve\", \"throw\", \"local\", \"response\", \"location\", \"control\", \"automatically\", \"configure\", \"repository\", \"retrieve\", \"sync\", \"interact\", \"stuck\", \"revision\", \"subversion\", \"thatimplement\", \"swtrequire\", \"proposition\", \"grant_permission\", \"fdfsffdf\", \"matchsomethe\", \"terrorist\", \"ovid\", \"reinterpret\", \"tomanaully\", \"omitable\", \"xmllog\", \"filemerge\", \"beginrescueend\", \"loadable\", \"rvm\", \"fabfile\", \"mining\", \"foovalue\", \"fab\", \"trialist\", \"davedelong\", \"compile\", \"library\", \"expect\", \"include\", \"would\", \"apply\", \"share\", \"int\", \"actual\", \"null\", \"stop\", \"parse\", \"design\", \"pattern\", \"common\", \"important\", \"often\", \"away\", \"cluster\", \"loader\", \"parser\", \"factory\", \"replicate\", \"fresh\", \"delimit\", \"mismatch\", \"overall\", \"sequential\", \"svn\", \"statically\", \"element\", \"process\", \"documentation\", \"query\", \"close\", \"small\", \"delete\", \"detail\", \"developer\", \"mode\", \"sign\", \"transform\", \"specifically\", \"layout\", \"track\", \"sql\", \"active\", \"optional\", \"lock\", \"guide\", \"medium\", \"interesting\", \"team\", \"raw\", \"care\", \"mess\", \"tab\", \"suspect\", \"kill\", \"overhead\", \"text\", \"string\", \"search\", \"match\", \"format\", \"word\", \"stre\", \"length\", \"extension\", \"due\", \"sequence\", \"extend\", \"fact\", \"condition\", \"general\", \"lead\", \"efficient\", \"reduce\", \"stackoverflow\", \"join\", \"faster\", \"regex\", \"dependent\", \"blank\", \"procedure\", \"escape\", \"capability\", \"friend\", \"impact\", \"utility\", \"file\", \"property\", \"script\", \"path\", \"copy\", \"successfully\", \"directory\", \"jar\", \"relative\", \"ease\", \"ant\", \"eventthe\", \"omitable\", \"plastletter\", \"sbrk\", \"ovid\", \"matchsomethe\", \"fdfsffdf\", \"tomanaully\", \"motherboard\", \"coredatabook\", \"thatimplement\", \"swtrequire\", \"grant_permission\", \"exatly\", \"terrorist\", \"reinterpret\", \"proposition\", \"optimize_away\", \"ifiyowhat\", \"perlin_noise\", \"noclassdeferror\", \"pageant\", \"neighter\", \"printpayload\", \"rightcolumn\", \"addedcolor\", \"callsit\", \"recorded_at\", \"htmlparser\", \"adonet_archive\", \"http_blogs\", \"brianupdatei\", \"trialist\", \"newpath\", \"initwithpath\", \"highscore\", \"public_void\", \"exctption\", \"error\", \"happen\", \"fix\", \"exception\", \"cause\", \"receive\", \"document\", \"commit\", \"catch\", \"proper\", \"binding\", \"windows_form\", \"fdfsffdf\", \"thatimplement\", \"tomanaully\", \"ovid\", \"matchsomethe\", \"grant_permission\", \"sbrk\", \"plastletter\", \"strindex\", \"ifiyowhat\", \"swtrequire\", \"functionso\", \"terrorist\", \"jsfiddle\", \"proposition\", \"optimize_away\", \"knit\", \"versionget\", \"http_blogs\", \"initwithpath\", \"activitygroup\", \"trialist\", \"exctption\", \"syntaxthank\", \"recorded_at\", \"htmlparser\", \"public_void\", \"highscore\", \"newpath\", \"callsit\", \"adonet_archive\", \"brianupdatei\", \"addedcolor\", \"rightcolumn\", \"filemerge\", \"neighter\", \"class\", \"project\", \"state\", \"relate\", \"interface\", \"public\", \"plugin\", \"register\", \"game\", \"interested\", \"talk\", \"assembly\", \"refresh\", \"card\", \"integrate\", \"protect\", \"ide\", \"coverage\", \"worth\", \"analysis\", \"applicable\", \"elsewhere\", \"bonus\", \"maintainable\", \"cell\", \"addline\", \"sbrk\", \"ourder\", \"ovid\", \"motherboard\", \"strindex\", \"fdfsffdf\", \"plastletter\", \"matchsomethe\", \"rvm\", \"beginrescueend\", \"pageant\", \"filemerge\", \"method\", \"com\", \"form\", \"comment\", \"net\", \"website\", \"tag\", \"safe\", \"http_www\", \"explicit\", \"sound\", \"goal\", \"pop\", \"distribute\", \"recommendation\", \"decent\", \"life\", \"trim\", \"mercurial\", \"fwrite\", \"swtrequire\", \"ovid\", \"sbrk\", \"plastletter\", \"matchsomethe\", \"fdfsffdf\", \"tomanaully\", \"thatimplement\", \"knit\", \"omitable\", \"resonable\", \"addedcolor\", \"fab\", \"foovalue\", \"questionbut\", \"mining\", \"rvm\", \"beginrescueend\", \"filemerge\", \"trialist\", \"syntaxthank\", \"number\", \"table\", \"select\", \"always\", \"column\", \"row\", \"back\", \"statement\", \"count\", \"finish\", \"xml\", \"regard\", \"stack_overflow\", \"waste\", \"cell\", \"knit\", \"optimize_away\", \"strindex\", \"exatly\", \"fwrite\", \"plastletter\", \"sbrk\", \"ovid\", \"constructior\", \"matchsomethe\", \"fdfsffdf\", \"omitable\", \"tomanaully\", \"thatimplement\", \"eventthe\", \"some_sequence\", \"emptiness\", \"swtrequire\", \"grant_permission\", \"terrorist\", \"reinterpret\", \"functionso\", \"proposition\", \"newpath\", \"adonet_archive\", \"featurename\", \"trialist\", \"syntaxthank\", \"recorded_at\", \"activitygroup\", \"htmlparser\", \"exctption\", \"addedcolor\", \"rightcolumn\", \"public_void\", \"neighter\", \"pageant\", \"highscore\", \"noclassdeferror\", \"allow\", \"consider\", \"address\", \"box\", \"folder\", \"assume\", \"empty\", \"upload\", \"php\", \"become\", \"setup\", \"rule\", \"face\", \"modify\", \"logic\", \"setting\", \"dynamically\", \"realize\", \"sorry\", \"fall\", \"stand\", \"htaccess\", \"dns\", \"good_practice\", \"complicated\", \"prone\", \"confirmation\", \"organization\", \"webserver\", \"personally\", \"show\", \"wrong\", \"content\", \"block\", \"correctly\", \"character\", \"big\", \"limit\", \"sometimes\", \"rest\", \"therefore\", \"ugly\", \"browse\", \"tooltip\", \"colleague\", \"item\", \"thatimplement\", \"ovid\", \"tomanaully\", \"fdfsffdf\", \"matchsomethe\", \"sbrk\", \"plastletter\", \"strindex\", \"swtrequire\", \"reinterpret\", \"grant_permission\", \"terrorist\", \"jsfiddle\", \"proposition\", \"optimize_away\", \"ifiyowhat\", \"knit\", \"trialist\", \"addedcolor\", \"syntaxthank\", \"recorded_at\", \"featurename\", \"filemerge\", \"htmlparser\", \"public_void\", \"activitygroup\", \"highscore\", \"neighter\", \"pageant\", \"noclassdeferror\", \"perlin_noise\", \"exctption\", \"line\", \"input\", \"field\", \"command\", \"browser\", \"play\", \"auto\", \"functionality\", \"raise\", \"software\", \"major\", \"love\", \"powershell\", \"oppose\", \"numerous\", \"favorite\", \"todaywhy\", \"versionget\", \"matchsomethe\", \"fdfsffdf\", \"tomanaully\", \"thatimplement\", \"swtrequire\", \"grant_permission\", \"terrorist\", \"reinterpret\", \"proposition\", \"optimize_away\", \"knit\", \"eventthe\", \"dairy\", \"rvm\", \"beginrescueend\", \"filemerge\", \"sacred\", \"trialist\", \"syntaxthank\", \"recorded_at\", \"htmlparser\", \"findelement\", \"addedcolor\", \"rightcolumn\", \"neighter\", \"pageant\", \"test\", \"header\", \"develop\", \"authentication\", \"unit\", \"warn\", \"alternative\", \"status\", \"easily\", \"exit\", \"internal\", \"engine\", \"focus\", \"generator\", \"guarantee\", \"normally\", \"verify\", \"difficult\", \"expose\", \"strike\", \"corporate\", \"webservice\", \"tdd\", \"proposition\", \"outputtext\", \"reinterpret\", \"undertaking\", \"terrorist\", \"optimize_away\", \"swtrequire\", \"fail\", \"grant_permission\", \"neighter\", \"trialist\", \"syntaxthank\", \"recorded_at\", \"htmlparser\", \"addedcolor\", \"keep\", \"post\", \"move\", \"feature\", \"date\", \"language\", \"framework\", \"job\", \"day\", \"validation\", \"validate\", \"recommend\", \"fdfsffdf\", \"terrorist\", \"matchsomethe\", \"ovid\", \"tomanaully\", \"thatimplement\", \"swtrequire\", \"grant_permission\", \"printpayload\", \"reinterpret\", \"proposition\", \"plastletter\", \"optimize_away\", \"knit\", \"versionget\", \"eventthe\", \"omitable\", \"constructior\", \"recorded_at\", \"htmlparser\", \"addedcolor\", \"noclassdeferror\", \"syntaxthank\", \"rightcolumn\", \"neighter\", \"pageant\", \"perlin_noise\", \"callsit\", \"trialist\", \"brianupdatei\", \"adonet_archive\", \"newpath\", \"initwithpath\", \"highscore\", \"public_void\", \"check\", \"array\", \"part\", \"index\", \"current\", \"determine\", \"calculation\", \"printpayload\", \"sizei\", \"vuuyx\", \"jsfiddle\", \"ifiyowhat\", \"strindex\", \"plastletter\", \"sbrk\", \"ovid\", \"matchsomethe\", \"fdfsffdf\", \"tomanaully\", \"thatimplement\", \"swtrequire\", \"grant_permission\", \"terrorist\", \"reinterpret\", \"proposition\", \"optimize_away\", \"knit\", \"versionget\", \"eventthe\", \"omitable\", \"addedcolor\", \"pageant\", \"neighter\", \"rightcolumn\", \"htmlparser\", \"recorded_at\", \"syntaxthank\", \"trialist\", \"noclassdeferror\", \"callsit\", \"perlin_noise\", \"beginrescueend\", \"http_blogs\", \"brianupdatei\", \"adonet_archive\", \"newpath\", \"initwithpath\", \"highscore\", \"public_void\", \"exctption\", \"activitygroup\", \"filemerge\", \"result\", \"let\", \"color\", \"implementation\", \"support\", \"white\", \"paint\", \"stored_procedure\", \"blend\", \"background\", \"item\", \"sbrk\", \"fdfsffdf\", \"matchsomethe\", \"ovid\", \"printpayload\", \"plastletter\", \"strindex\", \"thatimplement\", \"ifiyowhat\", \"jsfiddle\", \"tomanaully\", \"reinterpret\", \"swtrequire\", \"grant_permission\", \"terrorist\", \"cunfortunately\", \"proposition\", \"optimize_away\", \"knit\", \"vuuyx\", \"versionget\", \"eventthe\", \"omitable\", \"constructior\", \"filemerge\", \"syntaxthank\", \"trialist\", \"beginrescueend\", \"recorded_at\", \"mining\", \"rvm\", \"htmlparser\", \"addedcolor\", \"rightcolumn\", \"neighter\", \"pageant\", \"noclassdeferror\", \"perlin_noise\", \"callsit\", \"http_blogs\", \"brianupdatei\", \"adonet_archive\", \"newpath\", \"initwithpath\", \"printpayload\", \"iunknown\", \"implicitely\", \"setdefault\", \"sizei\", \"cunfortunately\", \"vuuyx\", \"jsfiddle\", \"ifiyowhat\", \"strindex\", \"plastletter\", \"sbrk\", \"ovid\", \"matchsomethe\", \"fdfsffdf\", \"tomanaully\", \"thatimplement\", \"swtrequire\", \"grant_permission\", \"terrorist\", \"reinterpret\", \"proposition\", \"optimize_away\", \"knit\", \"versionget\", \"eventthe\", \"omitable\", \"ipersistfile\", \"poison\", \"editorial\", \"beginrescueend\", \"trialist\", \"syntaxthank\", \"recorded_at\", \"htmlparser\", \"addedcolor\", \"rightcolumn\", \"neighter\", \"pageant\", \"noclassdeferror\", \"perlin_noise\", \"callsit\", \"http_blogs\", \"brianupdatei\", \"adonet_archive\", \"newpath\", \"initwithpath\", \"highscore\", \"public_void\", \"exctption\", \"activitygroup\", \"featurename\", \"defun\", \"connectedp\", \"journalid\", \"fetchallnote\", \"filemerge\", \"rvm\", \"thingscreate\"], \"Total\": [31723.0, 25144.0, 25510.0, 23284.0, 21771.0, 23140.0, 20105.0, 16989.0, 20259.0, 14046.0, 15666.0, 21075.0, 12448.0, 13872.0, 14328.0, 18986.0, 22941.0, 20834.0, 18030.0, 11400.0, 12481.0, 12601.0, 13404.0, 9928.0, 16720.0, 10926.0, 11126.0, 11324.0, 11313.0, 17676.0, 22941.6640625, 13601.1416015625, 11815.205078125, 11521.5029296875, 10875.6884765625, 10567.7607421875, 9965.0322265625, 9584.2958984375, 9020.7353515625, 8981.3505859375, 8928.3154296875, 8123.27978515625, 7548.9208984375, 7552.38525390625, 7198.94580078125, 6906.70458984375, 6703.51611328125, 6611.14404296875, 6004.93603515625, 5776.3203125, 5722.25146484375, 5632.62255859375, 5355.10400390625, 4547.40966796875, 4441.72119140625, 4197.861328125, 3904.099853515625, 3503.33251953125, 3287.03515625, 3146.083984375, 20834.7421875, 17676.455078125, 16910.16796875, 12305.7138671875, 10946.57421875, 9775.9814453125, 9558.89453125, 8006.8818359375, 7815.16162109375, 7176.92236328125, 7091.22119140625, 6970.01123046875, 6662.47607421875, 5504.06982421875, 5275.47998046875, 5175.095703125, 5133.42724609375, 5016.1787109375, 4979.9658203125, 3887.858154296875, 3669.0478515625, 3122.214111328125, 2846.999755859375, 2781.89111328125, 2765.40478515625, 2728.783203125, 2710.24365234375, 2667.132568359375, 2645.930908203125, 2585.270751953125, 21075.443359375, 18986.373046875, 16720.3125, 13414.7412109375, 8784.7685546875, 6953.56298828125, 6371.29248046875, 5921.66796875, 5908.4208984375, 5542.91259765625, 5334.904296875, 5172.560546875, 5152.6904296875, 4741.5302734375, 4695.384765625, 4571.9697265625, 4552.0673828125, 4531.64306640625, 3519.722900390625, 3274.6142578125, 3093.448974609375, 2564.12353515625, 1814.1048583984375, 1529.4840087890625, 1501.9578857421875, 1444.918701171875, 1430.5577392578125, 1196.056884765625, 1157.6231689453125, 847.4434814453125, 7007.275390625, 18030.7734375, 13421.927734375, 12743.279296875, 12189.4306640625, 11838.9365234375, 9864.8486328125, 9691.62890625, 9659.5537109375, 5933.12646484375, 5671.87158203125, 5536.89599609375, 5296.80712890625, 4989.47998046875, 4604.51123046875, 4407.6337890625, 3709.3095703125, 3577.396728515625, 3501.896240234375, 3420.98974609375, 3082.6201171875, 2998.98388671875, 2630.4267578125, 2622.566650390625, 2396.585693359375, 1867.94091796875, 1762.787353515625, 1594.197509765625, 1550.529541015625, 1287.91943359375, 1089.250732421875, 20259.541015625, 6578.98095703125, 5907.08447265625, 5575.564453125, 5143.18359375, 4753.57568359375, 3945.257080078125, 3823.72265625, 3653.0283203125, 2710.451416015625, 2514.830322265625, 2102.3330078125, 2066.65234375, 2014.46142578125, 1911.382080078125, 1698.9552001953125, 1694.8138427734375, 1510.3782958984375, 1493.77685546875, 1467.0615234375, 1414.857421875, 1396.3599853515625, 1370.875244140625, 1325.9326171875, 1209.3992919921875, 1169.2606201171875, 1143.010498046875, 1122.1697998046875, 1099.76611328125, 1039.1651611328125, 11128.224609375, 7802.4130859375, 6935.9697265625, 6820.90576171875, 5218.228515625, 4462.115234375, 4405.45849609375, 3573.76318359375, 3195.968994140625, 3038.11181640625, 2911.20703125, 2554.634765625, 2258.26025390625, 1841.0887451171875, 1736.1676025390625, 1658.9329833984375, 1620.1995849609375, 1531.596923828125, 1480.9552001953125, 1386.861572265625, 1371.700927734375, 1249.15185546875, 1078.764892578125, 1075.3870849609375, 1074.897216796875, 867.349609375, 777.37646484375, 720.6040649414062, 679.1344604492188, 574.0806884765625, 20105.642578125, 13404.927734375, 7037.6982421875, 6581.40380859375, 5739.50634765625, 4766.94287109375, 3601.49267578125, 2827.82958984375, 2117.373779296875, 2030.65869140625, 1867.2337646484375, 1570.162841796875, 1534.1925048828125, 1405.21826171875, 1353.2359619140625, 1246.131591796875, 1161.1141357421875, 973.8182983398438, 870.9297485351562, 794.3987426757812, 629.9255981445312, 622.9044189453125, 582.9513549804688, 514.7428588867188, 511.69891357421875, 490.8423767089844, 453.74163818359375, 428.8092346191406, 401.7583923339844, 365.1921081542969, 14328.5888671875, 8351.0947265625, 5818.44580078125, 4274.79345703125, 4147.52734375, 3260.96435546875, 3040.07958984375, 2933.191650390625, 2742.02978515625, 2658.097412109375, 2638.960693359375, 2387.736572265625, 2348.3798828125, 2136.091552734375, 2134.6923828125, 1679.47509765625, 1503.5206298828125, 1287.5572509765625, 1262.8505859375, 1208.59716796875, 1162.945068359375, 1135.1220703125, 821.3035278320312, 817.7056884765625, 662.6054077148438, 523.5225830078125, 383.70458984375, 381.81219482421875, 248.1627197265625, 246.7963104248047, 23140.4765625, 10988.4375, 5923.6259765625, 5692.71875, 2617.05908203125, 2514.224365234375, 2330.76806640625, 2015.3914794921875, 2004.1134033203125, 1937.1009521484375, 1762.091064453125, 1736.2147216796875, 1515.8194580078125, 1494.455810546875, 1457.370361328125, 1257.4866943359375, 1109.9775390625, 1072.5101318359375, 1026.6710205078125, 930.843505859375, 755.498046875, 539.1792602539062, 523.9216918945312, 420.4862060546875, 281.83074951171875, 253.49940490722656, 202.76231384277344, 200.29112243652344, 195.49566650390625, 178.8223419189453, 25510.623046875, 11313.59375, 11324.623046875, 3207.446533203125, 2414.2021484375, 1869.762451171875, 1868.9019775390625, 1663.52001953125, 1224.1663818359375, 1189.113525390625, 1084.507080078125, 1060.4580078125, 900.0709838867188, 897.392333984375, 863.8972778320312, 768.2149658203125, 393.5343017578125, 371.6780090332031, 360.1163330078125, 339.1224670410156, 261.5028076171875, 234.12033081054688, 191.88043212890625, 172.0557403564453, 117.52665710449219, 110.76331329345703, 86.03617858886719, 50.489070892333984, 36.585914611816406, 6.462908744812012, 15666.4892578125, 12601.7275390625, 8476.2099609375, 6596.8359375, 6367.8095703125, 5094.35546875, 2093.755615234375, 1831.3397216796875, 1682.0487060546875, 1497.071044921875, 1223.6494140625, 1140.6275634765625, 1026.8419189453125, 906.7047119140625, 732.4765625, 538.0084228515625, 513.3890991210938, 336.3883361816406, 332.7168884277344, 195.34552001953125, 146.34344482421875, 121.17564392089844, 118.69669342041016, 75.30068969726562, 64.36022186279297, 32.579689025878906, 1.1250089406967163, 1.1250089406967163, 1.1250089406967163, 1.1250089406967163, 1.1250089406967163, 1.1250089406967163, 1.1250089406967163, 1.1250089406967163, 1.1250089406967163, 1.1250089406967163, 1.1250089406967163, 7792.7041015625, 6124.55419921875, 5471.55908203125, 4215.595703125, 3310.77783203125, 3081.59033203125, 2919.904541015625, 2592.715087890625, 2558.4013671875, 2173.887451171875, 2077.140380859375, 2048.697021484375, 1606.65869140625, 1463.09423828125, 1225.0047607421875, 1075.99365234375, 1000.637451171875, 985.6016235351562, 943.6690673828125, 912.0172119140625, 895.429931640625, 788.9959106445312, 721.6211547851562, 716.2798461914062, 640.9893188476562, 631.4462280273438, 590.9229736328125, 576.8363647460938, 543.09033203125, 538.1002197265625, 25144.904296875, 13872.9169921875, 5688.93408203125, 4259.1513671875, 2770.6826171875, 2412.52783203125, 2055.417724609375, 2000.6180419921875, 1428.3804931640625, 1189.1820068359375, 920.3005981445312, 274.7320556640625, 230.01312255859375, 82.2816390991211, 1.1250089406967163, 1.1250089406967163, 1.1250089406967163, 1.1250089406967163, 1.1250089406967163, 1.1250089406967163, 1.1250089406967163, 1.1250089406967163, 1.1250089406967163, 1.1250089406967163, 1.1250089406967163, 1.1250089406967163, 1.1250089406967163, 1.1250089406967163, 1.1250089406967163, 1.1250089406967163, 1.1250089406967163, 1.1250089406967163, 1.1250089406967163, 1.1250089406967163, 1.1250089406967163, 1.1250089406967163, 1.1250089406967163, 1.1250089406967163, 1.1250089406967163, 1.1250089406967163, 1.1250089406967163, 1.1250089406967163, 1.1250089406967163, 1.1250089406967163, 1.1250089406967163, 1.1250089406967163, 12481.869140625, 11126.494140625, 6163.20068359375, 4724.4150390625, 4310.6416015625, 3754.49072265625, 3483.072021484375, 3232.611328125, 2857.869384765625, 2684.35205078125, 2435.67529296875, 1629.117919921875, 1296.7947998046875, 937.6686401367188, 333.6722412109375, 145.50103759765625, 134.26856994628906, 65.90235137939453, 26.4880428314209, 1.1250089406967163, 1.1250089406967163, 1.1250089406967163, 1.1250089406967163, 1.1250089406967163, 1.1250089406967163, 1.1250089406967163, 1.1250089406967163, 1.1250089406967163, 1.1250089406967163, 1.1250089406967163, 1.1250089406967163, 1.1250089406967163, 1.1250089406967163, 1.1250089406967163, 1.1250089406967163, 1.1250089406967163, 1.1250089406967163, 1.1250089406967163, 1.1250089406967163, 1.1250089406967163, 1.1250089406967163, 6819.92333984375, 6778.92578125, 5958.390625, 5846.36376953125, 5817.5263671875, 3346.2021484375, 2589.4189453125, 2558.780029296875, 2308.65576171875, 2247.947998046875, 2131.93017578125, 1821.7196044921875, 1815.0531005859375, 1761.0897216796875, 1698.177001953125, 1531.2335205078125, 1054.5963134765625, 933.0072021484375, 787.0403442382812, 592.8642578125, 589.1876220703125, 578.3103637695312, 516.228759765625, 265.1001281738281, 182.94601440429688, 180.6205596923828, 178.6421661376953, 153.5772247314453, 86.7373046875, 57.92287063598633, 8888.9296875, 6497.53466796875, 4071.039306640625, 3909.817138671875, 3313.1943359375, 2964.460693359375, 2439.405517578125, 2406.550537109375, 2191.153564453125, 1756.77392578125, 1624.8348388671875, 1535.8656005859375, 1452.47265625, 1409.2806396484375, 1107.2318115234375, 1077.952392578125, 1047.74560546875, 994.42529296875, 776.2615966796875, 762.085693359375, 755.8143310546875, 718.9901733398438, 687.3609008789062, 685.9754028320312, 685.3193359375, 623.9287109375, 556.2010498046875, 530.3885498046875, 519.9900512695312, 510.2288513183594, 7935.80029296875, 7721.49658203125, 4345.732421875, 4340.7587890625, 2711.78173828125, 2536.259521484375, 2256.5419921875, 1908.93603515625, 1833.966552734375, 1686.2823486328125, 1670.0386962890625, 1630.2403564453125, 1494.2935791015625, 1323.551513671875, 1198.5750732421875, 1126.154296875, 1012.625732421875, 1008.2485961914062, 823.165771484375, 594.4398803710938, 593.37548828125, 584.5599365234375, 584.3460083007812, 568.444091796875, 466.10968017578125, 461.3951721191406, 351.4983215332031, 326.5372009277344, 310.2291564941406, 297.52996826171875, 31723.177734375, 5624.99755859375, 3983.284912109375, 3783.11328125, 3315.339111328125, 1951.9512939453125, 1877.01220703125, 1178.6275634765625, 474.14276123046875, 234.85345458984375, 48.851158142089844, 1.1250089406967163, 1.1250089406967163, 1.1250089406967163, 1.1250089406967163, 1.1250089406967163, 1.1250089406967163, 1.1250089406967163, 1.1250089406967163, 1.1250089406967163, 1.1250089406967163, 1.1250089406967163, 1.1250089406967163, 1.1250089406967163, 1.1250089406967163, 1.1250089406967163, 1.1250089406967163, 1.1250089406967163, 1.1250089406967163, 1.1250089406967163, 1.1250089406967163, 1.1250089406967163, 1.1250089406967163, 1.1250089406967163, 1.1250089406967163, 1.1250089406967163, 1.1250089406967163, 1.1250089406967163, 1.1250089406967163, 1.1250089406967163, 1.1250089406967163, 1.1250089406967163, 1.1250089406967163, 1.1250089406967163, 1.1250089406967163, 1.1250089406967163, 1.1250089406967163, 1.1250089406967163, 1.1250089406967163, 23284.75, 7018.05078125, 5633.07080078125, 5493.99609375, 3804.874267578125, 3228.299072265625, 2477.84765625, 1292.9344482421875, 1026.5963134765625, 1021.1591186523438, 9.145926475524902, 1.5007244348526, 1.1250089406967163, 1.1250089406967163, 1.1250089406967163, 1.1250089406967163, 1.1250089406967163, 1.1250089406967163, 1.1250089406967163, 1.1250089406967163, 1.1250089406967163, 1.1250089406967163, 1.1250089406967163, 1.1250089406967163, 1.1250089406967163, 1.1250089406967163, 1.1250089406967163, 1.1250089406967163, 1.1250089406967163, 1.1250089406967163, 1.1250089406967163, 1.1250089406967163, 1.1250089406967163, 1.1250089406967163, 1.1250089406967163, 1.1250089406967163, 1.1250089406967163, 1.1250089406967163, 1.1250089406967163, 1.1250089406967163, 1.1250089406967163, 1.1250089406967163, 1.1250089406967163, 1.1250089406967163, 1.1250089406967163, 1.1250089406967163, 1.1250089406967163, 1.1250089406967163, 21771.916015625, 10926.3154296875, 4513.88720703125, 2796.897216796875, 2306.32763671875, 1798.2718505859375, 1271.1202392578125, 1221.9212646484375, 904.6489868164062, 841.0342407226562, 725.1362915039062, 716.0294189453125, 563.73291015625, 562.3153686523438, 512.9937744140625, 451.2928466796875, 413.1468505859375, 375.1324768066406, 313.1645812988281, 296.2212829589844, 193.60842895507812, 189.9668731689453, 94.67371368408203, 12.163840293884277, 1.1250089406967163, 1.1250089406967163, 1.1250089406967163, 1.1250089406967163, 1.1250089406967163, 1.1250089406967163, 1.1250089406967163, 1.1250089406967163, 1.1250089406967163, 1.1250089406967163, 1.1250089406967163, 1.1250089406967163, 1.1250089406967163, 1.1250089406967163, 16989.958984375, 8057.828125, 6817.77685546875, 3453.389892578125, 2850.20556640625, 2221.198486328125, 1926.967529296875, 782.0979614257812, 781.6298828125, 760.2767944335938, 721.1707153320312, 694.93994140625, 588.5552978515625, 354.5204772949219, 183.03955078125, 163.2266845703125, 104.24014282226562, 84.49600982666016, 1.9762052297592163, 1.1250089406967163, 1.1250089406967163, 1.1250089406967163, 1.1250089406967163, 1.1250089406967163, 1.1250089406967163, 1.1250089406967163, 1.1250089406967163, 1.1250089406967163, 1.1250089406967163, 1.1250089406967163, 1.1250089406967163, 1.1250089406967163, 1.1250089406967163, 1.1250089406967163, 1.1250089406967163, 1.1250089406967163, 1.1250089406967163, 1.1250089406967163, 1.1250089406967163, 1.1250089406967163, 1.1250089406967163, 9981.62890625, 7217.19287109375, 5054.99169921875, 4750.32177734375, 4680.02734375, 4518.58251953125, 3205.6357421875, 3030.774169921875, 1496.528564453125, 1225.7269287109375, 988.2000732421875, 827.6790771484375, 342.2049255371094, 65.34957885742188, 1.1250089406967163, 1.1250089406967163, 1.1250089406967163, 1.1250089406967163, 1.1250089406967163, 1.1250089406967163, 1.1250089406967163, 1.1250089406967163, 1.1250089406967163, 1.1250089406967163, 1.1250089406967163, 1.1250089406967163, 1.1250089406967163, 1.1250089406967163, 1.1250089406967163, 1.1250089406967163, 1.1250089406967163, 1.1250089406967163, 1.1250089406967163, 1.1250089406967163, 1.1250089406967163, 1.1250089406967163, 1.1250089406967163, 1.1250089406967163, 1.1250089406967163, 1.1250089406967163, 1.1250089406967163, 1.1250089406967163, 1.1250089406967163, 1.1250089406967163, 1.1250089406967163, 1.1250089406967163, 1.1250089406967163, 1.1250089406967163, 1.1250089406967163, 1.1250089406967163, 1.1250089406967163, 1.1250089406967163, 1.1250089406967163, 1.1250089406967163, 4952.52099609375, 4258.6806640625, 3250.49267578125, 2740.109375, 2636.9228515625, 2544.2509765625, 2402.23291015625, 2328.275146484375, 2295.577392578125, 2146.96630859375, 1838.1666259765625, 1818.969970703125, 1727.5206298828125, 1558.2333984375, 1364.8614501953125, 1114.446533203125, 986.4384765625, 583.5327758789062, 490.38983154296875, 330.75091552734375, 310.97119140625, 206.83071899414062, 177.60504150390625, 162.3052520751953, 160.72320556640625, 103.16736602783203, 84.90827941894531, 69.91845703125, 64.47511291503906, 62.01365661621094, 11400.134765625, 5385.69677734375, 4811.3984375, 3966.374267578125, 3168.24462890625, 3126.474853515625, 2231.920654296875, 2095.57421875, 1574.085693359375, 1517.081298828125, 1073.7586669921875, 518.1920776367188, 267.72186279296875, 193.6092071533203, 142.7908477783203, 1.1250089406967163, 1.1250089406967163, 1.1250089406967163, 1.1250089406967163, 1.1250089406967163, 1.1250089406967163, 1.1250089406967163, 1.1250089406967163, 1.1250089406967163, 1.1250089406967163, 1.1250089406967163, 1.1250089406967163, 1.1250089406967163, 1.1250089406967163, 1.1250089406967163, 1.1250089406967163, 1.1250089406967163, 1.1250089406967163, 1.1250089406967163, 1.1250089406967163, 1.1250089406967163, 1.1250089406967163, 1.1250089406967163, 1.1250089406967163, 1.1250089406967163, 1.1250089406967163, 1.1250089406967163, 1.1250089406967163, 1.1250089406967163, 1.1250089406967163, 1.1250089406967163, 1.1250089406967163, 1.1250089406967163, 12448.78125, 6114.255859375, 4176.853515625, 3779.084228515625, 3679.12939453125, 2511.743408203125, 1521.873779296875, 1366.6097412109375, 814.1320190429688, 544.6277465820312, 451.603271484375, 374.7182312011719, 253.53305053710938, 148.8551788330078, 131.56581115722656, 70.73365783691406, 1.1250089406967163, 1.1250089406967163, 1.1250089406967163, 1.1250089406967163, 1.1250089406967163, 1.1250089406967163, 1.1250089406967163, 1.1250089406967163, 1.1250089406967163, 1.1250089406967163, 1.1250089406967163, 1.1250089406967163, 1.1250089406967163, 1.1250089406967163, 1.1250089406967163, 1.1250089406967163, 1.1250089406967163, 1.1250089406967163, 1.1250089406967163, 1.1250089406967163, 1.1250089406967163, 1.1250089406967163, 1.1250089406967163, 1.1250089406967163, 1.1250089406967163, 1.1250089406967163, 1.1250089406967163, 1.1250089406967163, 14046.111328125, 2128.988037109375, 1916.8980712890625, 1643.5191650390625, 1440.5628662109375, 1423.081298828125, 1362.544189453125, 1251.25390625, 1194.622802734375, 1163.3326416015625, 1061.333740234375, 863.9583129882812, 842.5208129882812, 840.87060546875, 840.4323120117188, 711.937255859375, 656.8550415039062, 434.0433044433594, 362.2265930175781, 68.8199234008789, 46.182708740234375, 6.9265923500061035, 1.8239747285842896, 1.1250089406967163, 1.1250089406967163, 1.1250089406967163, 1.1250089406967163, 1.1250089406967163, 1.1250089406967163, 1.1250089406967163, 7007.275390625, 1.1250089406967163, 1.1250089406967163, 1.1250089406967163, 1.1250089406967163, 1.1250089406967163, 1.1250089406967163, 1.1250089406967163, 4813.38671875, 4557.03515625, 3901.3076171875, 2998.164306640625, 2892.447265625, 2739.73388671875, 2082.726318359375, 1987.1181640625, 1653.63623046875, 1184.495849609375, 737.2792358398438, 613.4464111328125, 1.1250089406967163, 1.1250089406967163, 1.1250089406967163, 1.1250089406967163, 1.1250089406967163, 1.1250089406967163, 1.1250089406967163, 1.1250089406967163, 1.1250089406967163, 1.1250089406967163, 1.1250089406967163, 1.1250089406967163, 1.1250089406967163, 1.1250089406967163, 1.1250089406967163, 1.1250089406967163, 1.1250089406967163, 1.1250089406967163, 1.1250089406967163, 1.1250089406967163, 1.1250089406967163, 1.1250089406967163, 1.1250089406967163, 1.1250089406967163, 1.1250089406967163, 1.1250089406967163, 1.1250089406967163, 1.1250089406967163, 1.1250089406967163, 1.1250089406967163, 1.1250089406967163, 1.1250089406967163, 1.1250089406967163, 1.1250089406967163, 1.1250089406967163, 7696.40185546875, 5878.0517578125, 5078.42236328125, 4651.4111328125, 4272.40966796875, 1313.8948974609375, 484.2100524902344, 1.1250089406967163, 1.1250089406967163, 1.1250089406967163, 1.1250089406967163, 1.1250089406967163, 1.1250089406967163, 1.1250089406967163, 1.1250089406967163, 1.1250089406967163, 1.1250089406967163, 1.1250089406967163, 1.1250089406967163, 1.1250089406967163, 1.1250089406967163, 1.1250089406967163, 1.1250089406967163, 1.1250089406967163, 1.1250089406967163, 1.1250089406967163, 1.1250089406967163, 1.1250089406967163, 1.1250089406967163, 1.1250089406967163, 1.1250089406967163, 1.1250089406967163, 1.1250089406967163, 1.1250089406967163, 1.1250089406967163, 1.1250089406967163, 1.1250089406967163, 1.1250089406967163, 1.1250089406967163, 1.1250089406967163, 1.1250089406967163, 1.1250089406967163, 1.1250089406967163, 1.1250089406967163, 1.1250089406967163, 1.1250089406967163, 1.1250089406967163, 1.1250089406967163, 1.1250089406967163, 1.1250089406967163, 1.1250089406967163, 1.1250089406967163, 9928.630859375, 5053.19580078125, 4620.88623046875, 4614.88671875, 4310.36669921875, 543.4696655273438, 241.8607940673828, 45.34114456176758, 27.86023712158203, 1.1250089406967163, 1.1250089406967163, 1.1250089406967163, 1.1250089406967163, 1.1250089406967163, 1.1250089406967163, 1.1250089406967163, 1.1250089406967163, 1.1250089406967163, 1.1250089406967163, 1.1250089406967163, 1.1250089406967163, 1.1250089406967163, 1.1250089406967163, 1.1250089406967163, 1.1250089406967163, 1.1250089406967163, 1.1250089406967163, 1.1250089406967163, 1.1250089406967163, 1.1250089406967163, 1.1250089406967163, 1.1250089406967163, 1.1250089406967163, 1.1250089406967163, 1.1250089406967163, 1.1250089406967163, 1.1250089406967163, 1.1250089406967163, 1.1250089406967163, 1.1250089406967163, 1.1250089406967163, 1.1250089406967163, 1.1250089406967163, 1.1250089406967163, 1.1250089406967163, 1.1250089406967163, 1.1250089406967163, 1.1250089406967163, 1.1250089406967163, 1.1250089406967163, 1.1250089406967163, 1.1250089406967163, 1.1250089406967163, 1.1250089406967163, 1.1250089406967163, 1.1250089406967163, 1.1250089406967163, 1.1250089406967163, 1.1250089406967163, 1.1250089406967163, 1.1250089406967163, 1.1250089406967163, 1.1250089406967163, 1.1250089406967163, 1.1250089406967163, 1.1250089406967163, 1.1250089406967163, 1.1250089406967163, 1.1250089406967163, 1.1250089406967163, 1.1250089406967163, 1.1250089406967163, 1.1250089406967163, 1.1250089406967163, 1.1250089406967163, 1.1250089406967163, 1.1250089406967163, 1.1250089406967163, 1.1250089406967163, 1.1250089406967163, 1.1250089406967163, 1.1250089406967163, 1.1250089406967163, 1.1250089406967163, 1.1250089406967163, 1.1250089406967163, 1.1250089406967163, 1.1250089406967163, 1.1250089406967163, 1.1250089406967163, 1.1250089406967163, 1.1250089406967163, 1.1250089406967163, 1.1250089406967163, 1.1250089406967163, 1.1250089406967163, 1.1250089406967163, 1.1250089406967163, 1.1250089406967163, 1.1250089406967163, 1.1250089406967163, 1.1250089406967163, 1.1250089406967163, 1.1250089406967163, 1.1250089406967163, 1.1250089406967163, 1.1250089406967163, 1.1250089406967163, 1.1250089406967163, 1.1250089406967163, 1.1250089406967163, 1.1250089406967163, 1.1250089406967163, 1.1250089406967163], \"loglift\": [30.0, 29.0, 28.0, 27.0, 26.0, 25.0, 24.0, 23.0, 22.0, 21.0, 20.0, 19.0, 18.0, 17.0, 16.0, 15.0, 14.0, 13.0, 12.0, 11.0, 10.0, 9.0, 8.0, 7.0, 6.0, 5.0, 4.0, 3.0, 2.0, 1.0, 2.1061999797821045, 2.1061999797821045, 2.1061999797821045, 2.1061999797821045, 2.1061999797821045, 2.1061999797821045, 2.1061999797821045, 2.1061999797821045, 2.106100082397461, 2.106100082397461, 2.106100082397461, 2.106100082397461, 2.106100082397461, 2.106100082397461, 2.106100082397461, 2.106100082397461, 2.106100082397461, 2.106100082397461, 2.106100082397461, 2.106100082397461, 2.106100082397461, 2.106100082397461, 2.106100082397461, 2.1059999465942383, 2.1059999465942383, 2.1059999465942383, 2.1059999465942383, 2.1059999465942383, 2.1059000492095947, 2.1059000492095947, 2.243000030517578, 2.243000030517578, 2.243000030517578, 2.2428998947143555, 2.2428998947143555, 2.2428998947143555, 2.2428998947143555, 2.2428998947143555, 2.2428998947143555, 2.2428998947143555, 2.2428998947143555, 2.2428998947143555, 2.2428998947143555, 2.242799997329712, 2.242799997329712, 2.242799997329712, 2.242799997329712, 2.242799997329712, 2.242799997329712, 2.242799997329712, 2.2427000999450684, 2.2427000999450684, 2.2427000999450684, 2.2425999641418457, 2.2425999641418457, 2.2425999641418457, 2.2425999641418457, 2.2425999641418457, 2.2425999641418457, 2.2425999641418457, 2.5732998847961426, 2.5732998847961426, 2.5732998847961426, 2.5732998847961426, 2.573199987411499, 2.573199987411499, 2.573199987411499, 2.573199987411499, 2.573199987411499, 2.573199987411499, 2.5731000900268555, 2.5731000900268555, 2.5731000900268555, 2.5731000900268555, 2.5731000900268555, 2.5731000900268555, 2.5731000900268555, 2.5731000900268555, 2.572999954223633, 2.572999954223633, 2.572999954223633, 2.5729000568389893, 2.572700023651123, 2.5725998878479004, 2.5725998878479004, 2.5725998878479004, 2.5725998878479004, 2.5724000930786133, 2.5724000930786133, 2.5720999240875244, 2.5469000339508057, 2.5873000621795654, 2.5873000621795654, 2.5873000621795654, 2.5873000621795654, 2.5873000621795654, 2.5873000621795654, 2.5873000621795654, 2.5873000621795654, 2.5871999263763428, 2.5871999263763428, 2.5871999263763428, 2.5871999263763428, 2.5871999263763428, 2.587100028991699, 2.587100028991699, 2.587100028991699, 2.587100028991699, 2.587100028991699, 2.587100028991699, 2.5869998931884766, 2.5869998931884766, 2.5869998931884766, 2.5869998931884766, 2.586899995803833, 2.5868000984191895, 2.5868000984191895, 2.586699962615967, 2.586699962615967, 2.5864999294281006, 2.586400032043457, 3.122299909591675, 3.1222000122070312, 3.1222000122070312, 3.1222000122070312, 3.1222000122070312, 3.1222000122070312, 3.1221001148223877, 3.1221001148223877, 3.1221001148223877, 3.121999979019165, 3.121999979019165, 3.1219000816345215, 3.1219000816345215, 3.1219000816345215, 3.121799945831299, 3.121799945831299, 3.121799945831299, 3.1217000484466553, 3.1217000484466553, 3.1217000484466553, 3.1215999126434326, 3.1215999126434326, 3.1215999126434326, 3.1215999126434326, 3.121500015258789, 3.121500015258789, 3.1214001178741455, 3.1214001178741455, 3.1214001178741455, 3.121299982070923, 3.2348999977111816, 3.2348999977111816, 3.2348999977111816, 3.2348999977111816, 3.234800100326538, 3.234800100326538, 3.234800100326538, 3.2346999645233154, 3.2346999645233154, 3.2346999645233154, 3.2346999645233154, 3.234600067138672, 3.234600067138672, 3.2344000339508057, 3.2344000339508057, 3.2344000339508057, 3.2344000339508057, 3.234299898147583, 3.234299898147583, 3.234299898147583, 3.2342000007629395, 3.2342000007629395, 3.2339999675750732, 3.2339999675750732, 3.2339999675750732, 3.233799934387207, 3.233599901199341, 3.2335000038146973, 3.2334001064300537, 3.233099937438965, 3.2880001068115234, 3.2880001068115234, 3.287899971008301, 3.287899971008301, 3.287899971008301, 3.2878000736236572, 3.2878000736236572, 3.2876999378204346, 3.287600040435791, 3.2874999046325684, 3.2874999046325684, 3.287400007247925, 3.287400007247925, 3.2873001098632812, 3.2873001098632812, 3.2871999740600586, 3.287100076675415, 3.2869999408721924, 3.286799907684326, 3.2867000102996826, 3.28629994392395, 3.28629994392395, 3.2862000465393066, 3.2860000133514404, 3.285900115966797, 3.285900115966797, 3.2857000827789307, 3.2855000495910645, 3.285399913787842, 3.285099983215332, 3.4126999378204346, 3.4126999378204346, 3.412600040435791, 3.4124999046325684, 3.4124999046325684, 3.4124999046325684, 3.412400007247925, 3.412400007247925, 3.412400007247925, 3.412400007247925, 3.412400007247925, 3.4123001098632812, 3.4123001098632812, 3.4123001098632812, 3.4123001098632812, 3.4121999740600586, 3.412100076675415, 3.4119999408721924, 3.411900043487549, 3.411900043487549, 3.411900043487549, 3.411799907684326, 3.4114999771118164, 3.4114999771118164, 3.4112000465393066, 3.4107000827789307, 3.4100000858306885, 3.4100000858306885, 3.408400058746338, 3.408400058746338, 3.424999952316284, 3.4249000549316406, 3.424799919128418, 3.424799919128418, 3.4245998859405518, 3.4245998859405518, 3.4245998859405518, 3.424499988555908, 3.424499988555908, 3.424499988555908, 3.4244000911712646, 3.4244000911712646, 3.424299955368042, 3.424299955368042, 3.424299955368042, 3.4242000579833984, 3.4240000247955322, 3.4240000247955322, 3.4240000247955322, 3.423799991607666, 3.4235999584198, 3.4230000972747803, 3.4228999614715576, 3.4223999977111816, 3.421099901199341, 3.4207000732421875, 3.419600009918213, 3.419600009918213, 3.4193999767303467, 3.4189000129699707, 3.513700008392334, 3.5136001110076904, 3.5136001110076904, 3.513400077819824, 3.5132999420166016, 3.513200044631958, 3.513200044631958, 3.5130999088287354, 3.5129001140594482, 3.5127999782562256, 3.512700080871582, 3.512700080871582, 3.512500047683716, 3.512500047683716, 3.512500047683716, 3.5123000144958496, 3.510999917984009, 3.5107998847961426, 3.510699987411499, 3.510499954223633, 3.5095999240875244, 3.5090999603271484, 3.5081000328063965, 3.5074000358581543, 3.5044000148773193, 3.5039000511169434, 3.500999927520752, 3.492000102996826, 3.483599901199341, 3.329400062561035, 3.517899990081787, 3.517899990081787, 3.5178000926971436, 3.5178000926971436, 3.5178000926971436, 3.5178000926971436, 3.5174999237060547, 3.517400026321411, 3.5172998905181885, 3.517199993133545, 3.5171000957489014, 3.5169999599456787, 3.516900062561035, 3.5167999267578125, 3.5164999961853027, 3.5160000324249268, 3.515899896621704, 3.514699935913086, 3.514699935913086, 3.512399911880493, 3.510499954223633, 3.509000062942505, 3.5088000297546387, 3.503499984741211, 3.500999927520752, 3.484100103378296, 0.18029999732971191, 0.18029999732971191, 0.18029999732971191, 0.18029999732971191, 0.18029999732971191, 0.18029999732971191, 0.18029999732971191, 0.18029999732971191, 0.18029999732971191, 0.18029999732971191, 0.18029999732971191, 3.6110000610351562, 3.6108999252319336, 3.6108999252319336, 3.6108999252319336, 3.61080002784729, 3.61080002784729, 3.6106998920440674, 3.6106998920440674, 3.6106998920440674, 3.610599994659424, 3.610599994659424, 3.610599994659424, 3.6103999614715576, 3.6103999614715576, 3.6101999282836914, 3.610100030899048, 3.609999895095825, 3.609999895095825, 3.609999895095825, 3.6098999977111816, 3.6098999977111816, 3.6096999645233154, 3.609600067138672, 3.609600067138672, 3.6094000339508057, 3.6094000339508057, 3.609299898147583, 3.6092000007629395, 3.609100103378296, 3.609100103378296, 3.624000072479248, 3.624000072479248, 3.623800039291382, 3.623800039291382, 3.6236000061035156, 3.6236000061035156, 3.623500108718872, 3.623500108718872, 3.623300075531006, 3.6231000423431396, 3.6229000091552734, 3.6201000213623047, 3.61929988861084, 3.6106998920440674, 0.22010000050067902, 0.22010000050067902, 0.22010000050067902, 0.22010000050067902, 0.22010000050067902, 0.22010000050067902, 0.22010000050067902, 0.22010000050067902, 0.22010000050067902, 0.22010000050067902, 0.22010000050067902, 0.22010000050067902, 0.22010000050067902, 0.22010000050067902, 0.22010000050067902, 0.22010000050067902, 0.22010000050067902, 0.22010000050067902, 0.22010000050067902, 0.22010000050067902, 0.22010000050067902, 0.22010000050067902, 0.22010000050067902, 0.22010000050067902, 0.22010000050067902, 0.22010000050067902, 0.22010000050067902, 0.22010000050067902, 0.22010000050067902, 0.22010000050067902, 0.22010000050067902, 0.22010000050067902, 3.628700017929077, 3.628700017929077, 3.6285998821258545, 3.628499984741211, 3.628499984741211, 3.628499984741211, 3.6284000873565674, 3.6284000873565674, 3.6284000873565674, 3.6284000873565674, 3.6282999515533447, 3.6280999183654785, 3.6278998851776123, 3.6275999546051025, 3.625499963760376, 3.621299982070923, 3.620699882507324, 3.6122000217437744, 3.5869998931884766, 0.31439998745918274, 0.31439998745918274, 0.31439998745918274, 0.31439998745918274, 0.31439998745918274, 0.31439998745918274, 0.31439998745918274, 0.31439998745918274, 0.31439998745918274, 0.31439998745918274, 0.31439998745918274, 0.31439998745918274, 0.31439998745918274, 0.31439998745918274, 0.31439998745918274, 0.31439998745918274, 0.31439998745918274, 0.31439998745918274, 0.31439998745918274, 0.31439998745918274, 0.31439998745918274, 0.31439998745918274, 3.641900062561035, 3.641900062561035, 3.641900062561035, 3.641900062561035, 3.641900062561035, 3.641700029373169, 3.6415998935699463, 3.6415998935699463, 3.6415998935699463, 3.6415998935699463, 3.6414999961853027, 3.641400098800659, 3.641400098800659, 3.641400098800659, 3.641400098800659, 3.6412999629974365, 3.6410000324249268, 3.640899896621704, 3.640700101852417, 3.640199899673462, 3.640199899673462, 3.640199899673462, 3.639899969100952, 3.6379001140594482, 3.6361000537872314, 3.635999917984009, 3.6359000205993652, 3.6349000930786133, 3.6294000148773193, 3.6231000423431396, 3.662400007247925, 3.6623001098632812, 3.6621999740600586, 3.6621999740600586, 3.6621999740600586, 3.662100076675415, 3.6619999408721924, 3.6619999408721924, 3.6619999408721924, 3.661900043487549, 3.661799907684326, 3.661799907684326, 3.6617000102996826, 3.6617000102996826, 3.6614999771118164, 3.6614999771118164, 3.661400079727173, 3.661400079727173, 3.661099910736084, 3.661099910736084, 3.6610000133514404, 3.6610000133514404, 3.660900115966797, 3.660900115966797, 3.660900115966797, 3.6607000827789307, 3.6605000495910645, 3.660399913787842, 3.660399913787842, 3.6603000164031982, 3.7414000034332275, 3.7414000034332275, 3.741300106048584, 3.741300106048584, 3.7411000728607178, 3.7411000728607178, 3.740999937057495, 3.740999937057495, 3.7409000396728516, 3.7409000396728516, 3.7409000396728516, 3.7409000396728516, 3.740799903869629, 3.7407000064849854, 3.740600109100342, 3.740600109100342, 3.740499973297119, 3.740499973297119, 3.7402000427246094, 3.7397000789642334, 3.7397000789642334, 3.7397000789642334, 3.7397000789642334, 3.7395999431610107, 3.7392001152038574, 3.7392001152038574, 3.7383999824523926, 3.7381999492645264, 3.73799991607666, 3.7379000186920166, 3.754499912261963, 3.754300117492676, 3.754199981689453, 3.754199981689453, 3.754199981689453, 3.7539000511169434, 3.7539000511169434, 3.7535998821258545, 3.75219988822937, 3.7499001026153564, 3.732100009918213, 0.4528000056743622, 0.4528000056743622, 0.4528000056743622, 0.4528000056743622, 0.4528000056743622, 0.4528000056743622, 0.4528000056743622, 0.4528000056743622, 0.4528000056743622, 0.4528000056743622, 0.4528000056743622, 0.4528000056743622, 0.4528000056743622, 0.4528000056743622, 0.4528000056743622, 0.4528000056743622, 0.4528000056743622, 0.4528000056743622, 0.4528000056743622, 0.4528000056743622, 0.4528000056743622, 0.4528000056743622, 0.4528000056743622, 0.4528000056743622, 0.4528000056743622, 0.4528000056743622, 0.4528000056743622, 0.4528000056743622, 0.4528000056743622, 0.4528000056743622, 0.4528000056743622, 0.4528000056743622, 0.4528000056743622, 0.4528000056743622, 0.4528000056743622, 0.4528000056743622, 0.4528000056743622, 0.4528000056743622, 3.759000062942505, 3.7588999271392822, 3.7588000297546387, 3.7588000297546387, 3.758699893951416, 3.758699893951416, 3.7585999965667725, 3.75819993019104, 3.757999897003174, 3.757999897003174, 3.632200002670288, 2.464400053024292, 0.30250000953674316, 0.30250000953674316, 0.30250000953674316, 0.30250000953674316, 0.30250000953674316, 0.30250000953674316, 0.30250000953674316, 0.30250000953674316, 0.30250000953674316, 0.30250000953674316, 0.30250000953674316, 0.30250000953674316, 0.30250000953674316, 0.30250000953674316, 0.30250000953674316, 0.30250000953674316, 0.30250000953674316, 0.30250000953674316, 0.30250000953674316, 0.30250000953674316, 0.30250000953674316, 0.30250000953674316, 0.30250000953674316, 0.30250000953674316, 0.30250000953674316, 0.30250000953674316, 0.30250000953674316, 0.30250000953674316, 0.30250000953674316, 0.30250000953674316, 0.30250000953674316, 0.30250000953674316, 0.30250000953674316, 0.30250000953674316, 0.30250000953674316, 0.30250000953674316, 3.7676000595092773, 3.7676000595092773, 3.767400026321411, 3.7672998905181885, 3.767199993133545, 3.7671000957489014, 3.7667999267578125, 3.7667999267578125, 3.7664999961853027, 3.766400098800659, 3.766200065612793, 3.7660999298095703, 3.765700101852417, 3.765700101852417, 3.765500068664551, 3.765199899673462, 3.765000104904175, 3.7648000717163086, 3.76419997215271, 3.7639999389648438, 3.76200008392334, 3.761899948120117, 3.7560999393463135, 3.6738998889923096, 0.3345000147819519, 0.3345000147819519, 0.3345000147819519, 0.3345000147819519, 0.3345000147819519, 0.3345000147819519, 0.3345000147819519, 0.3345000147819519, 0.3345000147819519, 0.3345000147819519, 0.3345000147819519, 0.3345000147819519, 0.3345000147819519, 0.3345000147819519, 3.88100004196167, 3.8808999061584473, 3.8808999061584473, 3.88070011138916, 3.8805999755859375, 3.880500078201294, 3.880500078201294, 3.8796000480651855, 3.8796000480651855, 3.8796000480651855, 3.879499912261963, 3.879499912261963, 3.879199981689453, 3.878000020980835, 3.8750998973846436, 3.8743999004364014, 3.8705999851226807, 3.8680999279022217, 3.0850000381469727, 0.5526000261306763, 0.5526000261306763, 0.5526000261306763, 0.5526000261306763, 0.5526000261306763, 0.5526000261306763, 0.5526000261306763, 0.5526000261306763, 0.5526000261306763, 0.5526000261306763, 0.5526000261306763, 0.5526000261306763, 0.5526000261306763, 0.5526000261306763, 0.5526000261306763, 0.5526000261306763, 0.5526000261306763, 0.5526000261306763, 0.5526000261306763, 0.5526000261306763, 0.5526000261306763, 0.5526000261306763, 3.8879001140594482, 3.8879001140594482, 3.8877999782562256, 3.8877999782562256, 3.8877999782562256, 3.8877999782562256, 3.887700080871582, 3.887700080871582, 3.8873000144958496, 3.8870999813079834, 3.886899948120117, 3.886699914932251, 3.8847999572753906, 3.8712000846862793, 0.4717000126838684, 0.4717000126838684, 0.4717000126838684, 0.4717000126838684, 0.4717000126838684, 0.4717000126838684, 0.4717000126838684, 0.4717000126838684, 0.4717000126838684, 0.4717000126838684, 0.4717000126838684, 0.4717000126838684, 0.4717000126838684, 0.4717000126838684, 0.4717000126838684, 0.4717000126838684, 0.4717000126838684, 0.4717000126838684, 0.4717000126838684, 0.4717000126838684, 0.4717000126838684, 0.4717000126838684, 0.4717000126838684, 0.4717000126838684, 0.4717000126838684, 0.4717000126838684, 0.4717000126838684, 0.4717000126838684, 0.4717000126838684, 0.4717000126838684, 0.4717000126838684, 0.4717000126838684, 0.4717000126838684, 0.4717000126838684, 0.4717000126838684, 0.4717000126838684, 0.4717000126838684, 0.4717000126838684, 0.4717000126838684, 0.4717000126838684, 3.9811999797821045, 3.9811999797821045, 3.981100082397461, 3.9809999465942383, 3.9809999465942383, 3.9809999465942383, 3.9809999465942383, 3.9809999465942383, 3.9809999465942383, 3.9809000492095947, 3.9809000492095947, 3.980799913406372, 3.980799913406372, 3.9807000160217285, 3.980600118637085, 3.9804999828338623, 3.980299949645996, 3.979599952697754, 3.9791998863220215, 3.9781999588012695, 3.9779000282287598, 3.9762001037597656, 3.9753000736236572, 3.9746999740600586, 3.9746999740600586, 3.970900058746338, 3.968600034713745, 3.9658000469207764, 3.9644999504089355, 3.9637999534606934, 4.013400077819824, 4.013299942016602, 4.013299942016602, 4.013299942016602, 4.013199806213379, 4.013199806213379, 4.013000011444092, 4.013000011444092, 4.012800216674805, 4.012800216674805, 4.012499809265137, 4.01140022277832, 4.009500026702881, 4.007900238037109, 4.005899906158447, 0.6276999711990356, 0.6276999711990356, 0.6276999711990356, 0.6276999711990356, 0.6276999711990356, 0.6276999711990356, 0.6276999711990356, 0.6276999711990356, 0.6276999711990356, 0.6276999711990356, 0.6276999711990356, 0.6276999711990356, 0.6276999711990356, 0.6276999711990356, 0.6276999711990356, 0.6276999711990356, 0.6276999711990356, 0.6276999711990356, 0.6276999711990356, 0.6276999711990356, 0.6276999711990356, 0.6276999711990356, 0.6276999711990356, 0.6276999711990356, 0.6276999711990356, 0.6276999711990356, 0.6276999711990356, 0.6276999711990356, 0.6276999711990356, 0.6276999711990356, 0.6276999711990356, 0.6276999711990356, 0.6276999711990356, 4.086699962615967, 4.086599826812744, 4.08650016784668, 4.08650016784668, 4.08650016784668, 4.086299896240234, 4.086100101470947, 4.085999965667725, 4.085400104522705, 4.084799766540527, 4.084400177001953, 4.083899974822998, 4.082499980926514, 4.079400062561035, 4.078499794006348, 4.071300029754639, 0.7002999782562256, 0.7002999782562256, 0.7002999782562256, 0.7002999782562256, 0.7002999782562256, 0.7002999782562256, 0.7002999782562256, 0.7002999782562256, 0.7002999782562256, 0.7002999782562256, 0.7002999782562256, 0.7002999782562256, 0.7002999782562256, 0.7002999782562256, 0.7002999782562256, 0.7002999782562256, 0.7002999782562256, 0.7002999782562256, 0.7002999782562256, 0.7002999782562256, 0.7002999782562256, 0.7002999782562256, 0.7002999782562256, 0.7002999782562256, 0.7002999782562256, 0.7002999782562256, 0.7002999782562256, 0.7002999782562256, 4.190299987792969, 4.189799785614014, 4.189799785614014, 4.189700126647949, 4.189599990844727, 4.189599990844727, 4.189499855041504, 4.189499855041504, 4.1894001960754395, 4.1894001960754395, 4.189300060272217, 4.1890997886657715, 4.189000129699707, 4.189000129699707, 4.189000129699707, 4.188799858093262, 4.188700199127197, 4.18779993057251, 4.187300205230713, 4.1743998527526855, 4.166500091552734, 4.019400119781494, 3.282099962234497, 0.7621999979019165, 0.7621999979019165, 0.7621999979019165, 0.7621999979019165, 0.7621999979019165, 0.7621999979019165, 0.7621999979019165, 0.5407000184059143, 0.7621999979019165, 0.7621999979019165, 0.7621999979019165, 0.7621999979019165, 0.7621999979019165, 0.7621999979019165, 0.7621999979019165, 4.306300163269043, 4.306300163269043, 4.306300163269043, 4.30620002746582, 4.30620002746582, 4.306099891662598, 4.306000232696533, 4.306000232696533, 4.3059000968933105, 4.305600166320801, 4.305099964141846, 4.304800033569336, 1.0080000162124634, 1.0080000162124634, 1.0080000162124634, 1.0080000162124634, 1.0080000162124634, 1.0080000162124634, 1.0080000162124634, 1.0080000162124634, 1.0080000162124634, 1.0080000162124634, 1.0080000162124634, 1.0080000162124634, 1.0080000162124634, 1.0080000162124634, 1.0080000162124634, 1.0080000162124634, 1.0080000162124634, 1.0080000162124634, 1.0080000162124634, 1.0080000162124634, 1.0080000162124634, 1.0080000162124634, 1.0080000162124634, 1.0080000162124634, 1.0080000162124634, 1.0080000162124634, 1.0080000162124634, 1.0080000162124634, 1.0080000162124634, 1.0080000162124634, 1.0080000162124634, 1.0080000162124634, 1.0080000162124634, 1.0080000162124634, 1.0080000162124634, 4.3414998054504395, 4.341400146484375, 4.341400146484375, 4.341400146484375, 4.341400146484375, 4.340799808502197, 4.339399814605713, 0.892799973487854, 0.892799973487854, 0.892799973487854, 0.892799973487854, 0.892799973487854, 0.892799973487854, 0.892799973487854, 0.892799973487854, 0.892799973487854, 0.892799973487854, 0.892799973487854, 0.892799973487854, 0.892799973487854, 0.892799973487854, 0.892799973487854, 0.892799973487854, 0.892799973487854, 0.892799973487854, 0.892799973487854, 0.892799973487854, 0.892799973487854, 0.892799973487854, 0.892799973487854, 0.892799973487854, 0.892799973487854, 0.892799973487854, 0.892799973487854, 0.892799973487854, 0.892799973487854, 0.892799973487854, 0.892799973487854, 0.892799973487854, 0.892799973487854, 0.892799973487854, 0.892799973487854, 0.892799973487854, 0.892799973487854, 0.892799973487854, 0.892799973487854, 0.892799973487854, 0.892799973487854, 0.892799973487854, 0.892799973487854, 0.892799973487854, 0.892799973487854, 4.343200206756592, 4.343100070953369, 4.343100070953369, 4.343100070953369, 4.343100070953369, 4.341300010681152, 4.338799953460693, 4.318999767303467, 4.303400039672852, 0.8646000027656555, 0.8646000027656555, 0.8646000027656555, 0.8646000027656555, 0.8646000027656555, 0.8646000027656555, 0.8646000027656555, 0.8646000027656555, 0.8646000027656555, 0.8646000027656555, 0.8646000027656555, 0.8646000027656555, 0.8646000027656555, 0.8646000027656555, 0.8646000027656555, 0.8646000027656555, 0.8646000027656555, 0.8646000027656555, 0.8646000027656555, 0.8646000027656555, 0.8646000027656555, 0.8646000027656555, 0.8646000027656555, 0.8646000027656555, 0.8646000027656555, 0.8646000027656555, 0.8646000027656555, 0.8646000027656555, 0.8646000027656555, 0.8646000027656555, 0.8646000027656555, 0.8646000027656555, 0.8646000027656555, 0.8646000027656555, 0.8646000027656555, 0.8646000027656555, 0.8646000027656555, 0.8646000027656555, 0.8646000027656555, 0.8646000027656555, 0.8646000027656555, 0.8646000027656555, 0.8646000027656555, 0.8646000027656555, 0.8646000027656555, 0.8646000027656555, 3.5910000801086426, 3.5910000801086426, 3.5910000801086426, 3.5910000801086426, 3.5910000801086426, 3.5910000801086426, 3.5910000801086426, 3.5910000801086426, 3.5910000801086426, 3.5910000801086426, 3.5910000801086426, 3.5910000801086426, 3.5910000801086426, 3.5910000801086426, 3.5910000801086426, 3.5910000801086426, 3.5910000801086426, 3.5910000801086426, 3.5910000801086426, 3.5910000801086426, 3.5910000801086426, 3.5910000801086426, 3.5910000801086426, 3.5910000801086426, 3.5910000801086426, 3.5910000801086426, 3.5910000801086426, 3.5910000801086426, 3.5910000801086426, 3.5910000801086426, 3.5910000801086426, 3.5910000801086426, 3.5910000801086426, 3.5910000801086426, 3.5910000801086426, 3.5910000801086426, 3.5910000801086426, 3.5910000801086426, 3.5910000801086426, 3.5910000801086426, 3.5910000801086426, 3.5910000801086426, 3.5910000801086426, 3.5910000801086426, 3.5910000801086426, 3.5910000801086426, 3.5910000801086426, 3.5910000801086426, 3.5910000801086426, 3.5910000801086426, 3.5910000801086426, 3.5910000801086426, 3.5910000801086426, 3.5910000801086426, 3.5910000801086426, 3.5910000801086426, 3.5910000801086426, 3.5910000801086426, 3.5910000801086426], \"logprob\": [30.0, 29.0, 28.0, 27.0, 26.0, 25.0, 24.0, 23.0, 22.0, 21.0, 20.0, 19.0, 18.0, 17.0, 16.0, 15.0, 14.0, 13.0, 12.0, 11.0, 10.0, 9.0, 8.0, 7.0, 6.0, 5.0, 4.0, 3.0, 2.0, 1.0, -2.552000045776367, -3.074899911880493, -3.21560001373291, -3.240799903869629, -3.2985000610351562, -3.327199935913086, -3.385999917984009, -3.4249000549316406, -3.4855000972747803, -3.4899001121520996, -3.495800018310547, -3.5903000831604004, -3.6637001037597656, -3.6631999015808105, -3.7111001014709473, -3.7525999546051025, -3.7825000286102295, -3.796299934387207, -3.8924999237060547, -3.931299924850464, -3.9407999515533447, -3.9565000534057617, -4.0071001052856445, -4.170599937438965, -4.1940999031066895, -4.2505998611450195, -4.323200225830078, -4.43149995803833, -4.495299816131592, -4.539100170135498, -2.5116000175476074, -2.6760001182556152, -2.7202999591827393, -3.0381999015808105, -3.1552000045776367, -3.2683000564575195, -3.290800094604492, -3.4679999351501465, -3.4921998977661133, -3.577399969100952, -3.5894999504089355, -3.6066999435424805, -3.6517999172210693, -3.842900037765503, -3.8852999210357666, -3.9045000076293945, -3.912600040435791, -3.935699939727783, -3.943000078201294, -4.1905999183654785, -4.248499870300293, -4.409999847412109, -4.502299785614014, -4.525400161743164, -4.531400203704834, -4.5447001457214355, -4.551499843597412, -4.567599773406982, -4.575500011444092, -4.598700046539307, -2.169800043106079, -2.274199962615967, -2.4012999534606934, -2.6215999126434326, -3.0448999404907227, -3.278700113296509, -3.3661999702453613, -3.4393999576568604, -3.4416000843048096, -3.505500078201294, -3.543800115585327, -3.574700117111206, -3.5785000324249268, -3.6617000102996826, -3.6714999675750732, -3.6981000900268555, -3.702500104904175, -3.7070000171661377, -3.9598000049591064, -4.0320000648498535, -4.088900089263916, -4.276700019836426, -4.622900009155273, -4.793600082397461, -4.811800003051758, -4.850500106811523, -4.860499858856201, -5.039700031280518, -5.072400093078613, -5.384699821472168, -3.2973999977111816, -2.311800003051758, -2.6070001125335693, -2.658900022506714, -2.7032999992370605, -2.7325000762939453, -2.914900064468384, -2.9326999187469482, -2.936000108718872, -3.4233999252319336, -3.4684998989105225, -3.4925999641418457, -3.536900043487549, -3.5966999530792236, -3.677000045776367, -3.7207000255584717, -3.8933000564575195, -3.929500102996826, -3.9507999420166016, -3.9742000102996826, -4.078400135040283, -4.105899810791016, -4.237100124359131, -4.240099906921387, -4.3302001953125, -4.579599857330322, -4.637499809265137, -4.738100051879883, -4.765900135040283, -4.951600074768066, -5.11929988861084, -1.6601999998092651, -2.785099983215332, -2.8928000926971436, -2.9505999088287354, -3.0313000679016113, -3.110100030899048, -3.296600103378296, -3.327899932861328, -3.373500108718872, -3.672100067138672, -3.746999979019165, -3.926300048828125, -3.9433999061584473, -3.9690001010894775, -4.021500110626221, -4.139400005340576, -4.141900062561035, -4.257199764251709, -4.268199920654297, -4.286300182342529, -4.322500228881836, -4.335700035095215, -4.354100227355957, -4.387499809265137, -4.479599952697754, -4.513400077819824, -4.536099910736084, -4.554500102996826, -4.574699878692627, -4.631400108337402, -2.1468000411987305, -2.5018999576568604, -2.6196000576019287, -2.6363000869750977, -2.9042000770568848, -3.060800075531006, -3.0736000537872314, -3.2827999591827393, -3.3945999145507812, -3.4453001022338867, -3.48799991607666, -3.6187000274658203, -3.742000102996826, -3.9463999271392822, -4.005099773406982, -4.050600051879883, -4.0742998123168945, -4.1305999755859375, -4.1641998291015625, -4.229899883270264, -4.240900039672852, -4.33459997177124, -4.481299877166748, -4.484499931335449, -4.484899997711182, -4.699699878692627, -4.8094000816345215, -4.885300159454346, -4.944699764251709, -5.11299991607666, -1.5022000074386597, -1.9076000452041626, -2.552000045776367, -2.61899995803833, -2.7558999061584473, -2.9416000843048096, -3.222100019454956, -3.4639999866485596, -3.753499984741211, -3.795300006866455, -3.879199981689453, -4.052599906921387, -4.075799942016602, -4.163700103759766, -4.201399803161621, -4.283899784088135, -4.354700088500977, -4.530799865722656, -4.642600059509277, -4.7347002029418945, -4.9670000076293945, -4.9781999588012695, -5.044600009918213, -5.169300079345703, -5.175300121307373, -5.2170000076293945, -5.2957000732421875, -5.352399826049805, -5.417699813842773, -5.513400077819824, -1.7161999940872192, -2.2560999393463135, -2.617500066757202, -2.9258999824523926, -2.9560999870300293, -3.196700096130371, -3.266900062561035, -3.3027000427246094, -3.3701000213623047, -3.40120005607605, -3.408400058746338, -3.508500099182129, -3.525099992752075, -3.6198999881744385, -3.6205999851226807, -3.860599994659424, -3.971299886703491, -4.126500129699707, -4.145899772644043, -4.189799785614014, -4.228400230407715, -4.252600193023682, -4.576600074768066, -4.580999851226807, -4.791600227355957, -5.027599811553955, -5.339099884033203, -5.344099998474121, -5.776400089263916, -5.7820000648498535, -1.2245999574661255, -1.9694000482559204, -2.587399959564209, -2.62719988822937, -3.4045000076293945, -3.4446001052856445, -3.520400047302246, -3.6658999919891357, -3.6714999675750732, -3.7054998874664307, -3.800299882888794, -3.8150999546051025, -3.950900077819824, -3.965100049972534, -3.990299940109253, -4.137899875640869, -4.262800216674805, -4.2972002029418945, -4.34089994430542, -4.439000129699707, -4.6479997634887695, -4.985899925231934, -5.014699935913086, -5.235099792480469, -5.636499881744385, -5.7428998947143555, -5.967299938201904, -5.979599952697754, -6.004000186920166, -6.093599796295166, -1.0384000539779663, -1.8515000343322754, -1.850600004196167, -3.112299919128418, -3.3965001106262207, -3.6521999835968018, -3.6526999473571777, -3.769200086593628, -4.076099872589111, -4.105199813842773, -4.197299957275391, -4.219799995422363, -4.383900165557861, -4.386899948120117, -4.425000190734863, -4.542600154876709, -5.212800025939941, -5.270100116729736, -5.301799774169922, -5.362100124359131, -5.622900009155273, -5.734000205993652, -5.934000015258789, -6.043700218200684, -6.427800178527832, -6.48769998550415, -6.743199825286865, -7.285200119018555, -7.615699768066406, -9.503499984741211, -1.5218000411987305, -1.7395000457763672, -2.1361000537872314, -2.3868000507354736, -2.422100067138672, -2.6452999114990234, -3.5348000526428223, -3.668800115585327, -3.7539000511169434, -3.8703999519348145, -4.072299957275391, -4.142600059509277, -4.247799873352051, -4.372399806976318, -4.585999965667725, -4.895100116729736, -4.9421000480651855, -5.365900039672852, -5.3769001960754395, -5.911799907684326, -6.202499866485596, -6.3927001953125, -6.413599967956543, -6.874000072479248, -7.0335001945495605, -7.731200218200684, -14.400799751281738, -14.400799751281738, -14.400799751281738, -14.400799751281738, -14.400799751281738, -14.400799751281738, -14.400799751281738, -14.400799751281738, -14.400799751281738, -14.400799751281738, -14.400799751281738, -2.127000093460083, -2.3678998947143555, -2.4807000160217285, -2.741499900817871, -2.9832000732421875, -3.055000066757202, -3.1089000701904297, -3.227799892425537, -3.2411000728607178, -3.404099941253662, -3.4495999813079834, -3.463399887084961, -3.7065999507904053, -3.800299882888794, -3.9779999256134033, -4.107800006866455, -4.180500030517578, -4.195700168609619, -4.239200115203857, -4.273399829864502, -4.2916998863220215, -4.418399810791016, -4.507800102233887, -4.5152997970581055, -4.626500129699707, -4.641499996185303, -4.708000183105469, -4.7322001457214355, -4.792600154876709, -4.801799774169922, -0.9424999952316284, -1.5372999906539917, -2.428800106048584, -2.7183001041412354, -3.1484999656677246, -3.286900043487549, -3.447200059890747, -3.4742000102996826, -3.8113999366760254, -3.994800090789795, -4.251399993896484, -5.463099956512451, -5.641499996185303, -6.678100109100342, -14.361000061035156, -14.361000061035156, -14.361000061035156, -14.361000061035156, -14.361000061035156, -14.361000061035156, -14.361000061035156, -14.361000061035156, -14.361000061035156, -14.361000061035156, -14.361000061035156, -14.361000061035156, -14.361000061035156, -14.361000061035156, -14.361000061035156, -14.361000061035156, -14.361000061035156, -14.361000061035156, -14.361000061035156, -14.361000061035156, -14.361000061035156, -14.361000061035156, -14.361000061035156, -14.361000061035156, -14.361000061035156, -14.361000061035156, -14.361000061035156, -14.361000061035156, -14.361000061035156, -14.361000061035156, -14.361000061035156, -14.361000061035156, -1.638200044631958, -1.7532000541687012, -2.3440001010894775, -2.6098999977111816, -2.7016000747680664, -2.8397998809814453, -2.914799928665161, -2.989500045776367, -3.1126999855041504, -3.1754000186920166, -3.272700071334839, -3.675100088119507, -3.90339994430542, -4.228000164031982, -5.263299942016602, -6.097499847412109, -6.178500175476074, -6.898600101470947, -7.835299968719482, -14.266799926757812, -14.266799926757812, -14.266799926757812, -14.266799926757812, -14.266799926757812, -14.266799926757812, -14.266799926757812, -14.266799926757812, -14.266799926757812, -14.266799926757812, -14.266799926757812, -14.266799926757812, -14.266799926757812, -14.266799926757812, -14.266799926757812, -14.266799926757812, -14.266799926757812, -14.266799926757812, -14.266799926757812, -14.266799926757812, -14.266799926757812, -14.266799926757812, -2.2295000553131104, -2.2355000972747803, -2.364500045776367, -2.383500099182129, -2.3884999752044678, -2.9416000843048096, -3.1981000900268555, -3.2100000381469727, -3.312999963760376, -3.339600086212158, -3.3926000595092773, -3.549999952316284, -3.5536000728607178, -3.5838000774383545, -3.6201999187469482, -3.72379994392395, -4.0970001220703125, -4.219699859619141, -4.389999866485596, -4.673799991607666, -4.679999828338623, -4.698699951171875, -4.8125, -5.480899810791016, -5.853700160980225, -5.866499900817871, -5.877600193023682, -6.029799938201904, -6.606599807739258, -7.01669979095459, -1.944000005722046, -2.257499933242798, -2.725100040435791, -2.765500068664551, -2.9310998916625977, -3.0423998832702637, -3.2374000549316406, -3.250999927520752, -3.3447999954223633, -3.5659000873565674, -3.6440000534057617, -3.7002999782562256, -3.756200075149536, -3.786400079727173, -4.0278000831604, -4.054699897766113, -4.083099842071533, -4.13539981842041, -4.383399963378906, -4.401800155639648, -4.410099983215332, -4.460100173950195, -4.505199909210205, -4.507199764251709, -4.508200168609619, -4.602200031280518, -4.717299938201904, -4.764900207519531, -4.784800052642822, -4.803699970245361, -1.9783999919891357, -2.0058000087738037, -2.580699920654297, -2.581899881362915, -3.052500009536743, -3.1194000244140625, -3.236299991607666, -3.403700113296509, -3.4437999725341797, -3.5278000831604004, -3.5374999046325684, -3.5615999698638916, -3.648699998855591, -3.77020001411438, -3.8694000244140625, -3.93179988861084, -4.0381999015808105, -4.042500019073486, -4.24560022354126, -4.571599960327148, -4.573400020599365, -4.588399887084961, -4.588799953460693, -4.616399765014648, -4.815299987792969, -4.825500011444092, -5.098299980163574, -5.1722002029418945, -5.223599910736084, -5.265600204467773, -0.5796999931335449, -2.3097000122070312, -2.654900074005127, -2.706399917602539, -2.8385000228881836, -3.3684000968933105, -3.407599925994873, -3.873300075531006, -4.785200119018555, -5.490099906921387, -7.078100204467773, -14.128399848937988, -14.128399848937988, -14.128399848937988, -14.128399848937988, -14.128399848937988, -14.128399848937988, -14.128399848937988, -14.128399848937988, -14.128399848937988, -14.128399848937988, -14.128399848937988, -14.128399848937988, -14.128399848937988, -14.128399848937988, -14.128399848937988, -14.128399848937988, -14.128399848937988, -14.128399848937988, -14.128399848937988, -14.128399848937988, -14.128399848937988, -14.128399848937988, -14.128399848937988, -14.128399848937988, -14.128399848937988, -14.128399848937988, -14.128399848937988, -14.128399848937988, -14.128399848937988, -14.128399848937988, -14.128399848937988, -14.128399848937988, -14.128399848937988, -14.128399848937988, -14.128399848937988, -14.128399848937988, -14.128399848937988, -14.128399848937988, -0.8844000101089478, -2.0838000774383545, -2.3036999702453613, -2.328700065612793, -2.696199893951416, -2.8605000972747803, -3.125200033187866, -3.776099920272827, -4.006999969482422, -4.01230001449585, -8.853400230407715, -11.82859992980957, -14.278599739074707, -14.278599739074707, -14.278599739074707, -14.278599739074707, -14.278599739074707, -14.278599739074707, -14.278599739074707, -14.278599739074707, -14.278599739074707, -14.278599739074707, -14.278599739074707, -14.278599739074707, -14.278599739074707, -14.278599739074707, -14.278599739074707, -14.278599739074707, -14.278599739074707, -14.278599739074707, -14.278599739074707, -14.278599739074707, -14.278599739074707, -14.278599739074707, -14.278599739074707, -14.278599739074707, -14.278599739074707, -14.278599739074707, -14.278599739074707, -14.278599739074707, -14.278599739074707, -14.278599739074707, -14.278599739074707, -14.278599739074707, -14.278599739074707, -14.278599739074707, -14.278599739074707, -14.278599739074707, -0.9430000185966492, -1.6325000524520874, -2.5165998935699463, -2.9953999519348145, -3.1882998943328857, -3.437299966812134, -3.7844998836517334, -3.8239998817443848, -4.124899864196777, -4.197999954223633, -4.346399784088135, -4.359099864959717, -4.598599910736084, -4.601200103759766, -4.6930999755859375, -4.821599960327148, -4.910099983215332, -5.006899833679199, -5.188000202178955, -5.243899822235107, -5.67110013961792, -5.690199851989746, -6.392399787902832, -8.526599884033203, -14.246700286865234, -14.246700286865234, -14.246700286865234, -14.246700286865234, -14.246700286865234, -14.246700286865234, -14.246700286865234, -14.246700286865234, -14.246700286865234, -14.246700286865234, -14.246700286865234, -14.246700286865234, -14.246700286865234, -14.246700286865234, -1.0776000022888184, -1.823699951171875, -1.9908000230789185, -2.671099901199341, -2.8631999492645264, -3.112600088119507, -3.2548000812530518, -4.157299995422363, -4.157899856567383, -4.185699939727783, -4.23859977722168, -4.275700092315674, -4.4421000480651855, -4.950200080871582, -5.614200115203857, -5.729400157928467, -6.181700229644775, -6.394100189208984, -10.932700157165527, -14.028599739074707, -14.028599739074707, -14.028599739074707, -14.028599739074707, -14.028599739074707, -14.028599739074707, -14.028599739074707, -14.028599739074707, -14.028599739074707, -14.028599739074707, -14.028599739074707, -14.028599739074707, -14.028599739074707, -14.028599739074707, -14.028599739074707, -14.028599739074707, -14.028599739074707, -14.028599739074707, -14.028599739074707, -14.028599739074707, -14.028599739074707, -14.028599739074707, -1.6024999618530273, -1.926900029182434, -2.2829999923706055, -2.3452000617980957, -2.360100030899048, -2.39520001411438, -2.738600015640259, -2.7946999073028564, -3.500699996948242, -3.700500011444092, -3.916100025177002, -4.093599796295166, -4.978700160980225, -6.6479997634887695, -14.109399795532227, -14.109399795532227, -14.109399795532227, -14.109399795532227, -14.109399795532227, -14.109399795532227, -14.109399795532227, -14.109399795532227, -14.109399795532227, -14.109399795532227, -14.109399795532227, -14.109399795532227, -14.109399795532227, -14.109399795532227, -14.109399795532227, -14.109399795532227, -14.109399795532227, -14.109399795532227, -14.109399795532227, -14.109399795532227, -14.109399795532227, -14.109399795532227, -14.109399795532227, -14.109399795532227, -14.109399795532227, -14.109399795532227, -14.109399795532227, -14.109399795532227, -14.109399795532227, -14.109399795532227, -14.109399795532227, -14.109399795532227, -14.109399795532227, -14.109399795532227, -14.109399795532227, -14.109399795532227, -14.109399795532227, -14.109399795532227, -14.109399795532227, -14.109399795532227, -2.210099935531616, -2.3610000610351562, -2.6312999725341797, -2.8020999431610107, -2.8405001163482666, -2.876300096511841, -2.933799982070923, -2.965100049972534, -2.9791998863220215, -3.0462000370025635, -3.2016000747680664, -3.212100028991699, -3.263700008392334, -3.3668999671936035, -3.499500036239624, -3.702399969100952, -3.82450008392334, -4.350299835205078, -4.524499893188477, -4.919400215148926, -4.981299877166748, -5.390900135040283, -5.544099807739258, -5.634699821472168, -5.644599914550781, -6.091700077056885, -6.28879976272583, -6.485799789428711, -6.56820011138916, -6.607800006866455, -1.344099998474121, -2.094099998474121, -2.206899881362915, -2.400099992752075, -2.624799966812134, -2.6380999088287354, -2.9753000736236572, -3.0383999347686768, -3.324700117111206, -3.361599922180176, -3.7074999809265137, -4.43720006942749, -5.0995001792907715, -5.42519998550415, -5.7316999435424805, -13.953499794006348, -13.953499794006348, -13.953499794006348, -13.953499794006348, -13.953499794006348, -13.953499794006348, -13.953499794006348, -13.953499794006348, -13.953499794006348, -13.953499794006348, -13.953499794006348, -13.953499794006348, -13.953499794006348, -13.953499794006348, -13.953499794006348, -13.953499794006348, -13.953499794006348, -13.953499794006348, -13.953499794006348, -13.953499794006348, -13.953499794006348, -13.953499794006348, -13.953499794006348, -13.953499794006348, -13.953499794006348, -13.953499794006348, -13.953499794006348, -13.953499794006348, -13.953499794006348, -13.953499794006348, -13.953499794006348, -13.953499794006348, -13.953499794006348, -1.1828999519348145, -1.8940000534057617, -2.275099992752075, -2.375200033187866, -2.4019999504089355, -2.783900022506714, -3.2852001190185547, -3.392899990081787, -3.911400079727173, -4.3140997886657715, -4.501800060272217, -4.688899993896484, -5.080999851226807, -5.616499900817871, -5.741000175476074, -6.36870002746582, -13.880900382995605, -13.880900382995605, -13.880900382995605, -13.880900382995605, -13.880900382995605, -13.880900382995605, -13.880900382995605, -13.880900382995605, -13.880900382995605, -13.880900382995605, -13.880900382995605, -13.880900382995605, -13.880900382995605, -13.880900382995605, -13.880900382995605, -13.880900382995605, -13.880900382995605, -13.880900382995605, -13.880900382995605, -13.880900382995605, -13.880900382995605, -13.880900382995605, -13.880900382995605, -13.880900382995605, -13.880900382995605, -13.880900382995605, -13.880900382995605, -13.880900382995605, -0.9585999846458435, -2.8457000255584717, -2.950700044631958, -3.1047000885009766, -3.236599922180176, -3.248800039291382, -3.29229998588562, -3.3775999546051025, -3.4238998889923096, -3.450500011444092, -3.5423998832702637, -3.748300075531006, -3.7734999656677246, -3.7755000591278076, -3.7760000228881836, -3.9421000480651855, -4.022799968719482, -4.438000202178955, -4.61929988861084, -6.293099880218506, -6.699900150299072, -8.744199752807617, -10.815899848937988, -13.818900108337402, -13.818900108337402, -13.818900108337402, -13.818900108337402, -13.818900108337402, -13.818900108337402, -13.818900108337402, -5.303599834442139, -13.818900108337402, -13.818900108337402, -13.818900108337402, -13.818900108337402, -13.818900108337402, -13.818900108337402, -13.818900108337402, -1.9134999513626099, -1.9681999683380127, -2.1236000061035156, -2.38700008392334, -2.4228999614715576, -2.4772000312805176, -2.751499891281128, -2.7985000610351562, -2.982300043106079, -3.316200017929077, -3.7908999919891357, -3.975100040435791, -13.573100090026855, -13.573100090026855, -13.573100090026855, -13.573100090026855, -13.573100090026855, -13.573100090026855, -13.573100090026855, -13.573100090026855, -13.573100090026855, -13.573100090026855, -13.573100090026855, -13.573100090026855, -13.573100090026855, -13.573100090026855, -13.573100090026855, -13.573100090026855, -13.573100090026855, -13.573100090026855, -13.573100090026855, -13.573100090026855, -13.573100090026855, -13.573100090026855, -13.573100090026855, -13.573100090026855, -13.573100090026855, -13.573100090026855, -13.573100090026855, -13.573100090026855, -13.573100090026855, -13.573100090026855, -13.573100090026855, -13.573100090026855, -13.573100090026855, -13.573100090026855, -13.573100090026855, -1.409000039100647, -1.6785000562667847, -1.8248000144958496, -1.912600040435791, -1.9975999593734741, -3.1774001121520996, -4.17710018157959, -13.688300132751465, -13.688300132751465, -13.688300132751465, -13.688300132751465, -13.688300132751465, -13.688300132751465, -13.688300132751465, -13.688300132751465, -13.688300132751465, -13.688300132751465, -13.688300132751465, -13.688300132751465, -13.688300132751465, -13.688300132751465, -13.688300132751465, -13.688300132751465, -13.688300132751465, -13.688300132751465, -13.688300132751465, -13.688300132751465, -13.688300132751465, -13.688300132751465, -13.688300132751465, -13.688300132751465, -13.688300132751465, -13.688300132751465, -13.688300132751465, -13.688300132751465, -13.688300132751465, -13.688300132751465, -13.688300132751465, -13.688300132751465, -13.688300132751465, -13.688300132751465, -13.688300132751465, -13.688300132751465, -13.688300132751465, -13.688300132751465, -13.688300132751465, -13.688300132751465, -13.688300132751465, -13.688300132751465, -13.688300132751465, -13.688300132751465, -13.688300132751465, -1.1526000499725342, -1.8280999660491943, -1.9175000190734863, -1.9187999963760376, -1.9871000051498413, -4.059700012207031, -4.871799945831299, -6.565800189971924, -7.068399906158447, -13.71660041809082, -13.71660041809082, -13.71660041809082, -13.71660041809082, -13.71660041809082, -13.71660041809082, -13.71660041809082, -13.71660041809082, -13.71660041809082, -13.71660041809082, -13.71660041809082, -13.71660041809082, -13.71660041809082, -13.71660041809082, -13.71660041809082, -13.71660041809082, -13.71660041809082, -13.71660041809082, -13.71660041809082, -13.71660041809082, -13.71660041809082, -13.71660041809082, -13.71660041809082, -13.71660041809082, -13.71660041809082, -13.71660041809082, -13.71660041809082, -13.71660041809082, -13.71660041809082, -13.71660041809082, -13.71660041809082, -13.71660041809082, -13.71660041809082, -13.71660041809082, -13.71660041809082, -13.71660041809082, -13.71660041809082, -13.71660041809082, -13.71660041809082, -13.71660041809082, -13.71660041809082, -13.71660041809082, -13.71660041809082, -13.71660041809082, -13.71660041809082, -13.71660041809082, -10.99020004272461, -10.99020004272461, -10.99020004272461, -10.99020004272461, -10.99020004272461, -10.99020004272461, -10.99020004272461, -10.99020004272461, -10.99020004272461, -10.99020004272461, -10.99020004272461, -10.99020004272461, -10.99020004272461, -10.99020004272461, -10.99020004272461, -10.99020004272461, -10.99020004272461, -10.99020004272461, -10.99020004272461, -10.99020004272461, -10.99020004272461, -10.99020004272461, -10.99020004272461, -10.99020004272461, -10.99020004272461, -10.99020004272461, -10.99020004272461, -10.99020004272461, -10.99020004272461, -10.99020004272461, -10.99020004272461, -10.99020004272461, -10.99020004272461, -10.99020004272461, -10.99020004272461, -10.99020004272461, -10.99020004272461, -10.99020004272461, -10.99020004272461, -10.99020004272461, -10.99020004272461, -10.99020004272461, -10.99020004272461, -10.99020004272461, -10.99020004272461, -10.99020004272461, -10.99020004272461, -10.99020004272461, -10.99020004272461, -10.99020004272461, -10.99020004272461, -10.99020004272461, -10.99020004272461, -10.99020004272461, -10.99020004272461, -10.99020004272461, -10.99020004272461, -10.99020004272461, -10.99020004272461]}, \"token.table\": {\"Topic\": [3, 11, 5, 7, 4, 16, 15, 2, 3, 5, 23, 8, 23, 12, 3, 26, 22, 20, 6, 18, 4, 6, 20, 8, 15, 4, 12, 11, 9, 28, 5, 12, 20, 23, 9, 26, 25, 14, 1, 7, 2, 11, 15, 22, 1, 4, 5, 23, 8, 12, 24, 8, 19, 4, 17, 29, 24, 20, 12, 23, 24, 25, 9, 2, 11, 11, 9, 28, 5, 11, 17, 20, 16, 10, 19, 19, 10, 24, 28, 6, 7, 20, 1, 1, 16, 15, 24, 2, 29, 22, 21, 10, 4, 25, 21, 19, 15, 15, 2, 9, 10, 23, 3, 17, 2, 14, 23, 8, 13, 13, 23, 9, 8, 3, 24, 14, 8, 12, 10, 18, 26, 13, 24, 9, 2, 22, 4, 20, 3, 28, 3, 3, 7, 7, 11, 11, 27, 11, 27, 21, 3, 9, 9, 16, 15, 13, 17, 12, 10, 15, 6, 16, 28, 26, 16, 10, 7, 13, 4, 26, 12, 18, 1, 21, 8, 23, 19, 16, 9, 8, 5, 17, 23, 12, 18, 26, 9, 1, 17, 16, 5, 20, 10, 7, 23, 12, 1, 26, 12, 8, 8, 10, 11, 3, 10, 19, 17, 12, 2, 3, 12, 19, 3, 26, 15, 6, 4, 12, 21, 9, 26, 17, 17, 5, 23, 17, 15, 3, 26, 7, 23, 10, 1, 13, 17, 25, 27, 6, 25, 4, 18, 11, 1, 22, 4, 19, 26, 23, 13, 21, 17, 11, 27, 15, 17, 3, 10, 25, 20, 17, 14, 26, 5, 10, 21, 2, 23, 11, 5, 26, 16, 13, 3, 19, 26, 10, 4, 4, 7, 3, 4, 9, 23, 21, 20, 1, 6, 1, 17, 11, 29, 12, 15, 15, 7, 28, 6, 5, 5, 7, 25, 8, 8, 5, 11, 9, 6, 15, 20, 13, 8, 14, 20, 16, 20, 26, 6, 10, 10, 12, 1, 18, 6, 27, 17, 27, 3, 16, 9, 10, 27, 8, 9, 11, 16, 17, 12, 17, 29, 12, 6, 15, 9, 21, 24, 25, 2, 10, 13, 10, 1, 15, 14, 14, 16, 8, 23, 2, 25, 8, 8, 1, 20, 25, 12, 10, 2, 17, 7, 4, 16, 1, 6, 5, 21, 12, 16, 1, 9, 21, 9, 8, 15, 5, 16, 8, 9, 23, 3, 7, 27, 4, 3, 4, 13, 9, 9, 10, 9, 21, 2, 3, 2, 2, 26, 3, 15, 22, 25, 11, 11, 6, 7, 15, 7, 2, 9, 12, 25, 12, 6, 16, 23, 7, 8, 1, 15, 16, 3, 8, 1, 29, 10, 15, 15, 28, 5, 12, 18, 15, 10, 7, 5, 12, 23, 23, 3, 7, 6, 25, 20, 2, 4, 21, 13, 3, 1, 6, 27, 11, 25, 10, 6, 3, 7, 9, 1, 1, 17, 16, 9, 10, 4, 11, 20, 23, 19, 5, 18, 20, 6, 5, 20, 11, 5, 16, 4, 6, 8, 2, 25, 2, 16, 4, 23, 2, 2, 19, 4, 27, 21, 17, 3, 20, 22, 17, 20, 6, 20, 18, 10, 3, 15, 14, 11, 7, 7, 5, 12, 4, 14, 24, 29, 14, 7, 14, 7, 12, 5, 22, 23, 13, 21, 4, 5, 10, 18, 17, 7, 2, 22, 7, 5, 5, 17, 15, 14, 8, 23, 23, 15, 24, 8, 16, 4, 1, 9, 7, 9, 8, 6, 16, 25, 1, 14, 24, 3, 23, 13, 21, 14, 6, 16, 8, 12, 16, 22, 17, 7, 23, 6, 4, 20, 22, 15, 26, 2, 1, 15, 8, 11, 29, 17, 26, 17, 8, 12, 14, 1, 14, 18, 1, 12, 29, 1, 2, 16, 15, 10, 14, 5, 16, 22, 21, 2, 20, 8, 2, 26, 10, 16, 6, 26, 17, 24, 2, 2, 5, 14, 4, 2, 6, 24, 16, 16, 5, 3, 21, 11, 11, 9, 24, 6, 9, 7, 26, 1, 12, 23, 5, 10, 3, 17, 11, 27, 27, 7, 6, 7, 26, 14, 6, 1, 26, 22, 1, 23, 26, 21, 2, 29, 6, 4, 17, 3, 5, 20, 15, 4, 24, 22, 4], \"Freq\": [0.9999125003814697, 0.9998728632926941, 0.9991159439086914, 0.9991330504417419, 0.999457597732544, 0.9992883801460266, 0.9997159838676453, 0.9998056292533875, 0.9999276995658875, 0.9992745518684387, 0.9995408058166504, 0.9981637001037598, 0.9996928572654724, 0.9993895888328552, 0.999698281288147, 0.9988666772842407, 0.9997217655181885, 0.9958771467208862, 0.9998188614845276, 0.9825764894485474, 0.9988517761230469, 0.9998899698257446, 0.9968574047088623, 0.9999589323997498, 0.9996407628059387, 0.9997988343238831, 0.9998586773872375, 0.9827266931533813, 0.9964655041694641, 0.9998210668563843, 0.9992966055870056, 0.9998084306716919, 0.9985623359680176, 0.9995083212852478, 0.9993003606796265, 0.9990756511688232, 0.9994258284568787, 0.9997227787971497, 0.9996554255485535, 0.9983655214309692, 0.9994919896125793, 0.9994497895240784, 0.9989205002784729, 0.9998016953468323, 0.9997938275337219, 0.9994962811470032, 0.9996843338012695, 0.999549925327301, 0.9989886283874512, 0.9992520809173584, 0.9995874762535095, 0.999505877494812, 0.8747063279151917, 0.9998381733894348, 0.9974595904350281, 0.969123125076294, 0.9996535181999207, 0.9928838610649109, 0.9994509816169739, 0.9995951056480408, 0.9973036646842957, 0.9996930360794067, 0.9995953440666199, 0.999856173992157, 0.9958727955818176, 0.9515130519866943, 0.9970523118972778, 0.9975009560585022, 0.9999239444732666, 0.9979841709136963, 0.9957373142242432, 0.9976608157157898, 0.9980748891830444, 0.9999449849128723, 0.9994191527366638, 0.9997702240943909, 0.9990862607955933, 0.9995282888412476, 0.9998178482055664, 0.9992595911026001, 0.9985568523406982, 0.9999579191207886, 0.9998376369476318, 0.9997948408126831, 0.9996395111083984, 0.9986781477928162, 0.9944614768028259, 0.9995084404945374, 0.9998081922531128, 0.9997804760932922, 0.9998972415924072, 0.9988101124763489, 0.9998475909233093, 0.999713122844696, 0.9995975494384766, 0.9992772936820984, 0.9993069171905518, 0.9998646378517151, 0.9997650384902954, 0.9994316697120667, 0.9984184503555298, 0.9955003261566162, 0.9998660087585449, 0.9988277554512024, 0.9995411038398743, 0.9993137717247009, 0.9893028140068054, 0.9991873502731323, 0.9993102550506592, 0.9997536540031433, 0.9998401999473572, 0.9988177418708801, 0.9967734217643738, 0.999775230884552, 0.9997093677520752, 0.999496340751648, 0.9994124174118042, 0.9979553818702698, 0.9705070853233337, 0.9995960593223572, 0.9743906855583191, 0.9998357892036438, 0.9996071457862854, 0.9978128671646118, 0.9999176859855652, 0.9989786148071289, 0.9997556209564209, 0.996981143951416, 0.9999315142631531, 0.9996700286865234, 0.9997879266738892, 0.9998580813407898, 0.9985480904579163, 0.9985306262969971, 0.9994692802429199, 0.9997339248657227, 0.9994996190071106, 0.9999422430992126, 0.9996152520179749, 0.9924848079681396, 0.999887228012085, 0.9998737573623657, 0.9993095993995667, 0.9994238018989563, 0.994828999042511, 0.9844237565994263, 0.997696578502655, 0.9991797804832458, 0.9969000816345215, 0.9994198083877563, 0.9981175065040588, 0.999355673789978, 0.9993188977241516, 0.9995315074920654, 0.999473512172699, 0.9990635514259338, 0.9998022317886353, 0.9997296929359436, 0.9998826384544373, 0.9975963234901428, 0.9991392493247986, 0.999460756778717, 0.9998165965080261, 0.9957111477851868, 0.9970916509628296, 0.9965933561325073, 0.999657928943634, 0.999744713306427, 0.9993808269500732, 0.9996359348297119, 0.999361515045166, 0.9992395639419556, 0.9985417723655701, 0.9984380602836609, 0.996366024017334, 0.9994786381721497, 0.9982407689094543, 0.9998779892921448, 0.9993820786476135, 0.9998953938484192, 0.9997184872627258, 0.9949102997779846, 0.7736454606056213, 0.9992594122886658, 0.9994867444038391, 0.9996597766876221, 0.9998894929885864, 0.9988908171653748, 0.9995900392532349, 0.999086320400238, 0.9991216659545898, 0.9938639402389526, 0.9992684721946716, 0.9993641972541809, 0.9995922446250916, 0.9999678134918213, 0.9969761967658997, 0.998456597328186, 0.9998996257781982, 0.9997594952583313, 0.9997650384902954, 0.9998186826705933, 0.9997655153274536, 0.9988544583320618, 0.9997665882110596, 0.9996102452278137, 0.9997106790542603, 0.9993629455566406, 0.9983206391334534, 0.9990938305854797, 0.9966137409210205, 0.9992391467094421, 0.999472975730896, 0.9989218711853027, 0.999119758605957, 0.9991343021392822, 0.9977341294288635, 0.9738450050354004, 0.025973005220294, 0.9983680248260498, 0.9977296590805054, 0.9966900944709778, 0.9996899962425232, 0.9996910691261292, 0.9976819157600403, 0.9896278977394104, 0.9996116757392883, 0.9993274807929993, 0.99979567527771, 0.9996095895767212, 0.9999628663063049, 0.9788655042648315, 0.9998526573181152, 0.9994069337844849, 0.9999308586120605, 0.9998099207878113, 0.9981949329376221, 0.9996500015258789, 0.9999640583992004, 0.9998860359191895, 0.9997117519378662, 0.999284565448761, 0.9996512532234192, 0.995850145816803, 0.9952924251556396, 0.999531626701355, 0.9999755620956421, 0.9995537996292114, 0.9992825984954834, 0.998685896396637, 0.999805212020874, 0.9989646673202515, 0.99930340051651, 0.9999475479125977, 0.9986474514007568, 0.9998898506164551, 0.9919580221176147, 0.9931120872497559, 0.9994645118713379, 0.9982957243919373, 0.9985753893852234, 0.9985867738723755, 0.9997050762176514, 0.9998502731323242, 0.9995359182357788, 0.9961012005805969, 0.9998996257781982, 0.999402642250061, 0.9990919232368469, 0.9990297555923462, 0.9990135431289673, 0.998591959476471, 0.9959836006164551, 0.9991941452026367, 0.9972240924835205, 0.9997738599777222, 0.9983295202255249, 0.9999160766601562, 0.9960379004478455, 0.9998572468757629, 0.9998078346252441, 0.9995917677879333, 0.9991944432258606, 0.9997667074203491, 0.9992226958274841, 0.9996966123580933, 0.9991652965545654, 0.9994377493858337, 0.9996813535690308, 0.9989324808120728, 0.999794602394104, 0.9997043013572693, 0.9996244311332703, 0.9997698664665222, 0.9972942471504211, 0.9998943209648132, 0.9993787407875061, 0.9996951818466187, 0.998062789440155, 0.995595395565033, 0.9984128475189209, 0.9896836876869202, 0.9987702965736389, 0.9986228346824646, 0.9994243383407593, 0.9987433552742004, 0.9987101554870605, 0.98701012134552, 0.9942531585693359, 0.9990765452384949, 0.9998980164527893, 0.9994675517082214, 0.9993550181388855, 0.9994372725486755, 0.9975777268409729, 0.9997119307518005, 0.999794602394104, 0.9980959892272949, 0.9994444251060486, 0.9952147006988525, 0.9997321367263794, 0.9996756315231323, 0.9990258812904358, 0.9991800785064697, 0.9990912675857544, 0.9989750385284424, 0.9997150301933289, 0.9995096325874329, 0.9997633695602417, 0.9988846778869629, 0.9995853900909424, 0.9998634457588196, 0.9962403774261475, 0.9881030321121216, 0.9992488026618958, 0.9999372363090515, 0.9998549222946167, 0.9566523432731628, 0.9999338984489441, 0.9986103773117065, 0.9998979568481445, 0.9985422492027283, 0.9996922016143799, 0.9996957778930664, 0.9983747601509094, 0.9996317625045776, 0.9993688464164734, 0.9997194409370422, 0.9980832934379578, 0.9990115165710449, 0.9996915459632874, 0.9997714161872864, 0.9043196439743042, 0.998664140701294, 0.9997242093086243, 0.9989613890647888, 0.9997219443321228, 0.9998251795768738, 0.9997066259384155, 0.9997034072875977, 0.99892258644104, 0.999868631362915, 0.9997515082359314, 0.9998109936714172, 0.5060203075408936, 0.9992910027503967, 0.9985114932060242, 0.9998424649238586, 0.9954013228416443, 0.9999435544013977, 0.9935537576675415, 0.9993264675140381, 0.9965642690658569, 0.9994799494743347, 0.9995594620704651, 0.9998143911361694, 0.9940851926803589, 0.9992084503173828, 0.9994617104530334, 0.9981123208999634, 0.999664843082428, 0.999846339225769, 0.9996772408485413, 0.9998562335968018, 0.9990060329437256, 0.999869167804718, 0.9991193413734436, 0.9981757998466492, 0.9993464350700378, 0.9995770454406738, 0.9996111392974854, 0.9999447464942932, 0.9996488094329834, 0.999679684638977, 0.998683512210846, 0.9998353719711304, 0.9995782971382141, 0.9999369978904724, 0.9880986213684082, 0.9999049305915833, 0.9992227554321289, 0.999290943145752, 0.9990866780281067, 0.9994345307350159, 0.9991596937179565, 0.9997130036354065, 0.9980171322822571, 0.9997462630271912, 0.9942549467086792, 0.9987377524375916, 0.9998601675033569, 0.9985666871070862, 0.986863911151886, 0.9993392825126648, 0.9987905621528625, 0.9999184608459473, 0.996405303478241, 0.9975915551185608, 0.9989110827445984, 0.9997515082359314, 0.9999279975891113, 0.9964409470558167, 0.9995490312576294, 0.9996050000190735, 0.9979842901229858, 0.9997199177742004, 0.9997193813323975, 0.9982132315635681, 0.9997057318687439, 0.9993812441825867, 0.9995020627975464, 0.9986341595649719, 0.9992769360542297, 0.9979923367500305, 0.9836543202400208, 0.9993128776550293, 0.9998124241828918, 0.996735692024231, 0.9990779161453247, 0.9997040033340454, 0.9991186857223511, 0.9998714923858643, 0.9996469616889954, 0.9973574280738831, 0.9973353743553162, 0.9995618462562561, 0.9998964071273804, 0.9991617202758789, 0.999772846698761, 0.9978453516960144, 0.9939532279968262, 0.9986250996589661, 0.9994086623191833, 0.9993622303009033, 0.9996756315231323, 0.99234938621521, 0.9997183084487915, 0.9999710321426392, 0.9976192712783813, 0.9997637867927551, 0.9996704459190369, 0.9984484910964966, 0.9998101592063904, 0.9941304922103882, 0.9998795986175537, 0.9886847138404846, 0.9988648891448975, 0.9993659257888794, 0.9998226761817932, 0.9971352219581604, 0.9997645616531372, 0.9988430142402649, 0.9992927312850952, 0.9902980327606201, 0.9993939995765686, 0.9997910261154175, 0.9999570846557617, 0.9982293248176575, 0.9978727698326111, 0.9996481537818909, 0.9986095428466797, 0.9995753765106201, 0.9985780715942383, 0.9999350905418396, 0.9973732829093933, 0.9998278021812439, 0.9998060464859009, 0.9995976090431213, 0.9992488026618958, 0.9976421594619751, 0.9943206310272217, 0.9987615942955017, 0.9997971653938293, 0.9986999034881592, 0.9991795420646667, 0.997331440448761, 0.9992460608482361, 0.9984439611434937, 0.9996792078018188, 0.9975898265838623, 0.9879564642906189, 0.9998304843902588, 0.9976197481155396, 0.9993870854377747, 0.9993765354156494, 0.9982838034629822, 0.999900758266449, 0.9998164176940918, 0.9977096319198608, 0.9996719360351562, 0.9998108744621277, 0.9992872476577759, 0.9999364614486694, 0.9992868900299072, 0.9999307990074158, 0.9863077402114868, 0.9981128573417664, 0.9999096393585205, 0.9990874528884888, 0.9996497631072998, 0.9994667768478394, 0.999033510684967, 0.9985961318016052, 0.9999139904975891, 0.9990260601043701, 0.9954115748405457, 0.9996774196624756, 0.9998314380645752, 0.9997866749763489, 0.9999309182167053, 0.9998038411140442, 0.999737560749054, 0.9995198249816895, 0.9996698498725891, 0.9993780255317688, 0.9897300601005554, 0.999865710735321, 0.9994890093803406, 0.9987019896507263, 0.9993653297424316, 0.9994519948959351, 0.9999004602432251, 0.9995937347412109, 0.9994862079620361, 0.9996718168258667, 0.999826967716217, 0.9995130300521851, 0.9995855689048767, 0.9990596771240234, 0.9998689293861389, 0.999441921710968, 0.9995072484016418, 0.9988473653793335, 0.9999366998672485, 0.9998511672019958, 0.9993102550506592, 0.9982966780662537, 0.997165858745575, 0.9993667006492615, 0.9983766674995422, 0.9997004866600037, 0.9996689558029175, 0.9989861249923706, 0.9996448755264282, 0.9984030723571777, 0.9991164803504944, 0.9964789152145386, 0.9985837936401367, 0.9990404844284058, 0.9968768954277039, 0.9997500777244568, 0.9998391270637512, 0.9998034238815308, 0.9997445344924927, 0.9840672612190247, 0.9989978671073914, 0.9997792840003967, 0.9998648166656494, 0.9995636940002441, 0.9991369843482971, 0.9998732805252075, 0.9704210162162781, 0.9993166327476501, 0.9880859851837158, 0.9998061656951904, 0.9953147172927856, 0.9996902346611023, 0.9905520081520081, 0.9997813105583191, 0.9438220858573914, 0.9995126724243164, 0.9996851086616516, 0.9994522333145142, 0.9996829032897949, 0.9996196627616882, 0.9997784495353699, 0.9973819851875305, 0.9914995431900024, 0.9995173811912537, 0.997985303401947, 0.999850869178772, 0.9978406429290771, 0.9998347163200378, 0.9994978904724121, 0.9999064207077026, 0.998432993888855, 0.9995871186256409, 0.9997144341468811, 0.5482532382011414, 0.9931086301803589, 0.9980201125144958, 0.9996967911720276, 0.9999209046363831, 0.99989914894104, 0.9992934465408325, 0.9998513460159302, 0.9999420046806335, 0.999668538570404, 0.9996029734611511, 0.9995533227920532, 0.9999643564224243, 0.9997864365577698, 0.9968534111976624, 0.9988874793052673, 0.9994364380836487, 0.9992763996124268, 0.9993909597396851, 0.9822949171066284, 0.9981256127357483, 0.9908199310302734, 0.9999361634254456, 0.9976995587348938, 0.9994375705718994, 0.9994593858718872, 0.9982392191886902, 0.9989150762557983, 0.9998695254325867, 0.9985500574111938, 0.9994522929191589, 0.9989575743675232, 0.9990472197532654, 0.9999215006828308, 0.9948577880859375, 0.999639093875885, 0.9982649087905884, 0.9987371563911438, 0.9999680519104004, 0.9994890093803406, 0.9993512034416199, 0.9986982941627502, 0.9999303817749023, 0.9996340274810791, 0.9998496174812317, 0.9992401599884033, 0.9793483018875122, 0.9998441338539124, 0.9771212339401245, 0.8662267923355103, 0.9994604587554932, 0.9997882843017578, 0.9972957968711853, 0.9998672008514404, 0.9997440576553345, 0.9995033740997314, 0.9991163611412048, 0.9988787770271301, 0.9962812662124634, 0.9997376203536987, 0.9999209046363831, 0.9998705983161926, 0.9987856149673462, 0.9992861151695251], \"Term\": [\"able\", \"access\", \"accord\", \"account\", \"action\", \"active\", \"actual\", \"actually\", \"add\", \"additional\", \"address\", \"advantage\", \"allow\", \"almost\", \"already\", \"alternative\", \"always\", \"analysis\", \"answer\", \"ant\", \"anymore\", \"app\", \"applicable\", \"application\", \"apply\", \"appreciate\", \"approach\", \"appropriately\", \"around\", \"array\", \"article\", \"ask\", \"assembly\", \"assume\", \"attempt\", \"authentication\", \"auto\", \"automatically\", \"available\", \"average\", \"avoid\", \"aware\", \"away\", \"back\", \"base\", \"basic\", \"basically\", \"become\", \"begin\", \"believe\", \"big\", \"binary\", \"binding\", \"bit\", \"blank\", \"blend\", \"block\", \"bonus\", \"bottom\", \"box\", \"browse\", \"browser\", \"bug\", \"build\", \"business\", \"business_logic\", \"ca\", \"calculation\", \"call\", \"camera\", \"capability\", \"card\", \"care\", \"case\", \"catch\", \"cause\", \"certain\", \"character\", \"check\", \"choose\", \"clarify\", \"class\", \"click\", \"client\", \"close\", \"cluster\", \"colleague\", \"collection\", \"color\", \"column\", \"com\", \"combination\", \"come\", \"command\", \"comment\", \"commit\", \"common\", \"compile\", \"compiler\", \"complete\", \"complexity\", \"complicated\", \"component\", \"condition\", \"configuration\", \"configure\", \"confirmation\", \"confuse\", \"connect\", \"connection\", \"consider\", \"construct\", \"consumer\", \"contain\", \"content\", \"control\", \"controller\", \"conversion\", \"convince\", \"copy\", \"corporate\", \"correct\", \"correctly\", \"cost\", \"could\", \"count\", \"course\", \"coverage\", \"create\", \"current\", \"currently\", \"custom\", \"customer\", \"cycle\", \"data\", \"database\", \"date\", \"datum\", \"day\", \"decent\", \"default\", \"define\", \"definition\", \"delete\", \"delimit\", \"deny\", \"dependent\", \"deploy\", \"deployment\", \"design\", \"desktop\", \"detail\", \"determine\", \"develop\", \"developer\", \"development\", \"device\", \"difference\", \"different\", \"difficult\", \"digit\", \"directory\", \"display\", \"distribute\", \"distribution\", \"dns\", \"document\", \"documentation\", \"double\", \"download\", \"drag\", \"due\", \"dynamically\", \"early\", \"ease\", \"easily\", \"edge\", \"edit\", \"efficient\", \"element\", \"else\", \"elsewhere\", \"emacs\", \"email\", \"empty\", \"enable\", \"end\", \"engine\", \"enough\", \"ensure\", \"enter\", \"enterprise\", \"entity\", \"entry\", \"environment\", \"error\", \"escape\", \"essentially\", \"even\", \"event\", \"exactly\", \"exception\", \"exist\", \"exit\", \"expect\", \"experience\", \"explain\", \"explanation\", \"explicit\", \"export\", \"expose\", \"extend\", \"extension\", \"extra\", \"face\", \"fact\", \"factory\", \"fail\", \"fail\", \"fairly\", \"fall\", \"familiar\", \"far\", \"fast\", \"faster\", \"favorite\", \"feature\", \"feel\", \"field\", \"figure\", \"file\", \"filesystem\", \"fine\", \"finish\", \"first\", \"fix\", \"focus\", \"folder\", \"follow\", \"form\", \"format\", \"frame\", \"framework\", \"fresh\", \"friend\", \"full\", \"function\", \"functionality\", \"game\", \"general\", \"generate\", \"generator\", \"generic\", \"give\", \"goal\", \"good\", \"good_practice\", \"grab\", \"group\", \"guarantee\", \"guide\", \"hand\", \"handle\", \"happen\", \"header\", \"hear\", \"help\", \"hide\", \"high\", \"hold\", \"hope\", \"hour\", \"htaccess\", \"http_www\", \"ide\", \"idea\", \"identity\", \"image\", \"impact\", \"implement\", \"implementation\", \"import\", \"important\", \"include\", \"increase\", \"index\", \"indicate\", \"info\", \"information\", \"initial\", \"input\", \"instal\", \"install\", \"instance\", \"instantiate\", \"instead\", \"instruction\", \"int\", \"integrate\", \"intellisense\", \"intend\", \"interact\", \"interested\", \"interesting\", \"interface\", \"internal\", \"internet\", \"interpreter\", \"investigate\", \"involve\", \"issue\", \"jar\", \"java\", \"job\", \"join\", \"keep\", \"key\", \"kill\", \"kind\", \"lack\", \"language\", \"late\", \"later\", \"layer\", \"layout\", \"lead\", \"leave\", \"length\", \"let\", \"letter\", \"level\", \"library\", \"license\", \"life\", \"limit\", \"line\", \"link\", \"lisp\", \"list\", \"live\", \"load\", \"loader\", \"local\", \"location\", \"lock\", \"log\", \"logic\", \"long\", \"love\", \"low\", \"machine\", \"main\", \"maintainable\", \"major\", \"manage\", \"manager\", \"many\", \"match\", \"maybe\", \"mean\", \"medium\", \"memory\", \"mention\", \"menu\", \"mercurial\", \"merge\", \"mess\", \"message\", \"messy\", \"method\", \"mine\", \"minute\", \"mismatch\", \"miss\", \"mode\", \"model\", \"modification\", \"modify\", \"moment\", \"mostly\", \"move\", \"much\", \"multiple\", \"must\", \"mysql\", \"name\", \"namespace\", \"necessarily\", \"necessary\", \"net\", \"never\", \"new\", \"next\", \"non\", \"normally\", \"note\", \"null\", \"number\", \"numerous\", \"object\", \"objective\", \"obvious\", \"obviously\", \"often\", \"ok\", \"old\", \"online\", \"open\", \"oppose\", \"optimization\", \"option\", \"optional\", \"organization\", \"original\", \"otherwise\", \"output\", \"overall\", \"overhead\", \"override\", \"package\", \"page\", \"paint\", \"parameter\", \"parse\", \"parser\", \"part\", \"pass\", \"password\", \"path\", \"pattern\", \"perform\", \"period\", \"permission\", \"person\", \"personally\", \"php\", \"place\", \"plain\", \"platform\", \"play\", \"plugin\", \"point\", \"pointer\", \"pop\", \"portion\", \"position\", \"possible\", \"possibly\", \"post\", \"potential\", \"powershell\", \"prefer\", \"present\", \"press\", \"previous\", \"price\", \"print\", \"problem\", \"procedure\", \"process\", \"product\", \"production\", \"program\", \"programatically\", \"project\", \"prone\", \"proper\", \"properly\", \"property\", \"protect\", \"provide\", \"provider\", \"public\", \"purely\", \"purpose\", \"query\", \"question\", \"quick\", \"quickly\", \"quite\", \"raise\", \"rather\", \"raw\", \"read\", \"realize\", \"really\", \"reason\", \"receive\", \"recently\", \"recommend\", \"recommendation\", \"reduce\", \"reference\", \"refresh\", \"regard\", \"regex\", \"register\", \"regular\", \"relate\", \"relative\", \"reliably\", \"remove\", \"replicate\", \"repository\", \"represent\", \"representation\", \"request\", \"require\", \"reset\", \"resource\", \"response\", \"rest\", \"result\", \"retrieve\", \"return\", \"revision\", \"rewrite\", \"right\", \"root\", \"row\", \"rule\", \"runtime\", \"safe\", \"say\", \"scale\", \"scheme\", \"script\", \"search\", \"second\", \"seem\", \"select\", \"send\", \"sense\", \"separate\", \"sequence\", \"sequential\", \"server\", \"set\", \"setting\", \"setup\", \"share\", \"show\", \"side\", \"sign\", \"similar\", \"simple\", \"simply\", \"single\", \"situation\", \"size\", \"slow\", \"small\", \"software\", \"solution\", \"solve\", \"sometimes\", \"soon\", \"sorry\", \"sort\", \"sound\", \"source\", \"specific\", \"specifically\", \"specify\", \"speed\", \"sql\", \"stack_overflow\", \"stackoverflow\", \"stage\", \"stand\", \"standard\", \"start\", \"state\", \"statement\", \"statically\", \"status\", \"step\", \"still\", \"stop\", \"storage\", \"store\", \"stored_procedure\", \"stre\", \"strike\", \"string\", \"strong\", \"structure\", \"stuck\", \"style\", \"subversion\", \"successfully\", \"suggest\", \"suggestion\", \"support\", \"suppose\", \"sure\", \"suspect\", \"svn\", \"switch\", \"sync\", \"system\", \"tab\", \"table\", \"tag\", \"take\", \"talk\", \"target\", \"task\", \"tdd\", \"teach\", \"team\", \"tell\", \"test\", \"text\", \"therefore\", \"thing\", \"think\", \"thread\", \"throw\", \"thus\", \"time\", \"tool\", \"tooltip\", \"track\", \"transform\", \"tree\", \"trigger\", \"trim\", \"trivial\", \"trust\", \"type\", \"ugly\", \"unable\", \"unfortunately\", \"unique\", \"unit\", \"update\", \"upgrade\", \"upload\", \"usage\", \"useful\", \"user\", \"utility\", \"valid\", \"validate\", \"validation\", \"value\", \"various\", \"vector\", \"verify\", \"version\", \"video\", \"view\", \"warn\", \"waste\", \"web\", \"webserver\", \"webservice\", \"website\", \"well\", \"white\", \"window\", \"wonder\", \"word\", \"workaround\", \"worker\", \"worth\", \"would\", \"write\", \"wrong\", \"xml\", \"yet\"]}, \"R\": 30, \"lambda.step\": 0.01, \"plot.opts\": {\"xlab\": \"PC1\", \"ylab\": \"PC2\"}, \"topic.order\": [8, 19, 17, 15, 20, 30, 3, 5, 18, 27, 21, 25, 10, 26, 11, 9, 4, 13, 6, 29, 24, 7, 1, 28, 16, 2, 14, 23, 22, 12]};\n",
       "\n",
       "function LDAvis_load_lib(url, callback){\n",
       "  var s = document.createElement('script');\n",
       "  s.src = url;\n",
       "  s.async = true;\n",
       "  s.onreadystatechange = s.onload = callback;\n",
       "  s.onerror = function(){console.warn(\"failed to load library \" + url);};\n",
       "  document.getElementsByTagName(\"head\")[0].appendChild(s);\n",
       "}\n",
       "\n",
       "if(typeof(LDAvis) !== \"undefined\"){\n",
       "   // already loaded: just create the visualization\n",
       "   !function(LDAvis){\n",
       "       new LDAvis(\"#\" + \"ldavis_el1412021155716044241622447435\", ldavis_el1412021155716044241622447435_data);\n",
       "   }(LDAvis);\n",
       "}else if(typeof define === \"function\" && define.amd){\n",
       "   // require.js is available: use it to load d3/LDAvis\n",
       "   require.config({paths: {d3: \"https://cdnjs.cloudflare.com/ajax/libs/d3/3.5.5/d3.min\"}});\n",
       "   require([\"d3\"], function(d3){\n",
       "      window.d3 = d3;\n",
       "      LDAvis_load_lib(\"https://cdn.rawgit.com/bmabey/pyLDAvis/files/ldavis.v1.0.0.js\", function(){\n",
       "        new LDAvis(\"#\" + \"ldavis_el1412021155716044241622447435\", ldavis_el1412021155716044241622447435_data);\n",
       "      });\n",
       "    });\n",
       "}else{\n",
       "    // require.js not available: dynamically load d3 & LDAvis\n",
       "    LDAvis_load_lib(\"https://cdnjs.cloudflare.com/ajax/libs/d3/3.5.5/d3.min.js\", function(){\n",
       "         LDAvis_load_lib(\"https://cdn.rawgit.com/bmabey/pyLDAvis/files/ldavis.v1.0.0.js\", function(){\n",
       "                 new LDAvis(\"#\" + \"ldavis_el1412021155716044241622447435\", ldavis_el1412021155716044241622447435_data);\n",
       "            })\n",
       "         });\n",
       "}\n",
       "</script>"
      ],
      "text/plain": [
       "PreparedData(topic_coordinates=              x         y  topics  cluster       Freq\n",
       "topic                                                \n",
       "7      0.218561  0.392037       1        1  12.169149\n",
       "18     0.198348 -0.257008       2        1  10.613594\n",
       "16     0.164047 -0.111612       3        1   7.627972\n",
       "14     0.161949 -0.052041       4        1   7.521692\n",
       "19     0.085287 -0.010765       5        1   4.405172\n",
       "29     0.062621 -0.006166       6        1   3.935884\n",
       "2      0.078319 -0.009398       7        1   3.732553\n",
       "4      0.022892 -0.000888       8        1   3.294881\n",
       "17     0.055559 -0.005257       9        1   3.254865\n",
       "26     0.030779 -0.001894      10        1   2.978527\n",
       "20     0.016023 -0.000228      11        1   2.965948\n",
       "24    -0.004192  0.001876      12        1   2.702155\n",
       "9      0.009934  0.000293      13        1   2.667478\n",
       "25    -0.009168  0.002093      14        1   2.654914\n",
       "10     0.003329  0.001090      15        1   2.619869\n",
       "8     -0.014922  0.002782      16        1   2.566884\n",
       "3     -0.014003  0.002656      17        1   2.371778\n",
       "12    -0.035149  0.003998      18        1   2.341225\n",
       "5     -0.005715  0.001728      19        1   2.330624\n",
       "28    -0.013652  0.002506      20        1   2.310609\n",
       "23    -0.055600  0.005345      21        1   2.062963\n",
       "6     -0.039402  0.004320      22        1   2.048575\n",
       "0     -0.073129  0.006369      23        1   1.865868\n",
       "27    -0.069860  0.006112      24        1   1.806959\n",
       "15    -0.083791  0.006789      25        1   1.679333\n",
       "1     -0.085913 -0.017058      26        1   1.514113\n",
       "13    -0.139193  0.008838      27        1   1.348009\n",
       "22    -0.118474  0.008156      28        1   1.301542\n",
       "21    -0.113499  0.007978      29        1   1.299348\n",
       "11    -0.231987  0.007351      30        1   0.007520, topic_info=      Category          Freq          Term         Total  loglift  logprob\n",
       "29     Default  31723.000000          file  31723.000000   30.000  30.0000\n",
       "449    Default  25144.000000        follow  25144.000000   29.000  29.0000\n",
       "70     Default  25510.000000      function  25510.000000   28.000  28.0000\n",
       "3      Default  23284.000000         error  23284.000000   27.000  27.0000\n",
       "62     Default  21771.000000         class  21771.000000   26.000  26.0000\n",
       "...        ...           ...           ...           ...      ...      ...\n",
       "19747  Topic30      0.003068     journalid      1.125009    3.591 -10.9902\n",
       "19746  Topic30      0.003068  fetchallnote      1.125009    3.591 -10.9902\n",
       "19771  Topic30      0.003068     filemerge      1.125009    3.591 -10.9902\n",
       "19773  Topic30      0.003068           rvm      1.125009    3.591 -10.9902\n",
       "19744  Topic30      0.003068  thingscreate      1.125009    3.591 -10.9902\n",
       "\n",
       "[1178 rows x 6 columns], token_table=      Topic      Freq     Term\n",
       "term                          \n",
       "188       3  0.999913     able\n",
       "362      11  0.999873   access\n",
       "1040      5  0.999116   accord\n",
       "443       7  0.999133  account\n",
       "1108      4  0.999458   action\n",
       "...     ...       ...      ...\n",
       "757      15  0.999738    would\n",
       "14        4  0.999921    write\n",
       "425      24  0.999871    wrong\n",
       "690      22  0.998786      xml\n",
       "925       4  0.999286      yet\n",
       "\n",
       "[672 rows x 3 columns], R=30, lambda_step=0.01, plot_opts={'xlab': 'PC1', 'ylab': 'PC2'}, topic_order=[8, 19, 17, 15, 20, 30, 3, 5, 18, 27, 21, 25, 10, 26, 11, 9, 4, 13, 6, 29, 24, 7, 1, 28, 16, 2, 14, 23, 22, 12])"
      ]
     },
     "execution_count": 43,
     "metadata": {},
     "output_type": "execute_result"
    }
   ],
   "source": [
    "pyLDAvis.enable_notebook()\n",
    "vis = pyLDAvis.gensim.prepare(lda_model, corpus, id2word)\n",
    "vis"
   ]
  },
  {
   "cell_type": "code",
   "execution_count": 44,
   "metadata": {},
   "outputs": [],
   "source": [
    "lda_model = gensim.models.ldamodel.LdaModel(corpus=corpus,\n",
    "                                           id2word=id2word,\n",
    "                                           num_topics=25, \n",
    "                                           random_state=100,\n",
    "                                           update_every=1,\n",
    "                                           chunksize=100,\n",
    "                                           passes=10,\n",
    "                                           alpha='auto',\n",
    "                                           per_word_topics=True)"
   ]
  },
  {
   "cell_type": "code",
   "execution_count": 45,
   "metadata": {},
   "outputs": [
    {
     "name": "stdout",
     "output_type": "stream",
     "text": [
      "\n",
      "Perplexity:  -16.10495293977375\n",
      "\n",
      "Coherence Score:  0.345301059662267\n"
     ]
    }
   ],
   "source": [
    "print('\\nPerplexity: ', lda_model.log_perplexity(corpus))  # a measure of how good the model is. lower the better.\n",
    "\n",
    "# Compute Coherence Score\n",
    "coherence_model_lda = CoherenceModel(model=lda_model, texts=data_lemmatized, dictionary=id2word, coherence='c_v')\n",
    "coherence_lda = coherence_model_lda.get_coherence()\n",
    "print('\\nCoherence Score: ', coherence_lda)"
   ]
  },
  {
   "cell_type": "code",
   "execution_count": 46,
   "metadata": {},
   "outputs": [
    {
     "name": "stderr",
     "output_type": "stream",
     "text": [
      "C:\\Users\\patha\\AppData\\Roaming\\Python\\Python37\\site-packages\\pyLDAvis\\_prepare.py:257: FutureWarning: Sorting because non-concatenation axis is not aligned. A future version\n",
      "of pandas will change to not sort by default.\n",
      "\n",
      "To accept the future behavior, pass 'sort=False'.\n",
      "\n",
      "To retain the current behavior and silence the warning, pass 'sort=True'.\n",
      "\n",
      "  return pd.concat([default_term_info] + list(topic_dfs))\n"
     ]
    },
    {
     "data": {
      "text/html": [
       "\n",
       "<link rel=\"stylesheet\" type=\"text/css\" href=\"https://cdn.rawgit.com/bmabey/pyLDAvis/files/ldavis.v1.0.0.css\">\n",
       "\n",
       "\n",
       "<div id=\"ldavis_el1412021155734998485936139261\"></div>\n",
       "<script type=\"text/javascript\">\n",
       "\n",
       "var ldavis_el1412021155734998485936139261_data = {\"mdsDat\": {\"x\": [-0.2139241190903571, -0.1611261615144003, -0.13296617587881243, -0.12922741678619434, -0.07447035961603851, -0.08774969839058219, -0.0630922411883912, -0.060261593223576895, -0.043877863689372736, -0.04259596203925748, -0.02247554923302327, -0.0111399280116255, -0.00417400767160575, -0.014989858446300842, -0.007073983904490004, 0.01570448919139518, 0.04190820717372769, 0.03965045687916488, 0.06361600383233071, 0.08066510951098978, 0.12157449236014786, 0.09997943055187629, 0.14848429394830712, 0.21438685428938026, 0.24317558094670924], \"y\": [0.41308080047964846, -0.19965164544624012, -0.09835103545502008, -0.09082405053575208, -0.031379805689146556, -0.041442715005288414, -0.0246898543860754, -0.023777927515790068, -0.016062325881020502, -0.01510232564529231, -0.00783462245249518, -0.004213816895856544, -0.002022216182744661, -0.005844209001352507, -0.003186379786133155, 0.0030606245322825076, 0.008432279632322747, 0.007715338836863795, 0.012005498730243208, 0.014588117874905625, 0.01936698823052109, 0.016951024412154864, 0.021816073961106092, 0.02515013184435149, 0.022216051343808673], \"topics\": [1, 2, 3, 4, 5, 6, 7, 8, 9, 10, 11, 12, 13, 14, 15, 16, 17, 18, 19, 20, 21, 22, 23, 24, 25], \"cluster\": [1, 1, 1, 1, 1, 1, 1, 1, 1, 1, 1, 1, 1, 1, 1, 1, 1, 1, 1, 1, 1, 1, 1, 1, 1], \"Freq\": [16.03329849243164, 9.41190242767334, 7.095484256744385, 6.930232048034668, 5.21999454498291, 4.951266765594482, 4.610865116119385, 3.942812919616699, 3.941453695297241, 3.744047164916992, 3.728950023651123, 3.3591818809509277, 3.289780378341675, 3.0981626510620117, 3.07283878326416, 3.011047124862671, 2.5705809593200684, 2.5692296028137207, 2.2273826599121094, 1.986255168914795, 1.5556004047393799, 1.351745367050171, 1.3213227987289429, 0.8365576863288879, 0.1400069296360016]}, \"tinfo\": {\"Category\": [\"Default\", \"Default\", \"Default\", \"Default\", \"Default\", \"Default\", \"Default\", \"Default\", \"Default\", \"Default\", \"Default\", \"Default\", \"Default\", \"Default\", \"Default\", \"Default\", \"Default\", \"Default\", \"Default\", \"Default\", \"Default\", \"Default\", \"Default\", \"Default\", \"Default\", \"Default\", \"Default\", \"Default\", \"Default\", \"Default\", \"Topic1\", \"Topic1\", \"Topic1\", \"Topic1\", \"Topic1\", \"Topic1\", \"Topic1\", \"Topic1\", \"Topic1\", \"Topic1\", \"Topic1\", \"Topic1\", \"Topic1\", \"Topic1\", \"Topic1\", \"Topic1\", \"Topic1\", \"Topic1\", \"Topic1\", \"Topic1\", \"Topic1\", \"Topic1\", \"Topic1\", \"Topic1\", \"Topic1\", \"Topic1\", \"Topic1\", \"Topic1\", \"Topic1\", \"Topic1\", \"Topic2\", \"Topic2\", \"Topic2\", \"Topic2\", \"Topic2\", \"Topic2\", \"Topic2\", \"Topic2\", \"Topic2\", \"Topic2\", \"Topic2\", \"Topic2\", \"Topic2\", \"Topic2\", \"Topic2\", \"Topic2\", \"Topic2\", \"Topic2\", \"Topic2\", \"Topic2\", \"Topic2\", \"Topic2\", \"Topic2\", \"Topic2\", \"Topic2\", \"Topic2\", \"Topic2\", \"Topic2\", \"Topic2\", \"Topic2\", \"Topic3\", \"Topic3\", \"Topic3\", \"Topic3\", \"Topic3\", \"Topic3\", \"Topic3\", \"Topic3\", \"Topic3\", \"Topic3\", \"Topic3\", \"Topic3\", \"Topic3\", \"Topic3\", \"Topic3\", \"Topic3\", \"Topic3\", \"Topic3\", \"Topic3\", \"Topic3\", \"Topic3\", \"Topic3\", \"Topic3\", \"Topic3\", \"Topic3\", \"Topic3\", \"Topic3\", \"Topic3\", \"Topic3\", \"Topic3\", \"Topic4\", \"Topic4\", \"Topic4\", \"Topic4\", \"Topic4\", \"Topic4\", \"Topic4\", \"Topic4\", \"Topic4\", \"Topic4\", \"Topic4\", \"Topic4\", \"Topic4\", \"Topic4\", \"Topic4\", \"Topic4\", \"Topic4\", \"Topic4\", \"Topic4\", \"Topic4\", \"Topic4\", \"Topic4\", \"Topic4\", \"Topic4\", \"Topic4\", \"Topic4\", \"Topic4\", \"Topic4\", \"Topic4\", \"Topic4\", \"Topic5\", \"Topic5\", \"Topic5\", \"Topic5\", \"Topic5\", \"Topic5\", \"Topic5\", \"Topic5\", \"Topic5\", \"Topic5\", \"Topic5\", \"Topic5\", \"Topic5\", \"Topic5\", \"Topic5\", \"Topic5\", \"Topic5\", \"Topic5\", \"Topic5\", \"Topic5\", \"Topic5\", \"Topic5\", \"Topic5\", \"Topic5\", \"Topic5\", \"Topic5\", \"Topic5\", \"Topic5\", \"Topic5\", \"Topic5\", \"Topic6\", \"Topic6\", \"Topic6\", \"Topic6\", \"Topic6\", \"Topic6\", \"Topic6\", \"Topic6\", \"Topic6\", \"Topic6\", \"Topic6\", \"Topic6\", \"Topic6\", \"Topic6\", \"Topic6\", \"Topic6\", \"Topic6\", \"Topic6\", \"Topic6\", \"Topic6\", \"Topic6\", \"Topic6\", \"Topic6\", \"Topic6\", \"Topic6\", \"Topic6\", \"Topic6\", \"Topic6\", \"Topic6\", \"Topic6\", \"Topic6\", \"Topic6\", \"Topic6\", \"Topic6\", \"Topic6\", \"Topic6\", \"Topic6\", \"Topic6\", \"Topic6\", \"Topic6\", \"Topic7\", \"Topic7\", \"Topic7\", \"Topic7\", \"Topic7\", \"Topic7\", \"Topic7\", \"Topic7\", \"Topic7\", \"Topic7\", \"Topic7\", \"Topic7\", \"Topic7\", \"Topic7\", \"Topic7\", \"Topic7\", \"Topic7\", \"Topic7\", \"Topic7\", \"Topic7\", \"Topic7\", \"Topic7\", \"Topic7\", \"Topic7\", \"Topic7\", \"Topic7\", \"Topic7\", \"Topic7\", \"Topic7\", \"Topic7\", \"Topic8\", \"Topic8\", \"Topic8\", \"Topic8\", \"Topic8\", \"Topic8\", \"Topic8\", \"Topic8\", \"Topic8\", \"Topic8\", \"Topic8\", \"Topic8\", \"Topic8\", \"Topic8\", \"Topic8\", \"Topic8\", \"Topic8\", \"Topic8\", \"Topic8\", \"Topic8\", \"Topic8\", \"Topic8\", \"Topic8\", \"Topic8\", \"Topic8\", \"Topic8\", \"Topic8\", \"Topic8\", \"Topic8\", \"Topic8\", \"Topic9\", \"Topic9\", \"Topic9\", \"Topic9\", \"Topic9\", \"Topic9\", \"Topic9\", \"Topic9\", \"Topic9\", \"Topic9\", \"Topic9\", \"Topic9\", \"Topic9\", \"Topic9\", \"Topic9\", \"Topic9\", \"Topic9\", \"Topic9\", \"Topic9\", \"Topic9\", \"Topic9\", \"Topic9\", \"Topic9\", \"Topic9\", \"Topic9\", \"Topic9\", \"Topic9\", \"Topic9\", \"Topic9\", \"Topic9\", \"Topic10\", \"Topic10\", \"Topic10\", \"Topic10\", \"Topic10\", \"Topic10\", \"Topic10\", \"Topic10\", \"Topic10\", \"Topic10\", \"Topic10\", \"Topic10\", \"Topic10\", \"Topic10\", \"Topic10\", \"Topic10\", \"Topic10\", \"Topic10\", \"Topic10\", \"Topic10\", \"Topic10\", \"Topic10\", \"Topic10\", \"Topic10\", \"Topic10\", \"Topic10\", \"Topic10\", \"Topic10\", \"Topic10\", \"Topic10\", \"Topic11\", \"Topic11\", \"Topic11\", \"Topic11\", \"Topic11\", \"Topic11\", \"Topic11\", \"Topic11\", \"Topic11\", \"Topic11\", \"Topic11\", \"Topic11\", \"Topic11\", \"Topic11\", \"Topic11\", \"Topic11\", \"Topic11\", \"Topic11\", \"Topic11\", \"Topic11\", \"Topic11\", \"Topic11\", \"Topic11\", \"Topic11\", \"Topic11\", \"Topic11\", \"Topic11\", \"Topic11\", \"Topic11\", \"Topic11\", \"Topic12\", \"Topic12\", \"Topic12\", \"Topic12\", \"Topic12\", \"Topic12\", \"Topic12\", \"Topic12\", \"Topic12\", \"Topic12\", \"Topic12\", \"Topic12\", \"Topic12\", \"Topic12\", \"Topic12\", \"Topic12\", \"Topic12\", \"Topic12\", \"Topic12\", \"Topic12\", \"Topic12\", \"Topic12\", \"Topic12\", \"Topic12\", \"Topic12\", \"Topic12\", \"Topic12\", \"Topic12\", \"Topic12\", \"Topic12\", \"Topic13\", \"Topic13\", \"Topic13\", \"Topic13\", \"Topic13\", \"Topic13\", \"Topic13\", \"Topic13\", \"Topic13\", \"Topic13\", \"Topic13\", \"Topic13\", \"Topic13\", \"Topic13\", \"Topic13\", \"Topic13\", \"Topic13\", \"Topic13\", \"Topic13\", \"Topic13\", \"Topic13\", \"Topic13\", \"Topic13\", \"Topic13\", \"Topic13\", \"Topic13\", \"Topic13\", \"Topic13\", \"Topic13\", \"Topic13\", \"Topic14\", \"Topic14\", \"Topic14\", \"Topic14\", \"Topic14\", \"Topic14\", \"Topic14\", \"Topic14\", \"Topic14\", \"Topic14\", \"Topic14\", \"Topic14\", \"Topic14\", \"Topic14\", \"Topic14\", \"Topic14\", \"Topic14\", \"Topic14\", \"Topic14\", \"Topic14\", \"Topic14\", \"Topic14\", \"Topic14\", \"Topic14\", \"Topic14\", \"Topic14\", \"Topic14\", \"Topic14\", \"Topic14\", \"Topic14\", \"Topic14\", \"Topic14\", \"Topic14\", \"Topic14\", \"Topic14\", \"Topic14\", \"Topic14\", \"Topic14\", \"Topic14\", \"Topic14\", \"Topic14\", \"Topic14\", \"Topic14\", \"Topic14\", \"Topic14\", \"Topic14\", \"Topic14\", \"Topic14\", \"Topic14\", \"Topic14\", \"Topic14\", \"Topic14\", \"Topic14\", \"Topic14\", \"Topic14\", \"Topic14\", \"Topic14\", \"Topic14\", \"Topic14\", \"Topic14\", \"Topic15\", \"Topic15\", \"Topic15\", \"Topic15\", \"Topic15\", \"Topic15\", \"Topic15\", \"Topic15\", \"Topic15\", \"Topic15\", \"Topic15\", \"Topic15\", \"Topic15\", \"Topic15\", \"Topic15\", \"Topic15\", \"Topic15\", \"Topic15\", \"Topic15\", \"Topic15\", \"Topic15\", \"Topic15\", \"Topic15\", \"Topic15\", \"Topic15\", \"Topic15\", \"Topic15\", \"Topic15\", \"Topic15\", \"Topic15\", \"Topic15\", \"Topic15\", \"Topic15\", \"Topic15\", \"Topic15\", \"Topic16\", \"Topic16\", \"Topic16\", \"Topic16\", \"Topic16\", \"Topic16\", \"Topic16\", \"Topic16\", \"Topic16\", \"Topic16\", \"Topic16\", \"Topic16\", \"Topic16\", \"Topic16\", \"Topic16\", \"Topic16\", \"Topic16\", \"Topic16\", \"Topic16\", \"Topic16\", \"Topic16\", \"Topic16\", \"Topic16\", \"Topic16\", \"Topic16\", \"Topic16\", \"Topic16\", \"Topic16\", \"Topic16\", \"Topic16\", \"Topic17\", \"Topic17\", \"Topic17\", \"Topic17\", \"Topic17\", \"Topic17\", \"Topic17\", \"Topic17\", \"Topic17\", \"Topic17\", \"Topic17\", \"Topic17\", \"Topic17\", \"Topic17\", \"Topic17\", \"Topic17\", \"Topic17\", \"Topic17\", \"Topic17\", \"Topic17\", \"Topic17\", \"Topic17\", \"Topic17\", \"Topic17\", \"Topic17\", \"Topic17\", \"Topic17\", \"Topic17\", \"Topic17\", \"Topic17\", \"Topic18\", \"Topic18\", \"Topic18\", \"Topic18\", \"Topic18\", \"Topic18\", \"Topic18\", \"Topic18\", \"Topic18\", \"Topic18\", \"Topic18\", \"Topic18\", \"Topic18\", \"Topic18\", \"Topic18\", \"Topic18\", \"Topic18\", \"Topic18\", \"Topic18\", \"Topic18\", \"Topic18\", \"Topic18\", \"Topic18\", \"Topic18\", \"Topic18\", \"Topic18\", \"Topic18\", \"Topic18\", \"Topic18\", \"Topic18\", \"Topic18\", \"Topic18\", \"Topic18\", \"Topic18\", \"Topic18\", \"Topic18\", \"Topic18\", \"Topic18\", \"Topic18\", \"Topic18\", \"Topic18\", \"Topic18\", \"Topic18\", \"Topic18\", \"Topic18\", \"Topic18\", \"Topic18\", \"Topic18\", \"Topic18\", \"Topic18\", \"Topic18\", \"Topic18\", \"Topic18\", \"Topic18\", \"Topic18\", \"Topic18\", \"Topic18\", \"Topic18\", \"Topic18\", \"Topic18\", \"Topic18\", \"Topic18\", \"Topic18\", \"Topic18\", \"Topic18\", \"Topic18\", \"Topic18\", \"Topic18\", \"Topic18\", \"Topic18\", \"Topic18\", \"Topic18\", \"Topic18\", \"Topic18\", \"Topic18\", \"Topic18\", \"Topic18\", \"Topic18\", \"Topic18\", \"Topic18\", \"Topic18\", \"Topic18\", \"Topic18\", \"Topic18\", \"Topic18\", \"Topic18\", \"Topic18\", \"Topic18\", \"Topic18\", \"Topic18\", \"Topic18\", \"Topic18\", \"Topic18\", \"Topic18\", \"Topic18\", \"Topic18\", \"Topic18\", \"Topic18\", \"Topic18\", \"Topic18\", \"Topic18\", \"Topic18\", \"Topic18\", \"Topic18\", \"Topic18\", \"Topic18\", \"Topic18\", \"Topic18\", \"Topic18\", \"Topic18\", \"Topic18\", \"Topic18\", \"Topic18\", \"Topic18\", \"Topic18\", \"Topic18\", \"Topic18\", \"Topic18\", \"Topic18\", \"Topic19\", \"Topic19\", \"Topic19\", \"Topic19\", \"Topic19\", \"Topic19\", \"Topic19\", \"Topic19\", \"Topic19\", \"Topic19\", \"Topic19\", \"Topic19\", \"Topic19\", \"Topic19\", \"Topic19\", \"Topic19\", \"Topic19\", \"Topic19\", \"Topic19\", \"Topic19\", \"Topic19\", \"Topic19\", \"Topic19\", \"Topic19\", \"Topic19\", \"Topic19\", \"Topic19\", \"Topic19\", \"Topic19\", \"Topic19\", \"Topic19\", \"Topic19\", \"Topic19\", \"Topic19\", \"Topic19\", \"Topic19\", \"Topic19\", \"Topic19\", \"Topic19\", \"Topic19\", \"Topic19\", \"Topic19\", \"Topic19\", \"Topic19\", \"Topic19\", \"Topic19\", \"Topic19\", \"Topic19\", \"Topic19\", \"Topic19\", \"Topic19\", \"Topic19\", \"Topic19\", \"Topic19\", \"Topic20\", \"Topic20\", \"Topic20\", \"Topic20\", \"Topic20\", \"Topic20\", \"Topic20\", \"Topic20\", \"Topic20\", \"Topic20\", \"Topic20\", \"Topic20\", \"Topic20\", \"Topic20\", \"Topic20\", \"Topic20\", \"Topic20\", \"Topic20\", \"Topic20\", \"Topic20\", \"Topic20\", \"Topic20\", \"Topic20\", \"Topic20\", \"Topic20\", \"Topic20\", \"Topic20\", \"Topic20\", \"Topic20\", \"Topic20\", \"Topic20\", \"Topic20\", \"Topic20\", \"Topic20\", \"Topic20\", \"Topic20\", \"Topic20\", \"Topic20\", \"Topic20\", \"Topic20\", \"Topic20\", \"Topic20\", \"Topic20\", \"Topic20\", \"Topic20\", \"Topic20\", \"Topic20\", \"Topic20\", \"Topic20\", \"Topic20\", \"Topic21\", \"Topic21\", \"Topic21\", \"Topic21\", \"Topic21\", \"Topic21\", \"Topic21\", \"Topic21\", \"Topic21\", \"Topic21\", \"Topic21\", \"Topic21\", \"Topic21\", \"Topic21\", \"Topic21\", \"Topic21\", \"Topic21\", \"Topic21\", \"Topic21\", \"Topic21\", \"Topic21\", \"Topic21\", \"Topic21\", \"Topic21\", \"Topic21\", \"Topic21\", \"Topic21\", \"Topic21\", \"Topic21\", \"Topic21\", \"Topic21\", \"Topic21\", \"Topic21\", \"Topic21\", \"Topic21\", \"Topic21\", \"Topic21\", \"Topic21\", \"Topic21\", \"Topic21\", \"Topic21\", \"Topic21\", \"Topic21\", \"Topic21\", \"Topic21\", \"Topic21\", \"Topic21\", \"Topic21\", \"Topic21\", \"Topic21\", \"Topic21\", \"Topic21\", \"Topic21\", \"Topic21\", \"Topic21\", \"Topic21\", \"Topic21\", \"Topic21\", \"Topic21\", \"Topic21\", \"Topic21\", \"Topic21\", \"Topic21\", \"Topic21\", \"Topic21\", \"Topic21\", \"Topic21\", \"Topic21\", \"Topic21\", \"Topic21\", \"Topic21\", \"Topic21\", \"Topic21\", \"Topic21\", \"Topic21\", \"Topic21\", \"Topic21\", \"Topic21\", \"Topic21\", \"Topic21\", \"Topic21\", \"Topic21\", \"Topic21\", \"Topic21\", \"Topic21\", \"Topic21\", \"Topic21\", \"Topic21\", \"Topic21\", \"Topic21\", \"Topic21\", \"Topic21\", \"Topic21\", \"Topic21\", \"Topic21\", \"Topic21\", \"Topic21\", \"Topic21\", \"Topic21\", \"Topic21\", \"Topic21\", \"Topic21\", \"Topic21\", \"Topic22\", \"Topic22\", \"Topic22\", \"Topic22\", \"Topic22\", \"Topic22\", \"Topic22\", \"Topic22\", \"Topic22\", \"Topic22\", \"Topic22\", \"Topic22\", \"Topic22\", \"Topic22\", \"Topic22\", \"Topic22\", \"Topic22\", \"Topic22\", \"Topic22\", \"Topic22\", \"Topic22\", \"Topic22\", \"Topic22\", \"Topic22\", \"Topic22\", \"Topic22\", \"Topic22\", \"Topic22\", \"Topic22\", \"Topic22\", \"Topic22\", \"Topic22\", \"Topic22\", \"Topic22\", \"Topic22\", \"Topic22\", \"Topic22\", \"Topic22\", \"Topic22\", \"Topic22\", \"Topic22\", \"Topic22\", \"Topic22\", \"Topic22\", \"Topic22\", \"Topic22\", \"Topic22\", \"Topic22\", \"Topic22\", \"Topic22\", \"Topic22\", \"Topic22\", \"Topic22\", \"Topic22\", \"Topic22\", \"Topic22\", \"Topic22\", \"Topic22\", \"Topic22\", \"Topic22\", \"Topic22\", \"Topic22\", \"Topic22\", \"Topic22\", \"Topic22\", \"Topic22\", \"Topic22\", \"Topic22\", \"Topic22\", \"Topic22\", \"Topic22\", \"Topic23\", \"Topic23\", \"Topic23\", \"Topic23\", \"Topic23\", \"Topic23\", \"Topic23\", \"Topic23\", \"Topic23\", \"Topic23\", \"Topic23\", \"Topic23\", \"Topic23\", \"Topic23\", \"Topic23\", \"Topic23\", \"Topic23\", \"Topic23\", \"Topic23\", \"Topic23\", \"Topic23\", \"Topic23\", \"Topic23\", \"Topic23\", \"Topic23\", \"Topic23\", \"Topic23\", \"Topic23\", \"Topic23\", \"Topic23\", \"Topic23\", \"Topic23\", \"Topic23\", \"Topic23\", \"Topic23\", \"Topic23\", \"Topic23\", \"Topic23\", \"Topic23\", \"Topic23\", \"Topic23\", \"Topic23\", \"Topic23\", \"Topic23\", \"Topic23\", \"Topic23\", \"Topic23\", \"Topic23\", \"Topic23\", \"Topic23\", \"Topic23\", \"Topic23\", \"Topic23\", \"Topic23\", \"Topic23\", \"Topic23\", \"Topic23\", \"Topic23\", \"Topic23\", \"Topic23\", \"Topic23\", \"Topic23\", \"Topic23\", \"Topic23\", \"Topic23\", \"Topic23\", \"Topic23\", \"Topic23\", \"Topic23\", \"Topic23\", \"Topic23\", \"Topic23\", \"Topic23\", \"Topic23\", \"Topic23\", \"Topic23\", \"Topic23\", \"Topic23\", \"Topic23\", \"Topic23\", \"Topic23\", \"Topic23\", \"Topic23\", \"Topic23\", \"Topic23\", \"Topic23\", \"Topic23\", \"Topic23\", \"Topic23\", \"Topic23\", \"Topic23\", \"Topic23\", \"Topic23\", \"Topic23\", \"Topic23\", \"Topic23\", \"Topic23\", \"Topic23\", \"Topic23\", \"Topic23\", \"Topic23\", \"Topic23\", \"Topic23\", \"Topic23\", \"Topic23\", \"Topic23\", \"Topic23\", \"Topic23\", \"Topic23\", \"Topic23\", \"Topic23\", \"Topic23\", \"Topic23\", \"Topic23\", \"Topic23\", \"Topic23\", \"Topic23\", \"Topic23\", \"Topic23\", \"Topic23\", \"Topic23\", \"Topic23\", \"Topic23\", \"Topic23\", \"Topic23\", \"Topic23\", \"Topic23\", \"Topic23\", \"Topic23\", \"Topic23\", \"Topic23\", \"Topic23\", \"Topic23\", \"Topic23\", \"Topic23\", \"Topic23\", \"Topic23\", \"Topic23\", \"Topic23\", \"Topic23\", \"Topic23\", \"Topic23\", \"Topic24\", \"Topic24\", \"Topic24\", \"Topic24\", \"Topic24\", \"Topic24\", \"Topic24\", \"Topic24\", \"Topic24\", \"Topic24\", \"Topic24\", \"Topic24\", \"Topic24\", \"Topic24\", \"Topic24\", \"Topic24\", \"Topic24\", \"Topic24\", \"Topic24\", \"Topic24\", \"Topic24\", \"Topic24\", \"Topic24\", \"Topic24\", \"Topic24\", \"Topic24\", \"Topic24\", \"Topic24\", \"Topic24\", \"Topic24\", \"Topic24\", \"Topic24\", \"Topic24\", \"Topic24\", \"Topic24\", \"Topic24\", \"Topic24\", \"Topic24\", \"Topic24\", \"Topic24\", \"Topic24\", \"Topic24\", \"Topic24\", \"Topic24\", \"Topic24\", \"Topic24\", \"Topic24\", \"Topic24\", \"Topic24\", \"Topic24\", \"Topic24\", \"Topic24\", \"Topic24\", \"Topic24\", \"Topic24\", \"Topic24\", \"Topic24\", \"Topic24\", \"Topic24\", \"Topic24\", \"Topic24\", \"Topic24\", \"Topic24\", \"Topic24\", \"Topic24\", \"Topic24\", \"Topic24\", \"Topic24\", \"Topic24\", \"Topic24\", \"Topic24\", \"Topic24\", \"Topic24\", \"Topic24\", \"Topic24\", \"Topic24\", \"Topic24\", \"Topic24\", \"Topic24\", \"Topic24\", \"Topic24\", \"Topic24\", \"Topic24\", \"Topic24\", \"Topic24\", \"Topic24\", \"Topic24\", \"Topic24\", \"Topic24\", \"Topic24\", \"Topic24\", \"Topic24\", \"Topic24\", \"Topic24\", \"Topic24\", \"Topic24\", \"Topic24\", \"Topic24\", \"Topic24\", \"Topic24\", \"Topic24\", \"Topic24\", \"Topic24\", \"Topic24\", \"Topic24\", \"Topic24\", \"Topic24\", \"Topic24\", \"Topic24\", \"Topic24\", \"Topic24\", \"Topic24\", \"Topic24\", \"Topic24\", \"Topic24\", \"Topic24\", \"Topic24\", \"Topic24\", \"Topic24\", \"Topic24\", \"Topic24\", \"Topic24\", \"Topic24\", \"Topic24\", \"Topic24\", \"Topic24\", \"Topic24\", \"Topic24\", \"Topic24\", \"Topic24\", \"Topic24\", \"Topic24\", \"Topic24\", \"Topic24\", \"Topic24\", \"Topic24\", \"Topic24\", \"Topic24\", \"Topic24\", \"Topic24\", \"Topic24\", \"Topic24\", \"Topic24\", \"Topic24\", \"Topic24\", \"Topic24\", \"Topic24\", \"Topic24\", \"Topic24\", \"Topic24\", \"Topic24\", \"Topic24\", \"Topic24\", \"Topic24\", \"Topic24\", \"Topic24\", \"Topic24\", \"Topic24\", \"Topic24\", \"Topic24\", \"Topic24\", \"Topic24\", \"Topic24\", \"Topic24\", \"Topic24\", \"Topic24\", \"Topic24\", \"Topic24\", \"Topic24\", \"Topic24\", \"Topic24\", \"Topic24\", \"Topic24\", \"Topic24\", \"Topic24\", \"Topic24\", \"Topic24\", \"Topic24\", \"Topic24\", \"Topic24\", \"Topic24\", \"Topic24\", \"Topic24\", \"Topic24\", \"Topic24\", \"Topic24\", \"Topic24\", \"Topic24\", \"Topic24\", \"Topic24\", \"Topic24\", \"Topic24\", \"Topic24\", \"Topic24\", \"Topic24\", \"Topic24\", \"Topic24\", \"Topic24\", \"Topic24\", \"Topic24\", \"Topic24\", \"Topic24\", \"Topic24\", \"Topic24\", \"Topic24\", \"Topic24\", \"Topic24\", \"Topic24\", \"Topic24\", \"Topic24\", \"Topic24\", \"Topic24\", \"Topic24\", \"Topic24\", \"Topic24\", \"Topic24\", \"Topic24\", \"Topic24\", \"Topic24\", \"Topic24\", \"Topic24\", \"Topic24\", \"Topic24\", \"Topic24\", \"Topic24\", \"Topic24\", \"Topic24\", \"Topic24\", \"Topic24\", \"Topic24\", \"Topic25\", \"Topic25\", \"Topic25\", \"Topic25\", \"Topic25\", \"Topic25\", \"Topic25\", \"Topic25\", \"Topic25\", \"Topic25\", \"Topic25\", \"Topic25\", \"Topic25\", \"Topic25\", \"Topic25\", \"Topic25\", \"Topic25\", \"Topic25\", \"Topic25\", \"Topic25\", \"Topic25\", \"Topic25\", \"Topic25\", \"Topic25\", \"Topic25\", \"Topic25\", \"Topic25\", \"Topic25\", \"Topic25\", \"Topic25\", \"Topic25\", \"Topic25\", \"Topic25\", \"Topic25\", \"Topic25\", \"Topic25\", \"Topic25\", \"Topic25\", \"Topic25\", \"Topic25\", \"Topic25\", \"Topic25\", \"Topic25\", \"Topic25\", \"Topic25\", \"Topic25\", \"Topic25\", \"Topic25\", \"Topic25\", \"Topic25\", \"Topic25\", \"Topic25\", \"Topic25\", \"Topic25\", \"Topic25\", \"Topic25\", \"Topic25\", \"Topic25\", \"Topic25\", \"Topic25\", \"Topic25\", \"Topic25\", \"Topic25\", \"Topic25\", \"Topic25\", \"Topic25\", \"Topic25\", \"Topic25\", \"Topic25\", \"Topic25\", \"Topic25\", \"Topic25\", \"Topic25\", \"Topic25\", \"Topic25\", \"Topic25\", \"Topic25\", \"Topic25\", \"Topic25\", \"Topic25\", \"Topic25\", \"Topic25\", \"Topic25\", \"Topic25\", \"Topic25\", \"Topic25\", \"Topic25\", \"Topic25\", \"Topic25\", \"Topic25\", \"Topic25\", \"Topic25\", \"Topic25\", \"Topic25\", \"Topic25\", \"Topic25\", \"Topic25\", \"Topic25\", \"Topic25\", \"Topic25\", \"Topic25\", \"Topic25\", \"Topic25\", \"Topic25\", \"Topic25\", \"Topic25\", \"Topic25\", \"Topic25\", \"Topic25\", \"Topic25\", \"Topic25\", \"Topic25\", \"Topic25\", \"Topic25\", \"Topic25\", \"Topic25\", \"Topic25\", \"Topic25\", \"Topic25\", \"Topic25\", \"Topic25\", \"Topic25\", \"Topic25\", \"Topic25\", \"Topic25\", \"Topic25\", \"Topic25\", \"Topic25\", \"Topic25\", \"Topic25\", \"Topic25\", \"Topic25\", \"Topic25\", \"Topic25\", \"Topic25\", \"Topic25\", \"Topic25\", \"Topic25\", \"Topic25\", \"Topic25\", \"Topic25\", \"Topic25\", \"Topic25\", \"Topic25\", \"Topic25\", \"Topic25\", \"Topic25\", \"Topic25\", \"Topic25\", \"Topic25\", \"Topic25\", \"Topic25\", \"Topic25\", \"Topic25\", \"Topic25\", \"Topic25\", \"Topic25\", \"Topic25\", \"Topic25\", \"Topic25\", \"Topic25\", \"Topic25\", \"Topic25\", \"Topic25\", \"Topic25\", \"Topic25\", \"Topic25\", \"Topic25\", \"Topic25\", \"Topic25\", \"Topic25\", \"Topic25\", \"Topic25\", \"Topic25\", \"Topic25\", \"Topic25\", \"Topic25\", \"Topic25\", \"Topic25\", \"Topic25\", \"Topic25\", \"Topic25\", \"Topic25\", \"Topic25\", \"Topic25\", \"Topic25\", \"Topic25\", \"Topic25\", \"Topic25\", \"Topic25\", \"Topic25\", \"Topic25\", \"Topic25\", \"Topic25\", \"Topic25\", \"Topic25\", \"Topic25\", \"Topic25\", \"Topic25\", \"Topic25\"], \"Freq\": [30826.0, 20429.0, 24345.0, 25276.0, 21626.0, 14974.0, 19911.0, 18356.0, 16270.0, 19856.0, 18393.0, 15198.0, 13373.0, 19075.0, 26801.0, 14738.0, 13275.0, 23465.0, 18006.0, 10971.0, 12315.0, 13290.0, 12678.0, 15534.0, 10731.0, 11160.0, 13259.0, 11897.0, 8342.0, 8096.0, 26799.970703125, 23464.740234375, 17040.658203125, 16301.888671875, 12725.4990234375, 12468.4091796875, 12456.2744140625, 11863.7197265625, 11862.7783203125, 10191.6357421875, 9423.8935546875, 8985.466796875, 7718.30517578125, 7112.20654296875, 6859.4931640625, 6855.57666015625, 6761.12255859375, 6592.01513671875, 6478.98193359375, 5942.62890625, 5476.37646484375, 5305.37841796875, 5290.27685546875, 4948.03466796875, 4802.115234375, 4800.10302734375, 4675.908203125, 4655.53173828125, 4650.23876953125, 4634.58447265625, 18004.953125, 15533.5078125, 14077.923828125, 13402.42578125, 12779.19140625, 10056.5869140625, 9850.2294921875, 7920.68701171875, 7728.99755859375, 7012.94873046875, 6588.85986328125, 6213.7685546875, 5685.77392578125, 5662.99658203125, 5200.42333984375, 5117.689453125, 4981.552734375, 4768.150390625, 4583.92041015625, 3496.02685546875, 3473.06640625, 3300.358154296875, 3232.583984375, 3087.146484375, 3077.27685546875, 2994.3447265625, 2815.575927734375, 2747.38427734375, 2700.285888671875, 2698.0322265625, 19074.384765625, 12679.216796875, 10473.9404296875, 8750.708984375, 7744.060546875, 7568.19970703125, 7183.84228515625, 6569.8896484375, 6398.2578125, 6036.40576171875, 5383.75830078125, 5313.58837890625, 4984.0302734375, 4829.029296875, 4630.5703125, 3558.574462890625, 3318.3232421875, 2835.102783203125, 2605.63671875, 2517.3134765625, 2447.194580078125, 2138.040771484375, 2037.302734375, 2016.4791259765625, 1815.88134765625, 1633.4857177734375, 1628.4586181640625, 1569.341796875, 1359.230224609375, 1188.7813720703125, 13258.19140625, 11820.923828125, 11517.1220703125, 10301.06640625, 8792.9189453125, 7918.025390625, 7693.5654296875, 7361.50732421875, 6732.0361328125, 6403.5068359375, 5852.93603515625, 5630.07275390625, 5577.40234375, 4912.8251953125, 4505.28369140625, 4329.0400390625, 3804.930419921875, 3759.9619140625, 3375.13037109375, 2143.63134765625, 2002.022216796875, 1881.4808349609375, 1870.032470703125, 1450.927734375, 1360.4014892578125, 1354.810791015625, 1322.0794677734375, 1305.844482421875, 1243.326904296875, 1132.089111328125, 13289.1005859375, 12677.404296875, 11896.5, 9738.5478515625, 9706.326171875, 6962.18798828125, 4866.89306640625, 3456.4833984375, 3436.8515625, 3031.4453125, 2634.556396484375, 2532.402099609375, 2456.60693359375, 2407.361083984375, 2116.97216796875, 1772.78662109375, 1742.42626953125, 1677.5068359375, 1557.0897216796875, 1307.141357421875, 1293.208984375, 1289.3255615234375, 1187.0894775390625, 1186.6004638671875, 1093.5482177734375, 1085.3204345703125, 1081.7650146484375, 1055.5120849609375, 1050.4444580078125, 1046.358154296875, 25274.98828125, 19854.916015625, 14737.51171875, 8459.634765625, 8409.6484375, 7385.447265625, 6178.85302734375, 4854.87109375, 3609.171875, 3126.618408203125, 2148.77099609375, 1983.9066162109375, 1900.8695068359375, 1623.1640625, 1380.1719970703125, 1294.6494140625, 1140.7982177734375, 1078.1641845703125, 935.0082397460938, 665.789794921875, 329.5083923339844, 304.36846923828125, 301.14471435546875, 77.54197692871094, 51.71669387817383, 0.04511344060301781, 0.04511292278766632, 0.04511289298534393, 0.04511292278766632, 0.045112866908311844, 0.045112937688827515, 0.04511294141411781, 0.045112866908311844, 0.04511294886469841, 0.04511293023824692, 0.045112915337085724, 0.045112863183021545, 0.04511287063360214, 0.045112866908311844, 0.04511285945773125, 10852.7080078125, 10295.9599609375, 7009.8935546875, 5655.3076171875, 5620.2275390625, 4977.455078125, 3828.776123046875, 3450.3349609375, 3005.97802734375, 2880.399658203125, 2860.137939453125, 2615.8349609375, 2600.28857421875, 2597.5625, 2487.887451171875, 2234.1240234375, 2168.334716796875, 1931.69775390625, 1898.5968017578125, 1875.7259521484375, 1821.1805419921875, 1815.7060546875, 1798.1666259765625, 1602.53662109375, 1565.2554931640625, 1551.407958984375, 1444.03759765625, 1424.8516845703125, 1363.9493408203125, 1290.1888427734375, 19910.689453125, 13274.580078125, 10060.0546875, 7548.47412109375, 4681.4375, 4675.3330078125, 4133.15625, 4128.40869140625, 3778.957763671875, 2998.864013671875, 2725.24853515625, 2411.74658203125, 2161.81884765625, 1824.2176513671875, 1499.43505859375, 1070.32861328125, 1053.107666015625, 782.03125, 696.6195068359375, 555.0116577148438, 549.53759765625, 385.88519287109375, 333.2973327636719, 280.0975341796875, 260.17059326171875, 244.01759338378906, 217.35470581054688, 200.23902893066406, 169.52085876464844, 166.72230529785156, 18392.3359375, 11159.2802734375, 6171.2763671875, 5823.970703125, 5722.8662109375, 5167.24609375, 4990.7490234375, 4592.38427734375, 3418.191162109375, 3408.763671875, 3171.298828125, 2483.031982421875, 2423.72998046875, 1756.4154052734375, 1644.33642578125, 1480.6929931640625, 1465.259521484375, 1454.0262451171875, 1398.75341796875, 1384.823974609375, 1120.420166015625, 819.9342041015625, 748.4439697265625, 621.4119873046875, 487.3924560546875, 474.14837646484375, 304.55010986328125, 201.4226531982422, 155.4219207763672, 88.18472290039062, 7146.00390625, 6597.65966796875, 5668.0947265625, 5425.63037109375, 5004.79052734375, 4757.2919921875, 4633.46240234375, 4473.5810546875, 4013.6689453125, 3718.9833984375, 3571.723876953125, 3000.210205078125, 2614.952880859375, 2492.405517578125, 2489.045654296875, 2381.062744140625, 2275.06689453125, 1604.2745361328125, 1286.7330322265625, 1258.51416015625, 984.0477294921875, 863.9315795898438, 851.3367919921875, 833.9253540039062, 817.2981567382812, 765.892333984375, 725.4840087890625, 705.6530151367188, 695.3687133789062, 661.2609252929688, 12314.5703125, 6953.57177734375, 5819.2958984375, 4510.3583984375, 4283.69873046875, 4136.541015625, 3861.187744140625, 3376.36572265625, 2967.06201171875, 2862.41943359375, 2714.020263671875, 2271.965087890625, 2262.656005859375, 2259.888671875, 2154.44677734375, 2060.7841796875, 1966.116943359375, 1964.52783203125, 1878.49755859375, 1773.97412109375, 1637.72607421875, 1635.98779296875, 1624.61279296875, 1416.0728759765625, 1363.9739990234375, 1357.269775390625, 1171.5880126953125, 1124.6102294921875, 1006.0866088867188, 728.7849731445312, 10729.9912109375, 7817.27001953125, 6401.654296875, 6375.0634765625, 6284.8828125, 4708.23486328125, 4148.43115234375, 3358.2177734375, 3116.673095703125, 2755.198486328125, 2721.254638671875, 2317.066162109375, 1589.9461669921875, 1502.071044921875, 1400.530517578125, 1382.2752685546875, 1312.45849609375, 1249.609375, 1080.6029052734375, 1028.4615478515625, 879.1864013671875, 816.872802734375, 765.8423461914062, 646.412109375, 636.3673706054688, 570.5888061523438, 543.9673461914062, 466.87664794921875, 333.4909973144531, 320.7636413574219, 8871.525390625, 6341.4765625, 4283.45361328125, 3634.166015625, 3506.68408203125, 2965.882080078125, 2955.9599609375, 2930.124267578125, 2789.11669921875, 2438.869384765625, 2391.7763671875, 2270.947998046875, 2268.267822265625, 1932.125, 1930.924072265625, 1873.520751953125, 1806.5238037109375, 1628.798828125, 1620.756591796875, 1531.982421875, 1517.9571533203125, 1454.7689208984375, 1436.8592529296875, 1321.8553466796875, 1214.762451171875, 1067.81396484375, 991.5234985351562, 894.183837890625, 737.890869140625, 683.0162963867188, 21625.78515625, 18355.30859375, 15197.64453125, 7651.4912109375, 2289.8974609375, 1785.2091064453125, 1212.6826171875, 1058.4210205078125, 897.4938354492188, 719.203125, 558.89208984375, 557.4741821289062, 462.6017761230469, 12.29897689819336, 0.043293870985507965, 0.04329320415854454, 0.0432930625975132, 0.043293025344610214, 0.04329300671815872, 0.04329299181699753, 0.04329303279519081, 0.04329296946525574, 0.043292950838804245, 0.04329295456409454, 0.04329291731119156, 0.04329293221235275, 0.04329293221235275, 0.04329289123415947, 0.04329295456409454, 0.043292924761772156, 0.04329293593764305, 0.0432930514216423, 0.04329293966293335, 0.04329293966293335, 0.043292973190546036, 0.04329300299286842, 0.04329304397106171, 0.04329289123415947, 0.043292973190546036, 0.043293070048093796, 0.04329293593764305, 0.04329301044344902, 0.043292924761772156, 0.04329293593764305, 0.04329296946525574, 0.043292999267578125, 0.04329292103648186, 0.04329290986061096, 0.04329290613532066, 0.04329293593764305, 0.04329293593764305, 0.04329296573996544, 0.04329293966293335, 0.04329294711351395, 0.04329293966293335, 0.04329296573996544, 0.04329293221235275, 0.04329293593764305, 0.04329293221235275, 0.04329293966293335, 24344.421875, 6739.38037109375, 6698.8525390625, 5743.1494140625, 3761.784423828125, 3619.22607421875, 3306.08056640625, 2558.15283203125, 2211.153076171875, 1826.488525390625, 1212.0289306640625, 1167.2591552734375, 1072.2347412109375, 1066.528076171875, 993.60400390625, 990.4613037109375, 990.0556030273438, 649.7042236328125, 584.8728637695312, 446.8600769042969, 418.6170654296875, 380.45013427734375, 298.12158203125, 248.2069854736328, 183.866455078125, 94.36973571777344, 56.15155792236328, 37.18828201293945, 0.44479846954345703, 0.04451962932944298, 0.04451967030763626, 0.0445195809006691, 0.0445195809006691, 0.044519588351249695, 0.04451961815357208, 7030.48046875, 5583.25732421875, 5384.908203125, 4831.9150390625, 4049.646484375, 3128.684814453125, 2630.651611328125, 2550.082275390625, 2531.71533203125, 2290.638427734375, 2231.774658203125, 2209.45849609375, 2157.1552734375, 2083.667236328125, 2047.76513671875, 1728.53125, 1629.987060546875, 1480.844970703125, 1441.9964599609375, 1210.99365234375, 1158.931640625, 1135.1688232421875, 1088.38037109375, 880.6769409179688, 872.94287109375, 787.2054443359375, 731.81884765625, 635.9564819335938, 501.5038757324219, 444.4272155761719, 6137.5478515625, 5143.62890625, 5097.6318359375, 5014.36865234375, 3701.28125, 3583.07373046875, 3106.576904296875, 2988.598876953125, 2588.935791015625, 2221.559326171875, 2216.78271484375, 1958.080322265625, 1936.1380615234375, 1595.8609619140625, 1331.8427734375, 1282.0655517578125, 1055.1502685546875, 759.6091918945312, 721.1508178710938, 703.9149780273438, 694.304443359375, 616.005615234375, 568.77978515625, 542.9883422851562, 523.0744018554688, 457.83355712890625, 415.6260681152344, 390.82733154296875, 346.8704528808594, 345.87530517578125, 30825.708984375, 6176.2275390625, 3675.15234375, 3330.411865234375, 3220.6123046875, 2575.683349609375, 2451.820556640625, 1822.92578125, 1811.0377197265625, 1144.2862548828125, 779.4326782226562, 688.6726684570312, 532.1915893554688, 257.31854248046875, 0.04830336198210716, 0.048303354531526566, 0.04830325394868851, 0.048303309828042984, 0.048303257673978806, 0.048303261399269104, 0.04830330237746239, 0.04830324277281761, 0.048303309828042984, 0.04830324649810791, 0.048303235322237015, 0.048303235322237015, 0.04830323904752731, 0.048303235322237015, 0.048303257673978806, 0.04830325394868851, 0.04830325394868851, 0.04830323904752731, 0.048303261399269104, 0.04830325394868851, 0.04830325394868851, 0.04830335080623627, 0.04830327257514, 0.04830329120159149, 0.04830325394868851, 0.048303261399269104, 0.04830325394868851, 0.04830333963036537, 0.048303306102752686, 0.048303306102752686, 0.04830325394868851, 0.04830338433384895, 0.04830333963036537, 0.04830324277281761, 0.048303257673978806, 0.04830328747630119, 0.0483032688498497, 0.048303257673978806, 0.048303257673978806, 0.0483032763004303, 0.04830325394868851, 0.04830322787165642, 0.04830322787165642, 0.04830322787165642, 0.04830323904752731, 0.048303212970495224, 0.048303212970495224, 0.048303212970495224, 0.048303212970495224, 0.048303212970495224, 0.048303306102752686, 0.04830337315797806, 0.048303261399269104, 0.0483032688498497, 0.048303257673978806, 0.048303261399269104, 0.0483032688498497, 0.048303354531526566, 0.048303306102752686, 0.04830325394868851, 0.048303257673978806, 0.04830329120159149, 0.048303261399269104, 0.04830327257514, 0.0483032688498497, 0.04830333963036537, 0.04830325394868851, 0.04830325394868851, 0.04830328747630119, 0.0483032763004303, 0.048303261399269104, 0.04830325394868851, 0.048303261399269104, 0.04830325394868851, 0.048303261399269104, 0.0483032688498497, 0.048303261399269104, 0.048303212970495224, 0.048303212970495224, 0.048303212970495224, 0.04830327257514, 0.04830327257514, 0.04830328747630119, 0.0483032688498497, 0.048303212970495224, 0.048303212970495224, 0.048303212970495224, 0.048303212970495224, 0.048303212970495224, 0.048303212970495224, 0.0483032688498497, 0.04830325394868851, 0.04830322042107582, 0.04830322042107582, 0.04830322042107582, 0.048303235322237015, 0.04830322042107582, 0.04830322042107582, 0.04830325394868851, 0.048303257673978806, 0.04830327257514, 0.048303257673978806, 0.04830325394868851, 0.04830334335565567, 0.04830329492688179, 13372.5703125, 10970.208984375, 6723.642578125, 5324.67333984375, 5143.54150390625, 2517.471435546875, 1634.4937744140625, 1459.0115966796875, 854.048583984375, 564.943359375, 420.2190856933594, 399.8736572265625, 361.7030944824219, 284.4690246582031, 227.76486206054688, 216.52459716796875, 204.18341064453125, 191.315185546875, 92.43119812011719, 77.1180419921875, 23.035871505737305, 0.047605253756046295, 0.04760520160198212, 0.047605108469724655, 0.04760512709617615, 0.047605130821466446, 0.04760511592030525, 0.04760512709617615, 0.04760514944791794, 0.047605108469724655, 0.04760509356856346, 0.047605108469724655, 0.04760514944791794, 0.04760520160198212, 0.04760504886507988, 0.047605063766241074, 0.04760517179965973, 0.047605160623788834, 0.04760518670082092, 0.047605108469724655, 0.047605112195014954, 0.04760512709617615, 0.04760509729385376, 0.04760510101914406, 0.04760520160198212, 0.047605179250240326, 0.047605112195014954, 0.04760511964559555, 0.04760511964559555, 0.04760512709617615, 0.047605108469724655, 0.04760509729385376, 0.04760509729385376, 0.04760514944791794, 16269.5380859375, 6237.3095703125, 2949.786865234375, 2684.453125, 2583.308837890625, 2248.774658203125, 1800.465576171875, 1781.6337890625, 1715.8953857421875, 1692.02099609375, 1384.1868896484375, 1091.1754150390625, 590.1822509765625, 479.4658203125, 323.1455383300781, 303.675537109375, 286.815185546875, 201.63180541992188, 172.98683166503906, 168.40850830078125, 115.72160339355469, 82.2760238647461, 67.39079284667969, 59.628658294677734, 0.046595584601163864, 0.046595487743616104, 0.04659545421600342, 0.04659542068839073, 0.04659542813897133, 0.04659547284245491, 0.04659545049071312, 0.04659543186426163, 0.04659546539187431, 0.04659546539187431, 0.04659543186426163, 0.04659538343548775, 0.04659542068839073, 0.04659542813897133, 0.04659547284245491, 0.046595487743616104, 0.04659542068839073, 0.046595532447099686, 0.04659546539187431, 0.046595487743616104, 0.04659543186426163, 0.04659543186426163, 0.04659538343548775, 0.04659542813897133, 0.04659544304013252, 0.04659542813897133, 8341.4765625, 8095.185546875, 7514.55419921875, 2554.392822265625, 2364.973876953125, 2349.082275390625, 2000.4755859375, 1060.6903076171875, 594.9725341796875, 0.04651116952300072, 0.04651100933551788, 0.04651104658842087, 0.046511050313711166, 0.046511031687259674, 0.04651099443435669, 0.04651098698377609, 0.04651098698377609, 0.0465109758079052, 0.046511027961969376, 0.04651104658842087, 0.04651102051138878, 0.04651098698377609, 0.0465109720826149, 0.0465109720826149, 0.046510979533195496, 0.04651098698377609, 0.0465109683573246, 0.0465109758079052, 0.04651098698377609, 0.046511005610227585, 0.046511001884937286, 0.04651100933551788, 0.04651109501719475, 0.0465109758079052, 0.04651098698377609, 0.046511050313711166, 0.046511027961969376, 0.046511005610227585, 0.0465109646320343, 0.0465109720826149, 0.04651098698377609, 0.046510979533195496, 0.04651102423667908, 0.04651102423667908, 0.04651108384132385, 0.046510979533195496, 0.04651113599538803, 0.04651104658842087, 0.04651103541254997, 0.04651100933551788, 0.046511027961969376, 0.04651099070906639, 0.046510979533195496, 0.046510979533195496, 0.046511050313711166, 0.046511102467775345, 0.0465109720826149, 0.04651108384132385, 0.046510953456163406, 0.046510953456163406, 0.046510953456163406, 0.046510953456163406, 0.046510953456163406, 0.046510953456163406, 0.046510953456163406, 0.04651098698377609, 0.04651099815964699, 0.04651099815964699, 0.04651104658842087, 0.04651099443435669, 0.04651099443435669, 0.046510979533195496, 0.04651098698377609, 0.046511001884937286, 0.04651098698377609, 0.04651102051138878, 0.04651099070906639, 0.04651103913784027, 0.04651099815964699, 0.046511076390743256, 0.046511027961969376, 0.04651098698377609, 0.0465109683573246, 0.0465109683573246, 0.046510960906744, 0.046510960906744, 0.046510960906744, 0.04651094973087311, 0.04651094973087311, 0.04651094973087311, 0.04651094973087311, 0.04651094973087311, 0.04651094973087311, 0.04651094973087311, 0.04651094973087311, 0.04651094973087311, 0.04651094973087311, 0.04651094973087311, 0.04651094973087311, 0.046510979533195496, 0.046510979533195496, 0.046511001884937286, 0.046510979533195496, 20428.046875, 4156.14794921875, 2567.675537109375, 1472.0220947265625, 1308.400146484375, 468.4311828613281, 188.7448272705078, 0.03562432900071144, 0.03562410548329353, 0.03562410548329353, 0.03562413901090622, 0.03562423959374428, 0.03562413901090622, 0.035624124109745026, 0.035624124109745026, 0.03562415391206741, 0.03562409058213234, 0.03562410548329353, 0.03562409058213234, 0.035624101758003235, 0.03562411293387413, 0.035624079406261444, 0.03562410920858383, 0.03562406077980995, 0.035624098032712936, 0.03562412038445473, 0.03562406077980995, 0.03562406077980995, 0.03562415763735771, 0.03562406077980995, 0.03562409430742264, 0.035624079406261444, 0.03562408685684204, 0.03562410920858383, 0.03562405705451965, 0.035624124109745026, 0.03562415763735771, 0.03562406450510025, 0.035624053329229355, 0.03562406823039055, 0.03562407195568085, 0.03562405705451965, 0.035624075680971146, 0.03562405705451965, 0.03562408685684204, 0.035624079406261444, 0.03562408313155174, 0.03562408685684204, 0.03562408313155174, 0.03562412038445473, 0.035624079406261444, 0.03562408313155174, 0.035624079406261444, 0.035624053329229355, 0.03562406450510025, 0.035624075680971146, 0.03562404587864876, 0.03562404587864876, 0.03562404587864876, 0.035624053329229355, 0.035624049603939056, 0.035624098032712936, 0.035624098032712936, 0.03562408313155174, 0.03562404587864876, 0.03562409058213234, 0.03562404587864876, 0.03562405705451965, 0.035624049603939056, 0.035624124109745026, 0.03562409058213234, 14972.947265625, 1961.704345703125, 1745.1890869140625, 1534.58349609375, 1432.8043212890625, 1247.195556640625, 1073.865966796875, 943.7879638671875, 941.6008911132812, 940.9598388671875, 713.208984375, 667.176025390625, 445.3412780761719, 273.4336853027344, 201.9974365234375, 51.906314849853516, 49.6906623840332, 0.04669908061623573, 0.04669906198978424, 0.04669905826449394, 0.04669905826449394, 0.04669905826449394, 0.04669906571507454, 0.046699125319719315, 0.04669903963804245, 0.04669903591275215, 0.04669903218746185, 0.04669903963804245, 0.04669904336333275, 0.04669906944036484, 0.04669903218746185, 0.04669903963804245, 0.04669904336333275, 0.04669906571507454, 0.04669903963804245, 0.04669908806681633, 0.046699099242687225, 0.04669904336333275, 0.04669908061623573, 0.04669908061623573, 0.04669903591275215, 0.04669904336333275, 0.04669903218746185, 0.04669903218746185, 0.04669903218746185, 0.04669902101159096, 0.046699024736881256, 0.046699024736881256, 0.046699024736881256, 0.046699102967977524, 0.046699076890945435, 0.04669906571507454, 0.04669906944036484, 0.04669903218746185, 0.04669902101159096, 0.04669902101159096, 0.04669903218746185, 0.04669917747378349, 0.04669906571507454, 0.04669906571507454, 0.04669902101159096, 0.046699024736881256, 0.046699121594429016, 0.046699121594429016, 0.04669902101159096, 0.04669901728630066, 0.04669901728630066, 0.04669901728630066, 0.04669901728630066, 0.04669901728630066, 0.04669906571507454, 0.046699196100234985, 0.04669901728630066, 0.04669901728630066, 0.046699024736881256, 0.046699054539203644, 0.04669902101159096, 0.04669901728630066, 0.04669901728630066, 0.04669901728630066, 0.04669904708862305, 0.04669902101159096, 0.04669902101159096, 0.046699024736881256, 0.04669913649559021, 0.04669906571507454, 0.04669908434152603, 0.04669906571507454, 0.04669906571507454, 0.04669901728630066, 0.04669901728630066, 0.04669902101159096, 0.04669901728630066, 0.04669903591275215, 0.04669901728630066, 0.04669902101159096, 0.04669902101159096, 0.04669901728630066, 0.04669901728630066, 0.04669906571507454, 0.04669906571507454, 0.04669908061623573, 0.046699102967977524, 0.04669906944036484, 0.04669909179210663, 0.046699099242687225, 0.04669906571507454, 0.04669906571507454, 0.04669906571507454, 0.046699024736881256, 0.04669904336333275, 0.04669902101159096, 0.04669902101159096, 0.046699024736881256, 0.04669903218746185, 0.04669904336333275, 0.04669902101159096, 0.04669901728630066, 0.04669901728630066, 0.04669901728630066, 0.04669903218746185, 0.04669903591275215, 0.04669901728630066, 0.04669902101159096, 0.046699024736881256, 0.04669901728630066, 0.04669902101159096, 0.04669902101159096, 0.04669901728630066, 0.04669901728630066, 0.04669906944036484, 0.04669906944036484, 0.046699099242687225, 0.046699076890945435, 0.04669902101159096, 0.04669901728630066, 0.04669902101159096, 0.04669901728630066, 0.04669901728630066, 0.04669901728630066, 0.04669901728630066, 0.04669901728630066, 6033.4130859375, 2499.67822265625, 1762.5799560546875, 1578.0869140625, 1531.0968017578125, 1197.6395263671875, 911.6944580078125, 609.5254516601562, 418.9926452636719, 298.84979248046875, 283.1046447753906, 78.13531494140625, 0.05120246112346649, 0.05120242014527321, 0.051202401518821716, 0.051202382892370224, 0.051202382892370224, 0.051202382892370224, 0.051202382892370224, 0.051202382892370224, 0.05120239034295082, 0.051202382892370224, 0.05120241269469261, 0.05120236799120903, 0.05120236799120903, 0.05120236799120903, 0.05120236799120903, 0.05120236799120903, 0.05120236799120903, 0.05120239034295082, 0.05120236799120903, 0.05120241269469261, 0.05120236054062843, 0.05120236799120903, 0.05120237544178963, 0.051202356815338135, 0.05120237171649933, 0.051202356815338135, 0.051202356815338135, 0.051202379167079926, 0.051202356815338135, 0.05120236054062843, 0.051202356815338135, 0.051202401518821716, 0.051202427595853806, 0.051202356815338135, 0.051202356815338135, 0.05120236799120903, 0.051202356815338135, 0.05120239779353142, 0.05120237171649933, 0.05120237171649933, 0.05120237171649933, 0.051202356815338135, 0.051202356815338135, 0.051202353090047836, 0.051202353090047836, 0.051202353090047836, 0.051202353090047836, 0.051202353090047836, 0.051202353090047836, 0.051202353090047836, 0.051202353090047836, 0.05120234936475754, 0.05120234936475754, 0.05120234936475754, 0.05120234936475754, 0.05120234936475754, 0.05120234936475754, 0.05120234936475754, 0.05120234936475754, 0.05120234936475754, 0.05120234936475754, 0.051202401518821716, 0.05120239779353142, 0.05120240896940231, 0.05120234936475754, 0.05120234936475754, 0.05120237171649933, 0.05120236799120903, 0.05120234936475754, 0.05120234936475754, 0.05120234936475754, 0.05120234936475754, 0.05120234936475754, 0.05120234936475754, 0.05120234936475754, 0.05120234936475754, 0.05120234936475754, 0.05120234936475754, 0.05120234936475754, 0.05120234936475754, 0.05120234936475754, 0.05120234936475754, 0.05120234936475754, 0.05120234936475754, 0.05120234936475754, 0.05120234936475754, 0.05120234936475754, 0.05120234936475754, 0.05120234936475754, 0.05120234936475754, 0.05120234936475754, 0.05120234936475754, 0.05120234936475754, 0.05120234936475754, 0.05120234936475754, 0.05120234936475754, 0.05120234936475754, 0.05120234936475754, 0.05120234936475754, 0.05120234936475754, 0.05120234936475754, 0.05120234936475754, 0.05120234936475754, 0.05120234936475754, 0.05120234936475754, 0.05120234936475754, 0.05120234936475754, 0.05120234936475754, 0.05120239779353142, 0.05120239406824112, 0.05120239406824112, 0.05120234936475754, 0.05120234936475754, 0.05120234936475754, 0.05120234936475754, 0.05120234936475754, 0.05120234936475754, 0.05120234936475754, 0.05120234936475754, 0.05120234936475754, 0.05120234936475754, 0.05120234936475754, 0.051202353090047836, 0.051202353090047836, 0.051202353090047836, 0.051202353090047836, 0.051202353090047836, 0.051202353090047836, 0.051202353090047836, 0.051202353090047836, 0.051202353090047836, 0.051202353090047836, 0.0512024462223053, 0.05120241269469261, 0.05120239779353142, 0.05120247229933739, 0.05120241641998291, 0.05120241269469261, 0.05120239406824112, 0.051202453672885895, 0.05120239779353142, 0.05120234936475754, 0.05120234936475754, 0.05120234936475754, 0.05120234936475754, 0.05120234936475754, 0.05120234936475754, 0.05120234936475754, 0.05120234936475754, 0.05120234936475754, 0.05120234936475754, 0.05120234936475754, 0.05120234936475754, 0.05120241641998291, 0.05120240896940231, 0.05120239779353142, 0.05120241269469261, 0.05120239406824112, 0.05120242014527321, 0.05120242014527321, 0.05120246857404709, 0.05120240896940231, 0.05120234936475754, 0.05120234936475754, 0.05120234936475754, 0.05120234936475754, 0.05120234936475754, 0.05120234936475754, 0.05120234936475754, 0.05120234936475754, 0.05120234936475754, 0.05120234936475754, 0.05120234936475754, 0.05120234936475754, 0.05120234936475754, 0.05120234936475754, 0.05120234936475754, 0.05120234936475754, 0.05120234936475754, 0.05120234936475754, 0.05120234936475754, 0.05120234936475754, 0.05120239779353142, 0.05120234936475754, 0.05120234936475754, 0.05120234936475754, 0.05120234936475754, 0.05120234936475754, 0.05120234936475754, 0.05120234936475754, 0.05120234936475754, 0.05120236054062843, 0.05120234936475754, 0.05120234936475754, 0.05120234936475754, 0.05120234936475754, 0.05120234936475754, 0.05120234936475754, 0.05120234936475754, 0.05120234936475754, 0.05120234936475754, 0.05120234936475754, 0.05120234936475754, 0.05120234936475754, 0.05120234936475754, 0.05120234936475754, 0.05120234936475754, 0.05120234936475754, 0.05120234936475754, 0.05120234936475754, 0.05120234936475754, 0.051202353090047836, 0.051202353090047836, 0.051202353090047836, 0.051202353090047836, 0.051202353090047836, 0.051202353090047836, 0.05120240896940231, 805.806884765625, 487.84033203125, 394.0359191894531, 104.73731994628906, 63.457115173339844, 0.02582738734781742, 0.02582731284201145, 0.02582727186381817, 0.02582724206149578, 0.02582722343504429, 0.02582724019885063, 0.02582721970975399, 0.025827236473560333, 0.02582724019885063, 0.025827214121818542, 0.025827202945947647, 0.0258271973580122, 0.02582719177007675, 0.025827227160334587, 0.02582719177007675, 0.0258271973580122, 0.02582719922065735, 0.025827186182141304, 0.025827189907431602, 0.025827189907431602, 0.025827186182141304, 0.02582719177007675, 0.02582719922065735, 0.025827186182141304, 0.025827186182141304, 0.02582719177007675, 0.025827189907431602, 0.025827189907431602, 0.025827201083302498, 0.025827189907431602, 0.025827186182141304, 0.025827186182141304, 0.025827186182141304, 0.02582724019885063, 0.025827186182141304, 0.025827186182141304, 0.025827186182141304, 0.02582719177007675, 0.025827189907431602, 0.0258271936327219, 0.025827214121818542, 0.025827182456851006, 0.025827184319496155, 0.025827182456851006, 0.025827184319496155, 0.025827184319496155, 0.025827208533883095, 0.025827208533883095, 0.025827214121818542, 0.025827206671237946, 0.025827186182141304, 0.025827184319496155, 0.025827182456851006, 0.025827184319496155, 0.025827182456851006, 0.025827182456851006, 0.025827182456851006, 0.025827186182141304, 0.025827182456851006, 0.025827182456851006, 0.025827186182141304, 0.025827182456851006, 0.025827182456851006, 0.025827186182141304, 0.025827182456851006, 0.025827184319496155, 0.025827189907431602, 0.025827186182141304, 0.025827186182141304, 0.025827189907431602, 0.025827184319496155, 0.025827182456851006, 0.025827182456851006, 0.025827182456851006, 0.025827184319496155, 0.025827186182141304, 0.025827184319496155, 0.025827184319496155, 0.025827182456851006, 0.025827184319496155, 0.025827182456851006, 0.025827182456851006, 0.025827184319496155, 0.025827189907431602, 0.025827186182141304, 0.025827182456851006, 0.025827182456851006, 0.025827182456851006, 0.025827184319496155, 0.025827182456851006, 0.025827182456851006, 0.02582719177007675, 0.025827184319496155, 0.025827182456851006, 0.025827186182141304, 0.025827184319496155, 0.025827182456851006, 0.025827202945947647, 0.025827184319496155, 0.02582722343504429, 0.025827184319496155, 0.025827214121818542, 0.025827184319496155, 0.025827186182141304, 0.025827202945947647, 0.025827184319496155, 0.02582719177007675, 0.025827182456851006, 0.025827182456851006, 0.025827184319496155, 0.02582717500627041, 0.02582717500627041, 0.02582717500627041, 0.02582717500627041, 0.02582717500627041, 0.02582717500627041, 0.02582717500627041, 0.02582717500627041, 0.025827182456851006, 0.025827186182141304, 0.025827184319496155, 0.025827189907431602, 0.025827184319496155, 0.02582719177007675, 0.02582717500627041, 0.02582717500627041, 0.02582717500627041, 0.02582717500627041, 0.02582717500627041, 0.02582717500627041, 0.025827182456851006, 0.025827184319496155, 0.025827182456851006, 0.025827182456851006, 0.025827182456851006, 0.025827186182141304, 0.025827189907431602, 0.025827182456851006, 0.025827182456851006, 0.0258271973580122, 0.025827184319496155, 0.025827186182141304, 0.025827182456851006, 0.025827184319496155, 0.025827189907431602, 0.025827184319496155, 0.025827182456851006, 0.0258271936327219, 0.025827182456851006, 0.025827182456851006, 0.025827184319496155, 0.025827182456851006, 0.0258271973580122, 0.025827182456851006, 0.025827186182141304, 0.025827186182141304, 0.025827182456851006, 0.025827182456851006, 0.025827182456851006, 0.025827182456851006, 0.025827184319496155, 0.025827184319496155, 0.025827182456851006, 0.025827186182141304, 0.025827182456851006, 0.02582719177007675, 0.025827186182141304, 0.025827189907431602, 0.025827189907431602, 0.025827182456851006, 0.02582719177007675, 0.02582717500627041, 0.02582717500627041, 0.02582717500627041, 0.02582717500627041, 0.02582717500627041, 0.02582717500627041, 0.025827182456851006, 0.02582719922065735, 0.025827184319496155, 0.025827182456851006, 0.025827189907431602, 0.0258271936327219, 0.02582719177007675, 0.025827189907431602, 0.025827182456851006, 0.025827182456851006, 0.025827189907431602, 0.02582717500627041, 0.02582717500627041, 0.02582717500627041, 0.02582717500627041, 0.02582717500627041, 0.025827182456851006, 0.02582719177007675], \"Term\": [\"file\", \"function\", \"error\", \"follow\", \"class\", \"test\", \"value\", \"call\", \"user\", \"create\", \"add\", \"method\", \"application\", \"time\", \"type\", \"object\", \"return\", \"problem\", \"question\", \"app\", \"show\", \"datum\", \"project\", \"list\", \"server\", \"update\", \"image\", \"write\", \"check\", \"string\", \"type\", \"problem\", \"could\", \"seem\", \"name\", \"case\", \"give\", \"different\", \"think\", \"possible\", \"even\", \"able\", \"good\", \"contain\", \"instead\", \"idea\", \"simple\", \"define\", \"fix\", \"let\", \"base\", \"actually\", \"already\", \"many\", \"handle\", \"reason\", \"currently\", \"exist\", \"far\", \"custom\", \"question\", \"list\", \"new\", \"first\", \"version\", \"still\", \"say\", \"edit\", \"thing\", \"really\", \"sure\", \"default\", \"property\", \"much\", \"support\", \"well\", \"mean\", \"difference\", \"specific\", \"wonder\", \"exactly\", \"available\", \"ask\", \"never\", \"appreciate\", \"specify\", \"easy\", \"control\", \"sort\", \"old\", \"time\", \"line\", \"number\", \"take\", \"com\", \"right\", \"second\", \"point\", \"store\", \"include\", \"note\", \"leave\", \"always\", \"long\", \"current\", \"step\", \"comment\", \"structure\", \"next\", \"manage\", \"separate\", \"whole\", \"original\", \"bottom\", \"probably\", \"relevant\", \"thus\", \"count\", \"high\", \"deploy\", \"image\", \"help\", \"issue\", \"page\", \"output\", \"message\", \"happen\", \"display\", \"load\", \"link\", \"web\", \"main\", \"style\", \"come\", \"keep\", \"click\", \"print\", \"browser\", \"back\", \"stream\", \"bad\", \"report\", \"pretty\", \"entire\", \"plugin\", \"hard\", \"html\", \"grid\", \"hit\", \"necessary\", \"datum\", \"project\", \"write\", \"read\", \"start\", \"system\", \"source\", \"address\", \"explain\", \"several\", \"hide\", \"detail\", \"header\", \"course\", \"set\", \"represent\", \"describe\", \"configure\", \"hope\", \"platform\", \"yet\", \"data\", \"therefore\", \"usage\", \"anymore\", \"invalid\", \"layer\", \"explanation\", \"clearly\", \"away\", \"follow\", \"create\", \"object\", \"view\", \"fine\", \"size\", \"array\", \"instance\", \"menu\", \"correctly\", \"previous\", \"properly\", \"additional\", \"increase\", \"determine\", \"instruction\", \"provider\", \"accord\", \"dynamically\", \"cycle\", \"distribute\", \"tie\", \"signal\", \"trim\", \"cygwin\", \"item\", \"margin\", \"normal\", \"top\", \"parent\", \"background\", \"understand\", \"none\", \"variable\", \"thank\", \"button\", \"true\", \"argument\", \"container\", \"put\", \"solution\", \"build\", \"fail\", \"part\", \"end\", \"allow\", \"script\", \"task\", \"video\", \"level\", \"clear\", \"non\", \"avoid\", \"core\", \"quite\", \"slow\", \"import\", \"parse\", \"render\", \"successfully\", \"present\", \"due\", \"sequence\", \"choose\", \"modify\", \"warn\", \"specifically\", \"condition\", \"status\", \"general\", \"value\", \"return\", \"result\", \"text\", \"color\", \"implementation\", \"search\", \"match\", \"consider\", \"figure\", \"full\", \"word\", \"actual\", \"basically\", \"info\", \"lead\", \"workaround\", \"stackoverflow\", \"testing\", \"regex\", \"white\", \"complicate\", \"capability\", \"ca\", \"clause\", \"paint\", \"nearly\", \"presumably\", \"usable\", \"phrase\", \"add\", \"update\", \"reference\", \"generate\", \"event\", \"remove\", \"component\", \"multiple\", \"pointer\", \"key\", \"place\", \"position\", \"action\", \"trigger\", \"sense\", \"hold\", \"root\", \"press\", \"entry\", \"override\", \"moment\", \"soon\", \"profile\", \"mind\", \"welcome\", \"listen\", \"registry\", \"installer\", \"decent\", \"personal\", \"table\", \"memory\", \"would\", \"require\", \"select\", \"index\", \"column\", \"row\", \"field\", \"documentation\", \"query\", \"statement\", \"resource\", \"int\", \"group\", \"perform\", \"record\", \"mode\", \"layout\", \"drag\", \"sql\", \"merge\", \"manager\", \"together\", \"unique\", \"cluster\", \"cpu\", \"quick\", \"guide\", \"imagine\", \"show\", \"form\", \"program\", \"post\", \"block\", \"model\", \"move\", \"character\", \"feature\", \"date\", \"play\", \"controller\", \"limit\", \"complete\", \"valid\", \"framework\", \"job\", \"tag\", \"people\", \"feel\", \"rest\", \"day\", \"enter\", \"logic\", \"finish\", \"useful\", \"validation\", \"confuse\", \"area\", \"validate\", \"server\", \"request\", \"process\", \"send\", \"access\", \"thread\", \"client\", \"local\", \"response\", \"location\", \"side\", \"upload\", \"tutorial\", \"obviously\", \"purpose\", \"scale\", \"article\", \"repository\", \"ok\", \"worker\", \"handler\", \"remote\", \"async\", \"fairly\", \"pool\", \"clarify\", \"representation\", \"legacy\", \"significantly\", \"sync\", \"element\", \"expect\", \"cause\", \"receive\", \"suppose\", \"bug\", \"filter\", \"format\", \"document\", \"collection\", \"null\", \"kind\", \"stop\", \"least\", \"design\", \"pattern\", \"common\", \"important\", \"sign\", \"transform\", \"recently\", \"commit\", \"stuff\", \"trouble\", \"hour\", \"xml\", \"optional\", \"regard\", \"curious\", \"care\", \"class\", \"call\", \"method\", \"implement\", \"interface\", \"public\", \"register\", \"extra\", \"game\", \"talk\", \"refresh\", \"card\", \"instantiate\", \"maintainable\", \"cell\", \"addline\", \"gap\", \"alternaterow\", \"lt\", \"constructor\", \"argument\", \"member\", \"foo\", \"border\", \"derive\", \"signature\", \"private\", \"playerturn\", \"bar\", \"constant\", \"var\", \"understand\", \"parent\", \"child\", \"template\", \"background\", \"variable\", \"clone\", \"behavior\", \"item\", \"void\", \"thank\", \"directly\", \"context\", \"put\", \"button\", \"body\", \"overload\", \"callback\", \"expression\", \"achieve\", \"true\", \"css\", \"last\", \"angular\", \"top\", \"activity\", \"http\", \"dependency\", \"execute\", \"error\", \"compile\", \"library\", \"exception\", \"single\", \"log\", \"apply\", \"share\", \"vector\", \"attempt\", \"stage\", \"namespace\", \"catch\", \"proper\", \"obvious\", \"internet\", \"indicate\", \"customer\", \"loader\", \"rewrite\", \"mostly\", \"plain\", \"accurate\", \"anonymous\", \"embe\", \"influence\", \"statically\", \"cheer\", \"windows_form\", \"dependency\", \"variable\", \"constructor\", \"lt\", \"angular\", \"android\", \"option\", \"package\", \"bit\", \"compiler\", \"command\", \"instal\", \"install\", \"target\", \"download\", \"machine\", \"developer\", \"become\", \"less\", \"learn\", \"late\", \"later\", \"auto\", \"term\", \"begin\", \"minute\", \"binary\", \"year\", \"low\", \"especially\", \"official\", \"intend\", \"beta\", \"overlap\", \"distribution\", \"multi\", \"correct\", \"database\", \"content\", \"state\", \"else\", \"tool\", \"relate\", \"connection\", \"static\", \"website\", \"connect\", \"host\", \"permission\", \"account\", \"insert\", \"mysql\", \"active\", \"explicit\", \"hardware\", \"optimize\", \"goal\", \"associate\", \"integrate\", \"conversion\", \"kill\", \"ide\", \"coverage\", \"deployment\", \"worth\", \"imply\", \"file\", \"open\", \"path\", \"close\", \"copy\", \"configuration\", \"delete\", \"directory\", \"authentication\", \"jar\", \"lock\", \"raw\", \"suspect\", \"exe\", \"dependency\", \"save\", \"metric\", \"config\", \"artifactid\", \"locally\", \"session\", \"openfilebyid\", \"module\", \"aspectj\", \"ntfs\", \"dwdesiredaccess\", \"hardlinke\", \"mycomponent\", \"spark\", \"pdf\", \"flush\", \"concurrently\", \"temporary\", \"maven\", \"phase\", \"put\", \"accept\", \"gradle\", \"subject\", \"sdk\", \"azure\", \"android\", \"http\", \"css\", \"gt\", \"thank\", \"appear\", \"executor\", \"section\", \"initialize\", \"guess\", \"icon\", \"flag\", \"chrome\", \"correspond\", \"reopenfile\", \"json\", \"afnetworke\", \"descriptor\", \"infobox\", \"renderbody\", \"ryanupdate\", \"activecontrol\", \"iscould\", \"last\", \"variable\", \"convert\", \"manually\", \"byte\", \"launch\", \"network\", \"understand\", \"template\", \"execution\", \"snippet\", \"operation\", \"token\", \"directly\", \"route\", \"button\", \"react\", \"warning\", \"large\", \"occur\", \"behaviour\", \"var\", \"somehow\", \"expression\", \"node\", \"false\", \"domain\", \"codebut\", \"parsingmy\", \"ceoimage\", \"notice\", \"context\", \"top\", \"replace\", \"pyoutput\", \"printraw\", \"filedescriptor\", \"sortof\", \"modelbuilder\", \"callwill\", \"normal\", \"real\", \"phpinfo\", \"cake\", \"lighting\", \"critical_section\", \"cite\", \"physically\", \"publish\", \"none\", \"lt\", \"scenario\", \"duplicate\", \"item\", \"console\", \"application\", \"app\", \"window\", \"device\", \"provide\", \"mention\", \"unable\", \"java\", \"regular\", \"desktop\", \"consistent\", \"spend\", \"familiar\", \"belong\", \"responsive\", \"linux\", \"scheme\", \"namely\", \"rendering\", \"natively\", \"money\", \"android\", \"screen\", \"mobile\", \"token\", \"phone\", \"launch\", \"crash\", \"activity\", \"notification\", \"emulator\", \"icon\", \"container\", \"button\", \"pygame\", \"push_notification\", \"background\", \"appear\", \"thank\", \"config\", \"scroll\", \"console\", \"real\", \"debug\", \"item\", \"understand\", \"http\", \"dependency\", \"behavior\", \"angular\", \"context\", \"module\", \"execute\", \"variable\", \"user\", \"input\", \"site\", \"box\", \"folder\", \"php\", \"setup\", \"rule\", \"email\", \"face\", \"construct\", \"setting\", \"regardless\", \"sorry\", \"fall\", \"stand\", \"bunch\", \"htaccess\", \"dns\", \"noise\", \"incremente\", \"confirmation\", \"organization\", \"personally\", \"button\", \"lt\", \"session\", \"gt\", \"redirect\", \"margin\", \"border\", \"domain\", \"top\", \"container\", \"detect\", \"webkit\", \"route\", \"phone\", \"true\", \"background\", \"height\", \"item\", \"understand\", \"thank\", \"angular\", \"save\", \"attachment\", \"last\", \"http\", \"normal\", \"check\", \"string\", \"answer\", \"language\", \"stre\", \"empty\", \"length\", \"efficient\", \"blank\", \"cell\", \"unity\", \"range\", \"compare\", \"equal\", \"ienumerable\", \"fontstyle\", \"fontfamily\", \"projects_talke\", \"amp\", \"expression\", \"constant\", \"lset\", \"linkcontext\", \"superstar_temp\", \"fontweight\", \"literal\", \"abeltherock_document\", \"consecutive\", \"decimal\", \"directive\", \"split\", \"convert\", \"true\", \"pie\", \"cppcheck\", \"false\", \"std\", \"syntax\", \"sin\", \"anyobject\", \"measure\", \"alternaterow\", \"integer\", \"void\", \"argument\", \"shall\", \"variable\", \"map\", \"swift\", \"space\", \"loop\", \"cast\", \"possibility\", \"append\", \"template\", \"understand\", \"translation\", \"thank\", \"wiktor\", \"dramatic\", \"goose\", \"elem_classname\", \"schemer\", \"alltable\", \"simpli\", \"evaluate\", \"flag\", \"operator\", \"last\", \"equivalent\", \"ng\", \"tuple\", \"reach\", \"width\", \"driver\", \"context\", \"resolve\", \"put\", \"particular\", \"item\", \"behavior\", \"offer\", \"substring\", \"pkg\", \"diagonalsx\", \"parquet\", \"unchecked\", \"igoogle\", \"jobdetail\", \"pixbush\", \"idright\", \"selectmethod\", \"temporally\", \"urluse\", \"trimend\", \"regeneration\", \"libdir\", \"tandem\", \"booleaness\", \"comparison\", \"route\", \"save\", \"snippet\", \"function\", \"pass\", \"parameter\", \"extension\", \"extend\", \"dependent\", \"tend\", \"argument\", \"eveniet_cumque\", \"consectetur_adipisice\", \"void\", \"variable\", \"expression\", \"compare\", \"foo\", \"template\", \"reach\", \"scope\", \"signature\", \"declare\", \"member\", \"temporary\", \"bar\", \"activation\", \"var\", \"constructor\", \"arg\", \"closure\", \"cell\", \"param\", \"context\", \"operator\", \"std\", \"map\", \"recursive\", \"true\", \"understand\", \"const\", \"shall\", \"promise\", \"global\", \"functor\", \"accept\", \"lambda\", \"performance\", \"module\", \"effect\", \"lt\", \"false\", \"thank\", \"margin\", \"swift\", \"top\", \"keyword\", \"bind\", \"loop\", \"future\", \"wait\", \"resolve\", \"real\", \"clean\", \"appear\", \"put\", \"last\", \"declaration\", \"background\", \"dynamic\", \"directive\", \"wrapper\", \"item\", \"behavior\", \"test\", \"environment\", \"certain\", \"unit\", \"tree\", \"development\", \"generic\", \"combination\", \"pair\", \"production\", \"head\", \"team\", \"effective\", \"investigate\", \"selenium\", \"convince\", \"stored_procedure\", \"mock\", \"transformer\", \"mocha\", \"pay\", \"protractor\", \"integration\", \"false\", \"jasmine\", \"testng\", \"espresso\", \"assert\", \"road\", \"certificate\", \"testable\", \"straightforward\", \"isolate\", \"inject\", \"rake\", \"chrome\", \"normal\", \"pt\", \"compare\", \"config\", \"parentid\", \"env\", \"parentrunner\", \"climate\", \"assertion\", \"junit\", \"reporter\", \"stripe\", \"nuisance\", \"dependency\", \"node\", \"behaviour\", \"token\", \"uint\", \"mockstatic\", \"distorted\", \"expectation\", \"variable\", \"real\", \"integer\", \"deleteuser\", \"provision_profile\", \"android\", \"true\", \"mitigate\", \"balanced\", \"freeze\", \"reducer\", \"r\", \"updatethe\", \"performance\", \"item\", \"certainly\", \"codeception\", \"benchmark\", \"driver\", \"headless\", \"sendgrid\", \"restore\", \"expand\", \"annotation\", \"meantime\", \"pivotaltracker\", \"kick\", \"understand\", \"activity\", \"container\", \"margin\", \"none\", \"revert\", \"myapp\", \"timeout\", \"reproducible\", \"reproduce\", \"sendpost\", \"pure\", \"closure\", \"lift\", \"upshot\", \"execute\", \"console\", \"top\", \"behavior\", \"template\", \"put\", \"argument\", \"screen\", \"map\", \"achieve\", \"thisthis\", \"identical\", \"intermediately\", \"podfile\", \"starter\", \"prepare\", \"locally\", \"score\", \"tomorrow\", \"usecase\", \"succeed\", \"iteration\", \"continue\", \"mozilla\", \"arg\", \"design_decision\", \"arrival\", \"bean\", \"orm\", \"pad\", \"persistence\", \"http\", \"swift\", \"appear\", \"button\", \"third\", \"respect\", \"right_direction\", \"eat\", \"succinct\", \"innerexception\", \"bytearray\", \"wifi\", \"wrong\", \"big\", \"sometimes\", \"free\", \"functionality\", \"often\", \"raise\", \"software\", \"love\", \"browse\", \"powershell\", \"favorite\", \"functor\", \"monoid\", \"poscon\", \"negcon\", \"forgetful\", \"morphism\", \"existence\", \"lift\", \"compose\", \"f\", \"allocate\", \"functorial\", \"uncertainty\", \"herethe\", \"foldmonoid\", \"tlist\", \"foldr\", \"programming\", \"adjoint\", \"space\", \"tdynarray\", \"gb\", \"basis\", \"playlist\", \"interpretation\", \"detailsgiven\", \"hpp\", \"usual\", \"sqltransaction\", \"audible\", \"pshost\", \"constant\", \"context\", \"avaialable\", \"managment\", \"likewise\", \"growth\", \"operator\", \"accordingly\", \"theory\", \"ring\", \"ggparcoord\", \"binarysearch\", \"firefox\", \"innerexception\", \"dropbox\", \"iunitycontainer\", \"virt\", \"gear\", \"maximize\", \"timelineitem\", \"presentation_layer\", \"supremely\", \"pot\", \"rtfeditorkit\", \"oppenoffice\", \"withit\", \"obnoxious\", \"db_name\", \"proliferate\", \"dominance\", \"occur\", \"performance\", \"large\", \"urluse\", \"scriptella\", \"specialization\", \"fold\", \"codebut\", \"waitone\", \"nonfunctional\", \"footage\", \"visbility\", \"printpayload\", \"academically\", \"fql\", \"excute\", \"shstrtab\", \"newtype\", \"stuct\", \"countryiso\", \"fopenmp\", \"parenthesi\", \"egovernment\", \"wwinmain\", \"deparse\", \"vsc\", \"tomato\", \"tamu\", \"plarform\", \"harmless\", \"mjtomato\", \"insect\", \"hornworm\", \"perpetrate\", \"pest\", \"cherry\", \"cimg\", \"setdbhelper\", \"qhboxlayout\", \"mywidget\", \"criticize\", \"generateresult\", \"sqliteexception\", \"dbhelper\", \"puff\", \"lzo\", \"activityto\", \"child\", \"operation\", \"notice\", \"fruitlist\", \"undecorate\", \"undecorated\", \"thousandth\", \"smite\", \"uselessthis\", \"ctypedef\", \"wordsize\", \"anotherobj\", \"anotherobject\", \"pdostatement\", \"tomorrow\", \"globally\", \"suffer\", \"connector\", \"forecast\", \"enhance\", \"insist\", \"derivative\", \"worried\", \"openshift\", \"thank\", \"map\", \"loop\", \"variable\", \"template\", \"angular\", \"member\", \"understand\", \"http\", \"randomnly\", \"messagemake\", \"wobble\", \"helio\", \"typeor\", \"debug_backtrack\", \"subclassesa\", \"foothis\", \"trackback\", \"cv\", \"urlresolver\", \"errror\", \"true\", \"behavior\", \"last\", \"top\", \"dependency\", \"put\", \"argument\", \"item\", \"container\", \"usehttp\", \"muse\", \"jtextboxe\", \"alignement\", \"reticence\", \"acrobit\", \"guava\", \"qvboxlayout\", \"currentstring\", \"per_page\", \"andrea\", \"vibe\", \"camouflage\", \"wordstag\", \"daniweb\", \"seda\", \"technic\", \"metaoptimize\", \"wiimote\", \"xsplit\", \"android\", \"fdfsffdf\", \"matchsomethe\", \"ovid\", \"purely_functional\", \"sbrk\", \"tomanaully\", \"strindex\", \"ifiyowhat\", \"jsfiddle\", \"plastletter\", \"grant_permission\", \"tablebut\", \"thatimplement\", \"swtrequire\", \"unhashable\", \"sizei\", \"setdefault\", \"implicitely\", \"ipersistfile\", \"iunknown\", \"vuuyx\", \"poison\", \"queryinterface\", \"refernce\", \"robotstream\", \"tandem\", \"cunfortunately\", \"trobotstream\", \"cookbook\", \"stall\", \"datasource\", \"isprime\", \"replot\", \"do_somethe\", \"background\", \"frame\", \"objective\", \"camera\", \"grab\", \"programatically\", \"swift\", \"capture\", \"photo\", \"water\", \"human\", \"constraint\", \"mark\", \"detect\", \"plot\", \"piece\", \"fake\", \"portrait\", \"systemgroup\", \"height\", \"privacy\", \"nsmanagedobject\", \"orientation\", \"postion\", \"weekend\", \"framed\", \"bundleid\", \"payload\", \"subclass\", \"alright\", \"ethernet\", \"storyboard\", \"nsobject\", \"reopen\", \"distance\", \"cocoa\", \"appid\", \"previewthe\", \"distort\", \"screen\", \"nal\", \"droppedthe\", \"sensor\", \"provision_profile\", \"famous\", \"closure\", \"width\", \"flat\", \"getbound\", \"sphere\", \"adapt\", \"iframe\", \"real\", \"var\", \"effect\", \"sample\", \"accuracy\", \"poster\", \"blurriness\", \"vertical\", \"eare\", \"xysk\", \"pziuc\", \"questionhow\", \"droiqj\", \"undo\", \"dplyr\", \"satellite\", \"wear\", \"xcode\", \"cyl\", \"periodically\", \"gain\", \"bridge\", \"uitextview\", \"pbjvision\", \"migrate\", \"ggplot\", \"tapgesture\", \"bamboo\", \"ggparcoord\", \"rgb\", \"paste\", \"adaptation\", \"night\", \"surfaceview\", \"coerce\", \"troubleshooting\", \"reliably\", \"delegate\", \"similarly\", \"tip\", \"anyobject\", \"desk\", \"opengl\", \"simulation\", \"rid\", \"push_notification\", \"surfaceholder\", \"analyze\", \"policy\", \"underlie\", \"username\", \"scroll\", \"detection\", \"thank\", \"conclude\", \"button\", \"blurry\", \"manipulation\", \"desire\", \"collision\", \"certificate\", \"problematic\", \"iphone\", \"middle\", \"markupthank\", \"usehttp\", \"dreamspark\", \"inlineuse\", \"event_name\", \"escapehtml\", \"detachevent\", \"unintentional\", \"reverse\", \"mobile\", \"pixel\", \"adjust\", \"referencenow\", \"manifest\", \"acrobit\", \"muse\", \"jtextboxe\", \"alignement\", \"alpanumeric\", \"guava\", \"combine\", \"restore\", \"ton\", \"master\", \"rust\", \"dialog\", \"measure\", \"uiview\", \"formula\", \"callback\", \"simplify\", \"disappear\", \"recyclerview\", \"swing\", \"inside\", \"setbound\", \"scrollview\", \"blue\", \"fill\", \"plan\", \"freeze\", \"dynamic\", \"phone\", \"triangle\", \"unexpected\", \"gray\", \"mouse\", \"manually\", \"attribute\", \"yellow\", \"convert\", \"pygame\", \"bot\", \"packet\", \"calculate\", \"save\", \"notification\", \"occur\", \"token\", \"sharp\", \"port\", \"iunknown\", \"printpayload\", \"poison\", \"queryinterface\", \"ipersistfile\", \"refernce\", \"tap\", \"variable\", \"manual\", \"operation\", \"parent\", \"affect\", \"nice\", \"angle\", \"swipe\", \"finger\", \"security\", \"ovid\", \"implicitely\", \"setdefault\", \"sizei\", \"cunfortunately\", \"embed\", \"slightly\"], \"Total\": [30826.0, 20429.0, 24345.0, 25276.0, 21626.0, 14974.0, 19911.0, 18356.0, 16270.0, 19856.0, 18393.0, 15198.0, 13373.0, 19075.0, 26801.0, 14738.0, 13275.0, 23465.0, 18006.0, 10971.0, 12315.0, 13290.0, 12678.0, 15534.0, 10731.0, 11160.0, 13259.0, 11897.0, 8342.0, 8096.0, 26801.068359375, 23465.837890625, 17041.755859375, 16302.986328125, 12726.5966796875, 12469.5068359375, 12457.3720703125, 11864.8173828125, 11863.8759765625, 10192.7333984375, 9424.9912109375, 8986.564453125, 7719.40234375, 7113.3037109375, 6860.59033203125, 6856.673828125, 6762.2197265625, 6593.1123046875, 6480.0791015625, 5943.72607421875, 5477.4736328125, 5306.4755859375, 5291.3740234375, 4949.1318359375, 4803.21240234375, 4801.2001953125, 4677.00537109375, 4656.62890625, 4651.3359375, 4635.681640625, 18006.048828125, 15534.6044921875, 14079.0205078125, 13403.5224609375, 12780.2880859375, 10057.68359375, 9851.326171875, 7921.78271484375, 7730.09326171875, 7014.04443359375, 6589.95556640625, 6214.8642578125, 5686.86962890625, 5664.09228515625, 5201.51904296875, 5118.78515625, 4982.6484375, 4769.24609375, 4585.01611328125, 3497.12353515625, 3474.1630859375, 3301.454833984375, 3233.6806640625, 3088.2431640625, 3078.37353515625, 2995.44140625, 2816.672607421875, 2748.48095703125, 2701.382568359375, 2699.12890625, 19075.484375, 12680.3173828125, 10475.041015625, 8751.8095703125, 7745.16015625, 7569.29931640625, 7184.94189453125, 6570.9892578125, 6399.357421875, 6037.50537109375, 5384.85791015625, 5314.68798828125, 4985.1298828125, 4830.12890625, 4631.669921875, 3559.674560546875, 3319.42333984375, 2836.202880859375, 2606.73681640625, 2518.41357421875, 2448.294677734375, 2139.140869140625, 2038.4031982421875, 2017.57958984375, 1816.9818115234375, 1634.586181640625, 1629.55908203125, 1570.4422607421875, 1360.3306884765625, 1189.8818359375, 13259.291015625, 11822.0234375, 11518.2216796875, 10302.166015625, 8794.0185546875, 7919.125, 7694.6650390625, 7362.60693359375, 6733.1357421875, 6404.6064453125, 5854.03564453125, 5631.17236328125, 5578.501953125, 4913.9248046875, 4506.38330078125, 4330.1396484375, 3806.030517578125, 3761.06201171875, 3376.23046875, 2144.7314453125, 2003.12255859375, 1882.5811767578125, 1871.1328125, 1452.028076171875, 1361.5018310546875, 1355.9111328125, 1323.1798095703125, 1306.94482421875, 1244.42724609375, 1133.189453125, 13290.1962890625, 12678.5, 11897.595703125, 9739.6435546875, 9707.421875, 6963.283203125, 4867.98828125, 3457.57958984375, 3437.94775390625, 3032.54150390625, 2635.652587890625, 2533.498291015625, 2457.703125, 2408.457275390625, 2118.068359375, 1773.883056640625, 1743.522705078125, 1678.603271484375, 1558.1861572265625, 1308.23779296875, 1294.305419921875, 1290.4219970703125, 1188.1859130859375, 1187.6968994140625, 1094.6446533203125, 1086.4168701171875, 1082.8614501953125, 1056.6085205078125, 1051.5408935546875, 1047.45458984375, 25276.087890625, 19856.015625, 14738.61328125, 8460.736328125, 8410.75, 7386.54833984375, 6179.9541015625, 4855.97216796875, 3610.2734375, 3127.719970703125, 2149.87255859375, 1985.008544921875, 1901.971435546875, 1624.2659912109375, 1381.27392578125, 1295.7513427734375, 1141.900146484375, 1079.26611328125, 936.1096801757812, 666.8912353515625, 330.6098937988281, 305.469970703125, 302.2462158203125, 78.64344787597656, 52.81819534301758, 1.1466189622879028, 1.1466147899627686, 1.1466145515441895, 1.1466153860092163, 1.1466143131256104, 1.1466162204742432, 1.1466174125671387, 1.146614670753479, 1.1466175317764282, 1.14661705493927, 1.1466166973114014, 1.1466158628463745, 1.146615982055664, 1.1466152667999268, 1.1466158628463745, 10853.806640625, 10297.05859375, 7010.99169921875, 5656.40576171875, 5621.32568359375, 4978.55322265625, 3829.875, 3451.433837890625, 3007.076904296875, 2881.49853515625, 2861.23681640625, 2616.933837890625, 2601.387451171875, 2598.661376953125, 2488.986328125, 2235.222900390625, 2169.43359375, 1932.796875, 1899.6959228515625, 1876.8250732421875, 1822.2796630859375, 1816.80517578125, 1799.2657470703125, 1603.6357421875, 1566.3546142578125, 1552.507080078125, 1445.13671875, 1425.9508056640625, 1365.0484619140625, 1291.2879638671875, 19911.79296875, 13275.6845703125, 10061.1591796875, 7549.578125, 4682.54150390625, 4676.43701171875, 4134.26025390625, 4129.5126953125, 3780.062255859375, 2999.968505859375, 2726.35302734375, 2412.85107421875, 2162.92333984375, 1825.3223876953125, 1500.539794921875, 1071.433349609375, 1054.21240234375, 783.1356201171875, 697.723876953125, 556.1160278320312, 550.6419677734375, 386.9895935058594, 334.4017333984375, 281.2019348144531, 261.2749938964844, 245.1220245361328, 218.45913696289062, 201.3434600830078, 170.6252899169922, 167.8267364501953, 18393.435546875, 11160.3798828125, 6172.3759765625, 5825.0703125, 5723.9658203125, 5168.345703125, 4991.8486328125, 4593.48388671875, 3419.29150390625, 3409.864013671875, 3172.399169921875, 2484.13232421875, 2424.830322265625, 1757.5159912109375, 1645.43701171875, 1481.7935791015625, 1466.360107421875, 1455.1268310546875, 1399.85400390625, 1385.924560546875, 1121.520751953125, 821.0343627929688, 749.5441284179688, 622.5121459960938, 488.49267578125, 475.24859619140625, 305.65032958984375, 202.52288818359375, 156.52215576171875, 89.28492736816406, 7147.10595703125, 6598.76171875, 5669.19677734375, 5426.732421875, 5005.892578125, 4758.39404296875, 4634.564453125, 4474.68310546875, 4014.771728515625, 3720.086181640625, 3572.82666015625, 3001.31298828125, 2616.0556640625, 2493.50830078125, 2490.1484375, 2382.16552734375, 2276.169677734375, 1605.3775634765625, 1287.8360595703125, 1259.6171875, 985.150390625, 865.0342407226562, 852.439453125, 835.0280151367188, 818.4008178710938, 766.9949951171875, 726.586669921875, 706.7556762695312, 696.4713745117188, 662.3635864257812, 12315.6669921875, 6954.66845703125, 5820.392578125, 4511.455078125, 4284.79541015625, 4137.6376953125, 3862.28515625, 3377.463134765625, 2968.159423828125, 2863.516845703125, 2715.11767578125, 2273.0625, 2263.75341796875, 2260.986083984375, 2155.544189453125, 2061.881591796875, 1967.2144775390625, 1965.6253662109375, 1879.5950927734375, 1775.0716552734375, 1638.8236083984375, 1637.0853271484375, 1625.7103271484375, 1417.17041015625, 1365.071533203125, 1358.3673095703125, 1172.685546875, 1125.707763671875, 1007.1837768554688, 729.8821411132812, 10731.08984375, 7818.36865234375, 6402.7529296875, 6376.162109375, 6285.9814453125, 4709.33349609375, 4149.52978515625, 3359.317138671875, 3117.7724609375, 2756.2978515625, 2722.35400390625, 2318.16552734375, 1591.0457763671875, 1503.170654296875, 1401.630126953125, 1383.3748779296875, 1313.55810546875, 1250.708984375, 1081.7025146484375, 1029.5611572265625, 880.2855834960938, 817.9719848632812, 766.9415283203125, 647.5112915039062, 637.466552734375, 571.68798828125, 545.0665283203125, 467.9759216308594, 334.59027099609375, 321.8629150390625, 8872.6240234375, 6342.57470703125, 4284.5517578125, 3635.264892578125, 3507.782958984375, 2966.98095703125, 2957.058837890625, 2931.22314453125, 2790.215576171875, 2439.96826171875, 2392.875244140625, 2272.046875, 2269.36669921875, 1933.223876953125, 1932.02294921875, 1874.61962890625, 1807.6226806640625, 1629.897705078125, 1621.85546875, 1533.081298828125, 1519.0560302734375, 1455.8677978515625, 1437.9581298828125, 1322.9542236328125, 1215.861328125, 1068.912841796875, 992.6220703125, 895.2824096679688, 738.9894409179688, 684.1148681640625, 21626.888671875, 18356.412109375, 15198.748046875, 7652.59423828125, 2291.0009765625, 1786.3126220703125, 1213.7861328125, 1059.5245361328125, 898.5970458984375, 720.3063354492188, 559.9953002929688, 558.577392578125, 463.7051086425781, 13.40229606628418, 1.1466162204742432, 1.1466131210327148, 1.1466132402420044, 1.1466130018234253, 1.146614670753479, 1.1466147899627686, 1.146615982055664, 1.1466145515441895, 1.1466141939163208, 1.1466143131256104, 1.146613359451294, 1.1466137170791626, 1.1466137170791626, 1.1466126441955566, 1.1466145515441895, 1.1466138362884521, 1.1466140747070312, 1.1466174125671387, 1.1466143131256104, 1.1466143131256104, 1.1466153860092163, 1.1466162204742432, 1.1466175317764282, 1.1466131210327148, 1.1466155052185059, 1.1466189622879028, 1.1466141939163208, 1.14661705493927, 1.1466141939163208, 1.1466143131256104, 1.1466158628463745, 1.1466166973114014, 1.1466139554977417, 1.146613359451294, 1.1466134786605835, 1.1466144323349, 1.1466147899627686, 1.1466158628463745, 1.146614909172058, 1.1466153860092163, 1.1466150283813477, 1.1466153860092163, 1.146614670753479, 1.146614909172058, 1.146614909172058, 1.146614670753479, 24345.5234375, 6740.48193359375, 6699.9541015625, 5744.2509765625, 3762.88671875, 3620.328369140625, 3307.182861328125, 2559.255126953125, 2212.25537109375, 1827.5908203125, 1213.1312255859375, 1168.3614501953125, 1073.3370361328125, 1067.63037109375, 994.7060546875, 991.5633544921875, 991.1576538085938, 650.8062744140625, 585.9749145507812, 447.962158203125, 419.7191467285156, 381.5522155761719, 299.2236633300781, 249.30909729003906, 184.96856689453125, 95.47181701660156, 57.2536506652832, 38.290374755859375, 1.5468918085098267, 1.146614909172058, 1.1466175317764282, 1.1466147899627686, 1.146614670753479, 1.1466150283813477, 1.146615743637085, 7031.57763671875, 5584.3544921875, 5386.00537109375, 4833.01220703125, 4050.744384765625, 3129.78271484375, 2631.74951171875, 2551.18017578125, 2532.813232421875, 2291.736328125, 2232.87255859375, 2210.556396484375, 2158.253173828125, 2084.76513671875, 2048.863037109375, 1729.629150390625, 1631.0849609375, 1481.94287109375, 1443.0943603515625, 1212.091552734375, 1160.029541015625, 1136.2667236328125, 1089.478271484375, 881.7745361328125, 874.0404663085938, 788.3030395507812, 732.9164428710938, 637.0540771484375, 502.6015319824219, 445.5248718261719, 6138.64599609375, 5144.72705078125, 5098.72998046875, 5015.466796875, 3702.379638671875, 3584.172119140625, 3107.67529296875, 2989.697265625, 2590.0341796875, 2222.65771484375, 2217.881103515625, 1959.1787109375, 1937.2364501953125, 1596.9593505859375, 1332.941162109375, 1283.1639404296875, 1056.2486572265625, 760.7073364257812, 722.2489624023438, 705.0131225585938, 695.402587890625, 617.103759765625, 569.8779296875, 544.0864868164062, 524.1725463867188, 458.9317321777344, 416.7242431640625, 391.9255065917969, 347.9686279296875, 346.9734802246094, 30826.806640625, 6177.32568359375, 3676.2509765625, 3331.510498046875, 3221.7109375, 2576.781982421875, 2452.919189453125, 1824.024169921875, 1812.1361083984375, 1145.3846435546875, 780.5309448242188, 689.7709350585938, 533.2898559570312, 258.4168395996094, 1.146614909172058, 1.1466147899627686, 1.1466128826141357, 1.1466141939163208, 1.1466130018234253, 1.1466131210327148, 1.1466141939163208, 1.1466127634048462, 1.1466143131256104, 1.1466128826141357, 1.1466126441955566, 1.1466126441955566, 1.1466127634048462, 1.1466126441955566, 1.1466132402420044, 1.1466131210327148, 1.1466131210327148, 1.1466127634048462, 1.146613359451294, 1.1466132402420044, 1.1466132402420044, 1.1466158628463745, 1.1466138362884521, 1.1466140747070312, 1.1466131210327148, 1.146613597869873, 1.146613359451294, 1.146615743637085, 1.146614909172058, 1.146614909172058, 1.1466134786605835, 1.14661705493927, 1.1466158628463745, 1.1466128826141357, 1.1466137170791626, 1.1466141939163208, 1.1466139554977417, 1.1466138362884521, 1.1466138362884521, 1.1466141939163208, 1.1466137170791626, 1.1466126441955566, 1.1466127634048462, 1.1466127634048462, 1.1466128826141357, 1.1466126441955566, 1.1466126441955566, 1.1466126441955566, 1.1466126441955566, 1.1466126441955566, 1.1466153860092163, 1.1466175317764282, 1.1466137170791626, 1.1466138362884521, 1.146613597869873, 1.1466137170791626, 1.1466139554977417, 1.1466174125671387, 1.1466153860092163, 1.1466137170791626, 1.146613597869873, 1.1466144323349, 1.1466139554977417, 1.1466141939163208, 1.1466139554977417, 1.1466166973114014, 1.1466138362884521, 1.1466137170791626, 1.1466145515441895, 1.1466143131256104, 1.1466139554977417, 1.1466140747070312, 1.1466139554977417, 1.1466144323349, 1.1466139554977417, 1.146614670753479, 1.1466139554977417, 1.1466126441955566, 1.1466126441955566, 1.1466126441955566, 1.1466144323349, 1.1466143131256104, 1.1466153860092163, 1.1466141939163208, 1.1466126441955566, 1.1466126441955566, 1.1466126441955566, 1.1466126441955566, 1.1466126441955566, 1.1466126441955566, 1.1466145515441895, 1.1466140747070312, 1.1466126441955566, 1.1466126441955566, 1.1466126441955566, 1.1466128826141357, 1.1466126441955566, 1.1466126441955566, 1.146613359451294, 1.146614670753479, 1.146614670753479, 1.1466138362884521, 1.1466138362884521, 1.1466189622879028, 1.1466147899627686, 13373.6689453125, 10971.3076171875, 6724.74169921875, 5325.7724609375, 5144.640625, 2518.570556640625, 1635.5928955078125, 1460.1107177734375, 855.1475830078125, 566.0423583984375, 421.3180847167969, 400.97265625, 362.8020935058594, 285.5680236816406, 228.86387634277344, 217.6236114501953, 205.2824249267578, 192.41419982910156, 93.53019714355469, 78.217041015625, 24.134878158569336, 1.146615743637085, 1.1466151475906372, 1.146613359451294, 1.1466139554977417, 1.1466140747070312, 1.1466137170791626, 1.1466140747070312, 1.146614670753479, 1.1466137170791626, 1.146613359451294, 1.1466138362884521, 1.1466152667999268, 1.1466166973114014, 1.1466127634048462, 1.1466130018234253, 1.1466162204742432, 1.1466158628463745, 1.14661705493927, 1.1466141939163208, 1.1466143131256104, 1.1466147899627686, 1.1466140747070312, 1.1466140747070312, 1.1466189622879028, 1.1466174125671387, 1.146614909172058, 1.146614909172058, 1.1466155052185059, 1.1466150283813477, 1.1466143131256104, 1.1466143131256104, 1.146614670753479, 1.1466175317764282, 16270.6376953125, 6238.40966796875, 2950.886962890625, 2685.55322265625, 2584.408935546875, 2249.874755859375, 1801.565673828125, 1782.73388671875, 1716.9954833984375, 1693.12109375, 1385.2869873046875, 1092.2755126953125, 591.2822875976562, 480.5658264160156, 324.24554443359375, 304.7755432128906, 287.9151916503906, 202.73182678222656, 174.08685302734375, 169.50852966308594, 116.82161712646484, 83.37603759765625, 68.49080657958984, 60.728675842285156, 1.1466166973114014, 1.146614670753479, 1.1466141939163208, 1.1466134786605835, 1.146613597869873, 1.1466147899627686, 1.1466143131256104, 1.1466139554977417, 1.1466153860092163, 1.1466152667999268, 1.1466140747070312, 1.1466132402420044, 1.1466139554977417, 1.1466140747070312, 1.1466158628463745, 1.1466162204742432, 1.1466140747070312, 1.1466189622879028, 1.1466174125671387, 1.14661705493927, 1.1466150283813477, 1.1466147899627686, 1.1466130018234253, 1.1466153860092163, 1.146614909172058, 1.1466145515441895, 8342.5751953125, 8096.2861328125, 7515.65478515625, 2555.492919921875, 2366.073974609375, 2350.182373046875, 2001.5758056640625, 1061.79052734375, 596.0726318359375, 1.1466162204742432, 1.1466130018234253, 1.1466138362884521, 1.1466140747070312, 1.1466138362884521, 1.1466130018234253, 1.1466128826141357, 1.1466128826141357, 1.1466126441955566, 1.1466139554977417, 1.1466144323349, 1.1466138362884521, 1.1466130018234253, 1.1466126441955566, 1.1466126441955566, 1.1466128826141357, 1.1466131210327148, 1.1466126441955566, 1.1466128826141357, 1.1466131210327148, 1.146613597869873, 1.1466134786605835, 1.1466137170791626, 1.1466158628463745, 1.1466128826141357, 1.1466131210327148, 1.146614670753479, 1.1466140747070312, 1.1466137170791626, 1.1466126441955566, 1.1466128826141357, 1.1466131210327148, 1.1466130018234253, 1.1466140747070312, 1.1466141939163208, 1.146615982055664, 1.1466131210327148, 1.1466175317764282, 1.146614909172058, 1.146614909172058, 1.1466139554977417, 1.146614670753479, 1.146613359451294, 1.146613359451294, 1.146613359451294, 1.1466153860092163, 1.1466174125671387, 1.1466128826141357, 1.14661705493927, 1.1466126441955566, 1.1466126441955566, 1.1466126441955566, 1.1466126441955566, 1.1466126441955566, 1.1466126441955566, 1.1466126441955566, 1.146613359451294, 1.1466138362884521, 1.1466138362884521, 1.1466153860092163, 1.146613597869873, 1.1466134786605835, 1.1466132402420044, 1.1466134786605835, 1.1466139554977417, 1.1466134786605835, 1.1466143131256104, 1.1466139554977417, 1.1466158628463745, 1.1466138362884521, 1.1466189622879028, 1.1466155052185059, 1.146613359451294, 1.1466128826141357, 1.1466128826141357, 1.1466126441955566, 1.1466126441955566, 1.1466126441955566, 1.1466126441955566, 1.1466126441955566, 1.1466126441955566, 1.1466126441955566, 1.1466126441955566, 1.1466126441955566, 1.1466126441955566, 1.1466126441955566, 1.1466126441955566, 1.1466126441955566, 1.1466126441955566, 1.1466126441955566, 1.1466132402420044, 1.1466139554977417, 1.1466147899627686, 1.146613597869873, 20429.15625, 4157.25927734375, 2568.78662109375, 1473.1331787109375, 1309.51123046875, 469.54217529296875, 189.85581970214844, 1.146615982055664, 1.1466128826141357, 1.1466128826141357, 1.1466141939163208, 1.1466175317764282, 1.1466144323349, 1.1466140747070312, 1.1466141939163208, 1.1466153860092163, 1.1466134786605835, 1.1466140747070312, 1.1466137170791626, 1.1466140747070312, 1.1466145515441895, 1.146613359451294, 1.1466145515441895, 1.1466128826141357, 1.1466140747070312, 1.1466147899627686, 1.1466130018234253, 1.1466132402420044, 1.1466162204742432, 1.1466131210327148, 1.1466143131256104, 1.1466138362884521, 1.1466140747070312, 1.146614909172058, 1.1466131210327148, 1.1466158628463745, 1.1466174125671387, 1.1466134786605835, 1.1466131210327148, 1.146613597869873, 1.1466137170791626, 1.1466132402420044, 1.1466138362884521, 1.1466131210327148, 1.1466144323349, 1.1466143131256104, 1.1466144323349, 1.146614670753479, 1.146614670753479, 1.14661705493927, 1.1466147899627686, 1.146614909172058, 1.1466153860092163, 1.1466131210327148, 1.1466138362884521, 1.146614670753479, 1.146613597869873, 1.1466138362884521, 1.1466139554977417, 1.1466140747070312, 1.1466134786605835, 1.1466158628463745, 1.1466158628463745, 1.1466153860092163, 1.1466131210327148, 1.1466162204742432, 1.1466137170791626, 1.146613597869873, 1.146613359451294, 1.1466189622879028, 1.1466155052185059, 14974.0458984375, 1962.80419921875, 1746.2889404296875, 1535.683349609375, 1433.9041748046875, 1248.29541015625, 1074.9658203125, 944.8878784179688, 942.7008056640625, 942.0597534179688, 714.3088989257812, 668.2759399414062, 446.4411926269531, 274.5335998535156, 203.0973663330078, 53.0062255859375, 50.79057312011719, 1.1466131210327148, 1.1466128826141357, 1.1466128826141357, 1.1466128826141357, 1.1466128826141357, 1.1466131210327148, 1.146614670753479, 1.1466128826141357, 1.1466127634048462, 1.1466126441955566, 1.1466128826141357, 1.1466128826141357, 1.1466134786605835, 1.1466126441955566, 1.1466128826141357, 1.1466128826141357, 1.1466134786605835, 1.1466127634048462, 1.1466141939163208, 1.1466145515441895, 1.1466130018234253, 1.1466140747070312, 1.1466141939163208, 1.1466128826141357, 1.1466130018234253, 1.1466127634048462, 1.1466127634048462, 1.1466127634048462, 1.1466126441955566, 1.1466127634048462, 1.1466126441955566, 1.1466126441955566, 1.146614909172058, 1.1466139554977417, 1.1466139554977417, 1.1466139554977417, 1.1466128826141357, 1.1466126441955566, 1.1466126441955566, 1.1466127634048462, 1.1466175317764282, 1.1466140747070312, 1.1466140747070312, 1.1466126441955566, 1.1466127634048462, 1.146615743637085, 1.1466158628463745, 1.1466126441955566, 1.1466126441955566, 1.1466128826141357, 1.1466128826141357, 1.1466128826141357, 1.1466126441955566, 1.1466144323349, 1.1466189622879028, 1.1466127634048462, 1.1466126441955566, 1.1466130018234253, 1.1466134786605835, 1.1466126441955566, 1.1466127634048462, 1.1466130018234253, 1.1466131210327148, 1.1466134786605835, 1.1466126441955566, 1.1466126441955566, 1.1466127634048462, 1.1466174125671387, 1.146614670753479, 1.1466152667999268, 1.1466147899627686, 1.146614670753479, 1.1466127634048462, 1.1466128826141357, 1.1466132402420044, 1.1466127634048462, 1.146613359451294, 1.1466126441955566, 1.1466131210327148, 1.1466132402420044, 1.1466128826141357, 1.1466126441955566, 1.146614670753479, 1.1466147899627686, 1.1466153860092163, 1.1466155052185059, 1.1466153860092163, 1.1466158628463745, 1.146615982055664, 1.1466151475906372, 1.146614909172058, 1.1466147899627686, 1.1466126441955566, 1.1466131210327148, 1.1466126441955566, 1.1466126441955566, 1.1466127634048462, 1.1466128826141357, 1.1466131210327148, 1.1466131210327148, 1.1466126441955566, 1.1466127634048462, 1.1466128826141357, 1.1466134786605835, 1.146613597869873, 1.1466126441955566, 1.1466130018234253, 1.1466127634048462, 1.1466126441955566, 1.1466128826141357, 1.1466128826141357, 1.1466131210327148, 1.1466128826141357, 1.146614909172058, 1.146614909172058, 1.1466158628463745, 1.1466166973114014, 1.1466132402420044, 1.1466128826141357, 1.1466128826141357, 1.1466130018234253, 1.1466126441955566, 1.1466126441955566, 1.1466126441955566, 1.1466128826141357, 6034.5087890625, 2500.773681640625, 1763.6754150390625, 1579.182373046875, 1532.1922607421875, 1198.7349853515625, 912.7898559570312, 610.620849609375, 420.0880432128906, 299.9451904296875, 284.2000427246094, 79.23072052001953, 1.1466132402420044, 1.1466128826141357, 1.1466128826141357, 1.1466127634048462, 1.1466127634048462, 1.1466128826141357, 1.1466128826141357, 1.1466128826141357, 1.1466131210327148, 1.1466130018234253, 1.1466137170791626, 1.1466127634048462, 1.1466127634048462, 1.1466127634048462, 1.1466127634048462, 1.1466127634048462, 1.1466127634048462, 1.1466132402420044, 1.1466127634048462, 1.1466139554977417, 1.1466127634048462, 1.1466128826141357, 1.1466130018234253, 1.1466126441955566, 1.1466128826141357, 1.1466126441955566, 1.1466126441955566, 1.1466132402420044, 1.1466126441955566, 1.1466127634048462, 1.1466126441955566, 1.1466138362884521, 1.1466143131256104, 1.1466126441955566, 1.1466126441955566, 1.1466128826141357, 1.1466126441955566, 1.1466138362884521, 1.1466130018234253, 1.1466130018234253, 1.1466128826141357, 1.1466126441955566, 1.1466126441955566, 1.1466127634048462, 1.1466126441955566, 1.1466127634048462, 1.1466127634048462, 1.1466126441955566, 1.1466127634048462, 1.1466127634048462, 1.1466126441955566, 1.1466126441955566, 1.1466126441955566, 1.1466126441955566, 1.1466126441955566, 1.1466126441955566, 1.1466126441955566, 1.1466126441955566, 1.1466126441955566, 1.1466126441955566, 1.1466126441955566, 1.1466143131256104, 1.1466144323349, 1.1466145515441895, 1.1466126441955566, 1.1466126441955566, 1.1466130018234253, 1.1466128826141357, 1.1466126441955566, 1.1466126441955566, 1.1466126441955566, 1.1466126441955566, 1.1466126441955566, 1.1466126441955566, 1.1466126441955566, 1.1466126441955566, 1.1466126441955566, 1.1466126441955566, 1.1466126441955566, 1.1466126441955566, 1.1466126441955566, 1.1466126441955566, 1.1466126441955566, 1.1466126441955566, 1.1466126441955566, 1.1466126441955566, 1.1466126441955566, 1.1466126441955566, 1.1466126441955566, 1.1466126441955566, 1.1466126441955566, 1.1466126441955566, 1.1466126441955566, 1.1466126441955566, 1.1466126441955566, 1.1466126441955566, 1.1466126441955566, 1.1466126441955566, 1.1466126441955566, 1.1466126441955566, 1.1466126441955566, 1.1466126441955566, 1.1466126441955566, 1.1466126441955566, 1.1466126441955566, 1.1466126441955566, 1.1466126441955566, 1.1466126441955566, 1.1466143131256104, 1.1466144323349, 1.1466144323349, 1.1466126441955566, 1.1466126441955566, 1.1466126441955566, 1.1466126441955566, 1.1466126441955566, 1.1466126441955566, 1.1466126441955566, 1.1466126441955566, 1.1466126441955566, 1.1466126441955566, 1.1466126441955566, 1.1466126441955566, 1.1466127634048462, 1.1466127634048462, 1.1466126441955566, 1.1466127634048462, 1.1466126441955566, 1.1466126441955566, 1.1466127634048462, 1.1466126441955566, 1.1466127634048462, 1.14661705493927, 1.146614909172058, 1.146614670753479, 1.1466175317764282, 1.1466153860092163, 1.1466150283813477, 1.1466145515441895, 1.1466174125671387, 1.146614909172058, 1.1466126441955566, 1.1466126441955566, 1.1466126441955566, 1.1466126441955566, 1.1466126441955566, 1.1466126441955566, 1.1466126441955566, 1.1466126441955566, 1.1466126441955566, 1.1466126441955566, 1.1466126441955566, 1.1466126441955566, 1.1466158628463745, 1.1466155052185059, 1.1466153860092163, 1.1466153860092163, 1.146614909172058, 1.1466158628463745, 1.146615982055664, 1.1466189622879028, 1.1466152667999268, 1.1466126441955566, 1.1466126441955566, 1.1466126441955566, 1.1466126441955566, 1.1466126441955566, 1.1466126441955566, 1.1466126441955566, 1.1466126441955566, 1.1466126441955566, 1.1466126441955566, 1.1466126441955566, 1.1466126441955566, 1.1466126441955566, 1.1466126441955566, 1.1466126441955566, 1.1466126441955566, 1.1466126441955566, 1.1466126441955566, 1.1466126441955566, 1.1466126441955566, 1.146615743637085, 1.1466126441955566, 1.1466126441955566, 1.1466126441955566, 1.1466126441955566, 1.1466126441955566, 1.1466126441955566, 1.1466126441955566, 1.1466126441955566, 1.1466132402420044, 1.1466126441955566, 1.1466126441955566, 1.1466126441955566, 1.1466126441955566, 1.1466126441955566, 1.1466126441955566, 1.1466126441955566, 1.1466126441955566, 1.1466126441955566, 1.1466126441955566, 1.1466126441955566, 1.1466126441955566, 1.1466126441955566, 1.1466126441955566, 1.1466126441955566, 1.1466126441955566, 1.1466126441955566, 1.1466126441955566, 1.1466126441955566, 1.1466126441955566, 1.1466127634048462, 1.1466127634048462, 1.1466127634048462, 1.1466126441955566, 1.1466127634048462, 1.1466162204742432, 806.9276733398438, 488.96112060546875, 395.1567077636719, 105.85810852050781, 64.5779037475586, 1.146614909172058, 1.1466138362884521, 1.1466132402420044, 1.1466130018234253, 1.1466128826141357, 1.1466137170791626, 1.1466131210327148, 1.1466140747070312, 1.1466141939163208, 1.1466132402420044, 1.1466127634048462, 1.1466127634048462, 1.1466126441955566, 1.1466140747070312, 1.1466126441955566, 1.1466126441955566, 1.1466127634048462, 1.1466126441955566, 1.1466126441955566, 1.1466126441955566, 1.1466126441955566, 1.1466128826141357, 1.1466130018234253, 1.1466126441955566, 1.1466126441955566, 1.1466128826141357, 1.1466127634048462, 1.1466127634048462, 1.1466131210327148, 1.1466127634048462, 1.1466126441955566, 1.1466126441955566, 1.1466126441955566, 1.1466151475906372, 1.1466126441955566, 1.1466126441955566, 1.1466126441955566, 1.1466127634048462, 1.1466127634048462, 1.1466132402420044, 1.1466139554977417, 1.1466127634048462, 1.1466127634048462, 1.1466127634048462, 1.1466127634048462, 1.1466127634048462, 1.1466140747070312, 1.1466140747070312, 1.1466144323349, 1.1466140747070312, 1.1466127634048462, 1.1466126441955566, 1.1466126441955566, 1.1466128826141357, 1.1466126441955566, 1.1466126441955566, 1.1466126441955566, 1.1466128826141357, 1.1466126441955566, 1.1466127634048462, 1.1466128826141357, 1.1466126441955566, 1.1466127634048462, 1.1466127634048462, 1.1466127634048462, 1.1466127634048462, 1.1466128826141357, 1.1466128826141357, 1.1466128826141357, 1.1466126441955566, 1.1466128826141357, 1.1466128826141357, 1.1466126441955566, 1.1466126441955566, 1.1466126441955566, 1.1466127634048462, 1.1466131210327148, 1.1466126441955566, 1.1466127634048462, 1.1466126441955566, 1.1466127634048462, 1.1466126441955566, 1.1466127634048462, 1.1466130018234253, 1.1466128826141357, 1.1466128826141357, 1.1466128826141357, 1.1466126441955566, 1.1466128826141357, 1.1466130018234253, 1.1466131210327148, 1.1466130018234253, 1.1466126441955566, 1.1466128826141357, 1.1466130018234253, 1.1466131210327148, 1.1466130018234253, 1.1466143131256104, 1.1466128826141357, 1.14661705493927, 1.1466127634048462, 1.1466166973114014, 1.1466126441955566, 1.1466128826141357, 1.1466137170791626, 1.1466128826141357, 1.1466134786605835, 1.1466128826141357, 1.1466128826141357, 1.146613359451294, 1.1466126441955566, 1.1466126441955566, 1.1466126441955566, 1.1466126441955566, 1.1466126441955566, 1.1466126441955566, 1.1466126441955566, 1.1466126441955566, 1.1466132402420044, 1.146613359451294, 1.1466127634048462, 1.1466131210327148, 1.1466126441955566, 1.1466132402420044, 1.1466126441955566, 1.1466126441955566, 1.1466126441955566, 1.1466126441955566, 1.1466126441955566, 1.1466126441955566, 1.1466132402420044, 1.1466130018234253, 1.1466128826141357, 1.1466132402420044, 1.1466132402420044, 1.1466134786605835, 1.1466131210327148, 1.1466127634048462, 1.1466131210327148, 1.1466134786605835, 1.146613359451294, 1.1466132402420044, 1.1466130018234253, 1.1466126441955566, 1.1466132402420044, 1.1466126441955566, 1.1466127634048462, 1.1466131210327148, 1.146613597869873, 1.1466131210327148, 1.1466128826141357, 1.1466137170791626, 1.1466140747070312, 1.1466128826141357, 1.1466131210327148, 1.1466127634048462, 1.1466131210327148, 1.1466138362884521, 1.1466137170791626, 1.1466128826141357, 1.1466137170791626, 1.1466127634048462, 1.1466128826141357, 1.1466131210327148, 1.1466137170791626, 1.1466147899627686, 1.1466137170791626, 1.1466143131256104, 1.1466139554977417, 1.1466126441955566, 1.1466137170791626, 1.1466126441955566, 1.1466126441955566, 1.1466126441955566, 1.1466126441955566, 1.1466126441955566, 1.1466126441955566, 1.1466134786605835, 1.1466175317764282, 1.1466131210327148, 1.1466144323349, 1.1466143131256104, 1.1466134786605835, 1.1466134786605835, 1.1466130018234253, 1.1466130018234253, 1.1466128826141357, 1.146613359451294, 1.1466126441955566, 1.1466126441955566, 1.1466126441955566, 1.1466126441955566, 1.1466126441955566, 1.1466131210327148, 1.1466132402420044], \"loglift\": [30.0, 29.0, 28.0, 27.0, 26.0, 25.0, 24.0, 23.0, 22.0, 21.0, 20.0, 19.0, 18.0, 17.0, 16.0, 15.0, 14.0, 13.0, 12.0, 11.0, 10.0, 9.0, 8.0, 7.0, 6.0, 5.0, 4.0, 3.0, 2.0, 1.0, 1.8305000066757202, 1.8305000066757202, 1.830399990081787, 1.830399990081787, 1.830399990081787, 1.830399990081787, 1.830399990081787, 1.830399990081787, 1.830399990081787, 1.830399990081787, 1.830399990081787, 1.830399990081787, 1.830399990081787, 1.830299973487854, 1.830299973487854, 1.830299973487854, 1.830299973487854, 1.830299973487854, 1.830299973487854, 1.830299973487854, 1.830299973487854, 1.830299973487854, 1.830299973487854, 1.830299973487854, 1.830299973487854, 1.830299973487854, 1.830299973487854, 1.830299973487854, 1.830299973487854, 1.830299973487854, 2.363100051879883, 2.363100051879883, 2.363100051879883, 2.363100051879883, 2.363100051879883, 2.363100051879883, 2.363100051879883, 2.363100051879883, 2.363100051879883, 2.36299991607666, 2.36299991607666, 2.36299991607666, 2.36299991607666, 2.36299991607666, 2.36299991607666, 2.36299991607666, 2.36299991607666, 2.36299991607666, 2.36299991607666, 2.3629000186920166, 2.3629000186920166, 2.3629000186920166, 2.3629000186920166, 2.362799882888794, 2.362799882888794, 2.362799882888794, 2.362799882888794, 2.362799882888794, 2.362799882888794, 2.362799882888794, 2.645699977874756, 2.6456000804901123, 2.6456000804901123, 2.6456000804901123, 2.6456000804901123, 2.6456000804901123, 2.6456000804901123, 2.6454999446868896, 2.6454999446868896, 2.6454999446868896, 2.6454999446868896, 2.6454999446868896, 2.6454999446868896, 2.6454999446868896, 2.6454999446868896, 2.645400047302246, 2.645400047302246, 2.6452999114990234, 2.6452999114990234, 2.6452999114990234, 2.6452999114990234, 2.64520001411438, 2.64520001411438, 2.64520001411438, 2.6451001167297363, 2.6449999809265137, 2.6449999809265137, 2.6449999809265137, 2.64490008354187, 2.6447999477386475, 2.6691999435424805, 2.6691999435424805, 2.6691999435424805, 2.6691999435424805, 2.6691999435424805, 2.669100046157837, 2.669100046157837, 2.669100046157837, 2.669100046157837, 2.669100046157837, 2.669100046157837, 2.669100046157837, 2.669100046157837, 2.669100046157837, 2.6689999103546143, 2.6689999103546143, 2.6689999103546143, 2.6689999103546143, 2.6689999103546143, 2.668800115585327, 2.6686999797821045, 2.6686999797821045, 2.6686999797821045, 2.6684999465942383, 2.6684999465942383, 2.6684999465942383, 2.6684000492095947, 2.6684000492095947, 2.6684000492095947, 2.668299913406372, 2.9526000022888184, 2.9526000022888184, 2.9526000022888184, 2.9526000022888184, 2.9526000022888184, 2.952500104904175, 2.952399969100952, 2.952399969100952, 2.952399969100952, 2.9523000717163086, 2.9523000717163086, 2.952199935913086, 2.952199935913086, 2.952199935913086, 2.952199935913086, 2.9521000385284424, 2.9519999027252197, 2.9519999027252197, 2.9519999027252197, 2.9518001079559326, 2.9518001079559326, 2.9518001079559326, 2.9518001079559326, 2.95169997215271, 2.95169997215271, 2.95169997215271, 2.95169997215271, 2.9516000747680664, 2.9516000747680664, 2.9516000747680664, 3.005500078201294, 3.005500078201294, 3.005500078201294, 3.0053999423980713, 3.0053999423980713, 3.0053999423980713, 3.0053000450134277, 3.0053000450134277, 3.005199909210205, 3.005199909210205, 3.005000114440918, 3.005000114440918, 3.0048999786376953, 3.0048000812530518, 3.004699945449829, 3.004699945449829, 3.0046000480651855, 3.004499912261963, 3.004300117492676, 3.0039000511169434, 3.00219988822937, 3.0018999576568604, 3.0018999576568604, 2.9914000034332275, 2.984499931335449, -0.22990000247955322, -0.22990000247955322, -0.22990000247955322, -0.22990000247955322, -0.22990000247955322, -0.22990000247955322, -0.22990000247955322, -0.22990000247955322, -0.22990000247955322, -0.22990000247955322, -0.22990000247955322, -0.22990000247955322, -0.22990000247955322, -0.22990000247955322, -0.22990000247955322, 3.07669997215271, 3.0766000747680664, 3.0766000747680664, 3.0766000747680664, 3.0766000747680664, 3.0764999389648438, 3.0764999389648438, 3.0764000415802, 3.0764000415802, 3.0764000415802, 3.0764000415802, 3.0762999057769775, 3.0762999057769775, 3.0762999057769775, 3.0762999057769775, 3.0762999057769775, 3.076200008392334, 3.076200008392334, 3.076200008392334, 3.076200008392334, 3.076200008392334, 3.0761001110076904, 3.0761001110076904, 3.0761001110076904, 3.0761001110076904, 3.0759999752044678, 3.0759999752044678, 3.0759999752044678, 3.075900077819824, 3.075900077819824, 3.2332000732421875, 3.2332000732421875, 3.2332000732421875, 3.233099937438965, 3.2330000400543213, 3.2330000400543213, 3.2330000400543213, 3.2330000400543213, 3.2330000400543213, 3.2328999042510986, 3.2328999042510986, 3.232800006866455, 3.232800006866455, 3.2327001094818115, 3.2325000762939453, 3.2321999073028564, 3.2321999073028564, 3.2318999767303467, 3.2316999435424805, 3.231300115585327, 3.231300115585327, 3.2304000854492188, 3.2300000190734863, 3.229300022125244, 3.2290000915527344, 3.228800058364868, 3.2281999588012695, 3.227799892425537, 3.226799964904785, 3.2267000675201416, 3.233599901199341, 3.2335000038146973, 3.2334001064300537, 3.2334001064300537, 3.2334001064300537, 3.2334001064300537, 3.2334001064300537, 3.2334001064300537, 3.233299970626831, 3.233299970626831, 3.233299970626831, 3.2332000732421875, 3.2332000732421875, 3.2330000400543213, 3.2330000400543213, 3.2328999042510986, 3.2328999042510986, 3.2328999042510986, 3.232800006866455, 3.232800006866455, 3.232599973678589, 3.232300043106079, 3.2321999073028564, 3.2318999767303467, 3.2314000129699707, 3.231300115585327, 3.2300000190734863, 3.2281999588012695, 3.226599931716919, 3.2211999893188477, 3.2848000526428223, 3.2848000526428223, 3.2848000526428223, 3.2848000526428223, 3.2848000526428223, 3.2848000526428223, 3.2848000526428223, 3.2848000526428223, 3.2846999168395996, 3.2846999168395996, 3.2846999168395996, 3.284600019454956, 3.284600019454956, 3.284600019454956, 3.284600019454956, 3.2844998836517334, 3.2844998836517334, 3.2843000888824463, 3.28410005569458, 3.28410005569458, 3.283900022506714, 3.2836999893188477, 3.2836999893188477, 3.2836999893188477, 3.2836999893188477, 3.283600091934204, 3.2834999561309814, 3.283400058746338, 3.283400058746338, 3.2832999229431152, 3.2890000343322754, 3.2888998985290527, 3.2888998985290527, 3.288800001144409, 3.288800001144409, 3.288800001144409, 3.288800001144409, 3.2887001037597656, 3.2887001037597656, 3.2887001037597656, 3.288599967956543, 3.288599967956543, 3.288599967956543, 3.288599967956543, 3.2885000705718994, 3.2885000705718994, 3.2885000705718994, 3.2885000705718994, 3.2885000705718994, 3.2883999347686768, 3.2883999347686768, 3.2883999347686768, 3.2883999347686768, 3.288300037384033, 3.2881999015808105, 3.2881999015808105, 3.288100004196167, 3.288100004196167, 3.2880001068115234, 3.2874999046325684, 3.393399953842163, 3.3933000564575195, 3.3933000564575195, 3.3933000564575195, 3.3933000564575195, 3.393199920654297, 3.393199920654297, 3.3931000232696533, 3.3931000232696533, 3.3931000232696533, 3.3931000232696533, 3.3929998874664307, 3.3928000926971436, 3.392699956893921, 3.392699956893921, 3.392699956893921, 3.3926000595092773, 3.3926000595092773, 3.3924999237060547, 3.392400026321411, 3.392199993133545, 3.3921000957489014, 3.3919999599456787, 3.3917999267578125, 3.391700029373169, 3.3914999961853027, 3.3914999961853027, 3.3910999298095703, 3.390199899673462, 3.3901000022888184, 3.4142000675201416, 3.4142000675201416, 3.414099931716919, 3.4140000343322754, 3.4140000343322754, 3.4140000343322754, 3.4140000343322754, 3.4140000343322754, 3.4140000343322754, 3.4138998985290527, 3.4138998985290527, 3.4138998985290527, 3.4138998985290527, 3.413800001144409, 3.413800001144409, 3.413800001144409, 3.4137001037597656, 3.4137001037597656, 3.4137001037597656, 3.413599967956543, 3.413599967956543, 3.413599967956543, 3.413599967956543, 3.4135000705718994, 3.4133999347686768, 3.413300037384033, 3.4131999015808105, 3.413100004196167, 3.412899971008301, 3.4126999378204346, 3.474299907684326, 3.474299907684326, 3.474299907684326, 3.4742000102996826, 3.473900079727173, 3.4737000465393066, 3.4735000133514404, 3.473299980163574, 3.473099946975708, 3.4728000164031982, 3.472399950027466, 3.472399950027466, 3.4719998836517334, 3.3884999752044678, 0.19779999554157257, 0.19779999554157257, 0.19779999554157257, 0.19779999554157257, 0.19779999554157257, 0.19779999554157257, 0.19779999554157257, 0.19779999554157257, 0.19779999554157257, 0.19779999554157257, 0.19779999554157257, 0.19779999554157257, 0.19779999554157257, 0.19779999554157257, 0.19779999554157257, 0.19779999554157257, 0.19779999554157257, 0.19779999554157257, 0.19779999554157257, 0.19779999554157257, 0.19779999554157257, 0.19779999554157257, 0.19779999554157257, 0.19779999554157257, 0.19779999554157257, 0.19779999554157257, 0.19779999554157257, 0.19779999554157257, 0.19779999554157257, 0.19779999554157257, 0.19779999554157257, 0.19779999554157257, 0.19779999554157257, 0.19779999554157257, 0.19779999554157257, 0.19779999554157257, 0.19779999554157257, 0.19779999554157257, 0.19779999554157257, 0.19779999554157257, 0.19779999554157257, 0.19779999554157257, 0.19779999554157257, 0.19779999554157257, 0.19779999554157257, 0.19779999554157257, 3.4825000762939453, 3.4823999404907227, 3.4823999404907227, 3.4823999404907227, 3.482300043106079, 3.482300043106079, 3.4821999073028564, 3.482100009918213, 3.482100009918213, 3.4820001125335693, 3.4816999435424805, 3.481600046157837, 3.4814999103546143, 3.4814999103546143, 3.4814999103546143, 3.4814999103546143, 3.4814999103546143, 3.4809000492095947, 3.4807000160217285, 3.48009991645813, 3.4798998832702637, 3.4797000885009766, 3.4788999557495117, 3.478100061416626, 3.476599931716919, 3.4709999561309814, 3.463099956512451, 3.453399896621704, 2.2362000942230225, 0.23389999568462372, 0.23389999568462372, 0.23389999568462372, 0.23389999568462372, 0.23389999568462372, 0.23389999568462372, 3.502700090408325, 3.502700090408325, 3.502700090408325, 3.502700090408325, 3.5025999546051025, 3.502500057220459, 3.502500057220459, 3.502500057220459, 3.5023999214172363, 3.5023999214172363, 3.5023999214172363, 3.5023999214172363, 3.5023999214172363, 3.5023999214172363, 3.5023000240325928, 3.50219988822937, 3.50219988822937, 3.5020999908447266, 3.5020999908447266, 3.502000093460083, 3.5018999576568604, 3.5018999576568604, 3.5018999576568604, 3.5016000270843506, 3.5016000270843506, 3.501499891281128, 3.5013999938964844, 3.501199960708618, 3.500699996948242, 3.5004000663757324, 3.660900115966797, 3.660799980163574, 3.660799980163574, 3.660799980163574, 3.6607000827789307, 3.6607000827789307, 3.6607000827789307, 3.6607000827789307, 3.660599946975708, 3.6605000495910645, 3.6605000495910645, 3.6605000495910645, 3.6605000495910645, 3.660399913787842, 3.6602001190185547, 3.6602001190185547, 3.6600000858306885, 3.659600019454956, 3.6594998836517334, 3.6594998836517334, 3.6594998836517334, 3.6593000888824463, 3.65910005569458, 3.6589999198913574, 3.658900022506714, 3.658600091934204, 3.658400058746338, 3.6582000255584717, 3.657900094985962, 3.657900094985962, 3.6614999771118164, 3.661400079727173, 3.66129994392395, 3.6612000465393066, 3.6612000465393066, 3.661099910736084, 3.661099910736084, 3.6610000133514404, 3.6610000133514404, 3.660599946975708, 3.6602001190185547, 3.6600000858306885, 3.6594998836517334, 3.6572999954223633, 0.4945000112056732, 0.4945000112056732, 0.4945000112056732, 0.4945000112056732, 0.4945000112056732, 0.4945000112056732, 0.4945000112056732, 0.4945000112056732, 0.4945000112056732, 0.4945000112056732, 0.4945000112056732, 0.4945000112056732, 0.4945000112056732, 0.4945000112056732, 0.4945000112056732, 0.4945000112056732, 0.4945000112056732, 0.4945000112056732, 0.4945000112056732, 0.4945000112056732, 0.4945000112056732, 0.4945000112056732, 0.4945000112056732, 0.4945000112056732, 0.4945000112056732, 0.4945000112056732, 0.4945000112056732, 0.4945000112056732, 0.4945000112056732, 0.4945000112056732, 0.4945000112056732, 0.4945000112056732, 0.4945000112056732, 0.4945000112056732, 0.4945000112056732, 0.4945000112056732, 0.4945000112056732, 0.4945000112056732, 0.4945000112056732, 0.4945000112056732, 0.4945000112056732, 0.4945000112056732, 0.4945000112056732, 0.4945000112056732, 0.4945000112056732, 0.4945000112056732, 0.4945000112056732, 0.4945000112056732, 0.4945000112056732, 0.4945000112056732, 0.4945000112056732, 0.4945000112056732, 0.4945000112056732, 0.4945000112056732, 0.4945000112056732, 0.4945000112056732, 0.4945000112056732, 0.4945000112056732, 0.4945000112056732, 0.4945000112056732, 0.4945000112056732, 0.4945000112056732, 0.4945000112056732, 0.4945000112056732, 0.4945000112056732, 0.4945000112056732, 0.4945000112056732, 0.4945000112056732, 0.4945000112056732, 0.4945000112056732, 0.4945000112056732, 0.4945000112056732, 0.4945000112056732, 0.4945000112056732, 0.4945000112056732, 0.4945000112056732, 0.4945000112056732, 0.4945000112056732, 0.4945000112056732, 0.4945000112056732, 0.4945000112056732, 0.4945000112056732, 0.4945000112056732, 0.4945000112056732, 0.4945000112056732, 0.4945000112056732, 0.4945000112056732, 0.4945000112056732, 0.4945000112056732, 0.4945000112056732, 0.4945000112056732, 0.4945000112056732, 0.4945000112056732, 0.4945000112056732, 0.4945000112056732, 0.4945000112056732, 0.4945000112056732, 0.4945000112056732, 0.4945000112056732, 0.4945000112056732, 0.4945000112056732, 0.4945000112056732, 0.4945000112056732, 0.4945000112056732, 0.4945000112056732, 3.80430006980896, 3.8041999340057373, 3.8041999340057373, 3.8041000366210938, 3.8041000366210938, 3.8039000034332275, 3.8036999702453613, 3.8036000728607178, 3.803100109100342, 3.8024001121520996, 3.8017001152038574, 3.8015999794006348, 3.801300048828125, 3.80049991607666, 3.799499988555908, 3.799299955368042, 3.7990000247955322, 3.7985999584198, 3.7925000190734863, 3.7901999950408936, 3.757699966430664, 0.6226999759674072, 0.6226999759674072, 0.6226999759674072, 0.6226999759674072, 0.6226999759674072, 0.6226999759674072, 0.6226999759674072, 0.6226999759674072, 0.6226999759674072, 0.6226999759674072, 0.6226999759674072, 0.6226999759674072, 0.6226999759674072, 0.6226999759674072, 0.6226999759674072, 0.6226999759674072, 0.6226999759674072, 0.6226999759674072, 0.6226999759674072, 0.6226999759674072, 0.6226999759674072, 0.6226999759674072, 0.6226999759674072, 0.6226999759674072, 0.6226999759674072, 0.6226999759674072, 0.6226999759674072, 0.6226999759674072, 0.6226999759674072, 0.6226999759674072, 0.6226999759674072, 0.6226999759674072, 0.6226999759674072, 3.9189000129699707, 3.9186999797821045, 3.9184999465942383, 3.9184999465942383, 3.9184999465942383, 3.9184000492095947, 3.918299913406372, 3.918299913406372, 3.918299913406372, 3.918299913406372, 3.918100118637085, 3.9179000854492188, 3.917099952697754, 3.916599988937378, 3.9154999256134033, 3.915299892425537, 3.91510009765625, 3.9135000705718994, 3.912600040435791, 3.912400007247925, 3.9094998836517334, 3.905600070953369, 3.9026999473571777, 3.900599956512451, 0.7159000039100647, 0.7159000039100647, 0.7159000039100647, 0.7159000039100647, 0.7159000039100647, 0.7159000039100647, 0.7159000039100647, 0.7159000039100647, 0.7159000039100647, 0.7159000039100647, 0.7159000039100647, 0.7159000039100647, 0.7159000039100647, 0.7159000039100647, 0.7159000039100647, 0.7159000039100647, 0.7159000039100647, 0.7159000039100647, 0.7159000039100647, 0.7159000039100647, 0.7159000039100647, 0.7159000039100647, 0.7159000039100647, 0.7159000039100647, 0.7159000039100647, 0.7159000039100647, 4.1631999015808105, 4.1631999015808105, 4.1631999015808105, 4.162899971008301, 4.162799835205078, 4.162799835205078, 4.162799835205078, 4.162300109863281, 4.161499977111816, 0.9584000110626221, 0.9584000110626221, 0.9584000110626221, 0.9584000110626221, 0.9584000110626221, 0.9584000110626221, 0.9584000110626221, 0.9584000110626221, 0.9584000110626221, 0.9584000110626221, 0.9584000110626221, 0.9584000110626221, 0.9584000110626221, 0.9584000110626221, 0.9584000110626221, 0.9584000110626221, 0.9584000110626221, 0.9584000110626221, 0.9584000110626221, 0.9584000110626221, 0.9584000110626221, 0.9584000110626221, 0.9584000110626221, 0.9584000110626221, 0.9584000110626221, 0.9584000110626221, 0.9584000110626221, 0.9584000110626221, 0.9584000110626221, 0.9584000110626221, 0.9584000110626221, 0.9584000110626221, 0.9584000110626221, 0.9584000110626221, 0.9584000110626221, 0.9584000110626221, 0.9584000110626221, 0.9584000110626221, 0.9584000110626221, 0.9584000110626221, 0.9584000110626221, 0.9584000110626221, 0.9584000110626221, 0.9584000110626221, 0.9584000110626221, 0.9584000110626221, 0.9584000110626221, 0.9584000110626221, 0.9584000110626221, 0.9584000110626221, 0.9584000110626221, 0.9584000110626221, 0.9584000110626221, 0.9584000110626221, 0.9584000110626221, 0.9584000110626221, 0.9584000110626221, 0.9584000110626221, 0.9584000110626221, 0.9584000110626221, 0.9584000110626221, 0.9584000110626221, 0.9584000110626221, 0.9584000110626221, 0.9584000110626221, 0.9584000110626221, 0.9584000110626221, 0.9584000110626221, 0.9584000110626221, 0.9584000110626221, 0.9584000110626221, 0.9584000110626221, 0.9584000110626221, 0.9584000110626221, 0.9584000110626221, 0.9584000110626221, 0.9584000110626221, 0.9584000110626221, 0.9584000110626221, 0.9584000110626221, 0.9584000110626221, 0.9584000110626221, 0.9584000110626221, 0.9584000110626221, 0.9584000110626221, 0.9584000110626221, 0.9584000110626221, 0.9584000110626221, 0.9584000110626221, 0.9584000110626221, 0.9584000110626221, 0.9584000110626221, 0.9584000110626221, 0.9584000110626221, 4.303699970245361, 4.303500175476074, 4.303299903869629, 4.302999973297119, 4.3028998374938965, 4.301400184631348, 4.297900199890137, 0.8321999907493591, 0.8321999907493591, 0.8321999907493591, 0.8321999907493591, 0.8321999907493591, 0.8321999907493591, 0.8321999907493591, 0.8321999907493591, 0.8321999907493591, 0.8321999907493591, 0.8321999907493591, 0.8321999907493591, 0.8321999907493591, 0.8321999907493591, 0.8321999907493591, 0.8321999907493591, 0.8321999907493591, 0.8321999907493591, 0.8321999907493591, 0.8321999907493591, 0.8321999907493591, 0.8321999907493591, 0.8321999907493591, 0.8321999907493591, 0.8321999907493591, 0.8321999907493591, 0.8321999907493591, 0.8321999907493591, 0.8321999907493591, 0.8321999907493591, 0.8321999907493591, 0.8321999907493591, 0.8321999907493591, 0.8321999907493591, 0.8321999907493591, 0.8321999907493591, 0.8321999907493591, 0.8321999907493591, 0.8321999907493591, 0.8321999907493591, 0.8321999907493591, 0.8321999907493591, 0.8321999907493591, 0.8321999907493591, 0.8321999907493591, 0.8321999907493591, 0.8321999907493591, 0.8321999907493591, 0.8321999907493591, 0.8321999907493591, 0.8321999907493591, 0.8321999907493591, 0.8321999907493591, 0.8321999907493591, 0.8321999907493591, 0.8321999907493591, 0.8321999907493591, 0.8321999907493591, 0.8321999907493591, 0.8321999907493591, 0.8321999907493591, 0.8321999907493591, 0.8321999907493591, 0.8321999907493591, 4.326499938964844, 4.326000213623047, 4.325900077819824, 4.325799942016602, 4.325799942016602, 4.325699806213379, 4.325500011444092, 4.325399875640869, 4.325399875640869, 4.325399875640869, 4.324999809265137, 4.324900150299072, 4.324100017547607, 4.322500228881836, 4.321100234985352, 4.305600166320801, 4.304599761962891, 1.1256999969482422, 1.1256999969482422, 1.1256999969482422, 1.1256999969482422, 1.1256999969482422, 1.1256999969482422, 1.1256999969482422, 1.1256999969482422, 1.1256999969482422, 1.1256999969482422, 1.1256999969482422, 1.1256999969482422, 1.1256999969482422, 1.1256999969482422, 1.1256999969482422, 1.1256999969482422, 1.1256999969482422, 1.1256999969482422, 1.1256999969482422, 1.1256999969482422, 1.1256999969482422, 1.1256999969482422, 1.1256999969482422, 1.1256999969482422, 1.1256999969482422, 1.1256999969482422, 1.1256999969482422, 1.1256999969482422, 1.1256999969482422, 1.1256999969482422, 1.1256999969482422, 1.1256999969482422, 1.1256999969482422, 1.1256999969482422, 1.1256999969482422, 1.1256999969482422, 1.1256999969482422, 1.1256999969482422, 1.1256999969482422, 1.1256999969482422, 1.1256999969482422, 1.1256999969482422, 1.1256999969482422, 1.1256999969482422, 1.1256999969482422, 1.1256999969482422, 1.1256999969482422, 1.1256999969482422, 1.1256999969482422, 1.1256999969482422, 1.1256999969482422, 1.1256999969482422, 1.1256999969482422, 1.1256999969482422, 1.1256999969482422, 1.1256999969482422, 1.1256999969482422, 1.1256999969482422, 1.1256999969482422, 1.1256999969482422, 1.1256999969482422, 1.1256999969482422, 1.1256999969482422, 1.1256999969482422, 1.1256999969482422, 1.1256999969482422, 1.1256999969482422, 1.1256999969482422, 1.1256999969482422, 1.1256999969482422, 1.1256999969482422, 1.1256999969482422, 1.1256999969482422, 1.1256999969482422, 1.1256999969482422, 1.1256999969482422, 1.1256999969482422, 1.1256999969482422, 1.1256999969482422, 1.1256999969482422, 1.1256999969482422, 1.1256999969482422, 1.1256999969482422, 1.1256999969482422, 1.1256999969482422, 1.1256999969482422, 1.1256999969482422, 1.1256999969482422, 1.1256999969482422, 1.1256999969482422, 1.1256999969482422, 1.1256999969482422, 1.1256999969482422, 1.1256999969482422, 1.1256999969482422, 1.1256999969482422, 1.1256999969482422, 1.1256999969482422, 1.1256999969482422, 1.1256999969482422, 1.1256999969482422, 1.1256999969482422, 1.1256999969482422, 1.1256999969482422, 1.1256999969482422, 1.1256999969482422, 1.1256999969482422, 1.1256999969482422, 1.1256999969482422, 1.1256999969482422, 1.1256999969482422, 1.1256999969482422, 1.1256999969482422, 1.1256999969482422, 1.1256999969482422, 1.1256999969482422, 1.1256999969482422, 1.1256999969482422, 1.1256999969482422, 1.1256999969482422, 1.1256999969482422, 1.1256999969482422, 1.1256999969482422, 1.1256999969482422, 1.1256999969482422, 4.783400058746338, 4.783199787139893, 4.7829999923706055, 4.782899856567383, 4.782899856567383, 4.782700061798096, 4.782400131225586, 4.781799793243408, 4.781000137329102, 4.78000020980835, 4.779799938201904, 4.769700050354004, 1.6748000383377075, 1.6748000383377075, 1.6748000383377075, 1.6748000383377075, 1.6748000383377075, 1.6748000383377075, 1.6748000383377075, 1.6748000383377075, 1.6748000383377075, 1.6748000383377075, 1.6748000383377075, 1.6748000383377075, 1.6748000383377075, 1.6748000383377075, 1.6748000383377075, 1.6748000383377075, 1.6748000383377075, 1.6748000383377075, 1.6748000383377075, 1.6748000383377075, 1.6748000383377075, 1.6748000383377075, 1.6748000383377075, 1.6748000383377075, 1.6748000383377075, 1.6748000383377075, 1.6748000383377075, 1.6748000383377075, 1.6748000383377075, 1.6748000383377075, 1.6748000383377075, 1.6748000383377075, 1.6748000383377075, 1.6748000383377075, 1.6748000383377075, 1.6748000383377075, 1.6748000383377075, 1.6748000383377075, 1.6748000383377075, 1.6748000383377075, 1.6748000383377075, 1.6748000383377075, 1.6748000383377075, 1.6748000383377075, 1.6748000383377075, 1.6748000383377075, 1.6748000383377075, 1.6748000383377075, 1.6748000383377075, 1.6748000383377075, 1.6748000383377075, 1.6748000383377075, 1.6748000383377075, 1.6748000383377075, 1.6748000383377075, 1.6748000383377075, 1.6748000383377075, 1.6748000383377075, 1.6748000383377075, 1.6748000383377075, 1.6748000383377075, 1.6748000383377075, 1.6748000383377075, 1.6748000383377075, 1.6748000383377075, 1.6748000383377075, 1.6748000383377075, 1.6748000383377075, 1.6748000383377075, 1.6748000383377075, 1.6748000383377075, 1.6748000383377075, 1.6748000383377075, 1.6748000383377075, 1.6748000383377075, 1.6748000383377075, 1.6748000383377075, 1.6748000383377075, 1.6748000383377075, 1.6748000383377075, 1.6748000383377075, 1.6748000383377075, 1.6748000383377075, 1.6748000383377075, 1.6748000383377075, 1.6748000383377075, 1.6748000383377075, 1.6748000383377075, 1.6748000383377075, 1.6748000383377075, 1.6748000383377075, 1.6748000383377075, 1.6748000383377075, 1.6748000383377075, 1.6748000383377075, 1.6748000383377075, 1.6748000383377075, 1.6748000383377075, 1.6748000383377075, 1.6748000383377075, 1.6748000383377075, 1.6748000383377075, 1.6748000383377075, 1.6748000383377075, 1.6748000383377075, 1.6748000383377075, 1.6748000383377075, 1.6748000383377075, 1.6748000383377075, 1.6748000383377075, 1.6748000383377075, 1.6748000383377075, 1.6748000383377075, 1.6748000383377075, 1.6748000383377075, 1.6748000383377075, 1.6748000383377075, 1.6748000383377075, 1.6748000383377075, 1.6748000383377075, 1.6748000383377075, 1.6748000383377075, 1.6748000383377075, 1.6748000383377075, 1.6748000383377075, 1.6748000383377075, 1.6748000383377075, 1.6748000383377075, 1.6748000383377075, 1.6748000383377075, 1.6748000383377075, 1.6748000383377075, 1.6748000383377075, 1.6748000383377075, 1.6748000383377075, 1.6748000383377075, 1.6748000383377075, 1.6748000383377075, 1.6748000383377075, 1.6748000383377075, 1.6748000383377075, 1.6748000383377075, 1.6748000383377075, 1.6748000383377075, 1.6748000383377075, 1.6748000383377075, 1.6748000383377075, 1.6748000383377075, 1.6748000383377075, 1.6748000383377075, 1.6748000383377075, 1.6748000383377075, 1.6748000383377075, 1.6748000383377075, 1.6748000383377075, 1.6748000383377075, 1.6748000383377075, 1.6748000383377075, 1.6748000383377075, 1.6748000383377075, 1.6748000383377075, 1.6748000383377075, 1.6748000383377075, 1.6748000383377075, 1.6748000383377075, 1.6748000383377075, 1.6748000383377075, 1.6748000383377075, 1.6748000383377075, 1.6748000383377075, 1.6748000383377075, 1.6748000383377075, 1.6748000383377075, 1.6748000383377075, 1.6748000383377075, 1.6748000383377075, 1.6748000383377075, 1.6748000383377075, 1.6748000383377075, 1.6748000383377075, 1.6748000383377075, 1.6748000383377075, 1.6748000383377075, 1.6748000383377075, 1.6748000383377075, 1.6748000383377075, 1.6748000383377075, 1.6748000383377075, 1.6748000383377075, 1.6748000383377075, 1.6748000383377075, 1.6748000383377075, 1.6748000383377075, 1.6748000383377075, 1.6748000383377075, 1.6748000383377075, 1.6748000383377075, 1.6748000383377075, 1.6748000383377075, 1.6748000383377075, 1.6748000383377075, 1.6748000383377075, 1.6748000383377075, 1.6748000383377075, 1.6748000383377075, 1.6748000383377075, 1.6748000383377075, 1.6748000383377075, 1.6748000383377075, 1.6748000383377075, 1.6748000383377075, 1.6748000383377075, 1.6748000383377075, 1.6748000383377075, 1.6748000383377075, 1.6748000383377075, 1.6748000383377075, 1.6748000383377075, 6.569799900054932, 6.568900108337402, 6.568399906158447, 6.5605998039245605, 6.553699970245361, 2.77810001373291, 2.77810001373291, 2.77810001373291, 2.77810001373291, 2.77810001373291, 2.77810001373291, 2.77810001373291, 2.77810001373291, 2.77810001373291, 2.77810001373291, 2.77810001373291, 2.77810001373291, 2.77810001373291, 2.77810001373291, 2.77810001373291, 2.77810001373291, 2.77810001373291, 2.77810001373291, 2.77810001373291, 2.77810001373291, 2.77810001373291, 2.77810001373291, 2.77810001373291, 2.77810001373291, 2.77810001373291, 2.77810001373291, 2.77810001373291, 2.77810001373291, 2.77810001373291, 2.77810001373291, 2.77810001373291, 2.77810001373291, 2.77810001373291, 2.77810001373291, 2.77810001373291, 2.77810001373291, 2.77810001373291, 2.77810001373291, 2.77810001373291, 2.77810001373291, 2.77810001373291, 2.77810001373291, 2.77810001373291, 2.77810001373291, 2.77810001373291, 2.77810001373291, 2.77810001373291, 2.77810001373291, 2.77810001373291, 2.77810001373291, 2.77810001373291, 2.77810001373291, 2.77810001373291, 2.77810001373291, 2.77810001373291, 2.77810001373291, 2.77810001373291, 2.77810001373291, 2.77810001373291, 2.77810001373291, 2.77810001373291, 2.77810001373291, 2.77810001373291, 2.77810001373291, 2.77810001373291, 2.77810001373291, 2.77810001373291, 2.77810001373291, 2.77810001373291, 2.77810001373291, 2.77810001373291, 2.77810001373291, 2.77810001373291, 2.77810001373291, 2.77810001373291, 2.77810001373291, 2.77810001373291, 2.77810001373291, 2.77810001373291, 2.77810001373291, 2.77810001373291, 2.77810001373291, 2.77810001373291, 2.77810001373291, 2.77810001373291, 2.77810001373291, 2.77810001373291, 2.77810001373291, 2.77810001373291, 2.77810001373291, 2.77810001373291, 2.77810001373291, 2.77810001373291, 2.77810001373291, 2.77810001373291, 2.77810001373291, 2.77810001373291, 2.77810001373291, 2.77810001373291, 2.77810001373291, 2.77810001373291, 2.77810001373291, 2.77810001373291, 2.77810001373291, 2.77810001373291, 2.77810001373291, 2.77810001373291, 2.77810001373291, 2.77810001373291, 2.77810001373291, 2.77810001373291, 2.77810001373291, 2.77810001373291, 2.77810001373291, 2.77810001373291, 2.77810001373291, 2.77810001373291, 2.77810001373291, 2.77810001373291, 2.77810001373291, 2.77810001373291, 2.77810001373291, 2.77810001373291, 2.77810001373291, 2.77810001373291, 2.77810001373291, 2.77810001373291, 2.77810001373291, 2.77810001373291, 2.77810001373291, 2.77810001373291, 2.77810001373291, 2.77810001373291, 2.77810001373291, 2.77810001373291, 2.77810001373291, 2.77810001373291, 2.77810001373291, 2.77810001373291, 2.77810001373291, 2.77810001373291, 2.77810001373291, 2.77810001373291, 2.77810001373291, 2.77810001373291, 2.77810001373291, 2.77810001373291, 2.77810001373291, 2.77810001373291, 2.77810001373291, 2.77810001373291, 2.77810001373291, 2.77810001373291, 2.77810001373291, 2.77810001373291, 2.77810001373291, 2.77810001373291, 2.77810001373291, 2.77810001373291, 2.77810001373291, 2.77810001373291, 2.77810001373291, 2.77810001373291, 2.77810001373291, 2.77810001373291, 2.77810001373291, 2.77810001373291, 2.77810001373291, 2.77810001373291, 2.77810001373291, 2.77810001373291, 2.77810001373291, 2.77810001373291, 2.77810001373291, 2.77810001373291, 2.77810001373291, 2.77810001373291, 2.77810001373291, 2.77810001373291, 2.77810001373291, 2.77810001373291, 2.77810001373291, 2.77810001373291, 2.77810001373291, 2.77810001373291, 2.77810001373291, 2.77810001373291, 2.77810001373291, 2.77810001373291, 2.77810001373291, 2.77810001373291, 2.77810001373291, 2.77810001373291, 2.77810001373291, 2.77810001373291], \"logprob\": [30.0, 29.0, 28.0, 27.0, 26.0, 25.0, 24.0, 23.0, 22.0, 21.0, 20.0, 19.0, 18.0, 17.0, 16.0, 15.0, 14.0, 13.0, 12.0, 11.0, 10.0, 9.0, 8.0, 7.0, 6.0, 5.0, 4.0, 3.0, 2.0, 1.0, -2.672300100326538, -2.8052000999450684, -3.1250998973846436, -3.1693999767303467, -3.417099952697754, -3.4375, -3.438499927520752, -3.4872000217437744, -3.487299919128418, -3.6391000747680664, -3.717400074005127, -3.7651000022888184, -3.917099952697754, -3.9988999366760254, -4.035099983215332, -4.035600185394287, -4.049499988555908, -4.07480001449585, -4.092100143432617, -4.178500175476074, -4.260200023651123, -4.291999816894531, -4.2947998046875, -4.361700057983398, -4.391600131988525, -4.392099857330322, -4.418300151824951, -4.422599792480469, -4.423799991607666, -4.42710018157959, -2.5373001098632812, -2.684999942779541, -2.783400058746338, -2.8326001167297363, -2.880199909210205, -3.119800090789795, -3.140500068664551, -3.3585000038146973, -3.382999897003174, -3.4802000522613525, -3.54259991645813, -3.6012001037597656, -3.690000057220459, -3.694000005722046, -3.7792999744415283, -3.795300006866455, -3.8222999572753906, -3.865999937057495, -3.905400037765503, -4.176400184631348, -4.183000087738037, -4.234000205993652, -4.254700183868408, -4.3007001876831055, -4.303999900817871, -4.331299781799316, -4.3927998542785645, -4.417300224304199, -4.434599876403809, -4.435500144958496, -2.1970999240875244, -2.6054999828338623, -2.796600103378296, -2.976300001144409, -3.098599910736084, -3.121500015258789, -3.1735999584198, -3.263000011444092, -3.2894999980926514, -3.3477001190185547, -3.462100028991699, -3.4751999378204346, -3.5392000675201416, -3.5708000659942627, -3.612799882888794, -3.8761000633239746, -3.946000099182129, -4.103400230407715, -4.18779993057251, -4.222300052642822, -4.250500202178955, -4.3856000900268555, -4.433899879455566, -4.4440999031066895, -4.548900127410889, -4.654799938201904, -4.657800197601318, -4.694799900054932, -4.838600158691406, -4.972599983215332, -2.5373001098632812, -2.6519999504089355, -2.678100109100342, -2.7897000312805176, -2.947999954223633, -3.052799940109253, -3.0815000534057617, -3.1256000995635986, -3.2149999141693115, -3.2651000022888184, -3.3550000190734863, -3.3938000202178955, -3.4031999111175537, -3.530100107192993, -3.6166999340057373, -3.656599998474121, -3.785599946975708, -3.797499895095825, -3.9054999351501465, -4.359399795532227, -4.427800178527832, -4.4899001121521, -4.495999813079834, -4.74970006942749, -4.8140997886657715, -4.818299770355225, -4.842700004577637, -4.855100154876709, -4.904099941253662, -4.997799873352051, -2.2516000270843506, -2.2987000942230225, -2.362299919128418, -2.5624001026153564, -2.565700054168701, -2.8980000019073486, -3.2560999393463135, -3.598299980163574, -3.6040000915527344, -3.7295000553131104, -3.869800090789795, -3.9093000888824463, -3.93969988822937, -3.9600000381469727, -4.088500022888184, -4.265999794006348, -4.283199787139893, -4.321199893951416, -4.395699977874756, -4.570700168609619, -4.581399917602539, -4.584400177001953, -4.666999816894531, -4.667399883270264, -4.749100208282471, -4.7565999031066895, -4.759900093078613, -4.7845001220703125, -4.789299964904785, -4.7932000160217285, -1.555799961090088, -1.7971999645233154, -2.0952999591827393, -2.650399923324585, -2.6563000679016113, -2.7862000465393066, -2.9644999504089355, -3.205699920654297, -3.50219988822937, -3.645699977874756, -4.0208001136779785, -4.100599765777588, -4.143400192260742, -4.301300048828125, -4.463500022888184, -4.527400016784668, -4.653900146484375, -4.710400104522705, -4.85290002822876, -5.192399978637695, -5.8958001136779785, -5.975200176239014, -5.985799789428711, -7.342599868774414, -7.747600078582764, -14.791999816894531, -14.791999816894531, -14.791999816894531, -14.791999816894531, -14.791999816894531, -14.791999816894531, -14.791999816894531, -14.791999816894531, -14.791999816894531, -14.791999816894531, -14.791999816894531, -14.791999816894531, -14.791999816894531, -14.791999816894531, -14.791999816894531, -2.3299999237060547, -2.382699966430664, -2.7671000957489014, -2.981800079345703, -2.988100051879883, -3.109499931335449, -3.3719000816345215, -3.4760000705718994, -3.613800048828125, -3.6565001010894775, -3.663599967956543, -3.7528998851776123, -3.7588000297546387, -3.7599000930786133, -3.802999973297119, -3.910599946975708, -3.940500020980835, -4.056000232696533, -4.073299884796143, -4.085400104522705, -4.114999771118164, -4.118000030517578, -4.127699851989746, -4.242800235748291, -4.26639986038208, -4.275300025939941, -4.3470001220703125, -4.360400199890137, -4.404099941253662, -4.45959997177124, -1.5666999816894531, -1.972100019454956, -2.249300003051758, -2.536600112915039, -3.0143001079559326, -3.0155999660491943, -3.1389000415802, -3.140000104904175, -3.2284998893737793, -3.459700107574463, -3.5553998947143555, -3.6775999069213867, -3.7869999408721924, -3.9567999839782715, -4.1528000831604, -4.4899001121521, -4.506199836730957, -4.803800106048584, -4.919400215148926, -5.146699905395508, -5.156599998474121, -5.5100998878479, -5.656599998474121, -5.83050012588501, -5.904300212860107, -5.968400001525879, -6.084099769592285, -6.166200160980225, -6.332699775695801, -6.349299907684326, -1.6455999612808228, -2.1452999114990234, -2.7376999855041504, -2.795599937438965, -2.8131000995635986, -2.9151999950408936, -2.950000047683716, -3.0332000255584717, -3.3285000324249268, -3.331199884414673, -3.40339994430542, -3.648099899291992, -3.672300100326538, -3.99429988861084, -4.060200214385986, -4.16510009765625, -4.17549991607666, -4.183199882507324, -4.2220001220703125, -4.23199987411499, -4.443900108337402, -4.756100177764893, -4.847300052642822, -5.033299922943115, -5.276299953460693, -5.303800106048584, -5.746500015258789, -6.159900188446045, -6.4191999435424805, -6.985899925231934, -2.539599895477295, -2.619499921798706, -2.7713000774383545, -2.8150999546051025, -2.8958001136779785, -2.946500062942505, -2.972899913787842, -3.007999897003174, -3.116499900817871, -3.192699909210205, -3.233099937438965, -3.4075000286102295, -3.5448999404907227, -3.592900037765503, -3.5943000316619873, -3.6386001110076904, -3.6842000484466553, -4.0335001945495605, -4.2540998458862305, -4.276299953460693, -4.522299766540527, -4.652400016784668, -4.667099952697754, -4.68779993057251, -4.707900047302246, -4.772900104522705, -4.827099800109863, -4.854800224304199, -4.869500160217285, -4.9197998046875, -1.9914000034332275, -2.5629000663757324, -2.740999937057495, -2.995800018310547, -3.047300100326538, -3.0822999477386475, -3.15120005607605, -3.2853000164031982, -3.414599895477295, -3.450500011444092, -3.503700017929077, -3.68149995803833, -3.6856000423431396, -3.686800003051758, -3.734600067138672, -3.779099941253662, -3.8261001110076904, -3.826900005340576, -3.8717000484466553, -3.9289000034332275, -4.008800029754639, -4.009900093078613, -4.016900062561035, -4.154300212860107, -4.191699981689453, -4.196700096130371, -4.343800067901611, -4.384699821472168, -4.496099948883057, -4.81850004196167, -2.0246999263763428, -2.341399908065796, -2.5411999225616455, -2.545300006866455, -2.5596001148223877, -2.848400115966797, -2.9749999046325684, -3.186300039291382, -3.260999917984009, -3.384200096130371, -3.3966000080108643, -3.5573999881744385, -3.934000015258789, -3.9909000396728516, -4.0609002113342285, -4.073999881744385, -4.125800132751465, -4.174900054931641, -4.320199966430664, -4.369699954986572, -4.526500225067139, -4.599999904632568, -4.6645002365112305, -4.834000110626221, -4.849699974060059, -4.958799839019775, -5.0065999031066895, -5.15939998626709, -5.4959001541137695, -5.534800052642822, -2.194000005722046, -2.5297000408172607, -2.922100067138672, -3.0864999294281006, -3.1222000122070312, -3.2897000312805176, -3.2929999828338623, -3.301800012588501, -3.351099967956543, -3.485300064086914, -3.5048000812530518, -3.5566000938415527, -3.557800054550171, -3.7181999683380127, -3.7188000679016113, -3.749000072479248, -3.785399913787842, -3.8889999389648438, -3.893899917602539, -3.9502999782562256, -3.9595000743865967, -4.001999855041504, -4.014400005340576, -4.097799777984619, -4.182300090789795, -4.311200141906738, -4.38539981842041, -4.488699913024902, -4.680799961090088, -4.7581000328063965, -1.242900013923645, -1.4069000482559204, -1.5957000255584717, -2.281899929046631, -3.488300085067749, -3.737299919128418, -4.124000072479248, -4.2600998878479, -4.425000190734863, -4.646399974822998, -4.898600101470947, -4.901199817657471, -5.087699890136719, -8.715100288391113, -14.364299774169922, -14.364299774169922, -14.364299774169922, -14.364299774169922, -14.364299774169922, -14.364399909973145, -14.364299774169922, -14.364399909973145, -14.364399909973145, -14.364399909973145, -14.364399909973145, -14.364399909973145, -14.364399909973145, -14.364399909973145, -14.364399909973145, -14.364399909973145, -14.364399909973145, -14.364299774169922, -14.364399909973145, -14.364399909973145, -14.364399909973145, -14.364399909973145, -14.364299774169922, -14.364399909973145, -14.364399909973145, -14.364299774169922, -14.364399909973145, -14.364299774169922, -14.364399909973145, -14.364399909973145, -14.364399909973145, -14.364399909973145, -14.364399909973145, -14.364399909973145, -14.364399909973145, -14.364399909973145, -14.364399909973145, -14.364399909973145, -14.364399909973145, -14.364399909973145, -14.364399909973145, -14.364399909973145, -14.364399909973145, -14.364399909973145, -14.364399909973145, -14.364399909973145, -1.1162999868392944, -2.400700092315674, -2.4066998958587646, -2.5606000423431396, -2.9837000370025635, -3.02239990234375, -3.1129000186920166, -3.36929988861084, -3.5151000022888184, -3.706199884414673, -4.116300106048584, -4.1539998054504395, -4.238900184631348, -4.244200229644775, -4.315000057220459, -4.31820011138916, -4.318600177764893, -4.7399001121521, -4.84499979019165, -5.114099979400635, -5.1793999671936035, -5.275000095367432, -5.518899917602539, -5.702099800109863, -6.002200126647949, -6.6691999435424805, -7.188300132751465, -7.600399971008301, -12.02649974822998, -14.328200340270996, -14.328200340270996, -14.328200340270996, -14.328200340270996, -14.328200340270996, -14.328200340270996, -2.338099956512451, -2.56850004196167, -2.6047000885009766, -2.713099956512451, -2.889699935913086, -3.147700071334839, -3.3210999965667725, -3.3522000312805176, -3.3594000339508057, -3.4595000743865967, -3.4855000972747803, -3.4955999851226807, -3.5195000171661377, -3.5541999340057373, -3.5715999603271484, -3.740999937057495, -3.7997000217437744, -3.895699977874756, -3.922300100326538, -4.09689998626709, -4.1407999992370605, -4.161499977111816, -4.20359992980957, -4.41540002822876, -4.424200057983398, -4.527599811553955, -4.600500106811523, -4.740900039672852, -4.978499889373779, -5.099299907684326, -2.315700054168701, -2.4923999309539795, -2.5013999938964844, -2.5178000926971436, -2.821500062942505, -2.8538999557495117, -2.9965999126434326, -3.0353000164031982, -3.1789000034332275, -3.331899881362915, -3.3341000080108643, -3.458199977874756, -3.4695000648498535, -3.6626999378204346, -3.843600034713745, -3.881700038909912, -4.076499938964844, -4.405099868774414, -4.457099914550781, -4.481200218200684, -4.494999885559082, -4.614699840545654, -4.694399833679199, -4.740799903869629, -4.778200149536133, -4.911399841308594, -5.0081000328063965, -5.0696001052856445, -5.189000129699707, -5.191800117492676, -0.7013000249862671, -2.3089001178741455, -2.828000068664551, -2.926500082015991, -2.960099935531616, -3.183500051498413, -3.232800006866455, -3.5292000770568848, -3.5357000827789307, -3.994800090789795, -4.378799915313721, -4.502600193023682, -4.76039981842041, -5.487100124359131, -14.06760025024414, -14.06760025024414, -14.06760025024414, -14.06760025024414, -14.06760025024414, -14.06760025024414, -14.06760025024414, -14.06760025024414, -14.06760025024414, -14.06760025024414, -14.06760025024414, -14.06760025024414, -14.06760025024414, -14.06760025024414, -14.06760025024414, -14.06760025024414, -14.06760025024414, -14.06760025024414, -14.06760025024414, -14.06760025024414, -14.06760025024414, -14.06760025024414, -14.06760025024414, -14.06760025024414, -14.06760025024414, -14.06760025024414, -14.06760025024414, -14.06760025024414, -14.06760025024414, -14.06760025024414, -14.06760025024414, -14.06760025024414, -14.06760025024414, -14.06760025024414, -14.06760025024414, -14.06760025024414, -14.06760025024414, -14.06760025024414, -14.06760025024414, -14.06760025024414, -14.06760025024414, -14.06760025024414, -14.06760025024414, -14.06760025024414, -14.06760025024414, -14.06760025024414, -14.06760025024414, -14.06760025024414, -14.06760025024414, -14.06760025024414, -14.06760025024414, -14.06760025024414, -14.06760025024414, -14.06760025024414, -14.06760025024414, -14.06760025024414, -14.06760025024414, -14.06760025024414, -14.06760025024414, -14.06760025024414, -14.06760025024414, -14.06760025024414, -14.06760025024414, -14.06760025024414, -14.06760025024414, -14.06760025024414, -14.06760025024414, -14.06760025024414, -14.06760025024414, -14.06760025024414, -14.06760025024414, -14.06760025024414, -14.06760025024414, -14.06760025024414, -14.06760025024414, -14.06760025024414, -14.06760025024414, -14.06760025024414, -14.06760025024414, -14.06760025024414, -14.06760025024414, -14.06760025024414, -14.06760025024414, -14.06760025024414, -14.06760025024414, -14.06760025024414, -14.06760025024414, -14.06760025024414, -14.06760025024414, -14.06760025024414, -14.06760025024414, -14.06760025024414, -14.06760025024414, -14.06760025024414, -14.06760025024414, -14.06760025024414, -14.06760025024414, -14.06760025024414, -14.06760025024414, -14.06760025024414, -14.06760025024414, -14.06760025024414, -14.06760025024414, -14.06760025024414, -14.06760025024414, -1.3935999870300293, -1.5916999578475952, -2.081199884414673, -2.314500093460083, -2.349100112915039, -3.0636000633239746, -3.495500087738037, -3.609100103378296, -4.144599914550781, -4.5578999519348145, -4.853799819946289, -4.903500080108643, -5.003799915313721, -5.24399995803833, -5.466300010681152, -5.516900062561035, -5.5756001472473145, -5.640699863433838, -6.368100166320801, -6.549300193786621, -7.757599830627441, -13.939399719238281, -13.939399719238281, -13.939399719238281, -13.939399719238281, -13.939399719238281, -13.939399719238281, -13.939399719238281, -13.939399719238281, -13.939399719238281, -13.939399719238281, -13.939399719238281, -13.939399719238281, -13.939399719238281, -13.939399719238281, -13.939399719238281, -13.939399719238281, -13.939399719238281, -13.939399719238281, -13.939399719238281, -13.939399719238281, -13.939399719238281, -13.939399719238281, -13.939399719238281, -13.939399719238281, -13.939399719238281, -13.939399719238281, -13.939399719238281, -13.939399719238281, -13.939399719238281, -13.939399719238281, -13.939399719238281, -13.939399719238281, -13.939399719238281, -1.0829999446868896, -2.0416998863220215, -2.7904999256134033, -2.8847999572753906, -2.9231998920440674, -3.0618999004364014, -3.2841999530792236, -3.2946999073028564, -3.3322999477386475, -3.346299886703491, -3.5471999645233154, -3.7850000858306885, -4.399600028991699, -4.607399940490723, -5.0019001960754395, -5.0640997886657715, -5.121200084686279, -5.473599910736084, -5.626800060272217, -5.653600215911865, -6.028800010681152, -6.369900226593018, -6.569499969482422, -6.69189977645874, -13.84630012512207, -13.84630012512207, -13.84630012512207, -13.84630012512207, -13.84630012512207, -13.84630012512207, -13.84630012512207, -13.84630012512207, -13.84630012512207, -13.84630012512207, -13.84630012512207, -13.84630012512207, -13.84630012512207, -13.84630012512207, -13.84630012512207, -13.84630012512207, -13.84630012512207, -13.84630012512207, -13.84630012512207, -13.84630012512207, -13.84630012512207, -13.84630012512207, -13.84630012512207, -13.84630012512207, -13.84630012512207, -13.84630012512207, -1.506600022315979, -1.5365999937057495, -1.6109999418258667, -2.6900999546051025, -2.7671000957489014, -2.773900032043457, -2.934499979019165, -3.569000005722046, -4.14709997177124, -13.603699684143066, -13.603699684143066, -13.603699684143066, -13.603699684143066, -13.603699684143066, -13.603699684143066, -13.603699684143066, -13.603699684143066, -13.603699684143066, -13.603699684143066, -13.603699684143066, -13.603699684143066, -13.603699684143066, -13.603699684143066, -13.603699684143066, -13.603699684143066, -13.603699684143066, -13.603699684143066, -13.603699684143066, -13.603699684143066, -13.603699684143066, -13.603699684143066, -13.603699684143066, -13.603699684143066, -13.603699684143066, -13.603699684143066, -13.603699684143066, -13.603699684143066, -13.603699684143066, -13.603699684143066, -13.603699684143066, -13.603699684143066, -13.603699684143066, -13.603699684143066, -13.603699684143066, -13.603699684143066, -13.603699684143066, -13.603699684143066, -13.603699684143066, -13.603699684143066, -13.603699684143066, -13.603699684143066, -13.603699684143066, -13.603699684143066, -13.603699684143066, -13.603699684143066, -13.603699684143066, -13.603699684143066, -13.603699684143066, -13.603699684143066, -13.603699684143066, -13.603699684143066, -13.603699684143066, -13.603699684143066, -13.603699684143066, -13.603699684143066, -13.603699684143066, -13.603699684143066, -13.603699684143066, -13.603699684143066, -13.603699684143066, -13.603699684143066, -13.603699684143066, -13.603699684143066, -13.603699684143066, -13.603699684143066, -13.603699684143066, -13.603699684143066, -13.603699684143066, -13.603699684143066, -13.603699684143066, -13.603699684143066, -13.603699684143066, -13.603699684143066, -13.603699684143066, -13.603699684143066, -13.603699684143066, -13.603699684143066, -13.603699684143066, -13.603699684143066, -13.603699684143066, -13.603699684143066, -13.603699684143066, -13.603699684143066, -13.603699684143066, -13.603699684143066, -13.603699684143066, -13.603699684143066, -13.603699684143066, -13.603699684143066, -13.603699684143066, -13.603699684143066, -13.603699684143066, -13.603699684143066, -0.47049999237060547, -2.0627999305725098, -2.5443999767303467, -3.100800037384033, -3.218600034713745, -4.245800018310547, -5.154799938201904, -13.729900360107422, -13.729900360107422, -13.729900360107422, -13.729900360107422, -13.729900360107422, -13.729900360107422, -13.729900360107422, -13.729900360107422, -13.729900360107422, -13.729900360107422, -13.729900360107422, -13.729900360107422, -13.729900360107422, -13.729900360107422, -13.729900360107422, -13.729900360107422, -13.729900360107422, -13.729900360107422, -13.729900360107422, -13.729900360107422, -13.729900360107422, -13.729900360107422, -13.729900360107422, -13.729900360107422, -13.729900360107422, -13.729900360107422, -13.729900360107422, -13.729900360107422, -13.729900360107422, -13.729900360107422, -13.729900360107422, -13.729900360107422, -13.729900360107422, -13.729900360107422, -13.729900360107422, -13.729900360107422, -13.729900360107422, -13.729900360107422, -13.729900360107422, -13.729900360107422, -13.729900360107422, -13.729900360107422, -13.729900360107422, -13.729900360107422, -13.729900360107422, -13.729900360107422, -13.729900360107422, -13.729900360107422, -13.729900360107422, -13.729900360107422, -13.729900360107422, -13.729900360107422, -13.729900360107422, -13.729900360107422, -13.729900360107422, -13.729900360107422, -13.729900360107422, -13.729900360107422, -13.729900360107422, -13.729900360107422, -13.729900360107422, -13.729900360107422, -13.729900360107422, -13.729900360107422, -0.758400022983551, -2.790800094604492, -2.9077999591827393, -3.036400079727173, -3.1050000190734863, -3.243799924850464, -3.393399953842163, -3.5225000381469727, -3.5248000621795654, -3.5255000591278076, -3.8025999069213867, -3.8694000244140625, -4.273600101470947, -4.761300086975098, -5.064199924468994, -6.422999858856201, -6.466599941253662, -13.436400413513184, -13.436400413513184, -13.436400413513184, -13.436400413513184, -13.436400413513184, -13.436400413513184, -13.436400413513184, -13.436400413513184, -13.436400413513184, -13.436400413513184, -13.436400413513184, -13.436400413513184, -13.436400413513184, -13.436400413513184, -13.436400413513184, -13.436400413513184, -13.436400413513184, -13.436400413513184, -13.436400413513184, -13.436400413513184, -13.436400413513184, -13.436400413513184, -13.436400413513184, -13.436400413513184, -13.436400413513184, -13.436400413513184, -13.436400413513184, -13.436400413513184, -13.436400413513184, -13.436400413513184, -13.436400413513184, -13.436400413513184, -13.436400413513184, -13.436400413513184, -13.436400413513184, -13.436400413513184, -13.436400413513184, -13.436400413513184, -13.436400413513184, -13.436400413513184, -13.436400413513184, -13.436400413513184, -13.436400413513184, -13.436400413513184, -13.436400413513184, -13.436400413513184, -13.436400413513184, -13.436400413513184, -13.436400413513184, -13.436400413513184, -13.436400413513184, -13.436400413513184, -13.436400413513184, -13.436400413513184, -13.436400413513184, -13.436400413513184, -13.436400413513184, -13.436400413513184, -13.436400413513184, -13.436400413513184, -13.436400413513184, -13.436400413513184, -13.436400413513184, -13.436400413513184, -13.436400413513184, -13.436400413513184, -13.436400413513184, -13.436400413513184, -13.436400413513184, -13.436400413513184, -13.436400413513184, -13.436400413513184, -13.436400413513184, -13.436400413513184, -13.436400413513184, -13.436400413513184, -13.436400413513184, -13.436400413513184, -13.436400413513184, -13.436400413513184, -13.436400413513184, -13.436400413513184, -13.436400413513184, -13.436400413513184, -13.436400413513184, -13.436400413513184, -13.436400413513184, -13.436400413513184, -13.436400413513184, -13.436400413513184, -13.436400413513184, -13.436400413513184, -13.436400413513184, -13.436400413513184, -13.436400413513184, -13.436400413513184, -13.436400413513184, -13.436400413513184, -13.436400413513184, -13.436400413513184, -13.436400413513184, -13.436400413513184, -13.436400413513184, -13.436400413513184, -13.436400413513184, -13.436400413513184, -13.436400413513184, -13.436400413513184, -13.436400413513184, -13.436400413513184, -13.436400413513184, -13.436400413513184, -13.436400413513184, -13.436400413513184, -13.436400413513184, -13.436400413513184, -13.436400413513184, -13.436400413513184, -13.436400413513184, -13.436400413513184, -13.436400413513184, -13.436400413513184, -13.436400413513184, -13.436400413513184, -13.436400413513184, -1.2101999521255493, -2.091399908065796, -2.4407999515533447, -2.551300048828125, -2.5815999507904053, -2.827199935913086, -3.0999999046325684, -3.5025999546051025, -3.877500057220459, -4.215400218963623, -4.269499778747559, -5.5569000244140625, -12.887299537658691, -12.887299537658691, -12.887299537658691, -12.887299537658691, -12.887299537658691, -12.887299537658691, -12.887299537658691, -12.887299537658691, -12.887299537658691, -12.887299537658691, -12.887299537658691, -12.887299537658691, -12.887299537658691, -12.887299537658691, -12.887299537658691, -12.887299537658691, -12.887299537658691, -12.887299537658691, -12.887299537658691, -12.887299537658691, -12.887299537658691, -12.887299537658691, -12.887299537658691, -12.887299537658691, -12.887299537658691, -12.887299537658691, -12.887299537658691, -12.887299537658691, -12.887299537658691, -12.887299537658691, -12.887299537658691, -12.887299537658691, -12.887299537658691, -12.887299537658691, -12.887299537658691, -12.887299537658691, -12.887299537658691, -12.887299537658691, -12.887299537658691, -12.887299537658691, -12.887299537658691, -12.887299537658691, -12.887299537658691, -12.887299537658691, -12.887299537658691, -12.887299537658691, -12.887299537658691, -12.887299537658691, -12.887299537658691, -12.887299537658691, -12.887299537658691, -12.887299537658691, -12.887299537658691, -12.887299537658691, -12.887299537658691, -12.887299537658691, -12.887299537658691, -12.887299537658691, -12.887299537658691, -12.887299537658691, -12.887299537658691, -12.887299537658691, -12.887299537658691, -12.887299537658691, -12.887299537658691, -12.887299537658691, -12.887299537658691, -12.887299537658691, -12.887299537658691, -12.887299537658691, -12.887299537658691, -12.887299537658691, -12.887299537658691, -12.887299537658691, -12.887299537658691, -12.887299537658691, -12.887299537658691, -12.887299537658691, -12.887299537658691, -12.887299537658691, -12.887299537658691, -12.887299537658691, -12.887299537658691, -12.887299537658691, -12.887299537658691, -12.887299537658691, -12.887299537658691, -12.887299537658691, -12.887299537658691, -12.887299537658691, -12.887299537658691, -12.887299537658691, -12.887299537658691, -12.887299537658691, -12.887299537658691, -12.887299537658691, -12.887299537658691, -12.887299537658691, -12.887299537658691, -12.887299537658691, -12.887299537658691, -12.887299537658691, -12.887299537658691, -12.887299537658691, -12.887299537658691, -12.887299537658691, -12.887299537658691, -12.887299537658691, -12.887299537658691, -12.887299537658691, -12.887299537658691, -12.887299537658691, -12.887299537658691, -12.887299537658691, -12.887299537658691, -12.887299537658691, -12.887299537658691, -12.887299537658691, -12.887299537658691, -12.887299537658691, -12.887299537658691, -12.887299537658691, -12.887299537658691, -12.887299537658691, -12.887299537658691, -12.887299537658691, -12.887299537658691, -12.887299537658691, -12.887299537658691, -12.887299537658691, -12.887299537658691, -12.887299537658691, -12.887299537658691, -12.887299537658691, -12.887299537658691, -12.887299537658691, -12.887299537658691, -12.887299537658691, -12.887299537658691, -12.887299537658691, -12.887299537658691, -12.887299537658691, -12.887299537658691, -12.887299537658691, -12.887299537658691, -12.887299537658691, -12.887299537658691, -12.887299537658691, -12.887299537658691, -12.887299537658691, -12.887299537658691, -12.887299537658691, -12.887299537658691, -12.887299537658691, -12.887299537658691, -12.887299537658691, -12.887299537658691, -12.887299537658691, -12.887299537658691, -12.887299537658691, -12.887299537658691, -12.887299537658691, -12.887299537658691, -12.887299537658691, -12.887299537658691, -12.887299537658691, -12.887299537658691, -12.887299537658691, -12.887299537658691, -12.887299537658691, -12.887299537658691, -12.887299537658691, -12.887299537658691, -12.887299537658691, -12.887299537658691, -12.887299537658691, -12.887299537658691, -12.887299537658691, -12.887299537658691, -12.887299537658691, -12.887299537658691, -12.887299537658691, -12.887299537658691, -12.887299537658691, -12.887299537658691, -12.887299537658691, -12.887299537658691, -12.887299537658691, -12.887299537658691, -12.887299537658691, -12.887299537658691, -12.887299537658691, -12.887299537658691, -12.887299537658691, -12.887299537658691, -12.887299537658691, -12.887299537658691, -12.887299537658691, -12.887299537658691, -12.887299537658691, -12.887299537658691, -12.887299537658691, -12.887299537658691, -12.887299537658691, -12.887299537658691, -12.887299537658691, -12.887299537658691, -12.887299537658691, -12.887299537658691, -12.887299537658691, -12.887299537658691, -12.887299537658691, -12.887299537658691, -12.887299537658691, -12.887299537658691, -12.887299537658691, -12.887299537658691, -12.887299537658691, -1.4358999729156494, -1.9377000331878662, -2.1512999534606934, -3.476300001144409, -3.977299928665161, -11.784000396728516, -11.784000396728516, -11.784000396728516, -11.784000396728516, -11.784000396728516, -11.784000396728516, -11.784000396728516, -11.784000396728516, -11.784000396728516, -11.784000396728516, -11.784000396728516, -11.784000396728516, -11.784000396728516, -11.784000396728516, -11.784000396728516, -11.784000396728516, -11.784000396728516, -11.784000396728516, -11.784000396728516, -11.784000396728516, -11.784000396728516, -11.784000396728516, -11.784000396728516, -11.784000396728516, -11.784000396728516, -11.784000396728516, -11.784000396728516, -11.784000396728516, -11.784000396728516, -11.784000396728516, -11.784000396728516, -11.784000396728516, -11.784000396728516, -11.784000396728516, -11.784000396728516, -11.784000396728516, -11.784000396728516, -11.784000396728516, -11.784000396728516, -11.784000396728516, -11.784000396728516, -11.784000396728516, -11.784000396728516, -11.784000396728516, -11.784000396728516, -11.784000396728516, -11.784000396728516, -11.784000396728516, -11.784000396728516, -11.784000396728516, -11.784000396728516, -11.784000396728516, -11.784000396728516, -11.784000396728516, -11.784000396728516, -11.784000396728516, -11.784000396728516, -11.784000396728516, -11.784000396728516, -11.784000396728516, -11.784000396728516, -11.784000396728516, -11.784000396728516, -11.784000396728516, -11.784000396728516, -11.784000396728516, -11.784000396728516, -11.784000396728516, -11.784000396728516, -11.784000396728516, -11.784000396728516, -11.784000396728516, -11.784000396728516, -11.784000396728516, -11.784000396728516, -11.784000396728516, -11.784000396728516, -11.784000396728516, -11.784000396728516, -11.784000396728516, -11.784000396728516, -11.784000396728516, -11.784000396728516, -11.784000396728516, -11.784000396728516, -11.784000396728516, -11.784000396728516, -11.784000396728516, -11.784000396728516, -11.784000396728516, -11.784000396728516, -11.784000396728516, -11.784000396728516, -11.784000396728516, -11.784000396728516, -11.784000396728516, -11.784000396728516, -11.784000396728516, -11.784000396728516, -11.784000396728516, -11.784000396728516, -11.784000396728516, -11.784000396728516, -11.784000396728516, -11.784000396728516, -11.784000396728516, -11.784000396728516, -11.784000396728516, -11.784000396728516, -11.784000396728516, -11.784000396728516, -11.784000396728516, -11.784000396728516, -11.784000396728516, -11.784000396728516, -11.784000396728516, -11.784000396728516, -11.784000396728516, -11.784000396728516, -11.784000396728516, -11.784000396728516, -11.784000396728516, -11.784000396728516, -11.784000396728516, -11.784000396728516, -11.784000396728516, -11.784000396728516, -11.784000396728516, -11.784000396728516, -11.784000396728516, -11.784000396728516, -11.784000396728516, -11.784000396728516, -11.784000396728516, -11.784000396728516, -11.784000396728516, -11.784000396728516, -11.784000396728516, -11.784000396728516, -11.784000396728516, -11.784000396728516, -11.784000396728516, -11.784000396728516, -11.784000396728516, -11.784000396728516, -11.784000396728516, -11.784000396728516, -11.784000396728516, -11.784000396728516, -11.784000396728516, -11.784000396728516, -11.784000396728516, -11.784000396728516, -11.784000396728516, -11.784000396728516, -11.784000396728516, -11.784000396728516, -11.784000396728516, -11.784000396728516, -11.784000396728516, -11.784000396728516, -11.784000396728516, -11.784000396728516, -11.784000396728516, -11.784000396728516, -11.784000396728516, -11.784000396728516, -11.784000396728516, -11.784000396728516, -11.784000396728516, -11.784000396728516, -11.784000396728516, -11.784000396728516, -11.784000396728516, -11.784000396728516, -11.784000396728516, -11.784000396728516, -11.784000396728516, -11.784000396728516, -11.784000396728516, -11.784000396728516, -11.784000396728516, -11.784000396728516, -11.784000396728516, -11.784000396728516, -11.784000396728516, -11.784000396728516, -11.784000396728516, -11.784000396728516, -11.784000396728516, -11.784000396728516, -11.784000396728516, -11.784000396728516, -11.784000396728516, -11.784000396728516]}, \"token.table\": {\"Topic\": [1, 12, 6, 17, 15, 9, 17, 8, 1, 9, 6, 5, 7, 1, 3, 15, 21, 5, 19, 19, 15, 2, 11, 6, 12, 2, 17, 12, 15, 18, 16, 2, 7, 5, 4, 4, 1, 8, 16, 16, 19, 16, 24, 16, 16, 21, 11, 3, 20, 24, 4, 13, 7, 20, 8, 14, 25, 8, 14, 13, 1, 15, 13, 23, 11, 21, 15, 7, 12, 14, 8, 7, 5, 4, 12, 18, 10, 13, 8, 10, 3, 23, 4, 16, 3, 13, 13, 15, 16, 11, 8, 9, 7, 18, 5, 20, 11, 17, 17, 8, 19, 20, 1, 17, 2, 11, 17, 23, 18, 7, 17, 6, 1, 3, 5, 17, 10, 6, 13, 3, 1, 1, 15, 6, 6, 5, 17, 11, 5, 11, 9, 2, 1, 18, 22, 3, 17, 5, 13, 19, 5, 6, 16, 23, 19, 2, 1, 18, 4, 6, 16, 20, 13, 10, 16, 10, 7, 6, 2, 2, 23, 21, 13, 17, 20, 15, 21, 7, 11, 4, 9, 23, 15, 16, 1, 9, 2, 15, 18, 1, 13, 5, 5, 17, 22, 22, 14, 20, 7, 12, 20, 19, 1, 24, 11, 11, 10, 8, 18, 13, 6, 11, 2, 1, 20, 6, 11, 13, 25, 11, 24, 8, 22, 24, 14, 7, 9, 23, 1, 17, 1, 25, 4, 10, 10, 1, 12, 4, 4, 17, 23, 5, 4, 5, 3, 4, 9, 5, 17, 13, 20, 4, 17, 1, 4, 10, 14, 8, 17, 7, 13, 3, 6, 20, 10, 15, 15, 8, 20, 17, 16, 16, 9, 6, 14, 1, 6, 10, 17, 16, 14, 15, 5, 23, 4, 18, 19, 11, 4, 9, 17, 13, 21, 16, 16, 5, 10, 8, 16, 13, 3, 12, 21, 16, 1, 7, 15, 11, 3, 4, 19, 2, 9, 4, 15, 12, 12, 18, 15, 11, 3, 24, 16, 16, 4, 14, 3, 10, 1, 8, 2, 10, 19, 6, 10, 4, 14, 9, 16, 10, 11, 7, 9, 19, 15, 11, 2, 16, 9, 17, 1, 19, 15, 19, 8, 4, 2, 2, 3, 20, 7, 3, 13, 3, 6, 25, 15, 12, 16, 24, 12, 2, 18, 17, 16, 13, 20, 3, 4, 16, 9, 16, 4, 8, 23, 22, 7, 7, 22, 18, 13, 11, 10, 17, 9, 20, 20, 8, 9, 15, 5, 11, 4, 3, 9, 12, 9, 1, 11, 24, 7, 9, 8, 4, 6, 4, 3, 1, 12, 23, 9, 11, 25, 5, 15, 6, 2, 19, 6, 14, 12, 10, 2, 10, 7, 24, 18, 5, 2, 1, 13, 13, 10, 9, 14, 13, 20, 8, 14, 9, 19, 17, 3, 12, 9, 7, 19, 4, 12, 5, 12, 12, 10, 10, 12, 19, 11, 8, 8, 15, 3, 9, 10, 20, 2, 12, 19, 7, 8, 3, 1, 10, 23, 12, 9, 3, 7, 12, 5, 20, 20, 5, 15, 11, 12, 13, 6, 12, 1, 15, 20, 6, 7, 24, 7, 24, 9, 20, 2, 5, 2, 7, 2, 19, 10, 8, 15, 20, 5, 17, 10, 17, 15, 7, 3, 2, 13, 3, 23, 21, 4, 21, 3, 13, 4, 7, 2, 13, 2, 18, 12, 5, 10, 11, 3, 14, 16, 7, 23, 22, 16, 23, 8, 8, 5, 2, 1, 12, 3, 6, 3, 10, 17, 13, 23, 9, 6, 13, 12, 1, 19, 10, 23, 9, 12, 8, 5, 11, 20, 11, 11, 11, 8, 15, 2, 7, 6, 7, 4, 17, 9, 2, 8, 3, 19, 2, 8, 8, 12, 17, 10, 5, 24, 13, 16, 5], \"Freq\": [0.9998258948326111, 0.9998438954353333, 0.9988268613815308, 0.9993992447853088, 0.9959105253219604, 0.9996575713157654, 0.9988178610801697, 0.9995731115341187, 0.9997219443321228, 0.999921977519989, 0.9994892477989197, 0.9995431303977966, 0.9996880292892456, 0.9997403025627136, 0.9997733235359192, 0.994749128818512, 0.9999128580093384, 0.9994111061096191, 0.9998807907104492, 0.9999499917030334, 0.9996423125267029, 0.9995537996292114, 0.9988246560096741, 0.9998456239700317, 0.998813807964325, 0.9997895359992981, 0.9982113838195801, 0.998772382736206, 0.9991295337677002, 0.9993730783462524, 0.9993348121643066, 0.9995593428611755, 0.9994666576385498, 0.998611330986023, 0.9996355772018433, 0.9994395971298218, 0.9997309446334839, 0.9992755055427551, 0.9992959499359131, 0.9992416501045227, 0.9945091009140015, 0.9987496137619019, 0.9996906518936157, 0.9991124868392944, 0.9998133182525635, 0.9982004761695862, 0.9998143911361694, 0.9992170929908752, 0.9994216561317444, 0.9968487620353699, 0.999717652797699, 0.9996693730354309, 0.9998971819877625, 0.9968213438987732, 0.9957257509231567, 0.999923050403595, 0.9970728158950806, 0.9958082437515259, 0.9971760511398315, 0.998370349407196, 0.9998791813850403, 0.9987543225288391, 0.9996378421783447, 0.9992619156837463, 0.9995667934417725, 0.9998111724853516, 0.9663003087043762, 0.9996035695075989, 0.9987965822219849, 0.9999589323997498, 0.995120108127594, 0.9995677471160889, 0.998534619808197, 0.9997367858886719, 0.9996313452720642, 0.9995465874671936, 0.9987027645111084, 0.9996031522750854, 0.9996708035469055, 0.999662458896637, 0.9998502135276794, 0.999060332775116, 0.9998118281364441, 0.9998162388801575, 0.9995712041854858, 0.9994039535522461, 0.999655544757843, 0.9997801184654236, 0.9997905492782593, 0.9995638728141785, 0.9974428415298462, 0.9998300075531006, 0.9993332028388977, 0.9996965527534485, 0.9996405839920044, 0.9834960103034973, 0.9993712902069092, 0.999602735042572, 0.9997667670249939, 0.999718964099884, 0.9968715310096741, 0.999070942401886, 0.9998167157173157, 0.9998568296432495, 0.9994611740112305, 0.9995325803756714, 0.9980031251907349, 0.9810168147087097, 0.9997793436050415, 0.9997454881668091, 0.9998947381973267, 0.9997698068618774, 0.9999556541442871, 0.9990816116333008, 0.999394953250885, 0.9982620477676392, 0.997816264629364, 0.9999488592147827, 0.9986611008644104, 0.9998553395271301, 0.9997850656509399, 0.9998529553413391, 0.9987611174583435, 0.998663604259491, 0.9845092296600342, 0.9988980293273926, 0.9998586773872375, 0.9994702935218811, 0.9999099969863892, 0.9993370175361633, 0.9902751445770264, 0.999860942363739, 0.9998313188552856, 0.9996252655982971, 0.9967156052589417, 0.9992588758468628, 0.9976385831832886, 0.999126672744751, 0.9994705319404602, 0.9981585144996643, 0.9994086027145386, 0.9990777373313904, 0.9996092319488525, 0.9989622831344604, 0.9998549818992615, 0.9997387528419495, 0.9999310970306396, 0.9994385242462158, 0.9999175667762756, 0.9981552362442017, 0.9988031387329102, 0.9937568306922913, 0.9995643496513367, 0.9997079968452454, 0.999678909778595, 0.9995099902153015, 0.999556839466095, 0.998814582824707, 0.9997612237930298, 0.9999011754989624, 0.9967718124389648, 0.9992554783821106, 0.999929666519165, 0.9996273517608643, 0.9994202256202698, 0.9947636127471924, 0.9994968771934509, 0.9997641444206238, 0.9995630383491516, 0.9992919564247131, 0.9993899464607239, 0.999590277671814, 0.9999374151229858, 0.9991216063499451, 0.9998948574066162, 0.9998312592506409, 0.9996652007102966, 0.9997822046279907, 0.9945172071456909, 0.999864935874939, 0.9997517466545105, 0.9997243285179138, 0.9994240999221802, 0.9990701675415039, 0.9988459348678589, 0.9992307424545288, 0.9985610842704773, 0.9993378520011902, 0.999858558177948, 0.9976660013198853, 0.9961586594581604, 0.9977891445159912, 0.9997127652168274, 0.9844666123390198, 0.9996093511581421, 0.9993962645530701, 0.9998077750205994, 0.9996771812438965, 0.9999738335609436, 0.9996419548988342, 0.999910831451416, 0.9992150068283081, 0.9998863935470581, 0.9998334646224976, 0.9994548559188843, 0.9999569654464722, 0.9999038577079773, 0.9995827078819275, 0.9988503456115723, 0.9995724558830261, 0.9992512464523315, 0.9995037317276001, 0.9999433755874634, 0.9992218613624573, 0.9982227087020874, 0.9990025758743286, 0.9998162388801575, 0.9991015195846558, 0.9998898506164551, 0.9979830384254456, 0.9998183250427246, 0.9918937683105469, 0.9992770552635193, 0.999538779258728, 0.997887372970581, 0.9997475743293762, 0.9985395669937134, 0.9999135732650757, 0.9993280172348022, 0.9982707500457764, 0.9981675744056702, 0.9997138977050781, 0.9999134540557861, 0.999752402305603, 0.9990217685699463, 0.9988530874252319, 0.9994644522666931, 0.9992387294769287, 0.9993983507156372, 0.9992915987968445, 0.996390163898468, 0.9991083741188049, 0.9979698061943054, 0.9999017119407654, 0.999902606010437, 0.9979413151741028, 0.99979168176651, 0.9996927380561829, 0.9971943497657776, 0.9993391633033752, 0.9994492530822754, 0.9997506737709045, 0.9992205500602722, 0.992966890335083, 0.999707043170929, 0.9988320469856262, 0.9845837354660034, 0.9989738464355469, 0.9997740387916565, 0.9992939233779907, 0.9997498989105225, 0.9997152090072632, 0.9924803972244263, 0.9997997879981995, 0.998479425907135, 0.9997681975364685, 0.999420166015625, 0.9993951320648193, 0.9984594583511353, 0.9983470439910889, 0.9995630979537964, 0.9984233379364014, 0.9986958503723145, 0.9944137930870056, 0.9998939633369446, 0.9987910985946655, 0.9992392659187317, 0.9993826150894165, 0.9996930360794067, 0.9997466206550598, 0.9977630376815796, 0.9995392560958862, 0.9994158148765564, 0.9995787739753723, 0.9996362328529358, 0.9992044568061829, 0.9993507862091064, 0.9986622333526611, 0.9996330142021179, 0.9993669390678406, 0.9998705387115479, 0.9979146122932434, 0.9992127418518066, 0.9994193315505981, 0.9998778700828552, 0.9994799494743347, 0.9998576045036316, 0.9996671676635742, 0.9998961091041565, 0.9999052882194519, 0.9971344470977783, 0.9999610781669617, 0.9973727464675903, 0.9998313188552856, 0.9983362555503845, 0.9996079206466675, 0.9995291233062744, 0.9980385899543762, 0.9996330738067627, 0.9991741180419922, 0.9997662901878357, 0.9974099397659302, 0.998643159866333, 0.9996787309646606, 0.9997918009757996, 0.8953689932823181, 0.9994387030601501, 0.9983114004135132, 0.9997712969779968, 0.9996336698532104, 0.9998698830604553, 0.9998845458030701, 0.9993764162063599, 0.9996472597122192, 0.9988043904304504, 0.9998579621315002, 0.9999507665634155, 0.9975708723068237, 0.9990994334220886, 0.9991419315338135, 0.9998458623886108, 0.9991351962089539, 0.9986440539360046, 0.9529776573181152, 0.9982866048812866, 0.999667227268219, 0.9998071789741516, 0.9965773820877075, 0.9996769428253174, 0.9990929365158081, 0.9998745322227478, 0.9926502108573914, 0.9988347291946411, 0.9844402074813843, 0.9933207631111145, 0.9989503622055054, 0.999597430229187, 0.9999275207519531, 0.9997173547744751, 0.991100549697876, 0.9996431469917297, 0.9998406767845154, 0.9996342062950134, 0.9999006390571594, 0.9999583959579468, 0.9980343580245972, 0.9992901682853699, 0.9992212057113647, 0.9988095760345459, 0.9993868470191956, 0.9993505477905273, 0.9995817542076111, 0.9997854232788086, 0.9985629916191101, 0.9997756481170654, 0.9993733167648315, 0.9782334566116333, 0.999311625957489, 0.9998841881752014, 0.9983453750610352, 0.9993329048156738, 0.9997574687004089, 0.9998868107795715, 0.9954226016998291, 0.9992566108703613, 0.999693751335144, 0.9995877146720886, 0.9997514486312866, 0.9996970891952515, 0.9996597170829773, 0.9996694922447205, 0.999151349067688, 0.9995107054710388, 0.9993617534637451, 0.985608696937561, 0.9880011081695557, 0.9996111989021301, 0.9950738549232483, 0.9995589256286621, 0.99593186378479, 0.9990538358688354, 0.9995883703231812, 0.9988969564437866, 0.9998494386672974, 0.9996222853660583, 0.9976993799209595, 0.9995442032814026, 0.9999280571937561, 0.9996774792671204, 0.9957774877548218, 0.9992977976799011, 0.9992256164550781, 0.9933274984359741, 0.9993945956230164, 0.9995941519737244, 0.9997292160987854, 0.9994596242904663, 0.9999642968177795, 0.9998824000358582, 0.998875081539154, 0.9979398846626282, 0.9997607469558716, 0.9755659103393555, 0.9998816847801208, 0.999409556388855, 0.9994919300079346, 0.9998470544815063, 0.9998754858970642, 0.9992117285728455, 0.999265193939209, 0.999550461769104, 0.9997686147689819, 0.9999417662620544, 0.9989307522773743, 0.9996037483215332, 0.9991346597671509, 0.9988823533058167, 0.9999338984489441, 0.9998511075973511, 0.999750018119812, 0.9996520280838013, 0.9993048310279846, 0.9994861483573914, 0.99977707862854, 0.9982226490974426, 0.9985675811767578, 0.9978313446044922, 0.9979931712150574, 0.9993523359298706, 0.9978722929954529, 0.9986580014228821, 0.9997826814651489, 0.9990296363830566, 0.9988117218017578, 0.9997396469116211, 0.9996336698532104, 0.9836395382881165, 0.99916011095047, 0.999433159828186, 0.9995021820068359, 0.9980432987213135, 0.9998249411582947, 0.9998650550842285, 0.9995964765548706, 0.9997522234916687, 0.9962253570556641, 0.9994974136352539, 0.9998847842216492, 0.9999484419822693, 0.9978521466255188, 0.9998283386230469, 0.9990724325180054, 0.9998473525047302, 0.9995883107185364, 0.9998653531074524, 0.9990061521530151, 0.9937528967857361, 0.9997715353965759, 0.9996951818466187, 0.9998689293861389, 0.999939501285553, 0.9998217225074768, 0.9945968389511108, 0.9998177289962769, 0.999126672744751, 0.9994711875915527, 0.9992965459823608, 0.9998984336853027, 0.9994956254959106, 0.9988322257995605, 0.9991309642791748, 0.9994916915893555, 0.9995095729827881, 0.9999458193778992, 0.9995026588439941, 0.9994725584983826, 0.9958768486976624, 0.9952471256256104, 0.9998196363449097, 0.9997643232345581, 0.9996994137763977, 0.999790370464325, 0.9994528889656067, 0.9989832639694214, 0.9999256730079651, 0.9996170401573181, 0.9987401962280273, 0.9967417120933533, 0.9994881749153137, 0.999796986579895, 0.9997783899307251, 0.9992133975028992, 0.9995188117027283, 0.9975742697715759, 0.9988322854042053, 0.9985498785972595, 0.9990675449371338, 0.997455358505249, 0.9998535513877869, 0.9997075200080872, 0.9995625019073486, 0.9996007084846497, 0.9781035780906677, 0.9992319345474243, 0.999810516834259, 0.999932050704956, 0.9993977546691895, 0.9997878670692444, 0.9844346642494202, 0.9995461106300354, 0.9996589422225952, 0.9998411536216736, 0.9995759129524231, 0.9993336796760559, 0.9997307658195496, 0.9995604157447815, 0.9997079372406006, 0.9997767806053162, 0.9998549818992615, 0.9975813031196594, 0.9973189830780029, 0.9998157024383545, 0.9998452663421631, 0.999681830406189, 0.9999074935913086, 0.9981864094734192, 0.9995374083518982, 0.9995845556259155, 0.9980906844139099, 0.9954922795295715, 0.9993637800216675, 0.9999301433563232, 0.9989625215530396, 0.9997909665107727, 0.9990019202232361, 0.999858558177948, 0.9999261498451233, 0.9997168183326721, 0.9990432262420654, 0.9951878190040588, 0.9999221563339233, 0.9987688660621643, 0.9996729493141174, 0.9992946982383728, 0.9993694424629211, 0.9991374015808105, 0.9918181896209717, 0.999278724193573, 0.9993427395820618, 0.9999601244926453, 0.9990261197090149, 0.9982883334159851, 0.9995549917221069, 0.9998763799667358, 0.9994972348213196, 0.9963353276252747, 0.999413251876831, 0.9989933967590332, 0.9999607801437378, 0.9992836117744446, 0.9987913966178894, 0.999415397644043, 0.99996018409729, 0.9994325637817383, 0.9998992085456848, 0.9996418952941895, 0.9999129772186279, 0.999029278755188, 0.9998230934143066, 0.9997040629386902, 0.9969443082809448, 0.9998466372489929, 0.9988341331481934, 0.9994666576385498, 0.9998897314071655, 0.9996787309646606, 0.9996472597122192, 0.9988499283790588, 0.9984836578369141, 0.9972163438796997, 0.9997888803482056, 0.9998658895492554, 0.9997499585151672, 0.9991459846496582, 0.9988852143287659, 0.9989914298057556], \"Term\": [\"able\", \"access\", \"accord\", \"account\", \"accurate\", \"action\", \"active\", \"actual\", \"actually\", \"add\", \"additional\", \"address\", \"allow\", \"already\", \"always\", \"anonymous\", \"answer\", \"anymore\", \"app\", \"application\", \"apply\", \"appreciate\", \"area\", \"array\", \"article\", \"ask\", \"associate\", \"async\", \"attempt\", \"authentication\", \"auto\", \"available\", \"avoid\", \"away\", \"back\", \"bad\", \"base\", \"basically\", \"become\", \"begin\", \"belong\", \"beta\", \"big\", \"binary\", \"bit\", \"blank\", \"block\", \"bottom\", \"box\", \"browse\", \"browser\", \"bug\", \"build\", \"bunch\", \"ca\", \"call\", \"camera\", \"capability\", \"card\", \"care\", \"case\", \"catch\", \"cause\", \"certain\", \"character\", \"check\", \"cheer\", \"choose\", \"clarify\", \"class\", \"clause\", \"clear\", \"clearly\", \"click\", \"client\", \"close\", \"cluster\", \"collection\", \"color\", \"column\", \"com\", \"combination\", \"come\", \"command\", \"comment\", \"commit\", \"common\", \"compile\", \"compiler\", \"complete\", \"complicate\", \"component\", \"condition\", \"configuration\", \"configure\", \"confirmation\", \"confuse\", \"connect\", \"connection\", \"consider\", \"consistent\", \"construct\", \"contain\", \"content\", \"control\", \"controller\", \"conversion\", \"convince\", \"copy\", \"core\", \"correct\", \"correctly\", \"could\", \"count\", \"course\", \"coverage\", \"cpu\", \"create\", \"curious\", \"current\", \"currently\", \"custom\", \"customer\", \"cycle\", \"cygwin\", \"data\", \"database\", \"date\", \"datum\", \"day\", \"decent\", \"default\", \"define\", \"delete\", \"dependent\", \"deploy\", \"deployment\", \"describe\", \"design\", \"desktop\", \"detail\", \"determine\", \"developer\", \"development\", \"device\", \"difference\", \"different\", \"directory\", \"display\", \"distribute\", \"distribution\", \"dns\", \"document\", \"documentation\", \"download\", \"drag\", \"due\", \"dynamically\", \"easy\", \"edit\", \"effective\", \"efficient\", \"element\", \"else\", \"email\", \"embe\", \"empty\", \"end\", \"enter\", \"entire\", \"entry\", \"environment\", \"error\", \"especially\", \"even\", \"event\", \"exactly\", \"exception\", \"exe\", \"exist\", \"expect\", \"explain\", \"explanation\", \"explicit\", \"extend\", \"extension\", \"extra\", \"face\", \"fail\", \"fairly\", \"fall\", \"familiar\", \"far\", \"favorite\", \"feature\", \"feel\", \"field\", \"figure\", \"file\", \"filter\", \"fine\", \"finish\", \"first\", \"fix\", \"folder\", \"follow\", \"form\", \"format\", \"frame\", \"framework\", \"free\", \"full\", \"function\", \"functionality\", \"game\", \"general\", \"generate\", \"generic\", \"give\", \"goal\", \"good\", \"grab\", \"grid\", \"group\", \"guide\", \"handle\", \"handler\", \"happen\", \"hard\", \"hardware\", \"head\", \"header\", \"help\", \"hide\", \"high\", \"hit\", \"hold\", \"hope\", \"host\", \"hour\", \"htaccess\", \"html\", \"ide\", \"idea\", \"image\", \"imagine\", \"implement\", \"implementation\", \"imply\", \"import\", \"important\", \"include\", \"increase\", \"incremente\", \"index\", \"indicate\", \"influence\", \"info\", \"input\", \"insert\", \"instal\", \"install\", \"installer\", \"instance\", \"instantiate\", \"instead\", \"instruction\", \"int\", \"integrate\", \"intend\", \"interface\", \"internet\", \"invalid\", \"investigate\", \"issue\", \"jar\", \"java\", \"job\", \"keep\", \"key\", \"kill\", \"kind\", \"language\", \"late\", \"later\", \"layer\", \"layout\", \"lead\", \"learn\", \"least\", \"leave\", \"legacy\", \"length\", \"less\", \"let\", \"level\", \"library\", \"limit\", \"line\", \"link\", \"linux\", \"list\", \"listen\", \"load\", \"loader\", \"local\", \"location\", \"lock\", \"log\", \"logic\", \"long\", \"love\", \"low\", \"machine\", \"main\", \"maintainable\", \"manage\", \"manager\", \"many\", \"match\", \"mean\", \"memory\", \"mention\", \"menu\", \"merge\", \"message\", \"method\", \"mind\", \"minute\", \"mode\", \"model\", \"modify\", \"moment\", \"money\", \"mostly\", \"move\", \"much\", \"multi\", \"multiple\", \"mysql\", \"name\", \"namely\", \"namespace\", \"natively\", \"nearly\", \"necessary\", \"never\", \"new\", \"next\", \"noise\", \"non\", \"note\", \"null\", \"number\", \"object\", \"objective\", \"obvious\", \"obviously\", \"official\", \"often\", \"ok\", \"old\", \"open\", \"optimize\", \"option\", \"optional\", \"organization\", \"original\", \"output\", \"overlap\", \"override\", \"package\", \"page\", \"paint\", \"pair\", \"parameter\", \"parse\", \"part\", \"pass\", \"path\", \"pattern\", \"people\", \"perform\", \"permission\", \"personal\", \"personally\", \"php\", \"phrase\", \"place\", \"plain\", \"platform\", \"play\", \"plugin\", \"point\", \"pointer\", \"pool\", \"position\", \"possible\", \"post\", \"powershell\", \"present\", \"press\", \"presumably\", \"pretty\", \"previous\", \"print\", \"probably\", \"problem\", \"process\", \"production\", \"profile\", \"program\", \"programatically\", \"project\", \"proper\", \"properly\", \"property\", \"provide\", \"provider\", \"public\", \"purpose\", \"query\", \"question\", \"quick\", \"quite\", \"raise\", \"raw\", \"read\", \"really\", \"reason\", \"receive\", \"recently\", \"record\", \"reference\", \"refresh\", \"regard\", \"regardless\", \"regex\", \"register\", \"registry\", \"regular\", \"relate\", \"relevant\", \"remote\", \"remove\", \"render\", \"rendering\", \"report\", \"repository\", \"represent\", \"representation\", \"request\", \"require\", \"resource\", \"response\", \"responsive\", \"rest\", \"result\", \"return\", \"rewrite\", \"right\", \"root\", \"row\", \"rule\", \"say\", \"scale\", \"scheme\", \"script\", \"search\", \"second\", \"seem\", \"select\", \"selenium\", \"send\", \"sense\", \"separate\", \"sequence\", \"server\", \"set\", \"setting\", \"setup\", \"several\", \"share\", \"show\", \"side\", \"sign\", \"signal\", \"significantly\", \"simple\", \"single\", \"site\", \"size\", \"slow\", \"software\", \"solution\", \"sometimes\", \"soon\", \"sorry\", \"sort\", \"source\", \"specific\", \"specifically\", \"specify\", \"spend\", \"sql\", \"stackoverflow\", \"stage\", \"stand\", \"start\", \"state\", \"statement\", \"static\", \"statically\", \"status\", \"step\", \"still\", \"stop\", \"store\", \"stored_procedure\", \"stre\", \"stream\", \"string\", \"structure\", \"stuff\", \"style\", \"successfully\", \"support\", \"suppose\", \"sure\", \"suspect\", \"sync\", \"system\", \"table\", \"tag\", \"take\", \"talk\", \"target\", \"task\", \"team\", \"tend\", \"term\", \"test\", \"testing\", \"text\", \"therefore\", \"thing\", \"think\", \"thread\", \"thus\", \"tie\", \"time\", \"together\", \"tool\", \"transform\", \"tree\", \"trigger\", \"trim\", \"trouble\", \"tutorial\", \"type\", \"unable\", \"unique\", \"unit\", \"update\", \"upload\", \"usable\", \"usage\", \"useful\", \"user\", \"valid\", \"validate\", \"validation\", \"value\", \"vector\", \"version\", \"video\", \"view\", \"warn\", \"web\", \"website\", \"welcome\", \"well\", \"white\", \"whole\", \"window\", \"wonder\", \"word\", \"workaround\", \"worker\", \"worth\", \"would\", \"write\", \"wrong\", \"xml\", \"year\", \"yet\"]}, \"R\": 30, \"lambda.step\": 0.01, \"plot.opts\": {\"xlab\": \"PC1\", \"ylab\": \"PC2\"}, \"topic.order\": [18, 10, 19, 8, 15, 24, 4, 22, 17, 9, 14, 20, 11, 21, 3, 5, 25, 6, 2, 1, 23, 16, 13, 7, 12]};\n",
       "\n",
       "function LDAvis_load_lib(url, callback){\n",
       "  var s = document.createElement('script');\n",
       "  s.src = url;\n",
       "  s.async = true;\n",
       "  s.onreadystatechange = s.onload = callback;\n",
       "  s.onerror = function(){console.warn(\"failed to load library \" + url);};\n",
       "  document.getElementsByTagName(\"head\")[0].appendChild(s);\n",
       "}\n",
       "\n",
       "if(typeof(LDAvis) !== \"undefined\"){\n",
       "   // already loaded: just create the visualization\n",
       "   !function(LDAvis){\n",
       "       new LDAvis(\"#\" + \"ldavis_el1412021155734998485936139261\", ldavis_el1412021155734998485936139261_data);\n",
       "   }(LDAvis);\n",
       "}else if(typeof define === \"function\" && define.amd){\n",
       "   // require.js is available: use it to load d3/LDAvis\n",
       "   require.config({paths: {d3: \"https://cdnjs.cloudflare.com/ajax/libs/d3/3.5.5/d3.min\"}});\n",
       "   require([\"d3\"], function(d3){\n",
       "      window.d3 = d3;\n",
       "      LDAvis_load_lib(\"https://cdn.rawgit.com/bmabey/pyLDAvis/files/ldavis.v1.0.0.js\", function(){\n",
       "        new LDAvis(\"#\" + \"ldavis_el1412021155734998485936139261\", ldavis_el1412021155734998485936139261_data);\n",
       "      });\n",
       "    });\n",
       "}else{\n",
       "    // require.js not available: dynamically load d3 & LDAvis\n",
       "    LDAvis_load_lib(\"https://cdnjs.cloudflare.com/ajax/libs/d3/3.5.5/d3.min.js\", function(){\n",
       "         LDAvis_load_lib(\"https://cdn.rawgit.com/bmabey/pyLDAvis/files/ldavis.v1.0.0.js\", function(){\n",
       "                 new LDAvis(\"#\" + \"ldavis_el1412021155734998485936139261\", ldavis_el1412021155734998485936139261_data);\n",
       "            })\n",
       "         });\n",
       "}\n",
       "</script>"
      ],
      "text/plain": [
       "PreparedData(topic_coordinates=              x         y  topics  cluster       Freq\n",
       "topic                                                \n",
       "17    -0.213924  0.413081       1        1  16.033298\n",
       "9     -0.161126 -0.199652       2        1   9.411902\n",
       "18    -0.132966 -0.098351       3        1   7.095484\n",
       "7     -0.129227 -0.090824       4        1   6.930232\n",
       "14    -0.074470 -0.031380       5        1   5.219995\n",
       "23    -0.087750 -0.041443       6        1   4.951267\n",
       "3     -0.063092 -0.024690       7        1   4.610865\n",
       "21    -0.060262 -0.023778       8        1   3.942813\n",
       "16    -0.043878 -0.016062       9        1   3.941454\n",
       "8     -0.042596 -0.015102      10        1   3.744047\n",
       "13    -0.022476 -0.007835      11        1   3.728950\n",
       "19    -0.011140 -0.004214      12        1   3.359182\n",
       "10    -0.004174 -0.002022      13        1   3.289780\n",
       "20    -0.014990 -0.005844      14        1   3.098163\n",
       "2     -0.007074 -0.003186      15        1   3.072839\n",
       "4      0.015704  0.003061      16        1   3.011047\n",
       "24     0.041908  0.008432      17        1   2.570581\n",
       "5      0.039650  0.007715      18        1   2.569230\n",
       "1      0.063616  0.012005      19        1   2.227383\n",
       "0      0.080665  0.014588      20        1   1.986255\n",
       "22     0.121574  0.019367      21        1   1.555600\n",
       "15     0.099979  0.016951      22        1   1.351745\n",
       "12     0.148484  0.021816      23        1   1.321323\n",
       "6      0.214387  0.025150      24        1   0.836558\n",
       "11     0.243176  0.022216      25        1   0.140007, topic_info=      Category          Freq            Term         Total  loglift  logprob\n",
       "29     Default  30826.000000            file  30826.000000  30.0000   30.000\n",
       "70     Default  20429.000000        function  20429.000000  29.0000   29.000\n",
       "3      Default  24345.000000           error  24345.000000  28.0000   28.000\n",
       "449    Default  25276.000000          follow  25276.000000  27.0000   27.000\n",
       "62     Default  21626.000000           class  21626.000000  26.0000   26.000\n",
       "...        ...           ...             ...           ...      ...      ...\n",
       "20378  Topic25      0.025827      setdefault      1.146613   2.7781  -11.784\n",
       "20377  Topic25      0.025827           sizei      1.146613   2.7781  -11.784\n",
       "20376  Topic25      0.025827  cunfortunately      1.146613   2.7781  -11.784\n",
       "2195   Topic25      0.025827           embed      1.146613   2.7781  -11.784\n",
       "3028   Topic25      0.025827        slightly      1.146613   2.7781  -11.784\n",
       "\n",
       "[1554 rows x 6 columns], token_table=      Topic      Freq      Term\n",
       "term                           \n",
       "188       1  0.999826      able\n",
       "362      12  0.999844    access\n",
       "1040      6  0.998827    accord\n",
       "443      17  0.999399   account\n",
       "398      15  0.995911  accurate\n",
       "...     ...       ...       ...\n",
       "14        5  0.999866     write\n",
       "425      24  0.999750     wrong\n",
       "690      13  0.999146       xml\n",
       "311      16  0.998885      year\n",
       "925       5  0.998991       yet\n",
       "\n",
       "[596 rows x 3 columns], R=30, lambda_step=0.01, plot_opts={'xlab': 'PC1', 'ylab': 'PC2'}, topic_order=[18, 10, 19, 8, 15, 24, 4, 22, 17, 9, 14, 20, 11, 21, 3, 5, 25, 6, 2, 1, 23, 16, 13, 7, 12])"
      ]
     },
     "execution_count": 46,
     "metadata": {},
     "output_type": "execute_result"
    }
   ],
   "source": [
    "pyLDAvis.enable_notebook()\n",
    "vis = pyLDAvis.gensim.prepare(lda_model, corpus, id2word)\n",
    "vis"
   ]
  },
  {
   "cell_type": "code",
   "execution_count": 53,
   "metadata": {},
   "outputs": [],
   "source": [
    "lda_model = gensim.models.ldamodel.LdaModel(corpus=corpus,\n",
    "                                           id2word=id2word,\n",
    "                                           num_topics=20, \n",
    "                                           random_state=100,\n",
    "                                           update_every=1,\n",
    "                                           chunksize=100,\n",
    "                                           passes=10,\n",
    "                                           alpha='auto',\n",
    "                                           per_word_topics=True)"
   ]
  },
  {
   "cell_type": "code",
   "execution_count": 54,
   "metadata": {},
   "outputs": [
    {
     "name": "stdout",
     "output_type": "stream",
     "text": [
      "\n",
      "Perplexity:  -14.567596585144768\n",
      "\n",
      "Coherence Score:  0.3509344690303259\n"
     ]
    }
   ],
   "source": [
    "print('\\nPerplexity: ', lda_model.log_perplexity(corpus))  # a measure of how good the model is. lower the better.\n",
    "\n",
    "# Compute Coherence Score\n",
    "coherence_model_lda = CoherenceModel(model=lda_model, texts=data_lemmatized, dictionary=id2word, coherence='c_v')\n",
    "coherence_lda = coherence_model_lda.get_coherence()\n",
    "print('\\nCoherence Score: ', coherence_lda)"
   ]
  },
  {
   "cell_type": "code",
   "execution_count": 52,
   "metadata": {},
   "outputs": [
    {
     "name": "stderr",
     "output_type": "stream",
     "text": [
      "C:\\Users\\patha\\AppData\\Roaming\\Python\\Python37\\site-packages\\pyLDAvis\\_prepare.py:257: FutureWarning: Sorting because non-concatenation axis is not aligned. A future version\n",
      "of pandas will change to not sort by default.\n",
      "\n",
      "To accept the future behavior, pass 'sort=False'.\n",
      "\n",
      "To retain the current behavior and silence the warning, pass 'sort=True'.\n",
      "\n",
      "  return pd.concat([default_term_info] + list(topic_dfs))\n"
     ]
    },
    {
     "data": {
      "text/html": [
       "\n",
       "<link rel=\"stylesheet\" type=\"text/css\" href=\"https://cdn.rawgit.com/bmabey/pyLDAvis/files/ldavis.v1.0.0.css\">\n",
       "\n",
       "\n",
       "<div id=\"ldavis_el1412021157509416403237905817\"></div>\n",
       "<script type=\"text/javascript\">\n",
       "\n",
       "var ldavis_el1412021157509416403237905817_data = {\"mdsDat\": {\"x\": [0.25373851910910267, 0.2520244609906509, 0.21925281362158516, 0.06224749038211542, 0.02342201374946337, 0.04284611444559759, 0.012386354145646893, 0.005109202246309779, 0.015409416430810596, 0.00935890176198805, -0.04586343877050491, -0.04742128418824417, -0.06798508371416785, -0.04317716840210754, -0.07541001853695434, -0.09375535625029179, -0.10131940204976574, -0.11718436114902848, -0.14857660517708662, -0.15510256864512004], \"y\": [0.3087258077737258, 0.040879920262494526, -0.37166687373281154, -0.012555229602553723, -0.005036054728851991, -0.008397811520899572, -0.003344651597796816, 0.002424094072361913, -0.0038064409990437634, -0.0029427606564119573, 0.0029945397177068333, 0.003157448388188289, 0.004686916525179627, 0.002738898832945461, 0.00518368312057987, 0.0062498536689021365, 0.006624831469932756, 0.007342094142402495, 0.008319572210604285, 0.008422162653344164], \"topics\": [1, 2, 3, 4, 5, 6, 7, 8, 9, 10, 11, 12, 13, 14, 15, 16, 17, 18, 19, 20], \"cluster\": [1, 1, 1, 1, 1, 1, 1, 1, 1, 1, 1, 1, 1, 1, 1, 1, 1, 1, 1, 1], \"Freq\": [19.089702606201172, 17.837148666381836, 14.259407043457031, 5.311202049255371, 4.30927848815918, 4.208434581756592, 3.8835301399230957, 3.871424436569214, 3.8140463829040527, 3.634458303451538, 2.6895885467529297, 2.613891363143921, 2.3603010177612305, 2.2464144229888916, 2.1397900581359863, 1.9957892894744873, 1.788261890411377, 1.7070423364639282, 1.3188633918762207, 0.9214317202568054]}, \"tinfo\": {\"Category\": [\"Default\", \"Default\", \"Default\", \"Default\", \"Default\", \"Default\", \"Default\", \"Default\", \"Default\", \"Default\", \"Default\", \"Default\", \"Default\", \"Default\", \"Default\", \"Default\", \"Default\", \"Default\", \"Default\", \"Default\", \"Default\", \"Default\", \"Default\", \"Default\", \"Default\", \"Default\", \"Default\", \"Default\", \"Default\", \"Default\", \"Topic1\", \"Topic1\", \"Topic1\", \"Topic1\", \"Topic1\", \"Topic1\", \"Topic1\", \"Topic1\", \"Topic1\", \"Topic1\", \"Topic1\", \"Topic1\", \"Topic1\", \"Topic1\", \"Topic1\", \"Topic1\", \"Topic1\", \"Topic1\", \"Topic1\", \"Topic1\", \"Topic1\", \"Topic1\", \"Topic1\", \"Topic1\", \"Topic1\", \"Topic1\", \"Topic1\", \"Topic1\", \"Topic1\", \"Topic1\", \"Topic1\", \"Topic2\", \"Topic2\", \"Topic2\", \"Topic2\", \"Topic2\", \"Topic2\", \"Topic2\", \"Topic2\", \"Topic2\", \"Topic2\", \"Topic2\", \"Topic2\", \"Topic2\", \"Topic2\", \"Topic2\", \"Topic2\", \"Topic2\", \"Topic2\", \"Topic2\", \"Topic2\", \"Topic2\", \"Topic2\", \"Topic2\", \"Topic2\", \"Topic2\", \"Topic2\", \"Topic2\", \"Topic2\", \"Topic2\", \"Topic2\", \"Topic2\", \"Topic3\", \"Topic3\", \"Topic3\", \"Topic3\", \"Topic3\", \"Topic3\", \"Topic3\", \"Topic3\", \"Topic3\", \"Topic3\", \"Topic3\", \"Topic3\", \"Topic3\", \"Topic3\", \"Topic3\", \"Topic3\", \"Topic3\", \"Topic3\", \"Topic3\", \"Topic3\", \"Topic3\", \"Topic3\", \"Topic3\", \"Topic3\", \"Topic3\", \"Topic3\", \"Topic3\", \"Topic3\", \"Topic3\", \"Topic3\", \"Topic3\", \"Topic4\", \"Topic4\", \"Topic4\", \"Topic4\", \"Topic4\", \"Topic4\", \"Topic4\", \"Topic4\", \"Topic4\", \"Topic4\", \"Topic4\", \"Topic4\", \"Topic4\", \"Topic4\", \"Topic4\", \"Topic4\", \"Topic4\", \"Topic4\", \"Topic4\", \"Topic4\", \"Topic4\", \"Topic4\", \"Topic4\", \"Topic4\", \"Topic4\", \"Topic4\", \"Topic4\", \"Topic4\", \"Topic4\", \"Topic4\", \"Topic5\", \"Topic5\", \"Topic5\", \"Topic5\", \"Topic5\", \"Topic5\", \"Topic5\", \"Topic5\", \"Topic5\", \"Topic5\", \"Topic5\", \"Topic5\", \"Topic5\", \"Topic5\", \"Topic5\", \"Topic5\", \"Topic5\", \"Topic5\", \"Topic5\", \"Topic5\", \"Topic5\", \"Topic5\", \"Topic5\", \"Topic5\", \"Topic5\", \"Topic5\", \"Topic5\", \"Topic5\", \"Topic5\", \"Topic5\", \"Topic6\", \"Topic6\", \"Topic6\", \"Topic6\", \"Topic6\", \"Topic6\", \"Topic6\", \"Topic6\", \"Topic6\", \"Topic6\", \"Topic6\", \"Topic6\", \"Topic6\", \"Topic6\", \"Topic6\", \"Topic6\", \"Topic6\", \"Topic6\", \"Topic6\", \"Topic6\", \"Topic6\", \"Topic6\", \"Topic6\", \"Topic6\", \"Topic6\", \"Topic6\", \"Topic6\", \"Topic6\", \"Topic6\", \"Topic6\", \"Topic7\", \"Topic7\", \"Topic7\", \"Topic7\", \"Topic7\", \"Topic7\", \"Topic7\", \"Topic7\", \"Topic7\", \"Topic7\", \"Topic7\", \"Topic7\", \"Topic7\", \"Topic7\", \"Topic7\", \"Topic7\", \"Topic7\", \"Topic7\", \"Topic7\", \"Topic7\", \"Topic7\", \"Topic7\", \"Topic7\", \"Topic7\", \"Topic7\", \"Topic7\", \"Topic7\", \"Topic7\", \"Topic7\", \"Topic7\", \"Topic8\", \"Topic8\", \"Topic8\", \"Topic8\", \"Topic8\", \"Topic8\", \"Topic8\", \"Topic8\", \"Topic8\", \"Topic8\", \"Topic8\", \"Topic8\", \"Topic8\", \"Topic8\", \"Topic8\", \"Topic8\", \"Topic8\", \"Topic8\", \"Topic8\", \"Topic8\", \"Topic8\", \"Topic8\", \"Topic8\", \"Topic8\", \"Topic8\", \"Topic8\", \"Topic8\", \"Topic8\", \"Topic8\", \"Topic8\", \"Topic9\", \"Topic9\", \"Topic9\", \"Topic9\", \"Topic9\", \"Topic9\", \"Topic9\", \"Topic9\", \"Topic9\", \"Topic9\", \"Topic9\", \"Topic9\", \"Topic9\", \"Topic9\", \"Topic9\", \"Topic9\", \"Topic9\", \"Topic9\", \"Topic9\", \"Topic9\", \"Topic9\", \"Topic9\", \"Topic9\", \"Topic9\", \"Topic9\", \"Topic9\", \"Topic9\", \"Topic9\", \"Topic9\", \"Topic9\", \"Topic10\", \"Topic10\", \"Topic10\", \"Topic10\", \"Topic10\", \"Topic10\", \"Topic10\", \"Topic10\", \"Topic10\", \"Topic10\", \"Topic10\", \"Topic10\", \"Topic10\", \"Topic10\", \"Topic10\", \"Topic10\", \"Topic10\", \"Topic10\", \"Topic10\", \"Topic10\", \"Topic10\", \"Topic10\", \"Topic10\", \"Topic10\", \"Topic10\", \"Topic10\", \"Topic10\", \"Topic10\", \"Topic10\", \"Topic10\", \"Topic11\", \"Topic11\", \"Topic11\", \"Topic11\", \"Topic11\", \"Topic11\", \"Topic11\", \"Topic11\", \"Topic11\", \"Topic11\", \"Topic11\", \"Topic11\", \"Topic11\", \"Topic11\", \"Topic11\", \"Topic11\", \"Topic11\", \"Topic11\", \"Topic11\", \"Topic11\", \"Topic11\", \"Topic11\", \"Topic11\", \"Topic11\", \"Topic11\", \"Topic11\", \"Topic11\", \"Topic11\", \"Topic11\", \"Topic11\", \"Topic11\", \"Topic11\", \"Topic12\", \"Topic12\", \"Topic12\", \"Topic12\", \"Topic12\", \"Topic12\", \"Topic12\", \"Topic12\", \"Topic12\", \"Topic12\", \"Topic12\", \"Topic12\", \"Topic12\", \"Topic12\", \"Topic12\", \"Topic12\", \"Topic12\", \"Topic12\", \"Topic12\", \"Topic12\", \"Topic12\", \"Topic12\", \"Topic12\", \"Topic12\", \"Topic12\", \"Topic12\", \"Topic12\", \"Topic12\", \"Topic12\", \"Topic12\", \"Topic13\", \"Topic13\", \"Topic13\", \"Topic13\", \"Topic13\", \"Topic13\", \"Topic13\", \"Topic13\", \"Topic13\", \"Topic13\", \"Topic13\", \"Topic13\", \"Topic13\", \"Topic13\", \"Topic13\", \"Topic13\", \"Topic13\", \"Topic13\", \"Topic13\", \"Topic13\", \"Topic13\", \"Topic13\", \"Topic13\", \"Topic13\", \"Topic13\", \"Topic13\", \"Topic13\", \"Topic13\", \"Topic13\", \"Topic13\", \"Topic14\", \"Topic14\", \"Topic14\", \"Topic14\", \"Topic14\", \"Topic14\", \"Topic14\", \"Topic14\", \"Topic14\", \"Topic14\", \"Topic14\", \"Topic14\", \"Topic14\", \"Topic14\", \"Topic14\", \"Topic14\", \"Topic14\", \"Topic14\", \"Topic14\", \"Topic14\", \"Topic14\", \"Topic14\", \"Topic14\", \"Topic14\", \"Topic14\", \"Topic14\", \"Topic14\", \"Topic14\", \"Topic14\", \"Topic14\", \"Topic14\", \"Topic14\", \"Topic14\", \"Topic14\", \"Topic14\", \"Topic14\", \"Topic14\", \"Topic14\", \"Topic14\", \"Topic14\", \"Topic15\", \"Topic15\", \"Topic15\", \"Topic15\", \"Topic15\", \"Topic15\", \"Topic15\", \"Topic15\", \"Topic15\", \"Topic15\", \"Topic15\", \"Topic15\", \"Topic15\", \"Topic15\", \"Topic15\", \"Topic15\", \"Topic15\", \"Topic15\", \"Topic15\", \"Topic15\", \"Topic15\", \"Topic15\", \"Topic15\", \"Topic15\", \"Topic15\", \"Topic15\", \"Topic15\", \"Topic15\", \"Topic15\", \"Topic15\", \"Topic16\", \"Topic16\", \"Topic16\", \"Topic16\", \"Topic16\", \"Topic16\", \"Topic16\", \"Topic16\", \"Topic16\", \"Topic16\", \"Topic16\", \"Topic16\", \"Topic16\", \"Topic16\", \"Topic16\", \"Topic16\", \"Topic16\", \"Topic16\", \"Topic16\", \"Topic16\", \"Topic16\", \"Topic16\", \"Topic16\", \"Topic16\", \"Topic16\", \"Topic16\", \"Topic16\", \"Topic16\", \"Topic16\", \"Topic16\", \"Topic17\", \"Topic17\", \"Topic17\", \"Topic17\", \"Topic17\", \"Topic17\", \"Topic17\", \"Topic17\", \"Topic17\", \"Topic17\", \"Topic17\", \"Topic17\", \"Topic17\", \"Topic17\", \"Topic17\", \"Topic17\", \"Topic17\", \"Topic17\", \"Topic17\", \"Topic17\", \"Topic17\", \"Topic17\", \"Topic17\", \"Topic17\", \"Topic17\", \"Topic17\", \"Topic17\", \"Topic17\", \"Topic17\", \"Topic17\", \"Topic17\", \"Topic17\", \"Topic17\", \"Topic17\", \"Topic17\", \"Topic17\", \"Topic17\", \"Topic17\", \"Topic17\", \"Topic17\", \"Topic17\", \"Topic17\", \"Topic17\", \"Topic18\", \"Topic18\", \"Topic18\", \"Topic18\", \"Topic18\", \"Topic18\", \"Topic18\", \"Topic18\", \"Topic18\", \"Topic18\", \"Topic18\", \"Topic18\", \"Topic18\", \"Topic18\", \"Topic18\", \"Topic18\", \"Topic18\", \"Topic18\", \"Topic18\", \"Topic18\", \"Topic18\", \"Topic18\", \"Topic18\", \"Topic18\", \"Topic18\", \"Topic18\", \"Topic18\", \"Topic18\", \"Topic18\", \"Topic18\", \"Topic18\", \"Topic18\", \"Topic18\", \"Topic18\", \"Topic18\", \"Topic18\", \"Topic18\", \"Topic18\", \"Topic18\", \"Topic18\", \"Topic18\", \"Topic18\", \"Topic18\", \"Topic19\", \"Topic19\", \"Topic19\", \"Topic19\", \"Topic19\", \"Topic19\", \"Topic19\", \"Topic19\", \"Topic19\", \"Topic19\", \"Topic19\", \"Topic19\", \"Topic19\", \"Topic19\", \"Topic19\", \"Topic19\", \"Topic19\", \"Topic19\", \"Topic19\", \"Topic19\", \"Topic19\", \"Topic19\", \"Topic19\", \"Topic19\", \"Topic19\", \"Topic19\", \"Topic19\", \"Topic19\", \"Topic19\", \"Topic19\", \"Topic19\", \"Topic19\", \"Topic19\", \"Topic19\", \"Topic19\", \"Topic19\", \"Topic19\", \"Topic19\", \"Topic19\", \"Topic19\", \"Topic19\", \"Topic19\", \"Topic19\", \"Topic19\", \"Topic20\", \"Topic20\", \"Topic20\", \"Topic20\", \"Topic20\", \"Topic20\", \"Topic20\", \"Topic20\", \"Topic20\", \"Topic20\", \"Topic20\", \"Topic20\", \"Topic20\", \"Topic20\", \"Topic20\", \"Topic20\", \"Topic20\", \"Topic20\", \"Topic20\", \"Topic20\", \"Topic20\", \"Topic20\", \"Topic20\", \"Topic20\", \"Topic20\", \"Topic20\", \"Topic20\", \"Topic20\", \"Topic20\", \"Topic20\", \"Topic20\", \"Topic20\", \"Topic20\", \"Topic20\", \"Topic20\", \"Topic20\", \"Topic20\", \"Topic20\", \"Topic20\", \"Topic20\", \"Topic20\", \"Topic20\", \"Topic20\", \"Topic20\", \"Topic20\", \"Topic20\", \"Topic20\", \"Topic20\"], \"Freq\": [30931.0, 21512.0, 24502.0, 23116.0, 18740.0, 13528.0, 20250.0, 16767.0, 14832.0, 27612.0, 22635.0, 22295.0, 11945.0, 12523.0, 10248.0, 12678.0, 12498.0, 12592.0, 21691.0, 11028.0, 10741.0, 19541.0, 10539.0, 20155.0, 7818.0, 7404.0, 17209.0, 7607.0, 17611.0, 17100.0, 20154.904296875, 17610.103515625, 17099.525390625, 16358.205078125, 15462.0595703125, 15192.837890625, 12499.302734375, 11903.7705078125, 11904.7041015625, 9634.220703125, 9456.4609375, 9246.435546875, 7996.91552734375, 7744.98486328125, 7559.5068359375, 6883.19091796875, 6444.3662109375, 6346.78662109375, 5963.1845703125, 5688.748046875, 5614.53662109375, 5538.83447265625, 5495.267578125, 5406.970703125, 5323.71142578125, 5266.37451171875, 5172.49658203125, 5102.56103515625, 5089.4658203125, 5005.45947265625, 12434.4716796875, 21690.681640625, 19540.501953125, 17208.18359375, 13844.0947265625, 13805.919921875, 12158.1533203125, 11855.9072265625, 11171.3251953125, 10874.3798828125, 10254.103515625, 9187.2021484375, 9040.5751953125, 27609.45703125, 8138.7998046875, 7228.57421875, 6960.68017578125, 6877.421875, 6802.54248046875, 6784.67333984375, 6664.97216796875, 6543.38037109375, 6178.72265625, 6091.65185546875, 5324.884765625, 5303.7119140625, 5187.79052734375, 5132.73876953125, 4905.9345703125, 4901.8359375, 4827.06591796875, 9709.97265625, 22634.853515625, 22294.51171875, 12879.1416015625, 12601.390625, 12027.443359375, 11115.0322265625, 10729.69140625, 10639.0859375, 9098.8251953125, 8742.302734375, 8474.142578125, 7634.0859375, 7447.26611328125, 7297.11865234375, 6860.6826171875, 6673.48681640625, 6613.1044921875, 6471.7138671875, 5988.5234375, 5591.2138671875, 5567.705078125, 5556.5537109375, 5263.37744140625, 4677.83544921875, 4365.36865234375, 3992.6181640625, 3908.89013671875, 3695.641357421875, 3274.82177734375, 3230.31396484375, 4292.4736328125, 20249.564453125, 16766.013671875, 9166.51953125, 8956.166015625, 7229.9990234375, 6427.46923828125, 6353.92236328125, 5629.9189453125, 5572.0517578125, 4682.27490234375, 3519.385986328125, 2526.200927734375, 2487.9775390625, 1822.887451171875, 1693.048583984375, 1645.5242919921875, 1470.5035400390625, 1221.273681640625, 1137.35888671875, 1135.0069580078125, 1121.0963134765625, 1120.599365234375, 1032.7232666015625, 1024.94140625, 1021.6094360351562, 992.1106567382812, 988.1820068359375, 915.1700439453125, 911.3802490234375, 889.1069946289062, 30930.59375, 12591.5341796875, 6289.47802734375, 5992.85986328125, 5483.6015625, 3882.850830078125, 3687.66259765625, 3349.494384765625, 3231.5703125, 2887.849609375, 2341.888427734375, 2199.01318359375, 2100.948486328125, 2072.30419921875, 2028.833984375, 1902.1876220703125, 1829.12255859375, 1372.5257568359375, 1148.156982421875, 1011.4777221679688, 921.8577270507812, 791.7179565429688, 628.6287841796875, 582.66162109375, 480.5945739746094, 461.2642517089844, 227.9827117919922, 120.31593322753906, 63.98836135864258, 46.375789642333984, 23115.419921875, 10538.892578125, 5450.212890625, 5212.2373046875, 4545.4345703125, 4010.862548828125, 3666.036865234375, 3579.50390625, 3104.61767578125, 3045.122314453125, 2889.513427734375, 2574.955810546875, 1936.3946533203125, 1745.747802734375, 1599.6669921875, 1551.69140625, 1480.998291015625, 1401.554443359375, 1348.62548828125, 1324.297607421875, 1296.2596435546875, 1273.93505859375, 1261.2828369140625, 1017.56494140625, 1012.1673583984375, 971.5367431640625, 873.6306762695312, 851.8486328125, 746.78564453125, 681.8297729492188, 14831.296875, 11027.642578125, 6960.34326171875, 5807.61083984375, 5131.6708984375, 5125.046875, 4061.630615234375, 3537.47900390625, 3435.193603515625, 2748.754150390625, 2658.019775390625, 2247.002685546875, 2203.101318359375, 1926.105712890625, 1897.78759765625, 1656.716064453125, 1592.7958984375, 1520.0496826171875, 1437.65234375, 1046.9375, 888.4934692382812, 886.7857666015625, 863.8442993164062, 823.7728881835938, 761.0247802734375, 658.849609375, 614.4362182617188, 602.4197998046875, 597.1448364257812, 588.5468139648438, 12677.2744140625, 12497.1328125, 10739.9716796875, 7022.03515625, 4177.287109375, 3186.33837890625, 2934.9267578125, 2740.772705078125, 2679.12744140625, 2597.05517578125, 2578.3623046875, 2332.8232421875, 2294.324951171875, 2085.51904296875, 2081.116455078125, 1640.5516357421875, 1585.55322265625, 1468.50927734375, 1233.24658203125, 1204.1036376953125, 1180.2584228515625, 1135.642578125, 1108.378662109375, 1021.0313110351562, 817.8173828125, 804.4004516601562, 801.6768798828125, 667.7886352539062, 510.6753845214844, 327.3431091308594, 24501.05859375, 7599.3369140625, 7383.87451171875, 5926.44921875, 5925.77001953125, 4566.287109375, 4002.677001953125, 2606.2626953125, 2468.14013671875, 2452.36474609375, 2389.173583984375, 2278.971923828125, 2234.9912109375, 2119.57958984375, 2051.085693359375, 1359.4068603515625, 1237.92333984375, 1130.178955078125, 1086.4986572265625, 1047.9107666015625, 717.3588256835938, 689.4818725585938, 578.3106689453125, 480.7626953125, 344.8893737792969, 299.4501037597656, 263.3688049316406, 262.6830139160156, 213.67236328125, 204.219970703125, 12522.5830078125, 8305.0712890625, 6358.51904296875, 5938.4658203125, 5317.705078125, 5267.962890625, 3593.83837890625, 3342.0673828125, 3224.78369140625, 2791.466796875, 2626.852294921875, 2357.331787109375, 2024.7513427734375, 1890.964599609375, 1782.9161376953125, 1777.1009521484375, 1776.772216796875, 1653.2840576171875, 1358.8946533203125, 1279.6395263671875, 1212.66259765625, 1174.32958984375, 898.6666870117188, 748.2508544921875, 737.7249755859375, 656.5511474609375, 640.97216796875, 579.338134765625, 520.9385986328125, 483.6489562988281, 11943.9951171875, 7399.74951171875, 7167.3759765625, 4827.890625, 4798.0, 4156.21484375, 3698.58154296875, 2805.10791015625, 2802.156982421875, 2355.8759765625, 1533.459228515625, 1412.669189453125, 1271.511962890625, 1158.8507080078125, 1019.0335083007812, 990.3700561523438, 598.2242431640625, 490.9256286621094, 416.5931396484375, 324.53326416015625, 251.20458984375, 231.81126403808594, 36.12162399291992, 8.61181354522705, 0.0568816214799881, 0.05687984079122543, 0.056845054030418396, 0.05683599412441254, 0.05684218183159828, 0.056848686188459396, 0.056844595819711685, 0.05684465542435646, 7252.287109375, 6658.3857421875, 6362.255859375, 2669.85888671875, 2651.10302734375, 2511.928466796875, 2407.710205078125, 2098.033203125, 2070.861328125, 2019.6463623046875, 1973.7591552734375, 1619.079833984375, 1485.4508056640625, 1404.117431640625, 1402.413330078125, 1298.630126953125, 1270.092041015625, 1020.0902099609375, 736.01025390625, 732.2774658203125, 667.3707275390625, 659.1270141601562, 632.8526611328125, 631.631591796875, 621.2399291992188, 574.3922119140625, 570.4491577148438, 519.9017944335938, 472.95452880859375, 469.6609802246094, 6141.18798828125, 5230.771484375, 5131.4013671875, 4972.0859375, 4017.241455078125, 3035.537109375, 2643.0927734375, 2543.4970703125, 2454.067626953125, 2070.69921875, 2021.725341796875, 1952.8258056640625, 1689.4422607421875, 1665.9569091796875, 1502.5821533203125, 1362.9071044921875, 1008.59765625, 581.1434936523438, 516.5225219726562, 472.0938415527344, 404.6816101074219, 389.50946044921875, 348.6312255859375, 299.00787353515625, 197.1077117919922, 196.7770538330078, 165.8840789794922, 155.5696563720703, 120.14510345458984, 113.1217041015625, 21511.69921875, 18739.0390625, 6630.1357421875, 1546.9176025390625, 1050.8238525390625, 907.9232788085938, 777.7286376953125, 400.8561706542969, 0.0470801405608654, 0.04695424810051918, 0.04692942276597023, 0.04692267253994942, 0.046918898820877075, 0.04692348837852478, 0.046909086406230927, 0.04691190645098686, 0.04691062122583389, 0.04690584912896156, 0.04690968245267868, 0.0469125360250473, 0.04690038412809372, 0.04690038412809372, 0.046898845583200455, 0.04690536484122276, 0.04692281782627106, 0.04690118879079819, 0.04690438508987427, 0.04690371826291084, 0.04690297320485115, 0.04690415784716606, 0.04690544307231903, 0.04691631719470024, 0.046913377940654755, 0.04692189767956734, 0.046908900141716, 0.04690880328416824, 0.04691158980131149, 0.04690519720315933, 0.04690751060843468, 0.0469057634472847, 7817.32080078125, 7606.18603515625, 4275.4716796875, 2670.602783203125, 2543.671142578125, 2222.108154296875, 1879.6318359375, 1766.3944091796875, 1660.2725830078125, 1644.2874755859375, 1302.928466796875, 1254.1766357421875, 1153.7012939453125, 996.60498046875, 992.2869873046875, 973.2371826171875, 685.529052734375, 626.5757446289062, 584.59423828125, 583.5338745117188, 574.8639526367188, 558.99560546875, 505.02264404296875, 453.5159606933594, 320.65972900390625, 319.9903259277344, 319.2483825683594, 304.561279296875, 296.1197509765625, 269.4506530761719, 5315.3935546875, 4822.61474609375, 4409.47900390625, 3753.361572265625, 3448.1923828125, 3060.612548828125, 2931.244140625, 2559.451171875, 2038.222900390625, 1453.90283203125, 1358.10205078125, 1269.7706298828125, 898.2216796875, 880.1776733398438, 710.8641967773438, 694.4718627929688, 547.4348754882812, 535.6006469726562, 478.3188781738281, 459.82366943359375, 440.62725830078125, 400.02911376953125, 339.01617431640625, 315.7635498046875, 278.369140625, 261.5112609863281, 225.76490783691406, 211.98367309570312, 205.78302001953125, 188.8784637451172, 10247.296875, 7402.9306640625, 4219.146484375, 4067.775634765625, 3039.27734375, 2039.9698486328125, 1443.5240478515625, 1362.892578125, 1269.1151123046875, 1179.86474609375, 797.8422241210938, 717.21826171875, 580.508544921875, 569.8058471679688, 373.56060791015625, 331.95159912109375, 278.0443115234375, 46.06359100341797, 0.05561237782239914, 0.05560462176799774, 0.05559588223695755, 0.05559699237346649, 0.055594008415937424, 0.05559045448899269, 0.055595435202121735, 0.05559563264250755, 0.05559622496366501, 0.055593762546777725, 0.055588893592357635, 0.05559482425451279, 0.05559566244482994, 0.055600810796022415, 0.05559736117720604, 0.055603258311748505, 0.05559999495744705, 0.05560685321688652, 0.05560677498579025, 0.0556173250079155, 0.05560688301920891, 0.05560050532221794, 0.05560261011123657, 0.05560474470257759, 0.055600643157958984, 6658.1005859375, 6206.671875, 4434.91015625, 3449.661376953125, 2917.44482421875, 2814.5517578125, 2118.409423828125, 1933.2679443359375, 1630.501953125, 1338.2161865234375, 1151.9906005859375, 801.400634765625, 716.6389770507812, 596.04150390625, 322.3199768066406, 230.4220428466797, 194.99798583984375, 120.08185577392578, 64.61225128173828, 0.06070065125823021, 0.060694944113492966, 0.06068089231848717, 0.060685768723487854, 0.06068437919020653, 0.06068042293190956, 0.060682736337184906, 0.06068096309900284, 0.0606820173561573, 0.06068778038024902, 0.060685012489557266, 0.06068585440516472, 0.06070272624492645, 0.0606844425201416, 0.06069854646921158, 0.06069047003984451, 0.060688331723213196, 0.06069790944457054, 0.06069216504693031, 0.060689233243465424, 0.06069163233041763, 0.060691144317388535, 0.0606946162879467, 0.06069523096084595, 5122.29443359375, 3669.936279296875, 2909.99365234375, 2701.774658203125, 2235.92822265625, 1989.1683349609375, 1765.5987548828125, 1421.5557861328125, 1360.3857421875, 1075.700927734375, 1072.5106201171875, 858.9815673828125, 586.563232421875, 429.6775207519531, 311.7038879394531, 290.1030578613281, 101.21845245361328, 59.17041015625, 0.06654436886310577, 0.06654646247625351, 0.06653939187526703, 0.0665401965379715, 0.06653670966625214, 0.06653856486082077, 0.06653890758752823, 0.06653591990470886, 0.06653882563114166, 0.06653659790754318, 0.06653577834367752, 0.06653613597154617, 0.06654489040374756, 0.06653982400894165, 0.06654233485460281, 0.06656129658222198, 0.06655100733041763, 0.06655092537403107, 0.06654511392116547, 0.06655190140008926, 0.06655061990022659, 0.0665445551276207, 0.06654476374387741, 0.06654929369688034, 0.06654585897922516, 0.06655000150203705, 13527.046875, 5695.451171875, 0.05186281353235245, 0.05178091675043106, 0.051780134439468384, 0.0517735555768013, 0.05177651718258858, 0.05176832154393196, 0.0517750158905983, 0.051776476204395294, 0.05176844820380211, 0.051766932010650635, 0.05176559090614319, 0.05177047476172447, 0.051766496151685715, 0.05176619067788124, 0.05176573246717453, 0.05176766216754913, 0.0517711378633976, 0.051766324788331985, 0.0517648346722126, 0.05177035927772522, 0.051764413714408875, 0.05176353082060814, 0.051764048635959625, 0.05177422612905502, 0.05176321044564247, 0.05176462605595589, 0.05176430568099022, 0.05176602676510811, 0.05176996439695358, 0.051767777651548386, 0.05177120491862297, 0.05177030339837074, 0.05177835002541542, 0.05178029090166092, 0.05177269130945206, 0.05176914855837822, 0.05177856981754303, 0.051772065460681915, 0.05176995322108269, 0.05177238583564758, 0.051771461963653564, 0.05177055671811104, 0.051769278943538666, 0.05176969990134239, 0.05176997929811478, 0.05176848918199539], \"Term\": [\"file\", \"function\", \"error\", \"type\", \"class\", \"object\", \"call\", \"method\", \"test\", \"follow\", \"problem\", \"value\", \"datum\", \"image\", \"app\", \"version\", \"project\", \"name\", \"create\", \"result\", \"build\", \"add\", \"show\", \"time\", \"text\", \"com\", \"user\", \"string\", \"question\", \"could\", \"time\", \"question\", \"could\", \"seem\", \"return\", \"list\", \"give\", \"think\", \"different\", \"say\", \"even\", \"take\", \"right\", \"good\", \"thing\", \"instead\", \"sure\", \"would\", \"let\", \"note\", \"leave\", \"much\", \"base\", \"bit\", \"actually\", \"always\", \"come\", \"long\", \"state\", \"well\", \"help\", \"create\", \"add\", \"user\", \"application\", \"new\", \"issue\", \"update\", \"server\", \"page\", \"possible\", \"fine\", \"able\", \"follow\", \"request\", \"fail\", \"window\", \"really\", \"simple\", \"system\", \"process\", \"access\", \"web\", \"require\", \"provide\", \"instance\", \"content\", \"allow\", \"current\", \"thread\", \"search\", \"still\", \"problem\", \"value\", \"line\", \"first\", \"case\", \"write\", \"solution\", \"number\", \"read\", \"element\", \"check\", \"answer\", \"edit\", \"second\", \"contain\", \"point\", \"idea\", \"array\", \"correct\", \"part\", \"wrong\", \"end\", \"remove\", \"multiple\", \"standard\", \"single\", \"command\", \"move\", \"correctly\", \"place\", \"specific\", \"call\", \"method\", \"start\", \"view\", \"compile\", \"define\", \"reference\", \"program\", \"pass\", \"handle\", \"pointer\", \"interface\", \"hide\", \"entity\", \"sense\", \"describe\", \"hope\", \"yet\", \"prefer\", \"aware\", \"therefore\", \"usage\", \"anymore\", \"invalid\", \"layer\", \"clearly\", \"away\", \"guarantee\", \"retrieve\", \"prevent\", \"file\", \"name\", \"include\", \"default\", \"property\", \"script\", \"path\", \"exactly\", \"copy\", \"specify\", \"release\", \"import\", \"bottom\", \"enable\", \"set\", \"successfully\", \"directory\", \"html\", \"jar\", \"explanation\", \"letter\", \"mail\", \"ensure\", \"upgrade\", \"around\", \"relative\", \"ease\", \"incremente\", \"revision\", \"ant\", \"type\", \"show\", \"exception\", \"event\", \"component\", \"far\", \"block\", \"documentation\", \"key\", \"parameter\", \"character\", \"structure\", \"limit\", \"extension\", \"trigger\", \"extend\", \"represent\", \"rest\", \"hold\", \"press\", \"tree\", \"entry\", \"override\", \"catch\", \"proper\", \"generic\", \"optional\", \"pair\", \"soon\", \"safe\", \"test\", \"result\", \"library\", \"generate\", \"color\", \"implementation\", \"solve\", \"throw\", \"apply\", \"simply\", \"share\", \"header\", \"definition\", \"double\", \"attempt\", \"unfortunately\", \"situation\", \"unit\", \"alternative\", \"nest\", \"focus\", \"generator\", \"speed\", \"deal\", \"optimization\", \"care\", \"concept\", \"white\", \"refresh\", \"cost\", \"version\", \"project\", \"build\", \"form\", \"model\", \"instal\", \"net\", \"play\", \"install\", \"target\", \"download\", \"machine\", \"controller\", \"late\", \"framework\", \"enter\", \"runtime\", \"begin\", \"minute\", \"moment\", \"binary\", \"confuse\", \"low\", \"hand\", \"assembly\", \"profile\", \"intend\", \"mind\", \"distribution\", \"registry\", \"error\", \"message\", \"happen\", \"fix\", \"expect\", \"row\", \"cause\", \"document\", \"product\", \"non\", \"configuration\", \"collection\", \"null\", \"stop\", \"complete\", \"commit\", \"finish\", \"otherwise\", \"necessary\", \"often\", \"storage\", \"curious\", \"conflict\", \"anyway\", \"stack_overflow\", \"utility\", \"programmer\", \"fresh\", \"license\", \"datatable\", \"image\", \"output\", \"load\", \"send\", \"main\", \"style\", \"print\", \"receive\", \"suppose\", \"site\", \"resource\", \"static\", \"stream\", \"bad\", \"host\", \"report\", \"least\", \"authentication\", \"free\", \"hard\", \"insert\", \"hit\", \"area\", \"advice\", \"dataset\", \"hardware\", \"optimize\", \"loader\", \"reload\", \"populate\", \"datum\", \"table\", \"display\", \"database\", \"column\", \"field\", \"query\", \"connection\", \"filter\", \"record\", \"count\", \"entire\", \"grid\", \"data\", \"sql\", \"active\", \"reset\", \"kill\", \"navigate\", \"imply\", \"powershell\", \"intellisense\", \"exclusive\", \"binding\", \"cell\", \"item\", \"border\", \"width\", \"margin\", \"background\", \"button\", \"variable\", \"size\", \"memory\", \"option\", \"level\", \"clear\", \"group\", \"core\", \"kind\", \"slow\", \"developer\", \"fast\", \"mode\", \"choose\", \"experience\", \"recently\", \"layout\", \"drag\", \"track\", \"talk\", \"cpu\", \"imagine\", \"sound\", \"team\", \"raw\", \"fully\", \"mess\", \"card\", \"disk\", \"generally\", \"overhead\", \"input\", \"select\", \"device\", \"index\", \"must\", \"tell\", \"box\", \"folder\", \"assume\", \"become\", \"less\", \"learn\", \"email\", \"face\", \"modify\", \"construct\", \"export\", \"regardless\", \"calculation\", \"sorry\", \"hear\", \"proceed\", \"familiar\", \"stand\", \"comparable\", \"scheme\", \"noise\", \"good_practice\", \"interpreter\", \"teach\", \"function\", \"class\", \"implement\", \"public\", \"register\", \"internal\", \"game\", \"instantiate\", \"cell\", \"addline\", \"gap\", \"alternaterow\", \"lt\", \"argument\", \"var\", \"border\", \"member\", \"void\", \"constructor\", \"template\", \"eveniet_cumque\", \"consectetur_adipisice\", \"playerturn\", \"foo\", \"variable\", \"derive\", \"declare\", \"body\", \"constant\", \"scope\", \"expression\", \"understand\", \"background\", \"item\", \"true\", \"top\", \"thank\", \"bar\", \"button\", \"margin\", \"text\", \"string\", \"match\", \"format\", \"location\", \"stre\", \"length\", \"parse\", \"due\", \"sequence\", \"condition\", \"instruction\", \"repository\", \"efficient\", \"reduce\", \"xml\", \"explicit\", \"goal\", \"join\", \"faster\", \"regex\", \"blank\", \"tab\", \"escape\", \"friend\", \"overflow\", \"distribute\", \"impact\", \"sync\", \"clause\", \"package\", \"support\", \"custom\", \"browser\", \"tool\", \"available\", \"video\", \"language\", \"develop\", \"frame\", \"plugin\", \"easily\", \"interested\", \"objective\", \"camera\", \"possibly\", \"integrate\", \"benefit\", \"accessible\", \"legacy\", \"ide\", \"coverage\", \"generation\", \"analysis\", \"encoding\", \"summary\", \"strong\", \"linux\", \"applicable\", \"grab\", \"app\", \"com\", \"difference\", \"similar\", \"address\", \"website\", \"warn\", \"java\", \"status\", \"exit\", \"regular\", \"http_www\", \"parser\", \"factory\", \"spend\", \"doubt\", \"technical\", \"corporate\", \"android\", \"http\", \"notification\", \"icon\", \"certificate\", \"mom\", \"domain\", \"token\", \"gradle\", \"launch\", \"edition\", \"phone\", \"struct\", \"screen\", \"child\", \"appear\", \"angular\", \"button\", \"thank\", \"item\", \"understand\", \"container\", \"background\", \"variable\", \"true\", \"link\", \"open\", \"post\", \"figure\", \"feature\", \"date\", \"valid\", \"job\", \"tutorial\", \"trouble\", \"validation\", \"testing\", \"validate\", \"recommend\", \"ca\", \"presumably\", \"usable\", \"membership\", \"suite\", \"execute\", \"angular\", \"ago\", \"submit\", \"external\", \"isodate\", \"queue\", \"transformer\", \"pipeline\", \"chrome\", \"directive\", \"detect\", \"thank\", \"disable\", \"button\", \"screen\", \"save\", \"understand\", \"put\", \"css\", \"appear\", \"android\", \"variable\", \"item\", \"source\", \"close\", \"control\", \"delete\", \"environment\", \"certain\", \"configure\", \"development\", \"deploy\", \"combination\", \"production\", \"lock\", \"suspect\", \"deployment\", \"investigate\", \"primary\", \"svn\", \"convince\", \"subject\", \"branch\", \"env\", \"relationship\", \"openfilebyid\", \"artifactid\", \"maven\", \"hardlinke\", \"alert\", \"executor\", \"deletion\", \"pay\", \"config\", \"certificate\", \"token\", \"variable\", \"appear\", \"android\", \"dependency\", \"thank\", \"button\", \"map\", \"screen\", \"understand\", \"put\", \"item\", \"object\", \"store\", \"item\", \"parent\", \"child\", \"sub\", \"integer\", \"brand\", \"expression\", \"constructor\", \"temporary\", \"collapse\", \"mom\", \"equal\", \"padding\", \"redux\", \"reorder\", \"cast\", \"std\", \"destroy\", \"lvalue\", \"declare\", \"paragraph\", \"someobject\", \"uint\", \"none\", \"vmfclass\", \"lifetime\", \"atomic\", \"derive\", \"width\", \"convert\", \"bar\", \"member\", \"background\", \"understand\", \"margin\", \"operation\", \"variable\", \"behavior\", \"border\", \"argument\", \"true\", \"top\", \"map\", \"container\", \"thank\", \"appear\"], \"Total\": [30931.0, 21512.0, 24502.0, 23116.0, 18740.0, 13528.0, 20250.0, 16767.0, 14832.0, 27612.0, 22635.0, 22295.0, 11945.0, 12523.0, 10248.0, 12678.0, 12498.0, 12592.0, 21691.0, 11028.0, 10741.0, 19541.0, 10539.0, 20155.0, 7818.0, 7404.0, 17209.0, 7607.0, 17611.0, 17100.0, 20155.994140625, 17611.193359375, 17100.615234375, 16359.29296875, 15463.1474609375, 15193.92578125, 12500.390625, 11904.8583984375, 11905.7919921875, 9635.30859375, 9457.548828125, 9247.5234375, 7998.00341796875, 7746.07275390625, 7560.5947265625, 6884.27880859375, 6445.4541015625, 6347.87451171875, 5964.2724609375, 5689.8359375, 5615.62451171875, 5539.92236328125, 5496.35546875, 5408.05859375, 5324.79931640625, 5267.46240234375, 5173.58447265625, 5103.64892578125, 5090.5537109375, 5006.54736328125, 12446.767578125, 21691.76953125, 19541.58984375, 17209.271484375, 13845.1826171875, 13807.0078125, 12159.2412109375, 11856.9951171875, 11172.4130859375, 10875.4677734375, 10255.19140625, 9188.2900390625, 9041.6630859375, 27612.8515625, 8139.8876953125, 7229.662109375, 6961.76806640625, 6878.509765625, 6803.63037109375, 6785.76123046875, 6666.06005859375, 6544.46826171875, 6179.810546875, 6092.73974609375, 5325.97265625, 5304.7998046875, 5188.87841796875, 5133.82666015625, 4907.0224609375, 4902.923828125, 4828.15380859375, 9857.0908203125, 22635.9453125, 22295.603515625, 12880.232421875, 12602.4814453125, 12028.5341796875, 11116.123046875, 10730.7822265625, 10640.1767578125, 9099.916015625, 8743.3935546875, 8475.2333984375, 7635.17626953125, 7448.3564453125, 7298.208984375, 6861.77294921875, 6674.5771484375, 6614.19482421875, 6472.80419921875, 5989.61376953125, 5592.30419921875, 5568.79541015625, 5557.64404296875, 5264.4677734375, 4678.92578125, 4366.458984375, 3993.7099609375, 3909.98193359375, 3696.733154296875, 3275.91357421875, 3231.40576171875, 4311.79443359375, 20250.654296875, 16767.103515625, 9167.609375, 8957.255859375, 7231.0888671875, 6428.55908203125, 6355.01220703125, 5631.0087890625, 5573.1416015625, 4683.36474609375, 3520.47705078125, 2527.2919921875, 2489.068603515625, 1823.978271484375, 1694.139404296875, 1646.6151123046875, 1471.5943603515625, 1222.364501953125, 1138.44970703125, 1136.0977783203125, 1122.1871337890625, 1121.690185546875, 1033.8140869140625, 1026.0322265625, 1022.7000732421875, 993.2012939453125, 989.2726440429688, 916.2606811523438, 912.4708862304688, 890.1976318359375, 30931.68359375, 12592.6240234375, 6290.56689453125, 5993.94873046875, 5484.6904296875, 3883.94091796875, 3688.752685546875, 3350.58447265625, 3232.660400390625, 2888.939697265625, 2342.978515625, 2200.103271484375, 2102.03857421875, 2073.394287109375, 2029.9239501953125, 1903.277587890625, 1830.2125244140625, 1373.61572265625, 1149.2469482421875, 1012.5674438476562, 922.9474487304688, 792.8076782226562, 629.718505859375, 583.7513427734375, 481.684326171875, 462.35400390625, 229.07244873046875, 121.40569305419922, 65.07811737060547, 47.465538024902344, 23116.517578125, 10539.990234375, 5451.3095703125, 5213.333984375, 4546.53125, 4011.960693359375, 3667.135009765625, 3580.60205078125, 3105.7158203125, 3046.220458984375, 2890.611572265625, 2576.053955078125, 1937.4923095703125, 1746.845458984375, 1600.7646484375, 1552.7890625, 1482.095947265625, 1402.652099609375, 1349.72314453125, 1325.395263671875, 1297.3572998046875, 1275.03271484375, 1262.3804931640625, 1018.6624145507812, 1013.2648315429688, 972.6342163085938, 874.7281494140625, 852.9461059570312, 747.8831176757812, 682.92724609375, 14832.3896484375, 11028.7353515625, 6961.43505859375, 5808.70263671875, 5132.7626953125, 5126.138671875, 4062.7236328125, 3538.572021484375, 3436.28662109375, 2749.84716796875, 2659.11279296875, 2248.095703125, 2204.1943359375, 1927.1983642578125, 1898.8802490234375, 1657.8087158203125, 1593.8885498046875, 1521.142333984375, 1438.7449951171875, 1048.0301513671875, 889.5859985351562, 887.8782958984375, 864.9368286132812, 824.8654174804688, 762.1173095703125, 659.942138671875, 615.5287475585938, 603.5123291015625, 598.2373657226562, 589.6393432617188, 12678.3623046875, 12498.220703125, 10741.0595703125, 7023.12255859375, 4178.37451171875, 3187.427001953125, 2936.015380859375, 2741.861328125, 2680.216064453125, 2598.143798828125, 2579.450927734375, 2333.911865234375, 2295.41357421875, 2086.607666015625, 2082.205078125, 1641.6397705078125, 1586.641357421875, 1469.597412109375, 1234.334716796875, 1205.1917724609375, 1181.3465576171875, 1136.730712890625, 1109.466796875, 1022.1193237304688, 818.9053955078125, 805.4884643554688, 802.764892578125, 668.8766479492188, 511.76336669921875, 328.43109130859375, 24502.150390625, 7600.4306640625, 7384.96826171875, 5927.54296875, 5926.86376953125, 4567.380859375, 4003.77197265625, 2607.357666015625, 2469.235107421875, 2453.459716796875, 2390.2685546875, 2280.06689453125, 2236.086181640625, 2120.674560546875, 2052.1806640625, 1360.501220703125, 1239.0177001953125, 1131.2733154296875, 1087.593017578125, 1049.005126953125, 718.453125, 690.576171875, 579.4049682617188, 481.85699462890625, 345.9836730957031, 300.5444030761719, 264.4631042480469, 263.7773132324219, 214.7666778564453, 205.3142852783203, 12523.6787109375, 8306.1669921875, 6359.61328125, 5939.56005859375, 5318.79931640625, 5269.05712890625, 3594.93408203125, 3343.1630859375, 3225.87939453125, 2792.5625, 2627.947998046875, 2358.427490234375, 2025.8465576171875, 1892.059814453125, 1784.0113525390625, 1778.1961669921875, 1777.867431640625, 1654.3792724609375, 1359.9898681640625, 1280.7347412109375, 1213.7578125, 1175.4248046875, 899.7619018554688, 749.3460693359375, 738.8201904296875, 657.6463623046875, 642.0673828125, 580.433349609375, 522.0338134765625, 484.744140625, 11945.08984375, 7400.84228515625, 7168.46875, 4828.9833984375, 4799.0927734375, 4157.3076171875, 3699.675537109375, 2806.201904296875, 2803.2509765625, 2356.969970703125, 1534.552734375, 1413.7626953125, 1272.60546875, 1159.9442138671875, 1020.1270141601562, 991.4635620117188, 599.3177490234375, 492.01910400390625, 417.6866149902344, 325.6267395019531, 252.298095703125, 232.90476989746094, 37.21514129638672, 9.705330848693848, 1.1508309841156006, 1.151231288909912, 1.1505638360977173, 1.150502324104309, 1.1506508588790894, 1.150808334350586, 1.15082848072052, 1.1509376764297485, 7253.38134765625, 6659.47998046875, 6363.35009765625, 2670.954345703125, 2652.198486328125, 2513.02392578125, 2408.8056640625, 2099.128662109375, 2071.956787109375, 2020.7413330078125, 1974.8541259765625, 1620.1748046875, 1486.5457763671875, 1405.21240234375, 1403.50830078125, 1299.72509765625, 1271.18701171875, 1021.1851806640625, 737.105224609375, 733.3724365234375, 668.4656982421875, 660.2219848632812, 633.9476318359375, 632.7265625, 622.3348999023438, 575.4871826171875, 571.5441284179688, 520.9967651367188, 474.0494689941406, 470.75592041015625, 6142.28076171875, 5231.8642578125, 5132.494140625, 4973.1787109375, 4018.3349609375, 3036.630615234375, 2644.186279296875, 2544.590576171875, 2455.1611328125, 2071.792724609375, 2022.8182373046875, 1953.918701171875, 1690.53515625, 1667.0498046875, 1503.675048828125, 1364.0, 1009.6906127929688, 582.2364501953125, 517.615478515625, 473.18682861328125, 405.77459716796875, 390.6024475097656, 349.7242126464844, 300.1008605957031, 198.20069885253906, 197.8700408935547, 166.97706604003906, 156.6626434326172, 121.23809051513672, 114.21469116210938, 21512.802734375, 18740.142578125, 6631.23876953125, 1548.02099609375, 1051.92724609375, 909.0266723632812, 778.83203125, 401.9595947265625, 1.1508309841156006, 1.1504119634628296, 1.150399923324585, 1.1503889560699463, 1.1505762338638306, 1.1507126092910767, 1.1504942178726196, 1.1505638360977173, 1.1505461931228638, 1.1504781246185303, 1.1505814790725708, 1.1506519317626953, 1.1503548622131348, 1.1503548622131348, 1.150342345237732, 1.1505067348480225, 1.1509376764297485, 1.1504117250442505, 1.1504907608032227, 1.1504775285720825, 1.1504662036895752, 1.1504981517791748, 1.1505423784255981, 1.1508896350860596, 1.150808334350586, 1.151231288909912, 1.1507079601287842, 1.150715708732605, 1.1508623361587524, 1.15055513381958, 1.15082848072052, 1.1506508588790894, 7818.416015625, 7607.28125, 4276.56689453125, 2671.698974609375, 2544.767333984375, 2223.204345703125, 1880.7274169921875, 1767.489990234375, 1661.3681640625, 1645.383056640625, 1304.0240478515625, 1255.272216796875, 1154.796875, 997.70068359375, 993.3826904296875, 974.3328857421875, 686.624755859375, 627.6714477539062, 585.68994140625, 584.6295776367188, 575.9596557617188, 560.09130859375, 506.1183166503906, 454.61163330078125, 321.7554016113281, 321.08599853515625, 320.34405517578125, 305.6569519042969, 297.2154235839844, 270.54632568359375, 5316.4853515625, 4823.70654296875, 4410.57080078125, 3754.453857421875, 3449.28466796875, 3061.704833984375, 2932.33642578125, 2560.54345703125, 2039.31494140625, 1454.994873046875, 1359.194091796875, 1270.8626708984375, 899.3137817382812, 881.269775390625, 711.956298828125, 695.56396484375, 548.5269775390625, 536.6927490234375, 479.4109191894531, 460.91571044921875, 441.71929931640625, 401.12115478515625, 340.10821533203125, 316.8555908203125, 279.461181640625, 262.6033020019531, 226.8569793701172, 213.07574462890625, 206.87509155273438, 189.9705352783203, 10248.3916015625, 7404.025390625, 4220.2412109375, 4068.87060546875, 3040.372314453125, 2041.0645751953125, 1444.6187744140625, 1363.9873046875, 1270.2098388671875, 1180.95947265625, 798.9369506835938, 718.31298828125, 581.603271484375, 570.9005737304688, 374.65533447265625, 333.04632568359375, 279.1390380859375, 47.15834045410156, 1.1507010459899902, 1.1506104469299316, 1.1504586935043335, 1.1504837274551392, 1.1504297256469727, 1.1503608226776123, 1.1504676342010498, 1.150481104850769, 1.1504970788955688, 1.150448203086853, 1.1503500938415527, 1.150475263595581, 1.1504985094070435, 1.1506258249282837, 1.1505415439605713, 1.1506985425949097, 1.1506214141845703, 1.15082848072052, 1.1508623361587524, 1.151231288909912, 1.1508896350860596, 1.1506673097610474, 1.150808334350586, 1.1509376764297485, 1.1507079601287842, 6659.18994140625, 6207.76123046875, 4435.99951171875, 3450.751220703125, 2918.53466796875, 2815.6416015625, 2119.499267578125, 1934.3575439453125, 1631.591552734375, 1339.3057861328125, 1153.0802001953125, 802.4902954101562, 717.7286376953125, 597.1311645507812, 323.4096374511719, 231.51168823242188, 196.08763122558594, 121.17151641845703, 65.70191192626953, 1.1505812406539917, 1.1506214141845703, 1.1503585577011108, 1.1504533290863037, 1.1504281759262085, 1.1503546237945557, 1.1504019498825073, 1.150369644165039, 1.1503946781158447, 1.1505063772201538, 1.1504549980163574, 1.150475025177002, 1.1508623361587524, 1.1504559516906738, 1.15082848072052, 1.1506258249282837, 1.1505701541900635, 1.1508896350860596, 1.1507033109664917, 1.1506026983261108, 1.1506985425949097, 1.1507010459899902, 1.1509376764297485, 1.151231288909912, 5123.37841796875, 3671.02001953125, 2911.077392578125, 2702.8583984375, 2237.011962890625, 1990.2520751953125, 1766.6824951171875, 1422.6395263671875, 1361.469482421875, 1076.78466796875, 1073.5943603515625, 860.0653686523438, 587.6470336914062, 430.7613220214844, 312.7876892089844, 291.1868591308594, 102.30225372314453, 60.25421142578125, 1.1503913402557373, 1.1504452228546143, 1.1503703594207764, 1.1504019498825073, 1.1503455638885498, 1.1503794193267822, 1.1503918170928955, 1.1503432989120483, 1.1503962278366089, 1.1503643989562988, 1.150350570678711, 1.1503585577011108, 1.1505169868469238, 1.1504297256469727, 1.150481104850769, 1.1509376764297485, 1.1506985425949097, 1.1507010459899902, 1.1506134271621704, 1.1508623361587524, 1.15082848072052, 1.1506078243255615, 1.1506258249282837, 1.1508896350860596, 1.1507033109664917, 1.151231288909912, 13528.1455078125, 5696.5498046875, 1.151231288909912, 1.1505554914474487, 1.1505415439605713, 1.1504392623901367, 1.150511384010315, 1.1503760814666748, 1.1505423784255981, 1.1505814790725708, 1.1504191160202026, 1.1503870487213135, 1.1503608226776123, 1.1504733562469482, 1.1503897905349731, 1.1503835916519165, 1.1503759622573853, 1.150424838066101, 1.1505043506622314, 1.1503993272781372, 1.1503678560256958, 1.1504907608032227, 1.1503621339797974, 1.1503444910049438, 1.1503584384918213, 1.150586724281311, 1.1503441333770752, 1.150380253791809, 1.1503732204437256, 1.1504117250442505, 1.150502324104309, 1.1504639387130737, 1.15055513381958, 1.1505461931228638, 1.150808334350586, 1.1508896350860596, 1.1506508588790894, 1.1505255699157715, 1.1509376764297485, 1.1506538391113281, 1.1505638360977173, 1.1507126092910767, 1.1507079601287842, 1.150715708732605, 1.1506078243255615, 1.1506673097610474, 1.1508623361587524, 1.1506985425949097], \"loglift\": [30.0, 29.0, 28.0, 27.0, 26.0, 25.0, 24.0, 23.0, 22.0, 21.0, 20.0, 19.0, 18.0, 17.0, 16.0, 15.0, 14.0, 13.0, 12.0, 11.0, 10.0, 9.0, 8.0, 7.0, 6.0, 5.0, 4.0, 3.0, 2.0, 1.0, 1.656000018119812, 1.656000018119812, 1.656000018119812, 1.656000018119812, 1.656000018119812, 1.655900001525879, 1.655900001525879, 1.655900001525879, 1.655900001525879, 1.655900001525879, 1.655900001525879, 1.655900001525879, 1.655900001525879, 1.655900001525879, 1.655900001525879, 1.655900001525879, 1.655900001525879, 1.6557999849319458, 1.6557999849319458, 1.6557999849319458, 1.6557999849319458, 1.6557999849319458, 1.6557999849319458, 1.6557999849319458, 1.6557999849319458, 1.6557999849319458, 1.6557999849319458, 1.6557999849319458, 1.6557999849319458, 1.6557999849319458, 1.6549999713897705, 1.7237999439239502, 1.7237999439239502, 1.7237999439239502, 1.7237999439239502, 1.7237999439239502, 1.7237999439239502, 1.7237999439239502, 1.7237999439239502, 1.7237999439239502, 1.7237999439239502, 1.7237999439239502, 1.7237999439239502, 1.7237999439239502, 1.7237999439239502, 1.7237000465393066, 1.7237000465393066, 1.7237000465393066, 1.7237000465393066, 1.7237000465393066, 1.7237000465393066, 1.7237000465393066, 1.7237000465393066, 1.7237000465393066, 1.7237000465393066, 1.7237000465393066, 1.7237000465393066, 1.7237000465393066, 1.7237000465393066, 1.7237000465393066, 1.7237000465393066, 1.708799958229065, 1.947700023651123, 1.947700023651123, 1.947700023651123, 1.947700023651123, 1.947700023651123, 1.947700023651123, 1.947700023651123, 1.947700023651123, 1.94760000705719, 1.94760000705719, 1.94760000705719, 1.94760000705719, 1.94760000705719, 1.94760000705719, 1.94760000705719, 1.94760000705719, 1.94760000705719, 1.94760000705719, 1.94760000705719, 1.94760000705719, 1.94760000705719, 1.94760000705719, 1.9474999904632568, 1.9474999904632568, 1.9474999904632568, 1.9474999904632568, 1.9474999904632568, 1.9474999904632568, 1.9473999738693237, 1.9473999738693237, 1.9433000087738037, 2.93530011177063, 2.93530011177063, 2.9351999759674072, 2.9351999759674072, 2.9351999759674072, 2.9351999759674072, 2.9351999759674072, 2.9351999759674072, 2.9351999759674072, 2.9351000785827637, 2.934999942779541, 2.9349000453948975, 2.9349000453948975, 2.934799909591675, 2.9347000122070312, 2.9347000122070312, 2.9346001148223877, 2.934499979019165, 2.9344000816345215, 2.9344000816345215, 2.9344000816345215, 2.9344000816345215, 2.934299945831299, 2.934299945831299, 2.934299945831299, 2.934299945831299, 2.9342000484466553, 2.9342000484466553, 2.9342000484466553, 2.9340999126434326, 3.144399881362915, 3.1442999839782715, 3.144200086593628, 3.144200086593628, 3.144200086593628, 3.1440999507904053, 3.1440999507904053, 3.1440999507904053, 3.1440999507904053, 3.1440000534057617, 3.143899917602539, 3.143899917602539, 3.143899917602539, 3.143899917602539, 3.143899917602539, 3.1438000202178955, 3.1438000202178955, 3.1435999870300293, 3.1435000896453857, 3.1433000564575195, 3.143199920654297, 3.1429998874664307, 3.142699956893921, 3.1424999237060547, 3.1421000957489014, 3.1419999599456787, 3.1396000385284424, 3.1354000568389893, 3.127500057220459, 3.1212000846862793, 3.1679999828338623, 3.1679999828338623, 3.1679000854492188, 3.1679000854492188, 3.167799949645996, 3.167799949645996, 3.167799949645996, 3.167799949645996, 3.1677000522613525, 3.1677000522613525, 3.1677000522613525, 3.1677000522613525, 3.1675000190734863, 3.1675000190734863, 3.1673998832702637, 3.1673998832702637, 3.16729998588562, 3.16729998588562, 3.16729998588562, 3.16729998588562, 3.1672000885009766, 3.1672000885009766, 3.1672000885009766, 3.1670000553131104, 3.1670000553131104, 3.1670000553131104, 3.166800022125244, 3.166800022125244, 3.166599988937378, 3.1665000915527344, 3.2483999729156494, 3.248300075531006, 3.248300075531006, 3.248199939727783, 3.248199939727783, 3.248199939727783, 3.248199939727783, 3.2481000423431396, 3.2481000423431396, 3.247999906539917, 3.247999906539917, 3.2479000091552734, 3.2479000091552734, 3.2479000091552734, 3.24780011177063, 3.24780011177063, 3.2476999759674072, 3.2476999759674072, 3.2476999759674072, 3.2474000453948975, 3.2472000122070312, 3.2472000122070312, 3.2472000122070312, 3.2471001148223877, 3.246999979019165, 3.246799945831299, 3.2465999126434326, 3.2465999126434326, 3.2465999126434326, 3.2465999126434326, 3.251499891281128, 3.251499891281128, 3.2513999938964844, 3.2513999938964844, 3.251300096511841, 3.251199960708618, 3.251199960708618, 3.251199960708618, 3.2511000633239746, 3.2511000633239746, 3.2511000633239746, 3.2511000633239746, 3.2511000633239746, 3.250999927520752, 3.250999927520752, 3.2509000301361084, 3.2509000301361084, 3.2507998943328857, 3.250699996948242, 3.2506000995635986, 3.2506000995635986, 3.2506000995635986, 3.2506000995635986, 3.250499963760376, 3.250200033187866, 3.250200033187866, 3.250200033187866, 3.2499001026153564, 3.2493999004364014, 3.248199939727783, 3.266400098800659, 3.2662999629974365, 3.2662999629974365, 3.2662999629974365, 3.2662999629974365, 3.266200065612793, 3.266200065612793, 3.2660999298095703, 3.2660000324249268, 3.2660000324249268, 3.2660000324249268, 3.2660000324249268, 3.2660000324249268, 3.2660000324249268, 3.265899896621704, 3.265700101852417, 3.2655999660491943, 3.265500068664551, 3.265500068664551, 3.265399932861328, 3.265000104904175, 3.264899969100952, 3.2646000385284424, 3.26419997215271, 3.2632999420166016, 3.2627999782562256, 3.2623000144958496, 3.2623000144958496, 3.261399984359741, 3.2611000537872314, 3.3145999908447266, 3.3145999908447266, 3.314500093460083, 3.314500093460083, 3.314500093460083, 3.314500093460083, 3.3143999576568604, 3.3143999576568604, 3.3143999576568604, 3.314300060272217, 3.314300060272217, 3.314199924468994, 3.314199924468994, 3.3141000270843506, 3.3141000270843506, 3.3141000270843506, 3.3141000270843506, 3.313999891281128, 3.3138999938964844, 3.3138999938964844, 3.313800096511841, 3.313800096511841, 3.313499927520752, 3.313199996948242, 3.313199996948242, 3.312999963760376, 3.312999963760376, 3.3127999305725098, 3.3125998973846436, 3.3124001026153564, 3.6157000064849854, 3.615600109100342, 3.615600109100342, 3.615600109100342, 3.615600109100342, 3.615499973297119, 3.615499973297119, 3.6154000759124756, 3.6154000759124756, 3.615299940109253, 3.6150999069213867, 3.615000009536743, 3.6149001121520996, 3.614799976348877, 3.6147000789642334, 3.6147000789642334, 3.614000082015991, 3.613600015640259, 3.6131999492645264, 3.6124000549316406, 3.6113998889923096, 3.6110999584198, 3.5859999656677246, 3.4962000846862793, 0.6085000038146973, 0.6080999970436096, 0.6080999970436096, 0.6079999804496765, 0.6079999804496765, 0.6079999804496765, 0.6079000234603882, 0.6078000068664551, 3.644200086593628, 3.644200086593628, 3.644200086593628, 3.643899917602539, 3.643899917602539, 3.643899917602539, 3.643899917602539, 3.6438000202178955, 3.6438000202178955, 3.6438000202178955, 3.6438000202178955, 3.643699884414673, 3.6435999870300293, 3.6435999870300293, 3.6435000896453857, 3.6435000896453857, 3.6435000896453857, 3.6433000564575195, 3.6428000926971436, 3.6428000926971436, 3.642699956893921, 3.642699956893921, 3.6426000595092773, 3.6426000595092773, 3.6426000595092773, 3.642400026321411, 3.642400026321411, 3.642199993133545, 3.6419999599456787, 3.6419999599456787, 3.7462000846862793, 3.7462000846862793, 3.7462000846862793, 3.7462000846862793, 3.7460999488830566, 3.746000051498413, 3.746000051498413, 3.746000051498413, 3.7458999156951904, 3.7458999156951904, 3.745800018310547, 3.745800018310547, 3.745699882507324, 3.745699882507324, 3.745699882507324, 3.7455999851226807, 3.745300054550171, 3.744499921798706, 3.74429988861084, 3.7441000938415527, 3.7437000274658203, 3.7435998916625977, 3.743299961090088, 3.7427000999450684, 3.7409000396728516, 3.740799903869629, 3.739799976348877, 3.7393999099731445, 3.737299919128418, 3.736799955368042, 3.795799970626831, 3.795799970626831, 3.7957000732421875, 3.795099973678589, 3.794800043106079, 3.794600009918213, 3.7943999767303467, 3.793100118637085, 0.599399983882904, 0.597100019454956, 0.5965999960899353, 0.5964999794960022, 0.5961999893188477, 0.5961999893188477, 0.5960999727249146, 0.5960999727249146, 0.5960999727249146, 0.5960000157356262, 0.5960000157356262, 0.5960000157356262, 0.5960000157356262, 0.5960000157356262, 0.5960000157356262, 0.5960000157356262, 0.5960000157356262, 0.5960000157356262, 0.5960000157356262, 0.5960000157356262, 0.5960000157356262, 0.5960000157356262, 0.5960000157356262, 0.5958999991416931, 0.5958999991416931, 0.5957000255584717, 0.5958999991416931, 0.5958999991416931, 0.59579998254776, 0.5960000157356262, 0.59579998254776, 0.5958999991416931, 3.8443000316619873, 3.8443000316619873, 3.8441998958587646, 3.844099998474121, 3.8440001010894775, 3.8440001010894775, 3.843899965286255, 3.8438000679016113, 3.8438000679016113, 3.8438000679016113, 3.843600034713745, 3.843600034713745, 3.8434998989105225, 3.843400001525879, 3.843400001525879, 3.8433001041412354, 3.842900037765503, 3.8427000045776367, 3.842600107192993, 3.842600107192993, 3.842600107192993, 3.8424999713897705, 3.8422999382019043, 3.8420000076293945, 3.841099977493286, 3.8410000801086426, 3.8410000801086426, 3.84089994430542, 3.8408000469207764, 3.840399980545044, 3.9138998985290527, 3.9138998985290527, 3.9138998985290527, 3.913800001144409, 3.913800001144409, 3.913800001144409, 3.913800001144409, 3.9137001037597656, 3.913599967956543, 3.9133999347686768, 3.913300037384033, 3.913300037384033, 3.912899971008301, 3.912899971008301, 3.912600040435791, 3.912600040435791, 3.912100076675415, 3.912100076675415, 3.911799907684326, 3.911799907684326, 3.9117000102996826, 3.911400079727173, 3.910900115966797, 3.9107000827789307, 3.9102001190185547, 3.9100000858306885, 3.9093000888824463, 3.9089999198913574, 3.908799886703491, 3.908400058746338, 4.023799896240234, 4.023799896240234, 4.02370023727417, 4.02370023727417, 4.023600101470947, 4.023399829864502, 4.023200035095215, 4.023099899291992, 4.023099899291992, 4.0229997634887695, 4.022600173950195, 4.02239990234375, 4.021999835968018, 4.021999835968018, 4.020999908447266, 4.020599842071533, 4.019999980926514, 4.000400066375732, 0.9941999912261963, 0.9940999746322632, 0.9940999746322632, 0.9940999746322632, 0.9940999746322632, 0.9940999746322632, 0.9940999746322632, 0.9940999746322632, 0.9940999746322632, 0.9940999746322632, 0.9940999746322632, 0.9940999746322632, 0.9940999746322632, 0.9940999746322632, 0.9940999746322632, 0.9940000176429749, 0.9940999746322632, 0.9940000176429749, 0.9940000176429749, 0.9937999844551086, 0.9939000010490417, 0.9940000176429749, 0.9939000010490417, 0.9939000010490417, 0.9940000176429749, 4.070199966430664, 4.070199966430664, 4.070199966430664, 4.070099830627441, 4.070000171661377, 4.070000171661377, 4.069900035858154, 4.069799900054932, 4.069699764251709, 4.0696001052856445, 4.069499969482422, 4.068999767303467, 4.068900108337402, 4.068600177764893, 4.066999912261963, 4.065700054168701, 4.064799785614014, 4.061399936676025, 4.053699970245361, 1.1282999515533447, 1.1282000541687012, 1.1282000541687012, 1.1282000541687012, 1.1282000541687012, 1.1282000541687012, 1.1282000541687012, 1.1282000541687012, 1.1282000541687012, 1.1282000541687012, 1.1282000541687012, 1.1282000541687012, 1.128100037574768, 1.1282000541687012, 1.128100037574768, 1.128100037574768, 1.128100037574768, 1.128000020980835, 1.128100037574768, 1.128100037574768, 1.128100037574768, 1.128100037574768, 1.1279000043869019, 1.1276999711990356, 4.328199863433838, 4.328100204467773, 4.328000068664551, 4.328000068664551, 4.327899932861328, 4.327899932861328, 4.3277997970581055, 4.327600002288818, 4.327600002288818, 4.327400207519531, 4.327400207519531, 4.327099800109863, 4.326600074768066, 4.325900077819824, 4.324900150299072, 4.324699878692627, 4.317699909210205, 4.310200214385986, 1.4783999919891357, 1.4783999919891357, 1.4783999919891357, 1.4782999753952026, 1.4782999753952026, 1.4782999753952026, 1.4782999753952026, 1.4782999753952026, 1.4782999753952026, 1.4782999753952026, 1.4782999753952026, 1.4782999753952026, 1.4782999753952026, 1.4782999753952026, 1.4782999753952026, 1.4781999588012695, 1.4781999588012695, 1.4781999588012695, 1.4781999588012695, 1.4780999422073364, 1.4780999422073364, 1.4781999588012695, 1.4781999588012695, 1.4780999422073364, 1.4781999588012695, 1.4778000116348267, 4.6869001388549805, 4.686800003051758, 1.5870000123977661, 1.5859999656677246, 1.5859999656677246, 1.5859999656677246, 1.5859999656677246, 1.5858999490737915, 1.5858999490737915, 1.5858999490737915, 1.5858999490737915, 1.5858999490737915, 1.5858999490737915, 1.5858999490737915, 1.5858999490737915, 1.5858999490737915, 1.5858999490737915, 1.5858999490737915, 1.5858999490737915, 1.5858999490737915, 1.5858999490737915, 1.5858999490737915, 1.5858999490737915, 1.5858999490737915, 1.5858999490737915, 1.5858999490737915, 1.5858999490737915, 1.5858999490737915, 1.5858999490737915, 1.5858999490737915, 1.5858999490737915, 1.585800051689148, 1.585800051689148, 1.585800051689148, 1.5857000350952148, 1.5857000350952148, 1.585800051689148, 1.585800051689148, 1.5856000185012817, 1.585800051689148, 1.585800051689148, 1.5857000350952148, 1.5857000350952148, 1.5857000350952148, 1.5857000350952148, 1.5857000350952148, 1.5855000019073486, 1.5857000350952148], \"logprob\": [30.0, 29.0, 28.0, 27.0, 26.0, 25.0, 24.0, 23.0, 22.0, 21.0, 20.0, 19.0, 18.0, 17.0, 16.0, 15.0, 14.0, 13.0, 12.0, 11.0, 10.0, 9.0, 8.0, 7.0, 6.0, 5.0, 4.0, 3.0, 2.0, 1.0, -3.131700038909912, -3.266700029373169, -3.296099901199341, -3.340399980545044, -3.3968000411987305, -3.414299964904785, -3.609499931335449, -3.6582999229431152, -3.6582000255584717, -3.869800090789795, -3.8884999752044678, -3.910900115966797, -4.056099891662598, -4.088099956512451, -4.112400054931641, -4.206099987030029, -4.271999835968018, -4.287199974060059, -4.349599838256836, -4.396699905395508, -4.409800052642822, -4.423399925231934, -4.431300163269043, -4.447500228881836, -4.4629998207092285, -4.473800182342529, -4.491799831390381, -4.50540018081665, -4.507999897003174, -4.524600028991699, -3.6147000789642334, -2.9904000759124756, -3.0947999954223633, -3.22189998626709, -3.4393999576568604, -3.442199945449829, -3.5692999362945557, -3.5945000648498535, -3.6540000438690186, -3.6809000968933105, -3.7395999431610107, -3.8494999408721924, -3.865600109100342, -2.7490999698638916, -3.9707000255584717, -4.089300155639648, -4.126999855041504, -4.139100074768066, -4.150000095367432, -4.152599811553955, -4.170400142669678, -4.188799858093262, -4.246200084686279, -4.26039981842041, -4.394899845123291, -4.398900032043457, -4.421000003814697, -4.431700229644775, -4.476900100708008, -4.477700233459473, -4.493100166320801, -3.794100046157837, -2.723900079727173, -2.7390999794006348, -3.2878000736236572, -3.3096001148223877, -3.3561999797821045, -3.4351000785827637, -3.470400094985962, -3.4788999557495117, -3.6352999210357666, -3.675299882888794, -3.706399917602539, -3.810800075531006, -3.835599899291992, -3.8559999465942383, -3.91759991645813, -3.9453001022338867, -3.954400062561035, -3.9760000705718994, -4.053599834442139, -4.122200012207031, -4.126500129699707, -4.128499984741211, -4.182700157165527, -4.300600051879883, -4.369699954986572, -4.459000110626221, -4.480199813842773, -4.536300182342529, -4.657199859619141, -4.670899868011475, -4.386600017547607, -1.8476999998092651, -2.0364999771118164, -2.6403000354766846, -2.6635000705718994, -2.8775999546051025, -2.995300054550171, -3.0067999362945557, -3.127700090408325, -3.1380999088287354, -3.3120999336242676, -3.5975000858306885, -3.9291000366210938, -3.9444000720977783, -4.25540018081665, -4.3292999267578125, -4.357800006866455, -4.470200061798096, -4.655900001525879, -4.727099895477295, -4.7291998863220215, -4.741499900817871, -4.742000102996826, -4.823599815368652, -4.831200122833252, -4.834499835968018, -4.863800048828125, -4.867700099945068, -4.944499969482422, -4.948599815368652, -4.973400115966797, -1.215000033378601, -2.113800048828125, -2.8078999519348145, -2.8561999797821045, -2.944999933242798, -3.2901999950408936, -3.3417999744415283, -3.437999963760376, -3.47379994392395, -3.5862998962402344, -3.795799970626831, -3.858799934387207, -3.904400110244751, -3.918100118637085, -3.939300060272217, -4.003799915313721, -4.043000221252441, -4.330100059509277, -4.508600234985352, -4.63539981842041, -4.7281999588012695, -4.880300045013428, -5.111000061035156, -5.1869001388549805, -5.379499912261963, -5.420599937438965, -6.12529993057251, -6.764400005340576, -7.3958001136779785, -7.717800140380859, -1.4825999736785889, -2.2679998874664307, -2.927500009536743, -2.972100019454956, -3.1089999675750732, -3.234100103378296, -3.3239998817443848, -3.347899913787842, -3.4902000427246094, -3.5095999240875244, -3.562000036239624, -3.677299976348877, -3.9623000621795654, -4.065899848937988, -4.153299808502197, -4.183800220489502, -4.230400085449219, -4.2855000495910645, -4.323999881744385, -4.342199802398682, -4.36359977722168, -4.38100004196167, -4.390999794006348, -4.6057000160217285, -4.611000061035156, -4.6519999504089355, -4.758200168609619, -4.7835001945495605, -4.91510009765625, -5.006100177764893, -1.8459999561309814, -2.142400026321411, -2.6024999618530273, -2.783600091934204, -2.9072999954223633, -2.908600091934204, -3.141200065612793, -3.2792999744415283, -3.3087000846862793, -3.531599998474121, -3.565200090408325, -3.7332000732421875, -3.7528998851776123, -3.8873000144958496, -3.902100086212158, -4.037899971008301, -4.077300071716309, -4.124000072479248, -4.179800033569336, -4.4969000816345215, -4.660999774932861, -4.662899971008301, -4.6890997886657715, -4.736599922180176, -4.815899848937988, -4.960000038146973, -5.029799938201904, -5.049600124359131, -5.0584001541137695, -5.07289981842041, -1.9997999668121338, -2.0141000747680664, -2.1656999588012695, -2.59060001373291, -3.109999895095825, -3.3808000087738037, -3.4630000591278076, -3.531399965286255, -3.5541000366210938, -3.5852999687194824, -3.5924999713897705, -3.6926000118255615, -3.709199905395508, -3.8046000003814697, -3.8066999912261963, -4.044600009918213, -4.078700065612793, -4.155399799346924, -4.329999923706055, -4.353899955749512, -4.373899936676025, -4.412399768829346, -4.436699867248535, -4.518799781799316, -4.740799903869629, -4.757299900054932, -4.760700225830078, -4.943399906158447, -5.211699962615967, -5.656400203704834, -1.3259999752044678, -2.4965999126434326, -2.525399923324585, -2.745300054550171, -2.7453999519348145, -3.00600004196167, -3.137700080871582, -3.566800117492676, -3.6212000846862793, -3.627700090408325, -3.6538000106811523, -3.7009999752044678, -3.7204999923706055, -3.7734999656677246, -3.806299924850464, -4.217700004577637, -4.311299800872803, -4.402299880981445, -4.441699981689453, -4.47790002822876, -4.856900215148926, -4.896500110626221, -5.072400093078613, -5.2571001052856445, -5.589200019836426, -5.730500221252441, -5.85890007019043, -5.861499786376953, -6.067999839782715, -6.11329984664917, -1.9488999843597412, -2.359600067138672, -2.626699924468994, -2.694999933242798, -2.8053998947143555, -2.8148000240325928, -3.1972999572753906, -3.26990008354187, -3.3055999279022217, -3.449899911880493, -3.510699987411499, -3.6189000606536865, -3.7709999084472656, -3.839400053024292, -3.898200035095215, -3.9014999866485596, -3.901700019836426, -3.9737000465393066, -4.1697998046875, -4.229899883270264, -4.283699989318848, -4.315800189971924, -4.5833001136779785, -4.766499996185303, -4.780700206756592, -4.897200107574463, -4.921199798583984, -5.022299766540527, -5.128600120544434, -5.202899932861328, -1.695199966430664, -2.1740000247955322, -2.205899953842163, -2.6010000705718994, -2.6071999073028564, -2.7507998943328857, -2.867500066757202, -3.1440000534057617, -3.1449999809265137, -3.31850004196167, -3.7479000091552734, -3.829900026321411, -3.9351999759674072, -4.0279998779296875, -4.156599998474121, -4.185100078582764, -4.689199924468994, -4.886899948120117, -5.05109977722168, -5.30079984664917, -5.5569000244140625, -5.637199878692627, -7.496300220489502, -8.930000305175781, -13.949899673461914, -13.949999809265137, -13.950599670410156, -13.950699806213379, -13.950599670410156, -13.950499534606934, -13.950599670410156, -13.950599670410156, -2.1654999256134033, -2.250999927520752, -2.2964999675750732, -3.164799928665161, -3.1719000339508057, -3.225800037384033, -3.268199920654297, -3.405900001525879, -3.4189000129699707, -3.4439001083374023, -3.466900110244751, -3.6649999618530273, -3.7511000633239746, -3.8073999881744385, -3.8087000846862793, -3.885499954223633, -3.9077999591827393, -4.126999855041504, -4.453400135040283, -4.458499908447266, -4.551300048828125, -4.563700199127197, -4.604400157928467, -4.606299877166748, -4.622900009155273, -4.701300144195557, -4.708199977874756, -4.801000118255615, -4.895599842071533, -4.902599811553955, -2.22979998588562, -2.390199899673462, -2.40939998626709, -2.440999984741211, -2.6542000770568848, -2.9344000816345215, -3.0729000568389893, -3.111299991607666, -3.1470999717712402, -3.3169000148773193, -3.34089994430542, -3.375499963760376, -3.520400047302246, -3.53439998626709, -3.6375999450683594, -3.7351999282836914, -4.036200046539307, -4.587600231170654, -4.705399990081787, -4.795400142669678, -4.94950008392334, -4.98769998550415, -5.098499774932861, -5.252099990844727, -5.668799877166748, -5.670499801635742, -5.841300010681152, -5.9054999351501465, -6.163899898529053, -6.224100112915039, -0.926800012588501, -1.0647000074386597, -2.1036999225616455, -3.5590999126434326, -3.9458000659942627, -4.091899871826172, -4.246699810028076, -4.9095001220703125, -13.958999633789062, -13.961700439453125, -13.962200164794922, -13.962400436401367, -13.962400436401367, -13.962300300598145, -13.962699890136719, -13.962599754333496, -13.962599754333496, -13.962699890136719, -13.962599754333496, -13.962599754333496, -13.962800025939941, -13.962800025939941, -13.962900161743164, -13.962699890136719, -13.962400436401367, -13.962800025939941, -13.962800025939941, -13.962800025939941, -13.962800025939941, -13.962800025939941, -13.962699890136719, -13.962499618530273, -13.962599754333496, -13.962400436401367, -13.962699890136719, -13.962699890136719, -13.962599754333496, -13.962699890136719, -13.962699890136719, -13.962699890136719, -1.8904000520706177, -1.917799949645996, -2.493799924850464, -2.964400053024292, -3.0130999088287354, -3.1482999324798584, -3.3155999183654785, -3.3777999877929688, -3.43969988822937, -3.449399948120117, -3.6821000576019287, -3.7202000617980957, -3.8036999702453613, -3.9500999450683594, -3.9544999599456787, -3.973900079727173, -4.3242998123168945, -4.4141998291015625, -4.48360013961792, -4.485400199890137, -4.50029993057251, -4.528299808502197, -4.629899978637695, -4.737400054931641, -5.084099769592285, -5.08620023727417, -5.088500022888184, -5.1356000900268555, -5.163700103759766, -5.2581000328063965, -2.206399917602539, -2.3036999702453613, -2.3933000564575195, -2.5543999671936035, -2.63919997215271, -2.7583999633789062, -2.8015999794006348, -2.937299966812134, -3.1649999618530273, -3.5027999877929688, -3.571000099182129, -3.638200044631958, -3.9844000339508057, -4.004700183868408, -4.218299865722656, -4.241700172424316, -4.479599952697754, -4.501399993896484, -4.614500045776367, -4.6539998054504395, -4.696599960327148, -4.793300151824951, -4.958799839019775, -5.029799938201904, -5.155900001525879, -5.218299865722656, -5.365300178527832, -5.428299903869629, -5.458000183105469, -5.543700218200684, -1.4401999711990356, -1.7654000520706177, -2.3276000022888184, -2.3642001152038574, -2.655600070953369, -3.05430006980896, -3.4001998901367188, -3.45770001411438, -3.528899908065796, -3.601900100708008, -3.9930999279022217, -4.099599838256836, -4.311100006103516, -4.329699993133545, -4.7519001960754395, -4.869999885559082, -5.0472002029418945, -6.84499979019165, -13.564399719238281, -13.564499855041504, -13.56470012664795, -13.564599990844727, -13.56470012664795, -13.564800262451172, -13.56470012664795, -13.56470012664795, -13.56470012664795, -13.56470012664795, -13.564800262451172, -13.56470012664795, -13.56470012664795, -13.564599990844727, -13.564599990844727, -13.564499855041504, -13.564599990844727, -13.564499855041504, -13.564499855041504, -13.564299583435059, -13.564499855041504, -13.564599990844727, -13.564499855041504, -13.564499855041504, -13.564599990844727, -1.8249000310897827, -1.8952000141143799, -2.231300115585327, -2.4825000762939453, -2.650099992752075, -2.686000108718872, -2.970099925994873, -3.0615999698638916, -3.2318999767303467, -3.4293999671936035, -3.5792999267578125, -3.942199945449829, -4.053999900817871, -4.2382001876831055, -4.853000164031982, -5.188600063323975, -5.355500221252441, -5.840400218963623, -6.460100173950195, -13.430299758911133, -13.430399894714355, -13.430700302124023, -13.4306001663208, -13.4306001663208, -13.430700302124023, -13.4306001663208, -13.430700302124023, -13.4306001663208, -13.430500030517578, -13.4306001663208, -13.4306001663208, -13.430299758911133, -13.4306001663208, -13.430399894714355, -13.430500030517578, -13.430500030517578, -13.430399894714355, -13.430500030517578, -13.430500030517578, -13.430500030517578, -13.430500030517578, -13.430399894714355, -13.430399894714355, -1.829200029373169, -2.162600040435791, -2.3945999145507812, -2.468899965286255, -2.658099889755249, -2.775099992752075, -2.8942999839782715, -3.1110000610351562, -3.1549999713897705, -3.3898000717163086, -3.3928000926971436, -3.614799976348877, -3.996299982070923, -4.307499885559082, -4.628499984741211, -4.700300216674805, -5.753300189971924, -6.29010009765625, -13.080400466918945, -13.080400466918945, -13.080499649047852, -13.080499649047852, -13.080499649047852, -13.080499649047852, -13.080499649047852, -13.080599784851074, -13.080499649047852, -13.080499649047852, -13.080599784851074, -13.080599784851074, -13.080400466918945, -13.080499649047852, -13.080499649047852, -13.0802001953125, -13.080300331115723, -13.080300331115723, -13.080400466918945, -13.080300331115723, -13.080300331115723, -13.080400466918945, -13.080400466918945, -13.080400466918945, -13.080400466918945, -13.080300331115723, -0.49950000643730164, -1.3645000457763672, -12.971099853515625, -12.972700119018555, -12.972700119018555, -12.972800254821777, -12.972800254821777, -12.972900390625, -12.972800254821777, -12.972800254821777, -12.972900390625, -12.972999572753906, -12.972999572753906, -12.972900390625, -12.972999572753906, -12.972999572753906, -12.972999572753906, -12.972900390625, -12.972900390625, -12.972999572753906, -12.972999572753906, -12.972900390625, -12.972999572753906, -12.972999572753906, -12.972999572753906, -12.972800254821777, -12.972999572753906, -12.972999572753906, -12.972999572753906, -12.972999572753906, -12.972900390625, -12.972900390625, -12.972900390625, -12.972900390625, -12.972700119018555, -12.972700119018555, -12.972800254821777, -12.972900390625, -12.972700119018555, -12.972900390625, -12.972900390625, -12.972800254821777, -12.972900390625, -12.972900390625, -12.972900390625, -12.972900390625, -12.972900390625, -12.972900390625]}, \"token.table\": {\"Topic\": [2, 2, 16, 11, 1, 2, 17, 10, 2, 7, 1, 16, 3, 5, 4, 9, 17, 16, 2, 7, 10, 5, 3, 8, 13, 7, 10, 16, 4, 4, 10, 1, 13, 8, 16, 8, 11, 1, 15, 6, 5, 13, 16, 8, 18, 13, 4, 16, 12, 7, 3, 6, 9, 19, 6, 3, 12, 14, 15, 12, 4, 19, 9, 7, 11, 17, 19, 1, 3, 9, 13, 4, 9, 6, 7, 15, 9, 19, 9, 8, 11, 13, 3, 2, 19, 8, 19, 5, 12, 17, 3, 3, 7, 1, 11, 16, 12, 2, 9, 2, 16, 11, 11, 10, 9, 18, 11, 7, 5, 4, 7, 19, 19, 19, 4, 16, 12, 19, 13, 17, 1, 5, 12, 11, 15, 8, 9, 6, 7, 17, 8, 12, 15, 5, 16, 3, 15, 3, 13, 5, 16, 3, 5, 8, 11, 4, 6, 19, 9, 15, 1, 6, 5, 6, 11, 17, 9, 12, 5, 15, 13, 6, 6, 13, 17, 2, 13, 6, 12, 15, 18, 11, 18, 5, 11, 2, 9, 3, 9, 7, 13, 2, 3, 8, 15, 16, 8, 10, 9, 15, 12, 14, 14, 12, 7, 16, 7, 6, 1, 15, 1, 13, 16, 11, 12, 4, 8, 4, 9, 10, 10, 7, 13, 1, 2, 4, 10, 6, 4, 10, 5, 17, 16, 3, 10, 12, 15, 14, 7, 11, 5, 5, 5, 13, 13, 10, 8, 8, 2, 14, 1, 15, 16, 11, 8, 16, 4, 14, 13, 4, 19, 2, 5, 17, 18, 15, 6, 11, 12, 16, 8, 4, 12, 13, 10, 1, 16, 15, 13, 1, 5, 12, 7, 9, 6, 3, 18, 16, 1, 10, 10, 15, 19, 1, 8, 8, 5, 10, 15, 18, 12, 12, 9, 4, 8, 8, 12, 8, 13, 8, 3, 1, 3, 13, 5, 11, 9, 7, 8, 2, 13, 9, 1, 9, 3, 20, 16, 9, 18, 7, 10, 12, 6, 9, 10, 15, 12, 6, 16, 2, 6, 6, 15, 17, 3, 4, 5, 3, 8, 16, 3, 4, 10, 2, 16, 18, 11, 4, 6, 18, 4, 19, 10, 3, 13, 2, 9, 19, 8, 4, 9, 8, 6, 5, 2, 14, 11, 1, 12, 3, 2, 10, 12, 18, 11, 15, 4, 7, 13, 15, 14, 8, 17, 5, 5, 10, 3, 10, 15, 6, 2, 2, 11, 10, 6, 7, 4, 1, 5, 1, 9, 8, 6, 1, 13, 5, 2, 3, 1, 13, 10, 4, 15, 2, 5, 7, 6, 17, 2, 7, 3, 10, 7, 12, 12, 3, 7, 6, 13, 12, 19, 2, 3, 5, 7, 17, 11, 9, 13, 3, 4, 1, 10, 17, 2, 3, 9, 9, 20, 15, 10, 15, 16, 6, 10, 5, 18, 16, 16, 10, 1, 19, 19, 15, 2, 15, 11, 1, 12, 8, 13, 12, 17, 13, 7, 18, 15, 4, 1, 1, 2, 7, 1, 16, 12, 6, 6, 18, 18, 6, 7, 7, 2, 5, 18, 4, 2, 9, 18, 18, 18, 3, 8, 16, 4, 17, 2, 17, 1, 7, 2, 1, 3, 3, 15, 4], \"Freq\": [0.9999266862869263, 0.9997756481170654, 0.9970569610595703, 0.9985238313674927, 0.9998499155044556, 0.9999698400497437, 0.999548614025116, 0.998203694820404, 0.9998389482498169, 0.9994822144508362, 0.9997223615646362, 0.9972997307777405, 0.9998459219932556, 0.9691241383552551, 0.9992125630378723, 0.9982214570045471, 0.9998642206192017, 0.9957699775695801, 0.9999145865440369, 0.999625563621521, 0.999153196811676, 0.9985793232917786, 0.9998757839202881, 0.9988943934440613, 0.9995270371437073, 0.9995364546775818, 0.9991663098335266, 0.9997698068618774, 0.9990337491035461, 0.9987135529518127, 0.9994398355484009, 0.9997534155845642, 0.9996173977851868, 0.9995934963226318, 0.9987092018127441, 0.9988601207733154, 0.927325427532196, 0.9998042583465576, 0.9980515241622925, 0.9996904730796814, 0.9995059370994568, 0.9995513558387756, 0.9996127486228943, 0.9999013543128967, 0.9956413507461548, 0.9988109469413757, 0.9999676942825317, 0.9986568093299866, 0.9972983002662659, 0.9985724091529846, 0.9998724460601807, 0.9993497133255005, 0.9998071789741516, 0.9993708729743958, 0.9997884035110474, 0.9998544454574585, 0.9989601373672485, 0.9999390244483948, 0.994284451007843, 0.9995481371879578, 0.9987905025482178, 0.9997221231460571, 0.9995321035385132, 0.999851405620575, 0.999772310256958, 0.9998615384101868, 0.9992712736129761, 0.999693751335144, 0.9997488856315613, 0.9988965392112732, 0.9939420223236084, 0.9998494386672974, 0.9994246959686279, 0.999663233757019, 0.997516393661499, 0.9992147088050842, 0.9994692802429199, 0.9996137022972107, 0.9975751638412476, 0.9993571639060974, 0.999571681022644, 0.9992668628692627, 0.9998873472213745, 0.9998307228088379, 0.9996299147605896, 0.9993841648101807, 0.9791846871376038, 0.9997957348823547, 0.9996655583381653, 0.9754372239112854, 0.9998975396156311, 0.999721109867096, 0.9989157319068909, 0.9999639987945557, 0.998988151550293, 0.9972049593925476, 0.9981285929679871, 0.9999645352363586, 0.9977176189422607, 0.9997916221618652, 0.999643862247467, 0.9991859793663025, 0.9997963309288025, 0.9988898634910583, 0.9935986399650574, 0.9997721314430237, 0.9999087452888489, 0.9989508390426636, 0.9998416900634766, 0.9997574687004089, 0.9994581341743469, 0.9996824264526367, 0.9989206790924072, 0.9982326030731201, 0.9996264576911926, 0.9993551969528198, 0.9996331334114075, 0.999550461769104, 0.999708890914917, 0.9997059106826782, 0.9999334812164307, 0.9993374943733215, 0.9980868101119995, 0.999795138835907, 0.9958043098449707, 0.9985083341598511, 0.9994792938232422, 0.9998318552970886, 0.9993782043457031, 0.9968582987785339, 0.9994375109672546, 0.9990662336349487, 0.9991765022277832, 0.9953182935714722, 0.9993212223052979, 0.9998179078102112, 0.9992976784706116, 0.9998406171798706, 0.9990919232368469, 0.999327540397644, 0.994771420955658, 0.9998841285705566, 0.9988589882850647, 0.9996103048324585, 0.9994605183601379, 0.999463677406311, 0.9991900324821472, 0.9995476007461548, 0.999953031539917, 0.9986546039581299, 0.9998362064361572, 0.9997441172599792, 0.999527096748352, 0.9997597932815552, 0.9673482179641724, 0.9991875290870667, 0.9998542666435242, 0.9991372227668762, 0.9984520077705383, 0.9990901350975037, 0.9993160367012024, 0.9994918704032898, 0.9995160102844238, 0.999370276927948, 0.9984225630760193, 0.999908447265625, 0.9979292154312134, 0.9997605681419373, 0.9995675086975098, 0.998923122882843, 0.9994741678237915, 0.9996854662895203, 0.9997823238372803, 0.9999778866767883, 0.9995537400245667, 0.9998595714569092, 0.9991786479949951, 0.9998824596405029, 0.9997397065162659, 0.9982171654701233, 0.9993749260902405, 0.9998605251312256, 7.243004074553028e-05, 0.9998401403427124, 0.9997383952140808, 0.9993162155151367, 0.999421238899231, 0.9992721676826477, 0.9970531463623047, 0.9976522326469421, 0.997855007648468, 0.9999626874923706, 0.9989317059516907, 0.9977861642837524, 0.9998790621757507, 0.9967415928840637, 0.9990108013153076, 0.9993479251861572, 0.9998887777328491, 0.9989302754402161, 0.9998615384101868, 0.995770275592804, 0.9948911070823669, 0.9995242357254028, 0.9995925426483154, 0.9986240863800049, 0.9989048838615417, 0.9997085928916931, 0.9998688697814941, 0.9994263052940369, 0.9990171790122986, 0.9995126128196716, 0.9980910420417786, 0.9989742040634155, 0.0008837635978125036, 0.9995706677436829, 0.9987878203392029, 0.999464213848114, 0.999596118927002, 0.9994331002235413, 0.9995517730712891, 0.9981721043586731, 0.9983716011047363, 0.9998193383216858, 0.9999458193778992, 0.9978073835372925, 0.9978507161140442, 0.9998131990432739, 0.9997778534889221, 0.9980753064155579, 0.9994985461235046, 0.9997509121894836, 0.9884214997291565, 0.999763011932373, 0.9997915029525757, 0.9993756413459778, 0.999552309513092, 0.9995462894439697, 0.9998492002487183, 0.997612714767456, 0.9998142719268799, 0.9989864826202393, 0.9972162246704102, 0.9961152672767639, 0.9990471601486206, 0.9985391497612, 0.9994887709617615, 0.9988705515861511, 0.9897879362106323, 0.9989939332008362, 0.9974817037582397, 0.9998978972434998, 0.9989149570465088, 0.9992761611938477, 0.9992982149124146, 0.9988219738006592, 0.9997695088386536, 0.9979287385940552, 0.9994623064994812, 0.9993972182273865, 0.9997087717056274, 0.9993154406547546, 0.9994421005249023, 0.9995298385620117, 0.9995120763778687, 0.9998887777328491, 0.9980132579803467, 0.9996132254600525, 0.9995955228805542, 0.9997866749763489, 0.9989734292030334, 0.9996426701545715, 0.9997938275337219, 0.9964301586151123, 0.9992297887802124, 0.9999043345451355, 0.9998213052749634, 0.9949513673782349, 0.9999390840530396, 0.9999035596847534, 0.9975305795669556, 0.9996984601020813, 0.9987612962722778, 0.9998728632926941, 0.9986779093742371, 0.9996092915534973, 0.998981237411499, 0.9998497366905212, 0.9996336102485657, 0.990331768989563, 0.9997777342796326, 0.9974157810211182, 0.9998117685317993, 0.999934196472168, 0.9986893534660339, 0.9989186525344849, 0.9992749094963074, 0.9996710419654846, 0.9995510578155518, 0.9990111589431763, 0.9998016953468323, 0.9998335242271423, 0.9998021125793457, 0.999667763710022, 0.9999504685401917, 0.9983561635017395, 0.9985352754592896, 0.999017059803009, 0.9996541738510132, 0.9999269843101501, 0.9941484928131104, 0.999405026435852, 0.9998530745506287, 0.9995142221450806, 0.9998894333839417, 0.9999153017997742, 0.9985591769218445, 0.9990418553352356, 0.999877393245697, 0.9985339641571045, 0.9983375668525696, 0.9997878074645996, 0.9991675615310669, 0.9988744258880615, 0.9998595118522644, 0.9966177344322205, 0.998394250869751, 0.9989064335823059, 0.9997206330299377, 0.9998650550842285, 0.99889075756073, 0.9995993375778198, 0.9991570115089417, 0.9989627599716187, 0.9997667670249939, 0.999795138835907, 0.9997959733009338, 0.9995649456977844, 0.9996858835220337, 0.9991214871406555, 0.9997637271881104, 0.999580442905426, 0.9984648823738098, 0.9998838305473328, 0.9977515339851379, 0.999774694442749, 0.9948549270629883, 0.9987266063690186, 0.998947262763977, 0.9934703707695007, 0.9986546635627747, 0.9959240555763245, 0.9997401833534241, 0.9999582171440125, 0.998457670211792, 0.9998409748077393, 0.9994997978210449, 0.9994463920593262, 0.9981520771980286, 0.9998208284378052, 0.9944676160812378, 0.9999023079872131, 0.998751699924469, 0.9998741149902344, 0.9998173713684082, 0.9993404746055603, 0.999817430973053, 0.9999322295188904, 0.9988517165184021, 0.9998993277549744, 0.999780535697937, 0.999652087688446, 0.9989253282546997, 0.9981056451797485, 0.9995884895324707, 0.9986081123352051, 0.9998407363891602, 0.9979316592216492, 0.9978764057159424, 0.9983338117599487, 0.9991185069084167, 0.9956426620483398, 0.9988272786140442, 0.9970715045928955, 0.9995823502540588, 0.9980196356773376, 0.9997211694717407, 0.9993273019790649, 0.9993099570274353, 0.9992605447769165, 0.999890923500061, 0.9998785853385925, 0.9978012442588806, 0.9996392726898193, 0.999535083770752, 0.9999333024024963, 0.9983879923820496, 0.9999257922172546, 0.9834334850311279, 0.9998745322227478, 0.9996976852416992, 0.9995957612991333, 0.9986422657966614, 0.9998641610145569, 0.9956029653549194, 0.9997577667236328, 0.9997610449790955, 0.9998343586921692, 0.9999209642410278, 0.9998348355293274, 0.9997373223304749, 0.9993274211883545, 0.9991594552993774, 0.9998735189437866, 0.9995448589324951, 0.999581515789032, 0.999906063079834, 0.9997860193252563, 0.999907374382019, 0.999691903591156, 0.9998222589492798, 0.9994404911994934, 0.9994425177574158, 0.9998095631599426, 0.999538242816925, 0.9999271035194397, 0.9998219013214111, 0.9988191723823547, 0.9974918365478516, 0.9981491565704346, 0.9997309446334839, 0.004174596164375544, 0.9954092502593994, 0.9996747374534607, 0.9989168643951416, 0.9982508420944214, 0.9988952279090881, 0.9971568584442139, 0.9963316917419434, 0.9996658563613892, 0.9999335408210754, 0.9996947646141052, 0.9993947148323059, 0.9990475177764893, 0.9850776791572571, 0.014811672270298004, 0.9996818900108337, 0.9979774355888367, 0.9997279644012451, 0.9994583129882812, 0.9995821118354797, 0.9998315572738647, 0.9962223768234253, 0.9995908737182617, 0.999799370765686, 0.9993287324905396, 0.9893167018890381, 0.9977025985717773, 0.9998535513877869, 0.9997273683547974, 0.9997743964195251, 0.9988989233970642, 0.9872705340385437, 0.99591064453125, 0.9998878240585327, 0.9977903962135315, 0.9998862147331238, 0.9998352527618408, 0.9985005855560303, 0.999559760093689, 0.9893648624420166, 0.998505175113678, 0.9959194660186768, 0.9997923374176025, 0.9999063014984131, 0.9981428980827332, 0.9998188614845276, 0.9989421367645264, 0.9999213218688965, 0.9999278783798218, 0.999811589717865, 0.999555766582489, 0.9999507069587708, 0.9996275305747986, 0.9988393783569336, 0.9989538192749023, 0.99952232837677, 0.9990250468254089, 0.9996374249458313, 0.9999343752861023, 0.9995121955871582, 0.9992490410804749, 0.9999160766601562, 0.9987128973007202, 0.9944533705711365, 0.9993847012519836, 0.9999260902404785, 0.9948613047599792, 0.9992926120758057, 0.9989848136901855, 0.9990631937980652, 0.999972939491272, 0.99989253282547, 0.9995442628860474, 0.9998598098754883, 0.999571681022644, 0.9998688101768494, 0.9994783997535706, 0.9996909499168396, 0.997494101524353, 0.9998896718025208, 0.9998622536659241, 0.9998989701271057, 0.9998571872711182, 0.99863201379776, 0.9988837242126465], \"Term\": [\"able\", \"access\", \"accessible\", \"active\", \"actually\", \"add\", \"address\", \"advice\", \"allow\", \"alternative\", \"always\", \"analysis\", \"answer\", \"ant\", \"anymore\", \"anyway\", \"app\", \"applicable\", \"application\", \"apply\", \"area\", \"around\", \"array\", \"assembly\", \"assume\", \"attempt\", \"authentication\", \"available\", \"aware\", \"away\", \"bad\", \"base\", \"become\", \"begin\", \"benefit\", \"binary\", \"binding\", \"bit\", \"blank\", \"block\", \"bottom\", \"box\", \"browser\", \"build\", \"ca\", \"calculation\", \"call\", \"camera\", \"card\", \"care\", \"case\", \"catch\", \"cause\", \"certain\", \"character\", \"check\", \"choose\", \"class\", \"clause\", \"clear\", \"clearly\", \"close\", \"collection\", \"color\", \"column\", \"com\", \"combination\", \"come\", \"command\", \"commit\", \"comparable\", \"compile\", \"complete\", \"component\", \"concept\", \"condition\", \"configuration\", \"configure\", \"conflict\", \"confuse\", \"connection\", \"construct\", \"contain\", \"content\", \"control\", \"controller\", \"convince\", \"copy\", \"core\", \"corporate\", \"correct\", \"correctly\", \"cost\", \"could\", \"count\", \"coverage\", \"cpu\", \"create\", \"curious\", \"current\", \"custom\", \"data\", \"database\", \"dataset\", \"datatable\", \"date\", \"datum\", \"deal\", \"default\", \"define\", \"definition\", \"delete\", \"deploy\", \"deployment\", \"describe\", \"develop\", \"developer\", \"development\", \"device\", \"difference\", \"different\", \"directory\", \"disk\", \"display\", \"distribute\", \"distribution\", \"document\", \"documentation\", \"double\", \"doubt\", \"download\", \"drag\", \"due\", \"ease\", \"easily\", \"edit\", \"efficient\", \"element\", \"email\", \"enable\", \"encoding\", \"end\", \"ensure\", \"enter\", \"entire\", \"entity\", \"entry\", \"environment\", \"error\", \"escape\", \"even\", \"event\", \"exactly\", \"exception\", \"exclusive\", \"exit\", \"expect\", \"experience\", \"explanation\", \"explicit\", \"export\", \"extend\", \"extension\", \"face\", \"factory\", \"fail\", \"familiar\", \"far\", \"fast\", \"faster\", \"feature\", \"field\", \"figure\", \"file\", \"filter\", \"fine\", \"finish\", \"first\", \"fix\", \"focus\", \"folder\", \"follow\", \"follow\", \"form\", \"format\", \"frame\", \"framework\", \"free\", \"fresh\", \"friend\", \"fully\", \"function\", \"game\", \"generally\", \"generate\", \"generation\", \"generator\", \"generic\", \"give\", \"goal\", \"good\", \"good_practice\", \"grab\", \"grid\", \"group\", \"guarantee\", \"hand\", \"handle\", \"happen\", \"hard\", \"hardware\", \"header\", \"hear\", \"help\", \"help\", \"hide\", \"hit\", \"hold\", \"hope\", \"host\", \"html\", \"http_www\", \"ide\", \"idea\", \"image\", \"imagine\", \"impact\", \"implement\", \"implementation\", \"imply\", \"import\", \"include\", \"incremente\", \"index\", \"input\", \"insert\", \"instal\", \"install\", \"instance\", \"instantiate\", \"instead\", \"instruction\", \"integrate\", \"intellisense\", \"intend\", \"interested\", \"interface\", \"internal\", \"interpreter\", \"invalid\", \"investigate\", \"issue\", \"jar\", \"java\", \"job\", \"join\", \"key\", \"kill\", \"kind\", \"language\", \"late\", \"layer\", \"layout\", \"learn\", \"least\", \"leave\", \"legacy\", \"length\", \"less\", \"let\", \"letter\", \"level\", \"library\", \"license\", \"limit\", \"line\", \"link\", \"linux\", \"list\", \"load\", \"loader\", \"location\", \"lock\", \"long\", \"low\", \"machine\", \"mail\", \"main\", \"match\", \"membership\", \"memory\", \"mess\", \"message\", \"method\", \"mind\", \"minute\", \"mode\", \"model\", \"modify\", \"moment\", \"move\", \"much\", \"multiple\", \"must\", \"name\", \"navigate\", \"necessary\", \"nest\", \"net\", \"new\", \"noise\", \"non\", \"note\", \"null\", \"number\", \"object\", \"objective\", \"often\", \"open\", \"optimization\", \"optimize\", \"option\", \"optional\", \"otherwise\", \"output\", \"overflow\", \"overhead\", \"override\", \"package\", \"page\", \"pair\", \"parameter\", \"parse\", \"parser\", \"part\", \"pass\", \"path\", \"place\", \"play\", \"plugin\", \"point\", \"pointer\", \"populate\", \"possible\", \"possibly\", \"post\", \"powershell\", \"prefer\", \"press\", \"presumably\", \"prevent\", \"primary\", \"print\", \"problem\", \"proceed\", \"process\", \"product\", \"production\", \"profile\", \"program\", \"programmer\", \"project\", \"proper\", \"property\", \"provide\", \"public\", \"query\", \"question\", \"raw\", \"read\", \"really\", \"receive\", \"recently\", \"recommend\", \"record\", \"reduce\", \"reference\", \"refresh\", \"regardless\", \"regex\", \"register\", \"registry\", \"regular\", \"relative\", \"release\", \"reload\", \"remove\", \"report\", \"repository\", \"represent\", \"request\", \"require\", \"reset\", \"resource\", \"rest\", \"result\", \"retrieve\", \"return\", \"revision\", \"right\", \"row\", \"runtime\", \"safe\", \"say\", \"scheme\", \"script\", \"search\", \"second\", \"seem\", \"select\", \"send\", \"sense\", \"sequence\", \"server\", \"set\", \"share\", \"show\", \"similar\", \"simple\", \"simply\", \"single\", \"site\", \"situation\", \"size\", \"slow\", \"solution\", \"solve\", \"soon\", \"sorry\", \"sound\", \"source\", \"specific\", \"specific\", \"specify\", \"speed\", \"spend\", \"sql\", \"stack_overflow\", \"stand\", \"standard\", \"start\", \"state\", \"static\", \"status\", \"still\", \"still\", \"stop\", \"storage\", \"store\", \"stre\", \"stream\", \"string\", \"strong\", \"structure\", \"style\", \"successfully\", \"suite\", \"summary\", \"support\", \"suppose\", \"sure\", \"suspect\", \"svn\", \"sync\", \"system\", \"tab\", \"table\", \"take\", \"talk\", \"target\", \"teach\", \"team\", \"technical\", \"tell\", \"test\", \"testing\", \"text\", \"therefore\", \"thing\", \"think\", \"thread\", \"throw\", \"time\", \"tool\", \"track\", \"tree\", \"trigger\", \"trouble\", \"tutorial\", \"type\", \"unfortunately\", \"unit\", \"update\", \"upgrade\", \"usable\", \"usage\", \"user\", \"utility\", \"valid\", \"validate\", \"validation\", \"value\", \"version\", \"video\", \"view\", \"warn\", \"web\", \"website\", \"well\", \"white\", \"window\", \"would\", \"write\", \"wrong\", \"xml\", \"yet\"]}, \"R\": 30, \"lambda.step\": 0.01, \"plot.opts\": {\"xlab\": \"PC1\", \"ylab\": \"PC2\"}, \"topic.order\": [19, 20, 3, 15, 6, 17, 18, 5, 11, 8, 10, 9, 1, 13, 4, 16, 2, 14, 7, 12]};\n",
       "\n",
       "function LDAvis_load_lib(url, callback){\n",
       "  var s = document.createElement('script');\n",
       "  s.src = url;\n",
       "  s.async = true;\n",
       "  s.onreadystatechange = s.onload = callback;\n",
       "  s.onerror = function(){console.warn(\"failed to load library \" + url);};\n",
       "  document.getElementsByTagName(\"head\")[0].appendChild(s);\n",
       "}\n",
       "\n",
       "if(typeof(LDAvis) !== \"undefined\"){\n",
       "   // already loaded: just create the visualization\n",
       "   !function(LDAvis){\n",
       "       new LDAvis(\"#\" + \"ldavis_el1412021157509416403237905817\", ldavis_el1412021157509416403237905817_data);\n",
       "   }(LDAvis);\n",
       "}else if(typeof define === \"function\" && define.amd){\n",
       "   // require.js is available: use it to load d3/LDAvis\n",
       "   require.config({paths: {d3: \"https://cdnjs.cloudflare.com/ajax/libs/d3/3.5.5/d3.min\"}});\n",
       "   require([\"d3\"], function(d3){\n",
       "      window.d3 = d3;\n",
       "      LDAvis_load_lib(\"https://cdn.rawgit.com/bmabey/pyLDAvis/files/ldavis.v1.0.0.js\", function(){\n",
       "        new LDAvis(\"#\" + \"ldavis_el1412021157509416403237905817\", ldavis_el1412021157509416403237905817_data);\n",
       "      });\n",
       "    });\n",
       "}else{\n",
       "    // require.js not available: dynamically load d3 & LDAvis\n",
       "    LDAvis_load_lib(\"https://cdnjs.cloudflare.com/ajax/libs/d3/3.5.5/d3.min.js\", function(){\n",
       "         LDAvis_load_lib(\"https://cdn.rawgit.com/bmabey/pyLDAvis/files/ldavis.v1.0.0.js\", function(){\n",
       "                 new LDAvis(\"#\" + \"ldavis_el1412021157509416403237905817\", ldavis_el1412021157509416403237905817_data);\n",
       "            })\n",
       "         });\n",
       "}\n",
       "</script>"
      ],
      "text/plain": [
       "PreparedData(topic_coordinates=              x         y  topics  cluster       Freq\n",
       "topic                                                \n",
       "18     0.253739  0.308726       1        1  19.089703\n",
       "19     0.252024  0.040880       2        1  17.837149\n",
       "2      0.219253 -0.371667       3        1  14.259407\n",
       "14     0.062247 -0.012555       4        1   5.311202\n",
       "5      0.023422 -0.005036       5        1   4.309278\n",
       "16     0.042846 -0.008398       6        1   4.208435\n",
       "17     0.012386 -0.003345       7        1   3.883530\n",
       "4      0.005109  0.002424       8        1   3.871424\n",
       "10     0.015409 -0.003806       9        1   3.814046\n",
       "7      0.009359 -0.002943      10        1   3.634458\n",
       "9     -0.045863  0.002995      11        1   2.689589\n",
       "8     -0.047421  0.003157      12        1   2.613891\n",
       "0     -0.067985  0.004687      13        1   2.360301\n",
       "12    -0.043177  0.002739      14        1   2.246414\n",
       "3     -0.075410  0.005184      15        1   2.139790\n",
       "15    -0.093755  0.006250      16        1   1.995789\n",
       "1     -0.101319  0.006625      17        1   1.788262\n",
       "13    -0.117184  0.007342      18        1   1.707042\n",
       "6     -0.148577  0.008320      19        1   1.318863\n",
       "11    -0.155103  0.008422      20        1   0.921432, topic_info=     Category          Freq       Term         Total  loglift  logprob\n",
       "29    Default  30931.000000       file  30931.000000  30.0000  30.0000\n",
       "70    Default  21512.000000   function  21512.000000  29.0000  29.0000\n",
       "3     Default  24502.000000      error  24502.000000  28.0000  28.0000\n",
       "583   Default  23116.000000       type  23116.000000  27.0000  27.0000\n",
       "62    Default  18740.000000      class  18740.000000  26.0000  26.0000\n",
       "...       ...           ...        ...           ...      ...      ...\n",
       "1481  Topic20      0.051771        top      1.150716   1.5857 -12.9729\n",
       "1410  Topic20      0.051769        map      1.150608   1.5857 -12.9729\n",
       "1916  Topic20      0.051770  container      1.150667   1.5857 -12.9729\n",
       "1168  Topic20      0.051770      thank      1.150862   1.5855 -12.9729\n",
       "1867  Topic20      0.051768     appear      1.150699   1.5857 -12.9729\n",
       "\n",
       "[703 rows x 6 columns], token_table=      Topic      Freq        Term\n",
       "term                             \n",
       "188       2  0.999927        able\n",
       "362       2  0.999776      access\n",
       "962      16  0.997057  accessible\n",
       "1129     11  0.998524      active\n",
       "290       1  0.999850    actually\n",
       "...     ...       ...         ...\n",
       "757       1  0.999862       would\n",
       "14        3  0.999899       write\n",
       "425       3  0.999857       wrong\n",
       "690      15  0.998632         xml\n",
       "925       4  0.998884         yet\n",
       "\n",
       "[516 rows x 3 columns], R=30, lambda_step=0.01, plot_opts={'xlab': 'PC1', 'ylab': 'PC2'}, topic_order=[19, 20, 3, 15, 6, 17, 18, 5, 11, 8, 10, 9, 1, 13, 4, 16, 2, 14, 7, 12])"
      ]
     },
     "execution_count": 52,
     "metadata": {},
     "output_type": "execute_result"
    }
   ],
   "source": [
    "pyLDAvis.enable_notebook()\n",
    "vis = pyLDAvis.gensim.prepare(lda_model, corpus, id2word)\n",
    "vis"
   ]
  },
  {
   "cell_type": "code",
   "execution_count": 57,
   "metadata": {},
   "outputs": [
    {
     "data": {
      "text/html": [
       "<div>\n",
       "<style scoped>\n",
       "    .dataframe tbody tr th:only-of-type {\n",
       "        vertical-align: middle;\n",
       "    }\n",
       "\n",
       "    .dataframe tbody tr th {\n",
       "        vertical-align: top;\n",
       "    }\n",
       "\n",
       "    .dataframe thead th {\n",
       "        text-align: right;\n",
       "    }\n",
       "</style>\n",
       "<table border=\"1\" class=\"dataframe\">\n",
       "  <thead>\n",
       "    <tr style=\"text-align: right;\">\n",
       "      <th></th>\n",
       "      <th>Score</th>\n",
       "      <th>body_cleaned</th>\n",
       "    </tr>\n",
       "  </thead>\n",
       "  <tbody>\n",
       "    <tr>\n",
       "      <th>0</th>\n",
       "      <td>26</td>\n",
       "      <td>write database generation script sql want exec...</td>\n",
       "    </tr>\n",
       "    <tr>\n",
       "      <th>1</th>\n",
       "      <td>144</td>\n",
       "      <td>really good tutorial explain branching merge a...</td>\n",
       "    </tr>\n",
       "    <tr>\n",
       "      <th>2</th>\n",
       "      <td>21</td>\n",
       "      <td>anyone get experience create sql base asp.net ...</td>\n",
       "    </tr>\n",
       "    <tr>\n",
       "      <th>3</th>\n",
       "      <td>53</td>\n",
       "      <td>something pseudo solve many time never quite f...</td>\n",
       "    </tr>\n",
       "    <tr>\n",
       "      <th>4</th>\n",
       "      <td>49</td>\n",
       "      <td>little game write c . use database back end . ...</td>\n",
       "    </tr>\n",
       "  </tbody>\n",
       "</table>\n",
       "</div>"
      ],
      "text/plain": [
       "   Score                                       body_cleaned\n",
       "0     26  write database generation script sql want exec...\n",
       "1    144  really good tutorial explain branching merge a...\n",
       "2     21  anyone get experience create sql base asp.net ...\n",
       "3     53  something pseudo solve many time never quite f...\n",
       "4     49  little game write c . use database back end . ..."
      ]
     },
     "execution_count": 57,
     "metadata": {},
     "output_type": "execute_result"
    }
   ],
   "source": [
    "df_train2.head()"
   ]
  },
  {
   "cell_type": "code",
   "execution_count": 58,
   "metadata": {},
   "outputs": [
    {
     "ename": "KeyError",
     "evalue": "'Body'",
     "output_type": "error",
     "traceback": [
      "\u001b[1;31m---------------------------------------------------------------------------\u001b[0m",
      "\u001b[1;31mKeyError\u001b[0m                                  Traceback (most recent call last)",
      "\u001b[1;32mc:\\py3\\lib\\site-packages\\pandas\\core\\indexes\\base.py\u001b[0m in \u001b[0;36mget_loc\u001b[1;34m(self, key, method, tolerance)\u001b[0m\n\u001b[0;32m   2896\u001b[0m             \u001b[1;32mtry\u001b[0m\u001b[1;33m:\u001b[0m\u001b[1;33m\u001b[0m\u001b[1;33m\u001b[0m\u001b[0m\n\u001b[1;32m-> 2897\u001b[1;33m                 \u001b[1;32mreturn\u001b[0m \u001b[0mself\u001b[0m\u001b[1;33m.\u001b[0m\u001b[0m_engine\u001b[0m\u001b[1;33m.\u001b[0m\u001b[0mget_loc\u001b[0m\u001b[1;33m(\u001b[0m\u001b[0mkey\u001b[0m\u001b[1;33m)\u001b[0m\u001b[1;33m\u001b[0m\u001b[1;33m\u001b[0m\u001b[0m\n\u001b[0m\u001b[0;32m   2898\u001b[0m             \u001b[1;32mexcept\u001b[0m \u001b[0mKeyError\u001b[0m\u001b[1;33m:\u001b[0m\u001b[1;33m\u001b[0m\u001b[1;33m\u001b[0m\u001b[0m\n",
      "\u001b[1;32mpandas/_libs/index.pyx\u001b[0m in \u001b[0;36mpandas._libs.index.IndexEngine.get_loc\u001b[1;34m()\u001b[0m\n",
      "\u001b[1;32mpandas/_libs/index.pyx\u001b[0m in \u001b[0;36mpandas._libs.index.IndexEngine.get_loc\u001b[1;34m()\u001b[0m\n",
      "\u001b[1;32mpandas/_libs/hashtable_class_helper.pxi\u001b[0m in \u001b[0;36mpandas._libs.hashtable.PyObjectHashTable.get_item\u001b[1;34m()\u001b[0m\n",
      "\u001b[1;32mpandas/_libs/hashtable_class_helper.pxi\u001b[0m in \u001b[0;36mpandas._libs.hashtable.PyObjectHashTable.get_item\u001b[1;34m()\u001b[0m\n",
      "\u001b[1;31mKeyError\u001b[0m: 'Body'",
      "\nDuring handling of the above exception, another exception occurred:\n",
      "\u001b[1;31mKeyError\u001b[0m                                  Traceback (most recent call last)",
      "\u001b[1;32m<ipython-input-58-40010e6838e0>\u001b[0m in \u001b[0;36m<module>\u001b[1;34m\u001b[0m\n\u001b[1;32m----> 1\u001b[1;33m \u001b[0mdf_train2\u001b[0m\u001b[1;33m[\u001b[0m\u001b[1;34m'body_cleaned'\u001b[0m\u001b[1;33m]\u001b[0m \u001b[1;33m=\u001b[0m \u001b[0mdf_train2\u001b[0m\u001b[1;33m[\u001b[0m\u001b[1;34m'Body'\u001b[0m\u001b[1;33m]\u001b[0m\u001b[1;33m.\u001b[0m\u001b[0mapply\u001b[0m\u001b[1;33m(\u001b[0m\u001b[0mnormalize_text\u001b[0m\u001b[1;33m)\u001b[0m\u001b[1;33m\u001b[0m\u001b[1;33m\u001b[0m\u001b[0m\n\u001b[0m",
      "\u001b[1;32mc:\\py3\\lib\\site-packages\\pandas\\core\\frame.py\u001b[0m in \u001b[0;36m__getitem__\u001b[1;34m(self, key)\u001b[0m\n\u001b[0;32m   2993\u001b[0m             \u001b[1;32mif\u001b[0m \u001b[0mself\u001b[0m\u001b[1;33m.\u001b[0m\u001b[0mcolumns\u001b[0m\u001b[1;33m.\u001b[0m\u001b[0mnlevels\u001b[0m \u001b[1;33m>\u001b[0m \u001b[1;36m1\u001b[0m\u001b[1;33m:\u001b[0m\u001b[1;33m\u001b[0m\u001b[1;33m\u001b[0m\u001b[0m\n\u001b[0;32m   2994\u001b[0m                 \u001b[1;32mreturn\u001b[0m \u001b[0mself\u001b[0m\u001b[1;33m.\u001b[0m\u001b[0m_getitem_multilevel\u001b[0m\u001b[1;33m(\u001b[0m\u001b[0mkey\u001b[0m\u001b[1;33m)\u001b[0m\u001b[1;33m\u001b[0m\u001b[1;33m\u001b[0m\u001b[0m\n\u001b[1;32m-> 2995\u001b[1;33m             \u001b[0mindexer\u001b[0m \u001b[1;33m=\u001b[0m \u001b[0mself\u001b[0m\u001b[1;33m.\u001b[0m\u001b[0mcolumns\u001b[0m\u001b[1;33m.\u001b[0m\u001b[0mget_loc\u001b[0m\u001b[1;33m(\u001b[0m\u001b[0mkey\u001b[0m\u001b[1;33m)\u001b[0m\u001b[1;33m\u001b[0m\u001b[1;33m\u001b[0m\u001b[0m\n\u001b[0m\u001b[0;32m   2996\u001b[0m             \u001b[1;32mif\u001b[0m \u001b[0mis_integer\u001b[0m\u001b[1;33m(\u001b[0m\u001b[0mindexer\u001b[0m\u001b[1;33m)\u001b[0m\u001b[1;33m:\u001b[0m\u001b[1;33m\u001b[0m\u001b[1;33m\u001b[0m\u001b[0m\n\u001b[0;32m   2997\u001b[0m                 \u001b[0mindexer\u001b[0m \u001b[1;33m=\u001b[0m \u001b[1;33m[\u001b[0m\u001b[0mindexer\u001b[0m\u001b[1;33m]\u001b[0m\u001b[1;33m\u001b[0m\u001b[1;33m\u001b[0m\u001b[0m\n",
      "\u001b[1;32mc:\\py3\\lib\\site-packages\\pandas\\core\\indexes\\base.py\u001b[0m in \u001b[0;36mget_loc\u001b[1;34m(self, key, method, tolerance)\u001b[0m\n\u001b[0;32m   2897\u001b[0m                 \u001b[1;32mreturn\u001b[0m \u001b[0mself\u001b[0m\u001b[1;33m.\u001b[0m\u001b[0m_engine\u001b[0m\u001b[1;33m.\u001b[0m\u001b[0mget_loc\u001b[0m\u001b[1;33m(\u001b[0m\u001b[0mkey\u001b[0m\u001b[1;33m)\u001b[0m\u001b[1;33m\u001b[0m\u001b[1;33m\u001b[0m\u001b[0m\n\u001b[0;32m   2898\u001b[0m             \u001b[1;32mexcept\u001b[0m \u001b[0mKeyError\u001b[0m\u001b[1;33m:\u001b[0m\u001b[1;33m\u001b[0m\u001b[1;33m\u001b[0m\u001b[0m\n\u001b[1;32m-> 2899\u001b[1;33m                 \u001b[1;32mreturn\u001b[0m \u001b[0mself\u001b[0m\u001b[1;33m.\u001b[0m\u001b[0m_engine\u001b[0m\u001b[1;33m.\u001b[0m\u001b[0mget_loc\u001b[0m\u001b[1;33m(\u001b[0m\u001b[0mself\u001b[0m\u001b[1;33m.\u001b[0m\u001b[0m_maybe_cast_indexer\u001b[0m\u001b[1;33m(\u001b[0m\u001b[0mkey\u001b[0m\u001b[1;33m)\u001b[0m\u001b[1;33m)\u001b[0m\u001b[1;33m\u001b[0m\u001b[1;33m\u001b[0m\u001b[0m\n\u001b[0m\u001b[0;32m   2900\u001b[0m         \u001b[0mindexer\u001b[0m \u001b[1;33m=\u001b[0m \u001b[0mself\u001b[0m\u001b[1;33m.\u001b[0m\u001b[0mget_indexer\u001b[0m\u001b[1;33m(\u001b[0m\u001b[1;33m[\u001b[0m\u001b[0mkey\u001b[0m\u001b[1;33m]\u001b[0m\u001b[1;33m,\u001b[0m \u001b[0mmethod\u001b[0m\u001b[1;33m=\u001b[0m\u001b[0mmethod\u001b[0m\u001b[1;33m,\u001b[0m \u001b[0mtolerance\u001b[0m\u001b[1;33m=\u001b[0m\u001b[0mtolerance\u001b[0m\u001b[1;33m)\u001b[0m\u001b[1;33m\u001b[0m\u001b[1;33m\u001b[0m\u001b[0m\n\u001b[0;32m   2901\u001b[0m         \u001b[1;32mif\u001b[0m \u001b[0mindexer\u001b[0m\u001b[1;33m.\u001b[0m\u001b[0mndim\u001b[0m \u001b[1;33m>\u001b[0m \u001b[1;36m1\u001b[0m \u001b[1;32mor\u001b[0m \u001b[0mindexer\u001b[0m\u001b[1;33m.\u001b[0m\u001b[0msize\u001b[0m \u001b[1;33m>\u001b[0m \u001b[1;36m1\u001b[0m\u001b[1;33m:\u001b[0m\u001b[1;33m\u001b[0m\u001b[1;33m\u001b[0m\u001b[0m\n",
      "\u001b[1;32mpandas/_libs/index.pyx\u001b[0m in \u001b[0;36mpandas._libs.index.IndexEngine.get_loc\u001b[1;34m()\u001b[0m\n",
      "\u001b[1;32mpandas/_libs/index.pyx\u001b[0m in \u001b[0;36mpandas._libs.index.IndexEngine.get_loc\u001b[1;34m()\u001b[0m\n",
      "\u001b[1;32mpandas/_libs/hashtable_class_helper.pxi\u001b[0m in \u001b[0;36mpandas._libs.hashtable.PyObjectHashTable.get_item\u001b[1;34m()\u001b[0m\n",
      "\u001b[1;32mpandas/_libs/hashtable_class_helper.pxi\u001b[0m in \u001b[0;36mpandas._libs.hashtable.PyObjectHashTable.get_item\u001b[1;34m()\u001b[0m\n",
      "\u001b[1;31mKeyError\u001b[0m: 'Body'"
     ]
    }
   ],
   "source": [
    "# df_train2['body_cleaned'] = df_train2['Body'].apply(normalize_text)"
   ]
  },
  {
   "cell_type": "code",
   "execution_count": 59,
   "metadata": {
    "colab": {},
    "colab_type": "code",
    "id": "b8d1dEEn5Ihy"
   },
   "outputs": [],
   "source": [
    "# Convert to list\n",
    "data = df_train2.body_cleaned.values.tolist()\n",
    "\n",
    "# # Remove Emails\n",
    "# data = [re.sub('\\S*@\\S*\\s?', '', sent) for sent in data]\n",
    "\n",
    "# # Remove new line characters\n",
    "# data = [re.sub('\\s+', ' ', sent) for sent in data]\n",
    "\n",
    "# # Remove distracting single quotes\n",
    "# data = [re.sub(\"\\'\", \"\", sent) for sent in data]\n",
    "\n",
    "# pprint(data[:1])"
   ]
  },
  {
   "cell_type": "code",
   "execution_count": 55,
   "metadata": {
    "colab": {
     "base_uri": "https://localhost:8080/",
     "height": 268
    },
    "colab_type": "code",
    "id": "1_XgZW3gsS18",
    "outputId": "09dc7270-3f65-467b-b50f-0a2e54a167b0"
   },
   "outputs": [
    {
     "name": "stdout",
     "output_type": "stream",
     "text": [
      "[(0,\n",
      "  '0.108*\"input\" + 0.092*\"select\" + 0.090*\"device\" + 0.087*\"index\" + '\n",
      "  '0.070*\"must\" + 0.053*\"tell\" + 0.046*\"box\" + 0.045*\"folder\" + 0.043*\"assume\" '\n",
      "  '+ 0.036*\"become\"'),\n",
      " (1,\n",
      "  '0.237*\"app\" + 0.171*\"com\" + 0.098*\"difference\" + 0.094*\"similar\" + '\n",
      "  '0.070*\"address\" + 0.047*\"website\" + 0.033*\"warn\" + 0.032*\"java\" + '\n",
      "  '0.029*\"status\" + 0.027*\"exit\"'),\n",
      " (2,\n",
      "  '0.066*\"problem\" + 0.065*\"value\" + 0.037*\"line\" + 0.037*\"first\" + '\n",
      "  '0.035*\"case\" + 0.032*\"write\" + 0.031*\"solution\" + 0.031*\"number\" + '\n",
      "  '0.026*\"read\" + 0.025*\"element\"'),\n",
      " (3,\n",
      "  '0.151*\"text\" + 0.147*\"string\" + 0.083*\"match\" + 0.052*\"format\" + '\n",
      "  '0.049*\"location\" + 0.043*\"stre\" + 0.036*\"length\" + 0.034*\"parse\" + '\n",
      "  '0.032*\"due\" + 0.032*\"sequence\"'),\n",
      " (4,\n",
      "  '0.135*\"version\" + 0.133*\"project\" + 0.115*\"build\" + 0.075*\"form\" + '\n",
      "  '0.045*\"model\" + 0.034*\"instal\" + 0.031*\"net\" + 0.029*\"play\" + '\n",
      "  '0.029*\"install\" + 0.028*\"target\"'),\n",
      " (5,\n",
      "  '0.297*\"file\" + 0.121*\"name\" + 0.060*\"include\" + 0.057*\"default\" + '\n",
      "  '0.053*\"property\" + 0.037*\"script\" + 0.035*\"path\" + 0.032*\"exactly\" + '\n",
      "  '0.031*\"copy\" + 0.028*\"specify\"'),\n",
      " (6,\n",
      "  '0.161*\"source\" + 0.115*\"close\" + 0.091*\"control\" + 0.085*\"delete\" + '\n",
      "  '0.070*\"environment\" + 0.062*\"certain\" + 0.055*\"configure\" + '\n",
      "  '0.045*\"development\" + 0.043*\"deploy\" + 0.034*\"combination\"'),\n",
      " (7,\n",
      "  '0.142*\"image\" + 0.094*\"output\" + 0.072*\"load\" + 0.068*\"send\" + 0.060*\"main\" '\n",
      "  '+ 0.060*\"style\" + 0.041*\"print\" + 0.038*\"receive\" + 0.037*\"suppose\" + '\n",
      "  '0.032*\"site\"'),\n",
      " (8,\n",
      "  '0.115*\"size\" + 0.105*\"memory\" + 0.101*\"option\" + 0.042*\"level\" + '\n",
      "  '0.042*\"clear\" + 0.040*\"group\" + 0.038*\"core\" + 0.033*\"kind\" + 0.033*\"slow\" '\n",
      "  '+ 0.032*\"developer\"'),\n",
      " (9,\n",
      "  '0.184*\"datum\" + 0.114*\"table\" + 0.110*\"display\" + 0.074*\"database\" + '\n",
      "  '0.074*\"column\" + 0.064*\"field\" + 0.057*\"query\" + 0.043*\"connection\" + '\n",
      "  '0.043*\"filter\" + 0.036*\"record\"'),\n",
      " (10,\n",
      "  '0.266*\"error\" + 0.082*\"message\" + 0.080*\"happen\" + 0.064*\"fix\" + '\n",
      "  '0.064*\"expect\" + 0.049*\"row\" + 0.043*\"cause\" + 0.028*\"document\" + '\n",
      "  '0.027*\"product\" + 0.027*\"non\"'),\n",
      " (11,\n",
      "  '0.607*\"object\" + 0.256*\"store\" + 0.000*\"item\" + 0.000*\"parent\" + '\n",
      "  '0.000*\"understand\" + 0.000*\"child\" + 0.000*\"variable\" + 0.000*\"background\" '\n",
      "  '+ 0.000*\"integer\" + 0.000*\"constructor\"'),\n",
      " (12,\n",
      "  '0.396*\"function\" + 0.345*\"class\" + 0.122*\"implement\" + 0.028*\"public\" + '\n",
      "  '0.019*\"register\" + 0.017*\"internal\" + 0.014*\"game\" + 0.007*\"instantiate\" + '\n",
      "  '0.000*\"cell\" + 0.000*\"addline\"'),\n",
      " (13,\n",
      "  '0.161*\"link\" + 0.150*\"open\" + 0.107*\"post\" + 0.084*\"figure\" + '\n",
      "  '0.071*\"feature\" + 0.068*\"date\" + 0.051*\"valid\" + 0.047*\"job\" + '\n",
      "  '0.039*\"tutorial\" + 0.032*\"trouble\"'),\n",
      " (14,\n",
      "  '0.158*\"call\" + 0.130*\"method\" + 0.071*\"start\" + 0.070*\"view\" + '\n",
      "  '0.056*\"compile\" + 0.050*\"define\" + 0.049*\"reference\" + 0.044*\"program\" + '\n",
      "  '0.043*\"pass\" + 0.036*\"handle\"'),\n",
      " (15,\n",
      "  '0.110*\"package\" + 0.100*\"support\" + 0.091*\"custom\" + 0.078*\"browser\" + '\n",
      "  '0.071*\"tool\" + 0.063*\"available\" + 0.061*\"video\" + 0.053*\"language\" + '\n",
      "  '0.042*\"develop\" + 0.030*\"frame\"'),\n",
      " (16,\n",
      "  '0.227*\"type\" + 0.104*\"show\" + 0.054*\"exception\" + 0.051*\"event\" + '\n",
      "  '0.045*\"component\" + 0.039*\"far\" + 0.036*\"block\" + 0.035*\"documentation\" + '\n",
      "  '0.030*\"key\" + 0.030*\"parameter\"'),\n",
      " (17,\n",
      "  '0.158*\"test\" + 0.117*\"result\" + 0.074*\"library\" + 0.062*\"generate\" + '\n",
      "  '0.055*\"color\" + 0.055*\"implementation\" + 0.043*\"solve\" + 0.038*\"throw\" + '\n",
      "  '0.037*\"apply\" + 0.029*\"simply\"'),\n",
      " (18,\n",
      "  '0.044*\"time\" + 0.038*\"question\" + 0.037*\"could\" + 0.035*\"seem\" + '\n",
      "  '0.033*\"return\" + 0.033*\"list\" + 0.027*\"give\" + 0.027*\"help\" + '\n",
      "  '0.026*\"different\" + 0.026*\"think\"'),\n",
      " (19,\n",
      "  '0.064*\"follow\" + 0.050*\"create\" + 0.045*\"add\" + 0.040*\"user\" + '\n",
      "  '0.032*\"application\" + 0.032*\"new\" + 0.028*\"issue\" + 0.027*\"update\" + '\n",
      "  '0.026*\"server\" + 0.025*\"page\"')]\n"
     ]
    }
   ],
   "source": [
    "model_topics = lda_model.show_topics(formatted=False)\n",
    "pprint(lda_model.print_topics(num_words=10))"
   ]
  },
  {
   "cell_type": "code",
   "execution_count": 145,
   "metadata": {
    "colab": {
     "base_uri": "https://localhost:8080/",
     "height": 345
    },
    "colab_type": "code",
    "id": "UmpOzJ0O-sy5",
    "outputId": "faa8ebab-730b-4d51-874e-5bb7bbfd1361"
   },
   "outputs": [
    {
     "data": {
      "text/html": [
       "<div>\n",
       "<style scoped>\n",
       "    .dataframe tbody tr th:only-of-type {\n",
       "        vertical-align: middle;\n",
       "    }\n",
       "\n",
       "    .dataframe tbody tr th {\n",
       "        vertical-align: top;\n",
       "    }\n",
       "\n",
       "    .dataframe thead th {\n",
       "        text-align: right;\n",
       "    }\n",
       "</style>\n",
       "<table border=\"1\" class=\"dataframe\">\n",
       "  <thead>\n",
       "    <tr style=\"text-align: right;\">\n",
       "      <th></th>\n",
       "      <th>Document_No</th>\n",
       "      <th>Dominant_Topic</th>\n",
       "      <th>Topic_Perc_Contrib</th>\n",
       "      <th>Keywords</th>\n",
       "      <th>Text</th>\n",
       "    </tr>\n",
       "  </thead>\n",
       "  <tbody>\n",
       "    <tr>\n",
       "      <th>0</th>\n",
       "      <td>0</td>\n",
       "      <td>2.0</td>\n",
       "      <td>0.2209</td>\n",
       "      <td>problem, value, first, write, line, number, read, check, solution, idea</td>\n",
       "      <td>write database generation script sql want execute adobe air application execute adobe air use fo...</td>\n",
       "    </tr>\n",
       "    <tr>\n",
       "      <th>1</th>\n",
       "      <td>1</td>\n",
       "      <td>18.0</td>\n",
       "      <td>0.2557</td>\n",
       "      <td>help, time, could, question, list, seem, give, return, think, different</td>\n",
       "      <td>really good tutorial explain branching merge apache subversion well specific tortoisesvn client .</td>\n",
       "    </tr>\n",
       "    <tr>\n",
       "      <th>2</th>\n",
       "      <td>2</td>\n",
       "      <td>19.0</td>\n",
       "      <td>0.3885</td>\n",
       "      <td>user, create, page, follow, add, application, server, new, possible, update</td>\n",
       "      <td>anyone get experience create sql base asp.net site map providers?i've get default xml file web.s...</td>\n",
       "    </tr>\n",
       "    <tr>\n",
       "      <th>3</th>\n",
       "      <td>3</td>\n",
       "      <td>18.0</td>\n",
       "      <td>0.2481</td>\n",
       "      <td>help, time, could, question, list, seem, give, return, think, different</td>\n",
       "      <td>something pseudo solve many time never quite find solution . stuck . problem come way generate n...</td>\n",
       "    </tr>\n",
       "    <tr>\n",
       "      <th>4</th>\n",
       "      <td>4</td>\n",
       "      <td>12.0</td>\n",
       "      <td>0.1594</td>\n",
       "      <td>function, class, implement, game, public, register, internal, instantiate, thank, button</td>\n",
       "      <td>little game write c . use database back end . trading card game want implement function card scr...</td>\n",
       "    </tr>\n",
       "    <tr>\n",
       "      <th>5</th>\n",
       "      <td>5</td>\n",
       "      <td>18.0</td>\n",
       "      <td>0.1775</td>\n",
       "      <td>help, time, could, question, list, seem, give, return, think, different</td>\n",
       "      <td>work collection class use video playback recording . one main class act like public interface me...</td>\n",
       "    </tr>\n",
       "    <tr>\n",
       "      <th>6</th>\n",
       "      <td>6</td>\n",
       "      <td>2.0</td>\n",
       "      <td>0.2932</td>\n",
       "      <td>problem, value, first, write, line, number, read, check, solution, idea</td>\n",
       "      <td>write web service .net app ready consume . see numerous example homegrown code consume service o...</td>\n",
       "    </tr>\n",
       "    <tr>\n",
       "      <th>7</th>\n",
       "      <td>7</td>\n",
       "      <td>19.0</td>\n",
       "      <td>0.2662</td>\n",
       "      <td>user, create, page, follow, add, application, server, new, possible, update</td>\n",
       "      <td>wonder guy manage deployment database 2 sql servers specifically sql server 2005.now development...</td>\n",
       "    </tr>\n",
       "    <tr>\n",
       "      <th>8</th>\n",
       "      <td>8</td>\n",
       "      <td>5.0</td>\n",
       "      <td>0.2680</td>\n",
       "      <td>file, name, script, property, include, path, default, copy, html, directory</td>\n",
       "      <td>would like version property application incremente build sure enable functionality visual studio...</td>\n",
       "    </tr>\n",
       "    <tr>\n",
       "      <th>9</th>\n",
       "      <td>9</td>\n",
       "      <td>19.0</td>\n",
       "      <td>0.2999</td>\n",
       "      <td>user, create, page, follow, add, application, server, new, possible, update</td>\n",
       "      <td>try maintain setup project visual studio 2003 yes legacy application . problem moment need write...</td>\n",
       "    </tr>\n",
       "  </tbody>\n",
       "</table>\n",
       "</div>"
      ],
      "text/plain": [
       "   Document_No  Dominant_Topic  Topic_Perc_Contrib  \\\n",
       "0            0             2.0              0.2209   \n",
       "1            1            18.0              0.2557   \n",
       "2            2            19.0              0.3885   \n",
       "3            3            18.0              0.2481   \n",
       "4            4            12.0              0.1594   \n",
       "5            5            18.0              0.1775   \n",
       "6            6             2.0              0.2932   \n",
       "7            7            19.0              0.2662   \n",
       "8            8             5.0              0.2680   \n",
       "9            9            19.0              0.2999   \n",
       "\n",
       "                                                                                   Keywords  \\\n",
       "0                   problem, value, first, write, line, number, read, check, solution, idea   \n",
       "1                   help, time, could, question, list, seem, give, return, think, different   \n",
       "2               user, create, page, follow, add, application, server, new, possible, update   \n",
       "3                   help, time, could, question, list, seem, give, return, think, different   \n",
       "4  function, class, implement, game, public, register, internal, instantiate, thank, button   \n",
       "5                   help, time, could, question, list, seem, give, return, think, different   \n",
       "6                   problem, value, first, write, line, number, read, check, solution, idea   \n",
       "7               user, create, page, follow, add, application, server, new, possible, update   \n",
       "8               file, name, script, property, include, path, default, copy, html, directory   \n",
       "9               user, create, page, follow, add, application, server, new, possible, update   \n",
       "\n",
       "                                                                                                  Text  \n",
       "0  write database generation script sql want execute adobe air application execute adobe air use fo...  \n",
       "1    really good tutorial explain branching merge apache subversion well specific tortoisesvn client .  \n",
       "2  anyone get experience create sql base asp.net site map providers?i've get default xml file web.s...  \n",
       "3  something pseudo solve many time never quite find solution . stuck . problem come way generate n...  \n",
       "4  little game write c . use database back end . trading card game want implement function card scr...  \n",
       "5  work collection class use video playback recording . one main class act like public interface me...  \n",
       "6  write web service .net app ready consume . see numerous example homegrown code consume service o...  \n",
       "7  wonder guy manage deployment database 2 sql servers specifically sql server 2005.now development...  \n",
       "8  would like version property application incremente build sure enable functionality visual studio...  \n",
       "9  try maintain setup project visual studio 2003 yes legacy application . problem moment need write...  "
      ]
     },
     "execution_count": 145,
     "metadata": {},
     "output_type": "execute_result"
    }
   ],
   "source": [
    "def format_topics_sentences(ldamodel=lda_model, corpus=corpus, texts=data):\n",
    "    # Init output\n",
    "    sent_topics_df = pd.DataFrame()\n",
    "\n",
    "    # Get main topic in each document\n",
    "    for i, row in enumerate(ldamodel[corpus]):\n",
    "        row = sorted(row[0], key=lambda x: (x[1]), reverse=True)\n",
    "        # Get the Dominant topic, Perc Contribution and Keywords for each document\n",
    "        for j, (topic_num, prop_topic) in enumerate(row):\n",
    "            if j == 0:  # => dominant topic\n",
    "                wp = ldamodel.show_topic(topic_num)\n",
    "                topic_keywords = \", \".join([word for word, prop in wp])\n",
    "                sent_topics_df = sent_topics_df.append(pd.Series([int(topic_num), round(prop_topic,4), topic_keywords]), ignore_index=True)\n",
    "            else:\n",
    "                break\n",
    "    sent_topics_df.columns = ['Dominant_Topic', 'Perc_Contribution', 'Topic_Keywords']\n",
    "\n",
    "    # Add original text to the end of the output\n",
    "    contents = pd.Series(texts)\n",
    "    sent_topics_df = pd.concat([sent_topics_df, contents], axis=1)\n",
    "    return(sent_topics_df)\n",
    "\n",
    "\n",
    "df_topic_sents_keywords = format_topics_sentences(ldamodel=lda_model, corpus=corpus, texts=data)\n",
    "\n",
    "# Format\n",
    "df_dominant_topic = df_topic_sents_keywords.reset_index()\n",
    "df_dominant_topic.columns = ['Document_No', 'Dominant_Topic', 'Topic_Perc_Contrib', 'Keywords', 'Text']\n",
    "\n",
    "# Show\n",
    "df_dominant_topic.head(10)\n"
   ]
  },
  {
   "cell_type": "code",
   "execution_count": 146,
   "metadata": {},
   "outputs": [
    {
     "data": {
      "text/plain": [
       "19.0    31102\n",
       "18.0    26823\n",
       "2.0     12630\n",
       "5.0       469\n",
       "14.0      355\n",
       "4.0       284\n",
       "9.0       269\n",
       "16.0      223\n",
       "17.0      170\n",
       "7.0       161\n",
       "3.0        94\n",
       "10.0       94\n",
       "12.0       92\n",
       "0.0        45\n",
       "8.0        38\n",
       "15.0       32\n",
       "6.0        22\n",
       "13.0       20\n",
       "1.0        16\n",
       "11.0       11\n",
       "Name: Dominant_Topic, dtype: int64"
      ]
     },
     "execution_count": 146,
     "metadata": {},
     "output_type": "execute_result"
    }
   ],
   "source": [
    "df_dominant_topic[\"Dominant_Topic\"].value_counts()"
   ]
  },
  {
   "cell_type": "code",
   "execution_count": 61,
   "metadata": {
    "colab": {
     "base_uri": "https://localhost:8080/",
     "height": 233
    },
    "colab_type": "code",
    "id": "-r3ZteP2Alwb",
    "outputId": "8f41f4c7-9f37-4273-e3ec-9f27e231d0c8"
   },
   "outputs": [
    {
     "data": {
      "text/html": [
       "<div>\n",
       "<style scoped>\n",
       "    .dataframe tbody tr th:only-of-type {\n",
       "        vertical-align: middle;\n",
       "    }\n",
       "\n",
       "    .dataframe tbody tr th {\n",
       "        vertical-align: top;\n",
       "    }\n",
       "\n",
       "    .dataframe thead th {\n",
       "        text-align: right;\n",
       "    }\n",
       "</style>\n",
       "<table border=\"1\" class=\"dataframe\">\n",
       "  <thead>\n",
       "    <tr style=\"text-align: right;\">\n",
       "      <th></th>\n",
       "      <th>Topic_Num</th>\n",
       "      <th>Topic_Perc_Contrib</th>\n",
       "      <th>Keywords</th>\n",
       "      <th>Representative Text</th>\n",
       "    </tr>\n",
       "  </thead>\n",
       "  <tbody>\n",
       "    <tr>\n",
       "      <th>0</th>\n",
       "      <td>0.0</td>\n",
       "      <td>0.3024</td>\n",
       "      <td>input, select, device, index, must, tell, box, folder, assume, become</td>\n",
       "      <td>organization form allow user update email address . suggest two input box email second email con...</td>\n",
       "    </tr>\n",
       "    <tr>\n",
       "      <th>1</th>\n",
       "      <td>1.0</td>\n",
       "      <td>0.3139</td>\n",
       "      <td>app, com, difference, similar, address, website, warn, java, status, exit</td>\n",
       "      <td>try use cdi jsf java ee application . follow class hierarchy try deploy application gf 3.1 get f...</td>\n",
       "    </tr>\n",
       "    <tr>\n",
       "      <th>2</th>\n",
       "      <td>2.0</td>\n",
       "      <td>0.4737</td>\n",
       "      <td>problem, value, line, first, case, write, solution, number, read, element</td>\n",
       "      <td>use datum acquisition card take reading device increase signal peak fall back near original valu...</td>\n",
       "    </tr>\n",
       "    <tr>\n",
       "      <th>3</th>\n",
       "      <td>3.0</td>\n",
       "      <td>0.3458</td>\n",
       "      <td>text, string, match, format, location, stre, length, parse, due, sequence</td>\n",
       "      <td>able look keword inside string . example text hello text example . bla bla bla text inside strin...</td>\n",
       "    </tr>\n",
       "    <tr>\n",
       "      <th>4</th>\n",
       "      <td>4.0</td>\n",
       "      <td>0.4119</td>\n",
       "      <td>version, project, build, form, model, instal, net, play, install, target</td>\n",
       "      <td>use lot new .net 3.5 feature work lately . application build intend distribution among consumer ...</td>\n",
       "    </tr>\n",
       "    <tr>\n",
       "      <th>5</th>\n",
       "      <td>5.0</td>\n",
       "      <td>0.4089</td>\n",
       "      <td>file, name, include, default, property, script, path, exactly, copy, specify</td>\n",
       "      <td>clone node.js git repo try compile v0.11.12-release error know solved . follow log . tericky@xxx...</td>\n",
       "    </tr>\n",
       "    <tr>\n",
       "      <th>6</th>\n",
       "      <td>6.0</td>\n",
       "      <td>0.3010</td>\n",
       "      <td>source, close, control, delete, environment, certain, configure, development, deploy, combination</td>\n",
       "      <td>tool would recommend set ci build deployment multiple website build dotnetnuke use svn source co...</td>\n",
       "    </tr>\n",
       "    <tr>\n",
       "      <th>7</th>\n",
       "      <td>7.0</td>\n",
       "      <td>0.4208</td>\n",
       "      <td>image, output, load, send, main, style, print, receive, suppose, site</td>\n",
       "      <td>color animated vertical line like one @keyframe color 0 background image -webkit linear gradient...</td>\n",
       "    </tr>\n",
       "    <tr>\n",
       "      <th>8</th>\n",
       "      <td>8.0</td>\n",
       "      <td>0.3125</td>\n",
       "      <td>size, memory, option, level, clear, group, core, kind, slow, developer</td>\n",
       "      <td>answer probably present tier size application wonder people 's experience choose disk drive use ...</td>\n",
       "    </tr>\n",
       "    <tr>\n",
       "      <th>9</th>\n",
       "      <td>9.0</td>\n",
       "      <td>0.3879</td>\n",
       "      <td>datum, table, display, database, column, field, query, connection, filter, record</td>\n",
       "      <td>hi mighty sqlsuperhero .. anyone rescue imminent disaster ruin?i'm work microsoft access sql . w...</td>\n",
       "    </tr>\n",
       "  </tbody>\n",
       "</table>\n",
       "</div>"
      ],
      "text/plain": [
       "   Topic_Num  Topic_Perc_Contrib  \\\n",
       "0        0.0              0.3024   \n",
       "1        1.0              0.3139   \n",
       "2        2.0              0.4737   \n",
       "3        3.0              0.3458   \n",
       "4        4.0              0.4119   \n",
       "5        5.0              0.4089   \n",
       "6        6.0              0.3010   \n",
       "7        7.0              0.4208   \n",
       "8        8.0              0.3125   \n",
       "9        9.0              0.3879   \n",
       "\n",
       "                                                                                            Keywords  \\\n",
       "0                              input, select, device, index, must, tell, box, folder, assume, become   \n",
       "1                          app, com, difference, similar, address, website, warn, java, status, exit   \n",
       "2                          problem, value, line, first, case, write, solution, number, read, element   \n",
       "3                          text, string, match, format, location, stre, length, parse, due, sequence   \n",
       "4                           version, project, build, form, model, instal, net, play, install, target   \n",
       "5                       file, name, include, default, property, script, path, exactly, copy, specify   \n",
       "6  source, close, control, delete, environment, certain, configure, development, deploy, combination   \n",
       "7                              image, output, load, send, main, style, print, receive, suppose, site   \n",
       "8                             size, memory, option, level, clear, group, core, kind, slow, developer   \n",
       "9                  datum, table, display, database, column, field, query, connection, filter, record   \n",
       "\n",
       "                                                                                   Representative Text  \n",
       "0  organization form allow user update email address . suggest two input box email second email con...  \n",
       "1  try use cdi jsf java ee application . follow class hierarchy try deploy application gf 3.1 get f...  \n",
       "2  use datum acquisition card take reading device increase signal peak fall back near original valu...  \n",
       "3  able look keword inside string . example text hello text example . bla bla bla text inside strin...  \n",
       "4  use lot new .net 3.5 feature work lately . application build intend distribution among consumer ...  \n",
       "5  clone node.js git repo try compile v0.11.12-release error know solved . follow log . tericky@xxx...  \n",
       "6  tool would recommend set ci build deployment multiple website build dotnetnuke use svn source co...  \n",
       "7  color animated vertical line like one @keyframe color 0 background image -webkit linear gradient...  \n",
       "8  answer probably present tier size application wonder people 's experience choose disk drive use ...  \n",
       "9  hi mighty sqlsuperhero .. anyone rescue imminent disaster ruin?i'm work microsoft access sql . w...  "
      ]
     },
     "execution_count": 61,
     "metadata": {},
     "output_type": "execute_result"
    }
   ],
   "source": [
    "# Most Representative elemnt for each topic\n",
    "2# Display setting to show more characters in column\n",
    "pd.options.display.max_colwidth = 100\n",
    "\n",
    "sent_topics_sorteddf_mallet = pd.DataFrame()\n",
    "sent_topics_outdf_grpd = df_topic_sents_keywords.groupby('Dominant_Topic')\n",
    "\n",
    "for i, grp in sent_topics_outdf_grpd:\n",
    "    sent_topics_sorteddf_mallet = pd.concat([sent_topics_sorteddf_mallet, \n",
    "                                             grp.sort_values(['Perc_Contribution'], ascending=False).head(1)], \n",
    "                                            axis=0)\n",
    "\n",
    "# Reset Index    \n",
    "sent_topics_sorteddf_mallet.reset_index(drop=True, inplace=True)\n",
    "\n",
    "# Format\n",
    "sent_topics_sorteddf_mallet.columns = ['Topic_Num', \"Topic_Perc_Contrib\", \"Keywords\", \"Representative Text\"]\n",
    "\n",
    "# Show\n",
    "sent_topics_sorteddf_mallet.head(10)"
   ]
  },
  {
   "cell_type": "code",
   "execution_count": 62,
   "metadata": {
    "colab": {
     "base_uri": "https://localhost:8080/",
     "height": 616
    },
    "colab_type": "code",
    "id": "6QWDg1BrA4Z4",
    "outputId": "669131d3-7b42-49a5-bfa4-7d9a1aecac00"
   },
   "outputs": [
    {
     "name": "stderr",
     "output_type": "stream",
     "text": [
      "c:\\py3\\lib\\site-packages\\matplotlib\\backend_bases.py:57: DeprecationWarning: PILLOW_VERSION is deprecated and will be removed in a future release. Use __version__ instead.\n",
      "  from PIL import PILLOW_VERSION\n",
      "c:\\py3\\lib\\site-packages\\matplotlib\\backend_bases.py:57: DeprecationWarning: PILLOW_VERSION is deprecated and will be removed in a future release. Use __version__ instead.\n",
      "  from PIL import PILLOW_VERSION\n"
     ]
    },
    {
     "data": {
      "text/plain": [
       "<Figure size 2560x1120 with 1 Axes>"
      ]
     },
     "metadata": {},
     "output_type": "display_data"
    }
   ],
   "source": [
    "#Frequency Distribution of word count\n",
    "import matplotlib.pyplot as plt\n",
    "doc_lens = [len(d) for d in df_dominant_topic.Text]\n",
    "\n",
    "# Plot\n",
    "plt.figure(figsize=(16,7), dpi=160)\n",
    "plt.hist(doc_lens, bins = 1000, color='navy')\n",
    "plt.text(750, 100, \"Mean   : \" + str(round(np.mean(doc_lens))))\n",
    "plt.text(750,  90, \"Median : \" + str(round(np.median(doc_lens))))\n",
    "plt.text(750,  80, \"Stdev   : \" + str(round(np.std(doc_lens))))\n",
    "plt.text(750,  70, \"1%ile    : \" + str(round(np.quantile(doc_lens, q=0.01))))\n",
    "plt.text(750,  60, \"99%ile  : \" + str(round(np.quantile(doc_lens, q=0.99))))\n",
    "\n",
    "plt.gca().set(xlim=(0, 1000), ylabel='Number of Documents', xlabel='Document Word Count')\n",
    "plt.tick_params(size=16)\n",
    "plt.xticks(np.linspace(0,1000,9))\n",
    "plt.title('Distribution of Document Word Counts', fontdict=dict(size=22))\n",
    "plt.show()"
   ]
  },
  {
   "cell_type": "code",
   "execution_count": 148,
   "metadata": {
    "colab": {
     "base_uri": "https://localhost:8080/",
     "height": 625
    },
    "colab_type": "code",
    "id": "nDhk4UWvGkX-",
    "outputId": "da0724f7-8884-49f0-b60f-2d5bb6ea8544"
   },
   "outputs": [
    {
     "data": {
      "image/png": "[encoded data removed]",
      "text/plain": [
       "<Figure size 720x720 with 4 Axes>"
      ]
     },
     "metadata": {
      "needs_background": "light"
     },
     "output_type": "display_data"
    }
   ],
   "source": [
    "# 1. Wordcloud of Top N words in each topic\n",
    "from matplotlib import pyplot as plt\n",
    "from wordcloud import WordCloud, STOPWORDS\n",
    "import matplotlib.colors as mcolors\n",
    "\n",
    "cols = [color for name, color in mcolors.TABLEAU_COLORS.items()]  # more colors: 'mcolors.XKCD_COLORS'\n",
    "\n",
    "cloud = WordCloud(stopwords=stop_words,\n",
    "                  background_color='white',\n",
    "                  width=2500,\n",
    "                  height=1800,\n",
    "                  max_words=15,\n",
    "                  colormap='tab10',\n",
    "                  color_func=lambda *args, **kwargs: cols[i],\n",
    "                  prefer_horizontal=1.0)\n",
    "\n",
    "topics = lda_model.show_topics(formatted=False)\n",
    "\n",
    "fig, axes = plt.subplots(2, 2, figsize=(10,10), sharex=True, sharey=True)\n",
    "\n",
    "for i, ax in enumerate(axes.flatten()):\n",
    "    fig.add_subplot(ax)\n",
    "    topic_words = dict(topics[i][1])\n",
    "    cloud.generate_from_frequencies(topic_words, max_font_size=300)\n",
    "    plt.gca().imshow(cloud)\n",
    "    plt.gca().set_title('Topic ' + str(i), fontdict=dict(size=16))\n",
    "    plt.gca().axis('off')\n",
    "\n",
    "\n",
    "plt.subplots_adjust(wspace=0, hspace=0)\n",
    "plt.axis('off')\n",
    "plt.margins(x=0, y=0)\n",
    "plt.tight_layout()\n",
    "plt.show()"
   ]
  },
  {
   "cell_type": "code",
   "execution_count": 0,
   "metadata": {
    "colab": {},
    "colab_type": "code",
    "id": "ejv0UleJHqTU"
   },
   "outputs": [],
   "source": []
  },
  {
   "cell_type": "markdown",
   "metadata": {
    "colab_type": "text",
    "id": "YLILDMTKH2dY"
   },
   "source": [
    "# Lets work on Remaining/Bigger Data "
   ]
  },
  {
   "cell_type": "code",
   "execution_count": 66,
   "metadata": {
    "colab": {},
    "colab_type": "code",
    "id": "5eY2ua9eH4uv"
   },
   "outputs": [],
   "source": [
    "unseen_data2 =  df_question[df_question['Score'] < 5]"
   ]
  },
  {
   "cell_type": "code",
   "execution_count": 100,
   "metadata": {},
   "outputs": [
    {
     "data": {
      "text/html": [
       "<div>\n",
       "<style scoped>\n",
       "    .dataframe tbody tr th:only-of-type {\n",
       "        vertical-align: middle;\n",
       "    }\n",
       "\n",
       "    .dataframe tbody tr th {\n",
       "        vertical-align: top;\n",
       "    }\n",
       "\n",
       "    .dataframe thead th {\n",
       "        text-align: right;\n",
       "    }\n",
       "</style>\n",
       "<table border=\"1\" class=\"dataframe\">\n",
       "  <thead>\n",
       "    <tr style=\"text-align: right;\">\n",
       "      <th></th>\n",
       "      <th>Id</th>\n",
       "      <th>OwnerUserId</th>\n",
       "      <th>CreationDate</th>\n",
       "      <th>ClosedDate</th>\n",
       "      <th>Score</th>\n",
       "      <th>Title</th>\n",
       "      <th>Body</th>\n",
       "    </tr>\n",
       "  </thead>\n",
       "  <tbody>\n",
       "    <tr>\n",
       "      <th>44</th>\n",
       "      <td>3790</td>\n",
       "      <td>560.0</td>\n",
       "      <td>2008-08-06T18:15:43Z</td>\n",
       "      <td>NaN</td>\n",
       "      <td>3</td>\n",
       "      <td>Is there a WMI Redistributable Package?</td>\n",
       "      <td>&lt;p&gt;I've been working on a project that accesses the WMI to get information about the software in...</td>\n",
       "    </tr>\n",
       "    <tr>\n",
       "      <th>49</th>\n",
       "      <td>4320</td>\n",
       "      <td>1525924.0</td>\n",
       "      <td>2008-08-07T02:41:24Z</td>\n",
       "      <td>NaN</td>\n",
       "      <td>2</td>\n",
       "      <td>ASP.Net 2.0 Application without Business Logic Layer?</td>\n",
       "      <td>&lt;p&gt;Is it \"acceptable\" to have an &lt;strong&gt;ASP.Net 2.0&lt;/strong&gt; application without the BLL (Busin...</td>\n",
       "    </tr>\n",
       "    <tr>\n",
       "      <th>60</th>\n",
       "      <td>5260</td>\n",
       "      <td>106.0</td>\n",
       "      <td>2008-08-07T20:21:52Z</td>\n",
       "      <td>NaN</td>\n",
       "      <td>4</td>\n",
       "      <td>What is the best way to wrap time around the work day?</td>\n",
       "      <td>&lt;p&gt;I have a situation where I want to add hours to a date and have the new date wrap around the ...</td>\n",
       "    </tr>\n",
       "    <tr>\n",
       "      <th>61</th>\n",
       "      <td>5460</td>\n",
       "      <td>590.0</td>\n",
       "      <td>2008-08-07T23:00:30Z</td>\n",
       "      <td>2012-11-16T12:21:26Z</td>\n",
       "      <td>3</td>\n",
       "      <td>Telligent's Community Server</td>\n",
       "      <td>&lt;p&gt;The company I work for is wanting to add blog functionality to our website and they were look...</td>\n",
       "    </tr>\n",
       "    <tr>\n",
       "      <th>63</th>\n",
       "      <td>5690</td>\n",
       "      <td>364.0</td>\n",
       "      <td>2008-08-08T05:03:42Z</td>\n",
       "      <td>NaN</td>\n",
       "      <td>2</td>\n",
       "      <td>MVC Preview 4 - No route in the route table matches the supplied values</td>\n",
       "      <td>&lt;p&gt;I have a route that I am calling through a RedirectToRoute like this:&lt;/p&gt;\\n\\n&lt;pre&gt;&lt;code&gt;retur...</td>\n",
       "    </tr>\n",
       "  </tbody>\n",
       "</table>\n",
       "</div>"
      ],
      "text/plain": [
       "      Id  OwnerUserId          CreationDate            ClosedDate  Score  \\\n",
       "44  3790        560.0  2008-08-06T18:15:43Z                   NaN      3   \n",
       "49  4320    1525924.0  2008-08-07T02:41:24Z                   NaN      2   \n",
       "60  5260        106.0  2008-08-07T20:21:52Z                   NaN      4   \n",
       "61  5460        590.0  2008-08-07T23:00:30Z  2012-11-16T12:21:26Z      3   \n",
       "63  5690        364.0  2008-08-08T05:03:42Z                   NaN      2   \n",
       "\n",
       "                                                                      Title  \\\n",
       "44                                  Is there a WMI Redistributable Package?   \n",
       "49                    ASP.Net 2.0 Application without Business Logic Layer?   \n",
       "60                   What is the best way to wrap time around the work day?   \n",
       "61                                             Telligent's Community Server   \n",
       "63  MVC Preview 4 - No route in the route table matches the supplied values   \n",
       "\n",
       "                                                                                                   Body  \n",
       "44  <p>I've been working on a project that accesses the WMI to get information about the software in...  \n",
       "49  <p>Is it \"acceptable\" to have an <strong>ASP.Net 2.0</strong> application without the BLL (Busin...  \n",
       "60  <p>I have a situation where I want to add hours to a date and have the new date wrap around the ...  \n",
       "61  <p>The company I work for is wanting to add blog functionality to our website and they were look...  \n",
       "63  <p>I have a route that I am calling through a RedirectToRoute like this:</p>\\n\\n<pre><code>retur...  "
      ]
     },
     "execution_count": 100,
     "metadata": {},
     "output_type": "execute_result"
    }
   ],
   "source": [
    "unseen_data2.head()"
   ]
  },
  {
   "cell_type": "code",
   "execution_count": 79,
   "metadata": {},
   "outputs": [],
   "source": [
    "unseen_data = pd.DataFrame()"
   ]
  },
  {
   "cell_type": "code",
   "execution_count": 105,
   "metadata": {},
   "outputs": [],
   "source": [
    "unseen_data = unseen_data2.iloc[0:250000,]\n",
    "               "
   ]
  },
  {
   "cell_type": "code",
   "execution_count": 110,
   "metadata": {},
   "outputs": [
    {
     "data": {
      "text/plain": [
       "pandas.core.frame.DataFrame"
      ]
     },
     "execution_count": 110,
     "metadata": {},
     "output_type": "execute_result"
    }
   ],
   "source": []
  },
  {
   "cell_type": "code",
   "execution_count": 111,
   "metadata": {
    "colab": {
     "base_uri": "https://localhost:8080/",
     "height": 117
    },
    "colab_type": "code",
    "id": "G6iKMXLkIcxL",
    "outputId": "2dcb4b9e-09b0-466b-dfee-51413168f119"
   },
   "outputs": [
    {
     "name": "stderr",
     "output_type": "stream",
     "text": [
      "C:\\Users\\patha\\AppData\\Roaming\\Python\\Python37\\site-packages\\ipykernel_launcher.py:1: SettingWithCopyWarning: \n",
      "A value is trying to be set on a copy of a slice from a DataFrame.\n",
      "Try using .loc[row_indexer,col_indexer] = value instead\n",
      "\n",
      "See the caveats in the documentation: http://pandas.pydata.org/pandas-docs/stable/user_guide/indexing.html#returning-a-view-versus-a-copy\n",
      "  \"\"\"Entry point for launching an IPython kernel.\n"
     ]
    }
   ],
   "source": [
    "unseen_data['body_cleaned'] = unseen_data['Body'].apply(normalize_text)"
   ]
  },
  {
   "cell_type": "code",
   "execution_count": 112,
   "metadata": {
    "colab": {
     "base_uri": "https://localhost:8080/",
     "height": 336
    },
    "colab_type": "code",
    "id": "f8nTMQqCI59w",
    "outputId": "ce0948fa-15b4-43a0-e73d-2b65e7d9b94d"
   },
   "outputs": [
    {
     "name": "stderr",
     "output_type": "stream",
     "text": [
      "C:\\Users\\patha\\AppData\\Roaming\\Python\\Python37\\site-packages\\ipykernel_launcher.py:1: SettingWithCopyWarning: \n",
      "A value is trying to be set on a copy of a slice from a DataFrame.\n",
      "Try using .loc[row_indexer,col_indexer] = value instead\n",
      "\n",
      "See the caveats in the documentation: http://pandas.pydata.org/pandas-docs/stable/user_guide/indexing.html#returning-a-view-versus-a-copy\n",
      "  \"\"\"Entry point for launching an IPython kernel.\n"
     ]
    }
   ],
   "source": [
    "unseen_data['body_cleaned'] = unseen_data['body_cleaned'].apply(lambda x: cleanup_text(x, False))"
   ]
  },
  {
   "cell_type": "code",
   "execution_count": 0,
   "metadata": {
    "colab": {},
    "colab_type": "code",
    "id": "1-wN4HvaJP7h"
   },
   "outputs": [],
   "source": [
    " >>> # Save model to disk.\n",
    ">>> temp_file = datapath(\"/content/gdrive/My Drive/kaggle/StackOverflow/\")\n",
    ">>> lda.save(temp_file)\n",
    ">>>\n",
    ">>> # Load a potentially pretrained model from disk.\n",
    "# >>> lda = LdaModel.load(temp_file)"
   ]
  },
  {
   "cell_type": "code",
   "execution_count": 0,
   "metadata": {
    "colab": {
     "base_uri": "https://localhost:8080/",
     "height": 33
    },
    "colab_type": "code",
    "id": "k5MuH2zQuuIX",
    "outputId": "841748ef-6663-43b9-a4f6-1cd7eca9a0ab"
   },
   "outputs": [
    {
     "name": "stdout",
     "output_type": "stream",
     "text": [
      "/content/gdrive/My Drive/kaggle/StackOverflow\n"
     ]
    }
   ],
   "source": [
    "!pwd"
   ]
  },
  {
   "cell_type": "code",
   "execution_count": 0,
   "metadata": {
    "colab": {},
    "colab_type": "code",
    "id": "918grrjYuvV3"
   },
   "outputs": [],
   "source": [
    "import pickle\n",
    "lda_Filename = \"Pickle_RL_Model.pkl\"  \n",
    "\n",
    "with open(lda_Filename, 'wb') as file:  \n",
    "    pickle.dump(lda_model, file)"
   ]
  },
  {
   "cell_type": "code",
   "execution_count": 0,
   "metadata": {
    "colab": {
     "base_uri": "https://localhost:8080/",
     "height": 117
    },
    "colab_type": "code",
    "id": "-Xk5PNR_vVXa",
    "outputId": "b526c50d-5f17-4d21-8e7c-9facfd739df8"
   },
   "outputs": [
    {
     "name": "stderr",
     "output_type": "stream",
     "text": [
      "/usr/local/lib/python3.6/dist-packages/ipykernel_launcher.py:12: SettingWithCopyWarning: \n",
      "A value is trying to be set on a copy of a slice from a DataFrame.\n",
      "Try using .loc[row_indexer,col_indexer] = value instead\n",
      "\n",
      "See the caveats in the documentation: https://pandas.pydata.org/pandas-docs/stable/user_guide/indexing.html#returning-a-view-versus-a-copy\n",
      "  if sys.path[0] == '':\n"
     ]
    }
   ],
   "source": [
    "punctuations = '!\"#$%&\\'()*+,-/:;<=>?@[\\\\]^_`{|}~'\n",
    "# Define function to cleanup text by removing personal pronouns, stopwords, and puncuation\n",
    "def cleanup_text(docs, logging=False):\n",
    "    texts = []\n",
    "    doc = nlp(docs, disable=['parser', 'ner'])\n",
    "    tokens = [tok.lemma_.lower().strip() for tok in doc if tok.lemma_ != '-PRON-']\n",
    "    tokens = [tok for tok in tokens if tok not in stopwords.words('english') and tok not in punctuations]\n",
    "    tokens = ' '.join(tokens)\n",
    "    texts.append(tokens)\n",
    "    return pd.Series(texts)\n",
    "\n",
    "unseen_data['body_cleaned'] = unseen_data['body_cleaned'].apply(lambda x: cleanup_text(x, False))"
   ]
  },
  {
   "cell_type": "code",
   "execution_count": 113,
   "metadata": {
    "colab": {
     "base_uri": "https://localhost:8080/",
     "height": 280
    },
    "colab_type": "code",
    "id": "VtVqyhxbxKYS",
    "outputId": "7c90eca6-c2a3-424b-c1f6-3ce21ff61ecc"
   },
   "outputs": [
    {
     "data": {
      "text/html": [
       "<div>\n",
       "<style scoped>\n",
       "    .dataframe tbody tr th:only-of-type {\n",
       "        vertical-align: middle;\n",
       "    }\n",
       "\n",
       "    .dataframe tbody tr th {\n",
       "        vertical-align: top;\n",
       "    }\n",
       "\n",
       "    .dataframe thead th {\n",
       "        text-align: right;\n",
       "    }\n",
       "</style>\n",
       "<table border=\"1\" class=\"dataframe\">\n",
       "  <thead>\n",
       "    <tr style=\"text-align: right;\">\n",
       "      <th></th>\n",
       "      <th>Id</th>\n",
       "      <th>OwnerUserId</th>\n",
       "      <th>CreationDate</th>\n",
       "      <th>ClosedDate</th>\n",
       "      <th>Score</th>\n",
       "      <th>Title</th>\n",
       "      <th>Body</th>\n",
       "      <th>body_cleaned</th>\n",
       "    </tr>\n",
       "  </thead>\n",
       "  <tbody>\n",
       "    <tr>\n",
       "      <th>44</th>\n",
       "      <td>3790</td>\n",
       "      <td>560.0</td>\n",
       "      <td>2008-08-06T18:15:43Z</td>\n",
       "      <td>NaN</td>\n",
       "      <td>3</td>\n",
       "      <td>Is there a WMI Redistributable Package?</td>\n",
       "      <td>&lt;p&gt;I've been working on a project that accesses the WMI to get information about the software in...</td>\n",
       "      <td>work project access wmi get information software instal user 's machine . query win32_product fi...</td>\n",
       "    </tr>\n",
       "    <tr>\n",
       "      <th>49</th>\n",
       "      <td>4320</td>\n",
       "      <td>1525924.0</td>\n",
       "      <td>2008-08-07T02:41:24Z</td>\n",
       "      <td>NaN</td>\n",
       "      <td>2</td>\n",
       "      <td>ASP.Net 2.0 Application without Business Logic Layer?</td>\n",
       "      <td>&lt;p&gt;Is it \"acceptable\" to have an &lt;strong&gt;ASP.Net 2.0&lt;/strong&gt; application without the BLL (Busin...</td>\n",
       "      <td>acceptable asp.net 2.0 application without bll business logic layer following?sql server data st...</td>\n",
       "    </tr>\n",
       "    <tr>\n",
       "      <th>60</th>\n",
       "      <td>5260</td>\n",
       "      <td>106.0</td>\n",
       "      <td>2008-08-07T20:21:52Z</td>\n",
       "      <td>NaN</td>\n",
       "      <td>4</td>\n",
       "      <td>What is the best way to wrap time around the work day?</td>\n",
       "      <td>&lt;p&gt;I have a situation where I want to add hours to a date and have the new date wrap around the ...</td>\n",
       "      <td>situation want add hour date new date wrap around work day . cobble function determine new date ...</td>\n",
       "    </tr>\n",
       "    <tr>\n",
       "      <th>61</th>\n",
       "      <td>5460</td>\n",
       "      <td>590.0</td>\n",
       "      <td>2008-08-07T23:00:30Z</td>\n",
       "      <td>2012-11-16T12:21:26Z</td>\n",
       "      <td>3</td>\n",
       "      <td>Telligent's Community Server</td>\n",
       "      <td>&lt;p&gt;The company I work for is wanting to add blog functionality to our website and they were look...</td>\n",
       "      <td>company work want add blog functionality website look spend awful amount money crap build top cm...</td>\n",
       "    </tr>\n",
       "    <tr>\n",
       "      <th>63</th>\n",
       "      <td>5690</td>\n",
       "      <td>364.0</td>\n",
       "      <td>2008-08-08T05:03:42Z</td>\n",
       "      <td>NaN</td>\n",
       "      <td>2</td>\n",
       "      <td>MVC Preview 4 - No route in the route table matches the supplied values</td>\n",
       "      <td>&lt;p&gt;I have a route that I am calling through a RedirectToRoute like this:&lt;/p&gt;\\n\\n&lt;pre&gt;&lt;code&gt;retur...</td>\n",
       "      <td>route call redirecttoroute like also try route global.asax like get error route route table matc...</td>\n",
       "    </tr>\n",
       "  </tbody>\n",
       "</table>\n",
       "</div>"
      ],
      "text/plain": [
       "      Id  OwnerUserId          CreationDate            ClosedDate  Score  \\\n",
       "44  3790        560.0  2008-08-06T18:15:43Z                   NaN      3   \n",
       "49  4320    1525924.0  2008-08-07T02:41:24Z                   NaN      2   \n",
       "60  5260        106.0  2008-08-07T20:21:52Z                   NaN      4   \n",
       "61  5460        590.0  2008-08-07T23:00:30Z  2012-11-16T12:21:26Z      3   \n",
       "63  5690        364.0  2008-08-08T05:03:42Z                   NaN      2   \n",
       "\n",
       "                                                                      Title  \\\n",
       "44                                  Is there a WMI Redistributable Package?   \n",
       "49                    ASP.Net 2.0 Application without Business Logic Layer?   \n",
       "60                   What is the best way to wrap time around the work day?   \n",
       "61                                             Telligent's Community Server   \n",
       "63  MVC Preview 4 - No route in the route table matches the supplied values   \n",
       "\n",
       "                                                                                                   Body  \\\n",
       "44  <p>I've been working on a project that accesses the WMI to get information about the software in...   \n",
       "49  <p>Is it \"acceptable\" to have an <strong>ASP.Net 2.0</strong> application without the BLL (Busin...   \n",
       "60  <p>I have a situation where I want to add hours to a date and have the new date wrap around the ...   \n",
       "61  <p>The company I work for is wanting to add blog functionality to our website and they were look...   \n",
       "63  <p>I have a route that I am calling through a RedirectToRoute like this:</p>\\n\\n<pre><code>retur...   \n",
       "\n",
       "                                                                                           body_cleaned  \n",
       "44  work project access wmi get information software instal user 's machine . query win32_product fi...  \n",
       "49  acceptable asp.net 2.0 application without bll business logic layer following?sql server data st...  \n",
       "60  situation want add hour date new date wrap around work day . cobble function determine new date ...  \n",
       "61  company work want add blog functionality website look spend awful amount money crap build top cm...  \n",
       "63  route call redirecttoroute like also try route global.asax like get error route route table matc...  "
      ]
     },
     "execution_count": 113,
     "metadata": {},
     "output_type": "execute_result"
    }
   ],
   "source": [
    "unseen_data.head()"
   ]
  },
  {
   "cell_type": "code",
   "execution_count": 114,
   "metadata": {
    "colab": {
     "base_uri": "https://localhost:8080/",
     "height": 100
    },
    "colab_type": "code",
    "id": "AFDG0nUUJ3Ic",
    "outputId": "f681b954-0e50-4065-a26f-2d5c2c58d4ff"
   },
   "outputs": [
    {
     "name": "stderr",
     "output_type": "stream",
     "text": [
      "c:\\py3\\lib\\site-packages\\pandas\\core\\frame.py:4117: SettingWithCopyWarning: \n",
      "A value is trying to be set on a copy of a slice from a DataFrame\n",
      "\n",
      "See the caveats in the documentation: http://pandas.pydata.org/pandas-docs/stable/user_guide/indexing.html#returning-a-view-versus-a-copy\n",
      "  errors=errors,\n"
     ]
    }
   ],
   "source": [
    "unseen_data.drop(['Id','OwnerUserId' ,'ClosedDate' ,'CreationDate' , 'Title' ,'Body' ,] , axis=1 , inplace=True)"
   ]
  },
  {
   "cell_type": "code",
   "execution_count": 115,
   "metadata": {
    "colab": {
     "base_uri": "https://localhost:8080/",
     "height": 107
    },
    "colab_type": "code",
    "id": "_2Fzy_IOcMR3",
    "outputId": "b940e443-348c-447f-9e6c-c2225f05813a"
   },
   "outputs": [
    {
     "data": {
      "text/html": [
       "<div>\n",
       "<style scoped>\n",
       "    .dataframe tbody tr th:only-of-type {\n",
       "        vertical-align: middle;\n",
       "    }\n",
       "\n",
       "    .dataframe tbody tr th {\n",
       "        vertical-align: top;\n",
       "    }\n",
       "\n",
       "    .dataframe thead th {\n",
       "        text-align: right;\n",
       "    }\n",
       "</style>\n",
       "<table border=\"1\" class=\"dataframe\">\n",
       "  <thead>\n",
       "    <tr style=\"text-align: right;\">\n",
       "      <th></th>\n",
       "      <th>Score</th>\n",
       "      <th>body_cleaned</th>\n",
       "    </tr>\n",
       "  </thead>\n",
       "  <tbody>\n",
       "    <tr>\n",
       "      <th>44</th>\n",
       "      <td>3</td>\n",
       "      <td>work project access wmi get information software instal user 's machine . query win32_product fi...</td>\n",
       "    </tr>\n",
       "    <tr>\n",
       "      <th>49</th>\n",
       "      <td>2</td>\n",
       "      <td>acceptable asp.net 2.0 application without bll business logic layer following?sql server data st...</td>\n",
       "    </tr>\n",
       "  </tbody>\n",
       "</table>\n",
       "</div>"
      ],
      "text/plain": [
       "    Score  \\\n",
       "44      3   \n",
       "49      2   \n",
       "\n",
       "                                                                                           body_cleaned  \n",
       "44  work project access wmi get information software instal user 's machine . query win32_product fi...  \n",
       "49  acceptable asp.net 2.0 application without bll business logic layer following?sql server data st...  "
      ]
     },
     "execution_count": 115,
     "metadata": {},
     "output_type": "execute_result"
    }
   ],
   "source": [
    "unseen_data.head(2)"
   ]
  },
  {
   "cell_type": "code",
   "execution_count": 116,
   "metadata": {
    "colab": {},
    "colab_type": "code",
    "id": "xwXQ1MC0cOZH"
   },
   "outputs": [],
   "source": [
    "def sent_to_words(sentences):\n",
    "    for sentence in sentences:\n",
    "        yield(gensim.utils.simple_preprocess(str(sentence), deacc=True))  # deacc=True removes punctuations\n",
    "\n"
   ]
  },
  {
   "cell_type": "code",
   "execution_count": 117,
   "metadata": {
    "colab": {
     "base_uri": "https://localhost:8080/",
     "height": 195
    },
    "colab_type": "code",
    "id": "uWXTqrsYcevq",
    "outputId": "24d91475-afff-438c-d956-a3dc0cf182f5"
   },
   "outputs": [
    {
     "name": "stdout",
     "output_type": "stream",
     "text": [
      "    Score  \\\n",
      "44      3   \n",
      "49      2   \n",
      "60      4   \n",
      "61      3   \n",
      "63      2   \n",
      "\n",
      "                                                                                           body_cleaned  \n",
      "44  work project access wmi get information software instal user 's machine . query win32_product fi...  \n",
      "49  acceptable asp.net 2.0 application without bll business logic layer following?sql server data st...  \n",
      "60  situation want add hour date new date wrap around work day . cobble function determine new date ...  \n",
      "61  company work want add blog functionality website look spend awful amount money crap build top cm...  \n",
      "63  route call redirecttoroute like also try route global.asax like get error route route table matc...  \n"
     ]
    }
   ],
   "source": [
    "unseendata_words = list(sent_to_words(unseen_data['body_cleaned']))\n",
    "\n",
    "print(unseen_data[:5])"
   ]
  },
  {
   "cell_type": "code",
   "execution_count": 118,
   "metadata": {
    "colab": {
     "base_uri": "https://localhost:8080/",
     "height": 228
    },
    "colab_type": "code",
    "id": "3D9bbMm1ck9y",
    "outputId": "50fd72e7-a06b-4f3a-8e5d-aa23e55aa330"
   },
   "outputs": [
    {
     "name": "stdout",
     "output_type": "stream",
     "text": [
      "['work', 'project', 'access', 'wmi', 'get', 'information', 'software', 'instal', 'user', 'machine', 'query', 'win', 'find', 'exist', 'bit', 'version', 'windows', 'optional', 'component', 'know', 'lot', 'really', 'good', 'alternative', 'query', 'wmi', 'information', 'get', 'bit', 'vested', 'interest', 'find', 'well', 'go', 'work', 'want', 'know', 'kind', 'redistributable_package', 'software', 'allow', 'bit', 'user', 'get', 'wmi', 'installer', 'provider', 'put', 'onto', 'machine', 'right', 'install', 'manually', 'installation', 'require', 'windows', 'disc', 'handy', 'edit', 'mention', 'os', 'wmi', 'redistributable', 'components', 'version', 'definitely', 'exist', 'operation', 'system', 'use', 'net', 'need', 'package', 'work', 'xp', 'bit', 'version', 'windows_vista']\n"
     ]
    }
   ],
   "source": [
    "# Build the bigram and trigram models\n",
    "bigram = gensim.models.Phrases(unseendata_words, min_count=5, threshold=100) # higher threshold fewer phrases.\n",
    "trigram = gensim.models.Phrases(bigram[unseendata_words], threshold=100)  \n",
    "\n",
    "# Faster way to get a sentence clubbed as a trigram/bigram\n",
    "bigram_mod = gensim.models.phrases.Phraser(bigram)\n",
    "trigram_mod = gensim.models.phrases.Phraser(trigram)\n",
    "\n",
    "# See trigram example\n",
    "print(trigram_mod[bigram_mod[unseendata_words[0]]])"
   ]
  },
  {
   "cell_type": "code",
   "execution_count": 119,
   "metadata": {
    "colab": {},
    "colab_type": "code",
    "id": "F4IkpMkyc_-c"
   },
   "outputs": [],
   "source": [
    "# Define functions for stopwords, bigrams, trigrams and lemmatization\n",
    "def remove_stopwords(texts):\n",
    "    return [[word for word in simple_preprocess(str(doc)) if word not in stop_words] for doc in texts]\n",
    "\n",
    "def make_bigrams(texts):\n",
    "    return [bigram_mod[doc] for doc in texts]\n",
    "\n",
    "def make_trigrams(texts):\n",
    "    return [trigram_mod[bigram_mod[doc]] for doc in texts]\n",
    "\n",
    "def lemmatization(texts, allowed_postags=['NOUN', 'ADJ', 'VERB', 'ADV']):\n",
    "    \"\"\"https://spacy.io/api/annotation\"\"\"\n",
    "    texts_out = []\n",
    "    for sent in texts:\n",
    "        doc = nlp(\" \".join(sent)) \n",
    "        texts_out.append([token.lemma_ for token in doc if token.pos_ in allowed_postags])\n",
    "    return texts_out"
   ]
  },
  {
   "cell_type": "code",
   "execution_count": 120,
   "metadata": {
    "colab": {},
    "colab_type": "code",
    "id": "tdhaAvrbdMFw"
   },
   "outputs": [
    {
     "name": "stdout",
     "output_type": "stream",
     "text": [
      "[['project', 'information', 'software', 'instal', 'user', 'machine', 'exist', 'bit', 'version', 'window', 'optional', 'component', 'really', 'good', 'alternative', 'bit', 'vest', 'interest', 'kind', 'redistributable_package', 'software', 'allow', 'bit', 'provider', 'put', 'machine', 'right', 'install', 'manually', 'installation', 'require', 'mention', 'version', 'definitely', 'exist', 'operation', 'system', 'net', 'package', 'version', 'window']]\n"
     ]
    }
   ],
   "source": [
    "data_words_nostops_unseen = remove_stopwords(unseendata_words)\n",
    "\n",
    "# Form Bigrams\n",
    "data_words_bigrams_unseen = make_bigrams(data_words_nostops_unseen)\n",
    "\n",
    "# Initialize spacy 'en' model, keeping only tagger component (for efficiency)\n",
    "# python3 -m spacy download en\n",
    "nlp = spacy.load('en', disable=['parser', 'ner'])\n",
    "\n",
    "# Do lemmatization keeping only noun, adj, vb, adv\n",
    "data_lemmatized_unseen = lemmatization(data_words_bigrams_unseen, allowed_postags=['NOUN', 'ADJ', 'VERB', 'ADV'])\n",
    "\n",
    "print(data_lemmatized_unseen[:1])"
   ]
  },
  {
   "cell_type": "code",
   "execution_count": 121,
   "metadata": {
    "colab": {},
    "colab_type": "code",
    "id": "NzvGytqidjVe"
   },
   "outputs": [],
   "source": [
    "other_corpus = [id2word.doc2bow(text) for text in data_lemmatized_unseen]"
   ]
  },
  {
   "cell_type": "code",
   "execution_count": 122,
   "metadata": {},
   "outputs": [],
   "source": [
    "unseen_doc = other_corpus[0]"
   ]
  },
  {
   "cell_type": "code",
   "execution_count": 124,
   "metadata": {},
   "outputs": [],
   "source": [
    "vector = lda_model[unseen_doc]"
   ]
  },
  {
   "cell_type": "code",
   "execution_count": 127,
   "metadata": {},
   "outputs": [],
   "source": [
    "lda_model.update(other_corpus)\n",
    "vector = lda_model[unseen_doc]"
   ]
  },
  {
   "cell_type": "code",
   "execution_count": 130,
   "metadata": {},
   "outputs": [
    {
     "data": {
      "text/plain": [
       "2"
      ]
     },
     "execution_count": 130,
     "metadata": {},
     "output_type": "execute_result"
    }
   ],
   "source": [
    "unseen_doc[0][1]"
   ]
  },
  {
   "cell_type": "code",
   "execution_count": 139,
   "metadata": {},
   "outputs": [
    {
     "name": "stdout",
     "output_type": "stream",
     "text": [
      "[(4, 2), (17, 1), (19, 1), (36, 1), (38, 1), (40, 1), (81, 1), (136, 3), (171, 1), (186, 3), (187, 2), (222, 1), (227, 2), (275, 1), (286, 1), (356, 1), (418, 2), (489, 1), (515, 1), (604, 1), (663, 1), (682, 1), (820, 1), (854, 1), (874, 1), (1090, 1), (1203, 1), (1238, 1), (1307, 1), (2442, 1), (2822, 1), (47010, 1)]\n"
     ]
    }
   ],
   "source": [
    "print(unseen_doc)"
   ]
  },
  {
   "cell_type": "code",
   "execution_count": 142,
   "metadata": {},
   "outputs": [
    {
     "data": {
      "text/html": [
       "<div>\n",
       "<style scoped>\n",
       "    .dataframe tbody tr th:only-of-type {\n",
       "        vertical-align: middle;\n",
       "    }\n",
       "\n",
       "    .dataframe tbody tr th {\n",
       "        vertical-align: top;\n",
       "    }\n",
       "\n",
       "    .dataframe thead th {\n",
       "        text-align: right;\n",
       "    }\n",
       "</style>\n",
       "<table border=\"1\" class=\"dataframe\">\n",
       "  <thead>\n",
       "    <tr style=\"text-align: right;\">\n",
       "      <th></th>\n",
       "      <th>Document_No</th>\n",
       "      <th>Dominant_Topic</th>\n",
       "      <th>Topic_Perc_Contrib</th>\n",
       "      <th>Keywords</th>\n",
       "      <th>Text</th>\n",
       "    </tr>\n",
       "  </thead>\n",
       "  <tbody>\n",
       "    <tr>\n",
       "      <th>0</th>\n",
       "      <td>0</td>\n",
       "      <td>19.0</td>\n",
       "      <td>0.2881</td>\n",
       "      <td>user, create, page, follow, add, application, server, new, possible, update</td>\n",
       "      <td>[project, information, software, instal, user, machine, exist, bit, version, window, optional, c...</td>\n",
       "    </tr>\n",
       "    <tr>\n",
       "      <th>1</th>\n",
       "      <td>1</td>\n",
       "      <td>19.0</td>\n",
       "      <td>0.2084</td>\n",
       "      <td>user, create, page, follow, add, application, server, new, possible, update</td>\n",
       "      <td>[acceptable, application, business_logic, layer, follow, server, datum, storage, amp, store, pro...</td>\n",
       "    </tr>\n",
       "    <tr>\n",
       "      <th>2</th>\n",
       "      <td>2</td>\n",
       "      <td>18.0</td>\n",
       "      <td>0.2492</td>\n",
       "      <td>help, time, could, question, list, seem, give, return, think, different</td>\n",
       "      <td>[situation, add, hour, date, new, date, wrap, day, cobble, function, determine, new, date, sure,...</td>\n",
       "    </tr>\n",
       "    <tr>\n",
       "      <th>3</th>\n",
       "      <td>3</td>\n",
       "      <td>18.0</td>\n",
       "      <td>0.3219</td>\n",
       "      <td>help, time, could, question, list, seem, give, return, think, different</td>\n",
       "      <td>[company, add, blog, functionality, website, spend, awful, amount, money, crap, build, top, cms,...</td>\n",
       "    </tr>\n",
       "    <tr>\n",
       "      <th>4</th>\n",
       "      <td>4</td>\n",
       "      <td>18.0</td>\n",
       "      <td>0.2551</td>\n",
       "      <td>help, time, could, question, list, seem, give, return, think, different</td>\n",
       "      <td>[route, route, table, match, supply, value, type, selectedyear, var, convert, int, parse, realis...</td>\n",
       "    </tr>\n",
       "    <tr>\n",
       "      <th>5</th>\n",
       "      <td>5</td>\n",
       "      <td>18.0</td>\n",
       "      <td>0.1993</td>\n",
       "      <td>help, time, could, question, list, seem, give, return, think, different</td>\n",
       "      <td>[hand, table, row, record, describe, location, customer, issue, person, create, table, add, fiel...</td>\n",
       "    </tr>\n",
       "    <tr>\n",
       "      <th>6</th>\n",
       "      <td>6</td>\n",
       "      <td>2.0</td>\n",
       "      <td>0.1769</td>\n",
       "      <td>problem, value, first, write, line, number, read, check, solution, idea</td>\n",
       "      <td>[net, system, build, automate, mail, notification, editable, sql, table, edit, queue, idea, thro...</td>\n",
       "    </tr>\n",
       "    <tr>\n",
       "      <th>7</th>\n",
       "      <td>7</td>\n",
       "      <td>18.0</td>\n",
       "      <td>0.2296</td>\n",
       "      <td>help, time, could, question, list, seem, give, return, think, different</td>\n",
       "      <td>[suddenly, back, winform, year, web, development, trouble, simple, arraylist, business, object, ...</td>\n",
       "    </tr>\n",
       "    <tr>\n",
       "      <th>8</th>\n",
       "      <td>8</td>\n",
       "      <td>19.0</td>\n",
       "      <td>0.2309</td>\n",
       "      <td>user, create, page, follow, add, application, server, new, possible, update</td>\n",
       "      <td>[good, animation, net, prefer, flash, possible, suggestion, implement, different, type, animatio...</td>\n",
       "    </tr>\n",
       "    <tr>\n",
       "      <th>9</th>\n",
       "      <td>9</td>\n",
       "      <td>19.0</td>\n",
       "      <td>0.2094</td>\n",
       "      <td>user, create, page, follow, add, application, server, new, possible, update</td>\n",
       "      <td>[couple, hour, fight, gallery, message, feed, yet, define, give, base, search, feed, yet, define...</td>\n",
       "    </tr>\n",
       "  </tbody>\n",
       "</table>\n",
       "</div>"
      ],
      "text/plain": [
       "   Document_No  Dominant_Topic  Topic_Perc_Contrib  \\\n",
       "0            0            19.0              0.2881   \n",
       "1            1            19.0              0.2084   \n",
       "2            2            18.0              0.2492   \n",
       "3            3            18.0              0.3219   \n",
       "4            4            18.0              0.2551   \n",
       "5            5            18.0              0.1993   \n",
       "6            6             2.0              0.1769   \n",
       "7            7            18.0              0.2296   \n",
       "8            8            19.0              0.2309   \n",
       "9            9            19.0              0.2094   \n",
       "\n",
       "                                                                      Keywords  \\\n",
       "0  user, create, page, follow, add, application, server, new, possible, update   \n",
       "1  user, create, page, follow, add, application, server, new, possible, update   \n",
       "2      help, time, could, question, list, seem, give, return, think, different   \n",
       "3      help, time, could, question, list, seem, give, return, think, different   \n",
       "4      help, time, could, question, list, seem, give, return, think, different   \n",
       "5      help, time, could, question, list, seem, give, return, think, different   \n",
       "6      problem, value, first, write, line, number, read, check, solution, idea   \n",
       "7      help, time, could, question, list, seem, give, return, think, different   \n",
       "8  user, create, page, follow, add, application, server, new, possible, update   \n",
       "9  user, create, page, follow, add, application, server, new, possible, update   \n",
       "\n",
       "                                                                                                  Text  \n",
       "0  [project, information, software, instal, user, machine, exist, bit, version, window, optional, c...  \n",
       "1  [acceptable, application, business_logic, layer, follow, server, datum, storage, amp, store, pro...  \n",
       "2  [situation, add, hour, date, new, date, wrap, day, cobble, function, determine, new, date, sure,...  \n",
       "3  [company, add, blog, functionality, website, spend, awful, amount, money, crap, build, top, cms,...  \n",
       "4  [route, route, table, match, supply, value, type, selectedyear, var, convert, int, parse, realis...  \n",
       "5  [hand, table, row, record, describe, location, customer, issue, person, create, table, add, fiel...  \n",
       "6  [net, system, build, automate, mail, notification, editable, sql, table, edit, queue, idea, thro...  \n",
       "7  [suddenly, back, winform, year, web, development, trouble, simple, arraylist, business, object, ...  \n",
       "8  [good, animation, net, prefer, flash, possible, suggestion, implement, different, type, animatio...  \n",
       "9  [couple, hour, fight, gallery, message, feed, yet, define, give, base, search, feed, yet, define...  "
      ]
     },
     "execution_count": 142,
     "metadata": {},
     "output_type": "execute_result"
    }
   ],
   "source": [
    "def format_topics_sentences(ldamodel=lda_model, corpus=corpus, texts=data):\n",
    "    # Init output\n",
    "    sent_topics_df = pd.DataFrame()\n",
    "\n",
    "    # Get main topic in each document\n",
    "    for i, row in enumerate(ldamodel[corpus]):\n",
    "        row = sorted(row[0], key=lambda x: (x[1]), reverse=True)\n",
    "        # Get the Dominant topic, Perc Contribution and Keywords for each document\n",
    "        for j, (topic_num, prop_topic) in enumerate(row):\n",
    "            if j == 0:  # => dominant topic\n",
    "                wp = ldamodel.show_topic(topic_num)\n",
    "                topic_keywords = \", \".join([word for word, prop in wp])\n",
    "                sent_topics_df = sent_topics_df.append(pd.Series([int(topic_num), round(prop_topic,4), topic_keywords]), ignore_index=True)\n",
    "            else:\n",
    "                break\n",
    "    sent_topics_df.columns = ['Dominant_Topic', 'Perc_Contribution', 'Topic_Keywords']\n",
    "\n",
    "    # Add original text to the end of the output\n",
    "    contents = pd.Series(texts)\n",
    "    sent_topics_df = pd.concat([sent_topics_df, contents], axis=1)\n",
    "    return(sent_topics_df)\n",
    "\n",
    "\n",
    "df_topic_sents_keywords = format_topics_sentences(ldamodel=lda_model, corpus=other_corpus, texts=data_lemmatized_unseen)\n",
    "\n",
    "# Format\n",
    "df_dominant_topic = df_topic_sents_keywords.reset_index()\n",
    "df_dominant_topic.columns = ['Document_No', 'Dominant_Topic', 'Topic_Perc_Contrib', 'Keywords', 'Text']\n",
    "\n",
    "# Show\n",
    "df_dominant_topic.head(10)\n"
   ]
  },
  {
   "cell_type": "code",
   "execution_count": 144,
   "metadata": {},
   "outputs": [
    {
     "data": {
      "text/plain": [
       "19.0    119764\n",
       "18.0     81115\n",
       "2.0      41404\n",
       "9.0       1733\n",
       "5.0       1338\n",
       "14.0      1067\n",
       "4.0        734\n",
       "7.0        645\n",
       "16.0       443\n",
       "10.0       303\n",
       "3.0        293\n",
       "12.0       292\n",
       "17.0       284\n",
       "0.0        123\n",
       "8.0        115\n",
       "15.0        98\n",
       "13.0        83\n",
       "1.0         82\n",
       "6.0         48\n",
       "11.0        36\n",
       "Name: Dominant_Topic, dtype: int64"
      ]
     },
     "execution_count": 144,
     "metadata": {},
     "output_type": "execute_result"
    }
   ],
   "source": [
    "df_dominant_topic[\"Dominant_Topic\"].value_counts()"
   ]
  },
  {
   "cell_type": "code",
   "execution_count": null,
   "metadata": {},
   "outputs": [],
   "source": []
  }
 ],
 "metadata": {
  "accelerator": "GPU",
  "colab": {
   "machine_shape": "hm",
   "name": "LDA",
   "provenance": []
  },
  "kernelspec": {
   "display_name": "Python 3",
   "language": "python",
   "name": "python3"
  },
  "language_info": {
   "codemirror_mode": {
    "name": "ipython",
    "version": 3
   },
   "file_extension": ".py",
   "mimetype": "text/x-python",
   "name": "python",
   "nbconvert_exporter": "python",
   "pygments_lexer": "ipython3",
   "version": "3.7.5"
  }
 },
 "nbformat": 4,
 "nbformat_minor": 1
}
